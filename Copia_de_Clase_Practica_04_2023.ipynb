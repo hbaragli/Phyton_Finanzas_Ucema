{
  "cells": [
    {
      "cell_type": "markdown",
      "id": "902c7284",
      "metadata": {
        "id": "902c7284"
      },
      "source": [
        "##  Clase practica N° 4\n",
        "intro a la manipulacion de datos con pandas"
      ]
    },
    {
      "cell_type": "markdown",
      "id": "eac6869b",
      "metadata": {
        "id": "eac6869b"
      },
      "source": [
        "### 1)\n",
        "\n",
        "descargar el archivo \"ko_comas.csv\" que se encuentra en el campus del curso e importarlo localmente en la variable \"df\". Imprimer el head del Dataframe con los primeros 12 valores para corroborar."
      ]
    },
    {
      "cell_type": "code",
      "execution_count": null,
      "id": "755c1aa2",
      "metadata": {
        "id": "755c1aa2"
      },
      "outputs": [],
      "source": []
    },
    {
      "cell_type": "code",
      "execution_count": null,
      "id": "5e26faef",
      "metadata": {
        "id": "5e26faef"
      },
      "outputs": [],
      "source": []
    },
    {
      "cell_type": "markdown",
      "id": "5c8cc946",
      "metadata": {
        "id": "5c8cc946"
      },
      "source": [
        "### 2)\n",
        "\n",
        "con el fin de trabajar mas comodo en proximos ejercicios, se requiere pasar todos los nombres de las columnas (tambien llamadas  \"features\") a minusculas. Imprimir el head para corroborar."
      ]
    },
    {
      "cell_type": "code",
      "execution_count": null,
      "id": "ac02c7c6",
      "metadata": {
        "id": "ac02c7c6"
      },
      "outputs": [],
      "source": []
    },
    {
      "cell_type": "code",
      "execution_count": null,
      "id": "9b35f200",
      "metadata": {
        "id": "9b35f200"
      },
      "outputs": [],
      "source": []
    },
    {
      "cell_type": "markdown",
      "id": "65c85762",
      "metadata": {
        "id": "65c85762"
      },
      "source": [
        "### 3)\n",
        "\n",
        "revisar cuales son los tipos de datos de cada feature. En caso de ser necesario, cambiar el tipo de dato para aprovechar  las caracteristicas de los DataFrames."
      ]
    },
    {
      "cell_type": "code",
      "execution_count": null,
      "id": "7eeaa71e",
      "metadata": {
        "id": "7eeaa71e"
      },
      "outputs": [],
      "source": []
    },
    {
      "cell_type": "code",
      "execution_count": null,
      "id": "223f1aaf",
      "metadata": {
        "id": "223f1aaf"
      },
      "outputs": [],
      "source": []
    },
    {
      "cell_type": "markdown",
      "id": "8389384d",
      "metadata": {
        "id": "8389384d"
      },
      "source": [
        "### 4)\n",
        "\n",
        "* cambiar el nombre de la columna \"date\" por \"fecha\" y luego setearlo como indice.\n",
        "\n"
      ]
    },
    {
      "cell_type": "code",
      "execution_count": null,
      "id": "a05fb949",
      "metadata": {
        "id": "a05fb949"
      },
      "outputs": [],
      "source": []
    },
    {
      "cell_type": "code",
      "execution_count": null,
      "id": "bb3f1d38",
      "metadata": {
        "id": "bb3f1d38"
      },
      "outputs": [],
      "source": []
    },
    {
      "cell_type": "markdown",
      "id": "74d83ece",
      "metadata": {
        "id": "74d83ece"
      },
      "source": [
        "### 5)\n",
        "* guardar en la variable \"apertura_1\" la serie de datos que compone la columna \"open\". acceder mediante el atributo correspondiente.\n",
        "* guardar en la variable \"cierre_1\" la serie de datos  que compone la columna \"close\". Acceder mediante el nombre de la columna.\n",
        "\n",
        "para finalizar crear un dataframe llamado \"data_1\" con los datos de \"apertura_1\" y \"cierre_1\". Que ocurre con el index?"
      ]
    },
    {
      "cell_type": "code",
      "execution_count": null,
      "id": "c2060435",
      "metadata": {
        "id": "c2060435"
      },
      "outputs": [],
      "source": []
    },
    {
      "cell_type": "code",
      "execution_count": null,
      "id": "972abaf3",
      "metadata": {
        "id": "972abaf3"
      },
      "outputs": [],
      "source": []
    },
    {
      "cell_type": "markdown",
      "id": "f3f4e9cb",
      "metadata": {
        "id": "f3f4e9cb"
      },
      "source": [
        "### 6)\n",
        "\n",
        "* guardar en la variable \"apertura_2\" UNICAMENTE los __VALORES__ de la columna \"open\". acceder mediante el atributo correspondiente.\n",
        "* guardar en la variable \"cierre_2\" UNICAMENTE los __VALORES__ de la columna \"close\". Acceder mediante el nombre de la columna.\n",
        "\n",
        "para finalizar crear un dataframe llamado \"data_2\" con los datos de apertura y cierre. Que ocurrio ahora con el index?"
      ]
    },
    {
      "cell_type": "code",
      "execution_count": null,
      "id": "eb3019a1",
      "metadata": {
        "id": "eb3019a1"
      },
      "outputs": [],
      "source": []
    },
    {
      "cell_type": "code",
      "execution_count": null,
      "id": "f87e315a",
      "metadata": {
        "id": "f87e315a"
      },
      "outputs": [],
      "source": []
    },
    {
      "cell_type": "markdown",
      "id": "af732407",
      "metadata": {
        "id": "af732407"
      },
      "source": [
        "### 7)\n",
        "\n",
        "* Descargar el archivo \"ko_excel.xlsx\" que se encuentra en el campus del curso e importarlo localmente en la variable \"excel\".\n",
        "* Imprimer los ultimos 10 valores para ver de que trata el Dataframe.\n",
        "* Solucionar los problemas para dejar el DataFrame listo para su analisis.\n"
      ]
    },
    {
      "cell_type": "code",
      "execution_count": null,
      "id": "26ad8357",
      "metadata": {
        "id": "26ad8357"
      },
      "outputs": [],
      "source": []
    },
    {
      "cell_type": "code",
      "execution_count": null,
      "id": "9ec98b8e",
      "metadata": {
        "id": "9ec98b8e"
      },
      "outputs": [],
      "source": []
    },
    {
      "cell_type": "markdown",
      "id": "7eb7ff37",
      "metadata": {
        "id": "7eb7ff37"
      },
      "source": [
        "### 8)\n",
        "Utilizando el dataframe \"excel\" imprimir:\n",
        "\n",
        "* tipo de datos por columnas\n",
        "* verificar si existen datos faltantes\n",
        "* cuantas filas y columnas tiene el DataFrame?\n",
        "* pasar nombres a minusculas\n",
        "* cambiar \"date\" por \"fecha\" y luego setear esta columna como index.\n",
        "\n"
      ]
    },
    {
      "cell_type": "code",
      "execution_count": null,
      "id": "32a22479",
      "metadata": {
        "id": "32a22479"
      },
      "outputs": [],
      "source": []
    },
    {
      "cell_type": "code",
      "execution_count": null,
      "id": "54927488",
      "metadata": {
        "id": "54927488"
      },
      "outputs": [],
      "source": []
    },
    {
      "cell_type": "markdown",
      "id": "bf59d2d6",
      "metadata": {
        "id": "bf59d2d6"
      },
      "source": [
        "### 9)\n",
        "\n",
        "agregar tres columnas nuevas al Dataframe \"excel\". Una con el numero del dia , otra del mes y por ultimo del año.\n",
        "\n",
        "(hay una cuarta opcion que es el nombre del dia (str), que puede aportar info para usar mas adelante!!)"
      ]
    },
    {
      "cell_type": "code",
      "execution_count": null,
      "id": "2fa738e4",
      "metadata": {
        "id": "2fa738e4"
      },
      "outputs": [],
      "source": []
    },
    {
      "cell_type": "code",
      "execution_count": null,
      "id": "ee9fab6a",
      "metadata": {
        "id": "ee9fab6a"
      },
      "outputs": [],
      "source": []
    },
    {
      "cell_type": "markdown",
      "id": "59bbc812",
      "metadata": {
        "id": "59bbc812"
      },
      "source": [
        "### 10)\n",
        "\n",
        "* Crear un \"data_10\" con las 100 lineas mas recientes.\n",
        "* Ordenarlas de forma descendente.\n",
        "* Cual fue el precio de apertura de la fila mas antigua?\n",
        "* Que dia (day_name) fue la anteultima observacion?\n"
      ]
    },
    {
      "cell_type": "code",
      "execution_count": null,
      "id": "6dedb69d",
      "metadata": {
        "id": "6dedb69d"
      },
      "outputs": [],
      "source": []
    },
    {
      "cell_type": "code",
      "execution_count": null,
      "id": "cfed72fd",
      "metadata": {
        "id": "cfed72fd"
      },
      "outputs": [],
      "source": []
    },
    {
      "cell_type": "markdown",
      "id": "d15a5be5",
      "metadata": {
        "id": "d15a5be5"
      },
      "source": [
        "### 11)\n",
        "\n",
        "* crear un \"data_11\" que contenga solo las observaciones (filas) hasta 2005 inclusive.\n",
        "* Cual fue el volumen promedio de este subconjunto?\n",
        "* cual fue el precio de cierre mas alto? que fecha fue?"
      ]
    },
    {
      "cell_type": "code",
      "execution_count": null,
      "id": "a5548e22",
      "metadata": {
        "id": "a5548e22"
      },
      "outputs": [],
      "source": []
    },
    {
      "cell_type": "code",
      "execution_count": null,
      "id": "0916adf4",
      "metadata": {
        "id": "0916adf4"
      },
      "outputs": [],
      "source": []
    },
    {
      "cell_type": "markdown",
      "id": "23e3a39d",
      "metadata": {
        "id": "23e3a39d"
      },
      "source": [
        "### 12)\n",
        "\n",
        "* Crear un \"data_12\" que contenga solo observaciones entre 2007 y 2009 inclusive, y que solo cuente con las features \"open\" y \"close\".\n",
        "\n",
        "* agregar una columna \"var_nom\" con la variacion nominal del precio durante el dia."
      ]
    },
    {
      "cell_type": "code",
      "execution_count": null,
      "id": "0083c7f6",
      "metadata": {
        "id": "0083c7f6"
      },
      "outputs": [],
      "source": []
    },
    {
      "cell_type": "code",
      "execution_count": null,
      "id": "ae4a0beb",
      "metadata": {
        "id": "ae4a0beb"
      },
      "outputs": [],
      "source": []
    },
    {
      "cell_type": "markdown",
      "id": "7e1c3d3c",
      "metadata": {
        "id": "7e1c3d3c"
      },
      "source": [
        "###  13)\n",
        "\n",
        "* crear un \"data_13\" que contenga rueda por medio y solo la primer columna.\n",
        "\n",
        "* Que tipo de dato es \"data_13\" ?"
      ]
    },
    {
      "cell_type": "code",
      "execution_count": null,
      "id": "af7dc570",
      "metadata": {
        "id": "af7dc570"
      },
      "outputs": [],
      "source": []
    },
    {
      "cell_type": "code",
      "execution_count": null,
      "id": "4697a3e7",
      "metadata": {
        "id": "4697a3e7"
      },
      "outputs": [],
      "source": []
    },
    {
      "cell_type": "markdown",
      "id": "5c24556c",
      "metadata": {
        "id": "5c24556c"
      },
      "source": [
        "###  14)\n",
        "\n",
        "* Crear \"data_14\" con aquellos datos que correspondan a los dias viernes (\"Friday\").\n",
        "\n",
        "* imprimir \"data_14\" con un step de 4 en las filas y solo la columna \"high\".\n"
      ]
    },
    {
      "cell_type": "code",
      "execution_count": null,
      "id": "41282199",
      "metadata": {
        "id": "41282199"
      },
      "outputs": [],
      "source": []
    },
    {
      "cell_type": "code",
      "execution_count": null,
      "id": "9d347e3f",
      "metadata": {
        "id": "9d347e3f"
      },
      "outputs": [],
      "source": []
    },
    {
      "cell_type": "markdown",
      "id": "fda3aaf1",
      "metadata": {
        "id": "fda3aaf1"
      },
      "source": [
        "###  15)\n",
        "\n",
        "crear un \"data_15\" donde solo se contemplen los dias impares del mes.\n"
      ]
    },
    {
      "cell_type": "code",
      "execution_count": null,
      "id": "19c0e61f",
      "metadata": {
        "id": "19c0e61f"
      },
      "outputs": [],
      "source": []
    },
    {
      "cell_type": "code",
      "execution_count": null,
      "id": "ae2303ee",
      "metadata": {
        "id": "ae2303ee"
      },
      "outputs": [],
      "source": []
    },
    {
      "cell_type": "markdown",
      "id": "5c7dd265",
      "metadata": {
        "id": "5c7dd265"
      },
      "source": [
        "###  16)\n",
        "\n",
        "pedir al usuario por consola 3 numeros del 1 al 12, validando que estos no se repitan.\n",
        "\n",
        "Luego Utilizar estos numeros para filtrar los meses del dataframe que queremos visualizar.\n",
        "\n",
        "guardar el subconjunto en \"data_16\"\n"
      ]
    },
    {
      "cell_type": "code",
      "execution_count": null,
      "id": "5103bf22",
      "metadata": {
        "id": "5103bf22"
      },
      "outputs": [],
      "source": []
    },
    {
      "cell_type": "code",
      "execution_count": null,
      "id": "67ac52e6",
      "metadata": {
        "id": "67ac52e6"
      },
      "outputs": [],
      "source": []
    },
    {
      "cell_type": "markdown",
      "id": "46b3fa77",
      "metadata": {
        "id": "46b3fa77"
      },
      "source": [
        "###  17)\n",
        "\n",
        "* descargar las cotizaciones de AMZN del 1ro de enero de 2011 hasta la fecha.\n",
        "* la cantidad de ruedas que hubo en el año 2012.\n",
        "* acceder a los datos de las ruedas 8 y 26 del año 2021.\n",
        "* pedir por consola el numero de rueda que deseamos buscar en el año 2021 e imprimir los datos."
      ]
    },
    {
      "cell_type": "code",
      "execution_count": null,
      "id": "29a10abc",
      "metadata": {
        "id": "29a10abc"
      },
      "outputs": [],
      "source": []
    },
    {
      "cell_type": "code",
      "execution_count": null,
      "id": "d7d51893",
      "metadata": {
        "id": "d7d51893"
      },
      "outputs": [],
      "source": []
    },
    {
      "cell_type": "markdown",
      "id": "ed3912b9",
      "metadata": {
        "id": "ed3912b9"
      },
      "source": [
        "###  18)\n",
        "\n",
        "Leer el archivo de precios de AAPL y devolver el dataFrame que tenga:\n",
        "\n",
        "- Solo las columnas Open y Close\n",
        "- Que tenga como indice el timestamp\n",
        "- Que este ordenado por fechas\n",
        "- que devuelva solo los ultimos 10 valores"
      ]
    },
    {
      "cell_type": "code",
      "execution_count": null,
      "id": "5137e661",
      "metadata": {
        "id": "5137e661"
      },
      "outputs": [],
      "source": [
        "url = \"https://docs.google.com/spreadsheets/d/e/2PACX-1vRraxkyU12H2gHzFTwbhMRKvSCZBVeKfFEc2MGZw5fNJz4b2s6EQJGu0Ek-GKrBdg/pub?output=xlsx\"\n"
      ]
    },
    {
      "cell_type": "code",
      "execution_count": null,
      "id": "192fefec",
      "metadata": {
        "id": "192fefec"
      },
      "outputs": [],
      "source": []
    },
    {
      "cell_type": "markdown",
      "id": "369778ec",
      "metadata": {
        "id": "369778ec"
      },
      "source": [
        "###  19)\n",
        "\n",
        "volver a cargar el archivo de AAPL\n",
        "* Crear una nueva columna con el color de la vela diaria\n",
        "* Verde si Close > Open\n",
        "* Rojo si Close < Open\n",
        "* Doji, si Close = Open"
      ]
    },
    {
      "cell_type": "code",
      "execution_count": null,
      "id": "7c5b67e7",
      "metadata": {
        "id": "7c5b67e7"
      },
      "outputs": [],
      "source": []
    },
    {
      "cell_type": "code",
      "execution_count": null,
      "id": "9cc0ba7a",
      "metadata": {
        "id": "9cc0ba7a"
      },
      "outputs": [],
      "source": []
    },
    {
      "cell_type": "markdown",
      "id": "196f6914",
      "metadata": {
        "id": "196f6914"
      },
      "source": [
        "###  20)\n",
        "\n",
        "Usando el ejercicio 19, calcular el % de las ruedas con velas rojas del top 150 de mayor volumen historico\n",
        "\n",
        "Calcular luego el % de Verdes, Rojas y Dojis de todo el historico"
      ]
    },
    {
      "cell_type": "code",
      "execution_count": null,
      "id": "6fa676c4",
      "metadata": {
        "id": "6fa676c4"
      },
      "outputs": [],
      "source": []
    },
    {
      "cell_type": "code",
      "execution_count": null,
      "id": "1e023e5f",
      "metadata": {
        "id": "1e023e5f"
      },
      "outputs": [],
      "source": []
    }
  ],
  "metadata": {
    "kernelspec": {
      "display_name": "Python 3 (ipykernel)",
      "language": "python",
      "name": "python3"
    },
    "language_info": {
      "codemirror_mode": {
        "name": "ipython",
        "version": 3
      },
      "file_extension": ".py",
      "mimetype": "text/x-python",
      "name": "python",
      "nbconvert_exporter": "python",
      "pygments_lexer": "ipython3",
      "version": "3.10.9"
    },
    "colab": {
      "provenance": []
    }
  },
  "nbformat": 4,
  "nbformat_minor": 5
}