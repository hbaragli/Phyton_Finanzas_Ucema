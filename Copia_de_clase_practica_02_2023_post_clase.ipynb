{
  "cells": [
    {
      "cell_type": "markdown",
      "metadata": {
        "id": "0a6uSS3uapr8"
      },
      "source": [
        "# Clase Practica 02\n",
        "\n",
        " - Ejercitacion de temas vistos en clases teoricas 1, 2 y 3."
      ]
    },
    {
      "cell_type": "markdown",
      "metadata": {
        "id": "ykKdQJA0k6lW"
      },
      "source": [
        "#  ejercicios de tarea : 6 , 9 , 10 d (el mas importante) y 12."
      ]
    },
    {
      "cell_type": "markdown",
      "metadata": {
        "id": "4i7MwhJLauMy"
      },
      "source": [
        "### 1)\n",
        "generar una lista que contenga todos los numeros del 1 al 9 con la funcion vista en clase. guardarla en la variable \"numeros\".\n"
      ]
    },
    {
      "cell_type": "code",
      "execution_count": null,
      "metadata": {
        "id": "ETqMxh8mawzW",
        "outputId": "4f0cf394-07c7-4e10-aa1b-b5f90330f727"
      },
      "outputs": [
        {
          "data": {
            "text/plain": [
              "[1, 2, 3, 4, 5, 6, 7, 8, 9]"
            ]
          },
          "execution_count": 2,
          "metadata": {},
          "output_type": "execute_result"
        }
      ],
      "source": [
        "numeros = list(range(1,10))\n",
        "numeros"
      ]
    },
    {
      "cell_type": "markdown",
      "metadata": {
        "id": "9oepPfOca0z2"
      },
      "source": [
        "### 2)\n",
        "hacer slicing con la variable \"numeros\" e imprimir:\n",
        "\n",
        "* numeros pares\n",
        "* numeros del 7 al 9\n",
        "* numeros impares de mayor a menor\n",
        "* promedio de la sumatoria de los elementos\n",
        "* promedio de la sumatoria sin tener en cuenta el primer elemento"
      ]
    },
    {
      "cell_type": "code",
      "execution_count": null,
      "metadata": {
        "id": "4olv2Z48a1UV",
        "outputId": "5beb81bb-4190-4ebb-c80e-64347b6b8244"
      },
      "outputs": [
        {
          "data": {
            "text/plain": [
              "[2, 4, 6, 8]"
            ]
          },
          "execution_count": 4,
          "metadata": {},
          "output_type": "execute_result"
        }
      ],
      "source": [
        "pares = numeros[1::2]\n",
        "pares"
      ]
    },
    {
      "cell_type": "code",
      "execution_count": null,
      "metadata": {
        "id": "I6aasU5_k6mW",
        "outputId": "a1736722-b12b-4b4a-ce3c-dc1ceb3aa308"
      },
      "outputs": [
        {
          "name": "stdout",
          "output_type": "stream",
          "text": [
            "2\n",
            "4\n",
            "6\n",
            "8\n"
          ]
        }
      ],
      "source": [
        "#forma mas avanzada\n",
        "for i in numeros:\n",
        "    if i % 2 ==0:\n",
        "        print(i)"
      ]
    },
    {
      "cell_type": "code",
      "execution_count": null,
      "metadata": {
        "id": "8nHuREMBk6ol",
        "outputId": "1ca860b2-1f13-4717-98cb-107744a36a74"
      },
      "outputs": [
        {
          "data": {
            "text/plain": [
              "([7, 8, 9], [7, 8, 9], [9, 6, 3])"
            ]
          },
          "execution_count": 14,
          "metadata": {},
          "output_type": "execute_result"
        }
      ],
      "source": [
        "siete_a_nueve = numeros[6:] #\n",
        "siete_a_nueve , numeros[-3::] , numeros[::-3]"
      ]
    },
    {
      "cell_type": "code",
      "execution_count": null,
      "metadata": {
        "id": "nS-AHF5rk6o_",
        "outputId": "5d7822dd-d982-475f-df98-080644a94726"
      },
      "outputs": [
        {
          "data": {
            "text/plain": [
              "([9, 7, 5, 3, 1], [9, 7, 5, 3, 1])"
            ]
          },
          "execution_count": 21,
          "metadata": {},
          "output_type": "execute_result"
        }
      ],
      "source": [
        "impares = numeros[-1::-2]\n",
        "impares , numeros[::2][::-1]"
      ]
    },
    {
      "cell_type": "code",
      "execution_count": null,
      "metadata": {
        "id": "RdGv-jYkk6pA",
        "outputId": "447a3a6c-8cf9-4d9b-95b7-f259872df95d"
      },
      "outputs": [
        {
          "data": {
            "text/plain": [
              "5.0"
            ]
          },
          "execution_count": 23,
          "metadata": {},
          "output_type": "execute_result"
        }
      ],
      "source": [
        "promedio = sum(numeros)/len(numeros)\n",
        "promedio"
      ]
    },
    {
      "cell_type": "code",
      "execution_count": null,
      "metadata": {
        "id": "cJnYUVogk6pB",
        "outputId": "9f3d0f53-155e-4068-b7a1-119f022cd29e"
      },
      "outputs": [
        {
          "data": {
            "text/plain": [
              "5.5"
            ]
          },
          "execution_count": 25,
          "metadata": {},
          "output_type": "execute_result"
        }
      ],
      "source": [
        "promedio_sin_primer_elemento = sum(numeros[1::])/(len(numeros[1::])  )\n",
        "promedio_sin_primer_elemento"
      ]
    },
    {
      "cell_type": "markdown",
      "metadata": {
        "id": "moZnFCTAbFCq"
      },
      "source": [
        "### 3)\n",
        "Solicitar al usuario un valor entero para generar una tabla de multiplicación (1 al 10), presentando los resultados en pantalla y almacenándolos en una lista. ¿Como podría dejar almacenado dichos resultados en una tupla , en lugar de la lista?"
      ]
    },
    {
      "cell_type": "code",
      "execution_count": null,
      "metadata": {
        "id": "xbKaIq1JbFlf",
        "outputId": "4c3905b4-96e2-4cd5-f88e-e4459f9eed6a"
      },
      "outputs": [
        {
          "name": "stdout",
          "output_type": "stream",
          "text": [
            "escriba un numero: 3\n"
          ]
        },
        {
          "data": {
            "text/plain": [
              "((3, 6, 9, 12, 15, 18, 21, 24, 27, 30), tuple)"
            ]
          },
          "execution_count": 40,
          "metadata": {},
          "output_type": "execute_result"
        }
      ],
      "source": [
        "valor = int(input(\"escriba un numero: \"))\n",
        "almacen_de_data = []\n",
        "tupla = tuple()\n",
        "for i in range(1,11):\n",
        "    calculo  = i * valor\n",
        "    almacen_de_data.append(calculo)\n",
        "\n",
        "almacen_de_data = tuple(almacen_de_data)\n",
        "almacen_de_data , type(almacen_de_data)\n"
      ]
    },
    {
      "cell_type": "markdown",
      "metadata": {
        "id": "qntemL3kbNYl"
      },
      "source": [
        "### 4)\n",
        "Utilizando otro número para las tablas, genera una nueva tabla de multiplicar y aplique la misma lógica utilizada en el punto 3. Luego, compare la nueva lista resultante con la del punto 3 y determine qué valores están presentes en ambas listas.\n",
        "\n",
        "Que formas de resolucion ofrece el chat gpt?"
      ]
    },
    {
      "cell_type": "code",
      "execution_count": null,
      "metadata": {
        "id": "VnsW6oCCbN7p",
        "outputId": "02953f61-2bdf-4440-8298-2c063d2c3354"
      },
      "outputs": [
        {
          "name": "stdout",
          "output_type": "stream",
          "text": [
            "escriba un numero: 4\n"
          ]
        }
      ],
      "source": [
        "valor = int(input(\"escriba un numero: \"))\n",
        "punto_cuatro = []\n",
        "\n",
        "for i in range(1,11):\n",
        "    calculo  = i * valor\n",
        "    punto_cuatro.append(calculo)"
      ]
    },
    {
      "cell_type": "code",
      "execution_count": null,
      "metadata": {
        "id": "NzS13UTrk6pG"
      },
      "outputs": [],
      "source": [
        "conjunto_a = set(almacen_de_data)\n",
        "conjunto_b = set(punto_cuatro)"
      ]
    },
    {
      "cell_type": "code",
      "execution_count": null,
      "metadata": {
        "id": "9Rp32fz7k6pH",
        "outputId": "e90bfb2e-37ff-4290-897b-7d26f4c486d2"
      },
      "outputs": [
        {
          "data": {
            "text/plain": [
              "{12, 24}"
            ]
          },
          "execution_count": 51,
          "metadata": {},
          "output_type": "execute_result"
        }
      ],
      "source": [
        "conjunto_a.intersection(conjunto_b) # otra solucion -->  set(almacen_de_data).intersection(punto_cuatro)"
      ]
    },
    {
      "cell_type": "markdown",
      "metadata": {
        "id": "T6EdZ7kxbVe6"
      },
      "source": [
        "###  5)\n",
        "solicitar al usuario cuantos elementos tendra nuestra lista.\n",
        "\n",
        "Utilizando ese dato, solicitar al usuario tantos numeros como longitud de la lista, dando la posibilidad de que sean numeros decimales.\n",
        "\n",
        "Guardar dichos numeros en una lista, y luego A MANO  calcular la media y la desviacion estandar. (__chat gpt__)\n",
        "\n",
        "Verificar con alguna libreria, los resultados obtenidos."
      ]
    },
    {
      "cell_type": "code",
      "execution_count": null,
      "metadata": {
        "id": "YSTKPmYgbV8H",
        "outputId": "85843ab0-fc33-4453-f8c9-4483ecd9074f"
      },
      "outputs": [
        {
          "name": "stdout",
          "output_type": "stream",
          "text": [
            "cuantos elementos tendra la lista: 4\n",
            "pasame un numero: 2.2\n",
            "pasame un numero: 3\n",
            "pasame un numero: 6\n",
            "pasame un numero: 7.4\n"
          ]
        }
      ],
      "source": [
        "longitud = int(input(\"cuantos elementos tendra la lista: \"))\n",
        "lista_cinco  = []\n",
        "for i in range(longitud):\n",
        "    nro = float(input(\"pasame un numero: \"))\n",
        "    lista_cinco.append(nro)\n",
        "\n",
        "#lista por comprension para este ejemplo\n",
        "#lista_cinco_compre = [float(input(\"pasame un numero\")) for i in range(longitud)] # otro ejemplo --> lista = [i**2 for i in range(10)]"
      ]
    },
    {
      "cell_type": "code",
      "execution_count": null,
      "metadata": {
        "id": "6xr9hBjNk6pI",
        "outputId": "9e06d0da-2dcd-48a9-d291-98781f0428a0"
      },
      "outputs": [
        {
          "data": {
            "text/plain": [
              "4.65"
            ]
          },
          "execution_count": 59,
          "metadata": {},
          "output_type": "execute_result"
        }
      ],
      "source": [
        "media = sum(lista_cinco) / len(lista_cinco)\n",
        "media"
      ]
    },
    {
      "cell_type": "code",
      "execution_count": null,
      "metadata": {
        "id": "xLR91pGck6pI",
        "outputId": "7a14cab7-e472-4ea2-c351-927d9d8d743d"
      },
      "outputs": [
        {
          "data": {
            "text/plain": [
              "[2.2, 3.0, 6.0, 7.4]"
            ]
          },
          "execution_count": 62,
          "metadata": {},
          "output_type": "execute_result"
        }
      ],
      "source": [
        "lista_cinco"
      ]
    },
    {
      "cell_type": "code",
      "execution_count": null,
      "metadata": {
        "id": "UqNxeKMSk6pI",
        "outputId": "1d8eb759-6e03-4622-d905-7dc4546d80c6"
      },
      "outputs": [
        {
          "data": {
            "text/plain": [
              "2.1277922830953213"
            ]
          },
          "execution_count": 68,
          "metadata": {},
          "output_type": "execute_result"
        }
      ],
      "source": [
        "resultados = []\n",
        "for i in lista_cinco:\n",
        "    calculo = (i-media)**2\n",
        "    resultados.append(calculo)\n",
        "sumatoria  = sum(resultados)\n",
        "varianza = sumatoria / len(resultados)\n",
        "desvio = varianza ** 0.5\n",
        "desvio"
      ]
    },
    {
      "cell_type": "code",
      "execution_count": null,
      "metadata": {
        "id": "FcbYqZSpk6pJ"
      },
      "outputs": [],
      "source": [
        "import numpy as np"
      ]
    },
    {
      "cell_type": "code",
      "execution_count": null,
      "metadata": {
        "id": "5vH3l7ytk6pJ",
        "outputId": "bd12eaa5-2021-441b-9031-35f0159e94b1"
      },
      "outputs": [
        {
          "data": {
            "text/plain": [
              "(2.1277922830953213, 4.65)"
            ]
          },
          "execution_count": 71,
          "metadata": {},
          "output_type": "execute_result"
        }
      ],
      "source": [
        "np.std(lista_cinco) , np.mean(lista_cinco)"
      ]
    },
    {
      "cell_type": "markdown",
      "metadata": {
        "id": "E6kw3TjQbaUk"
      },
      "source": [
        "###  6)\n",
        "\n",
        "Pedir al usuario 5 tickers y guardarlos en una lista. Verificar que ninguno tenga espacios al principio ni final, y que se encuentren en mayusculas.\n",
        "\n",
        "Usar la lista \"historial_de_operaciones\" para ver si he operado algun ticker de los pasados por el usuario.\n",
        "\n",
        "En el caso de hallar coincidencias , imprimir tales tickers en un texto minuscula como \"el ticker X ha sido operado por mi\"\n",
        "\n",
        "Para aquellos tickers que no se hallen coincidencias, eliminarlos de \"historial de operaciones\" y guardarlos en una tupla.(__chat gpt__)"
      ]
    },
    {
      "cell_type": "code",
      "execution_count": null,
      "metadata": {
        "id": "nitCjjYLba1L"
      },
      "outputs": [],
      "source": [
        "historial_de_operaciones = [\"BMA\" , \"KO\" , \"TSLA\" , \"YPFD\"]"
      ]
    },
    {
      "cell_type": "code",
      "execution_count": null,
      "metadata": {
        "id": "OtbT9wbKbg0K"
      },
      "outputs": [],
      "source": []
    },
    {
      "cell_type": "markdown",
      "metadata": {
        "id": "RKWwYlJVbhQS"
      },
      "source": [
        "### 7)\n",
        "\n",
        "Con el String utilizado en la clase pasada, volverlo a limpiar para dejarlo normalizado, y luego generar una lista con las operaciones individuales (ticker operacion precio).\n",
        "\n",
        "\n",
        "Obtener el precio promedio de las operaciones."
      ]
    },
    {
      "cell_type": "code",
      "execution_count": null,
      "metadata": {
        "id": "5eta8bHKbkly"
      },
      "outputs": [],
      "source": [
        "cotizaciones = \"\"\"BMA C 220,00\n",
        "BMA C $219,22\n",
        "BMA V $221,50\n",
        "COME V $3,00\n",
        "GGAL c $190,95\n",
        "BMA V $220,25\n",
        "GGAL v 187,20\n",
        "TS V $40,30\n",
        "TS C $45,20\n",
        "TS V 40,20\n",
        "COME C $3,01\"\"\""
      ]
    },
    {
      "cell_type": "code",
      "execution_count": null,
      "metadata": {
        "id": "25VtSuZnbnS8",
        "outputId": "e8da6b86-dc46-464c-b461-dcf49305379a"
      },
      "outputs": [
        {
          "name": "stdout",
          "output_type": "stream",
          "text": [
            "BMA C 220.00\n",
            "BMA C 219.22\n",
            "BMA V 221.50\n",
            "COME V 3.00\n",
            "GGAL C 190.95\n",
            "BMA V 220.25\n",
            "GGAL V 187.20\n",
            "TS V 40.30\n",
            "TS C 45.20\n",
            "TS V 40.20\n",
            "COME C 3.01\n"
          ]
        }
      ],
      "source": [
        "cotizaciones = cotizaciones.replace(\"$\" , \"\").upper()\n",
        "cotizaciones = cotizaciones.replace(\"  \" , \" \")\n",
        "cotizaciones = cotizaciones.replace(\",\" , \".\")\n",
        "print(cotizaciones)"
      ]
    },
    {
      "cell_type": "code",
      "execution_count": null,
      "metadata": {
        "id": "B2Fvhqcfk6pK",
        "outputId": "21afad04-abbd-4a78-9f35-560f2ae407f0"
      },
      "outputs": [
        {
          "data": {
            "text/plain": [
              "126.43909090909092"
            ]
          },
          "execution_count": 96,
          "metadata": {},
          "output_type": "execute_result"
        }
      ],
      "source": [
        "cotizacion = cotizaciones.split(\"\\n\")\n",
        "precios = []\n",
        "for i in cotizacion:\n",
        "    l = i.split()\n",
        "    precios.append(float(l[2]))\n",
        "\n",
        "sum(precios) / len(precios)"
      ]
    },
    {
      "cell_type": "markdown",
      "metadata": {
        "id": "UVeS2l0gcL6q"
      },
      "source": [
        "### 8)\n",
        "\n",
        "Pedir al usuario sus 3 acciones favoritas, y sus precios actuales, guardando este par de datos dentro de una lista, y luego todas estas listas de pares, dentro de la tupla \"acciones_favs\"\n",
        "\n",
        "Con los datos de la tupla, generar dos listas. Una con los tickers y otra con los precios."
      ]
    },
    {
      "cell_type": "code",
      "execution_count": null,
      "metadata": {
        "id": "uW6-zBtwcMbg",
        "outputId": "0cedf249-ce45-43fb-90ec-9881cff6f5e2"
      },
      "outputs": [
        {
          "name": "stdout",
          "output_type": "stream",
          "text": [
            "escriba su simbolo : ggal\n",
            "cual es su precio actual: 450\n",
            "escriba su simbolo : bma\n",
            "cual es su precio actual: 320\n",
            "escriba su simbolo : come\n",
            "cual es su precio actual: 3\n"
          ]
        }
      ],
      "source": [
        "lista = []\n",
        "for i in range(3):\n",
        "    t = input(\"escriba su simbolo : \")\n",
        "    p = float(input(\"cual es su precio actual: \"))\n",
        "    lista_interna  = [t , p]\n",
        "    lista.append(lista_interna)"
      ]
    },
    {
      "cell_type": "code",
      "execution_count": null,
      "metadata": {
        "id": "BrWXm619k6pL"
      },
      "outputs": [],
      "source": [
        "acciones_favs = tuple(lista)"
      ]
    },
    {
      "cell_type": "code",
      "execution_count": null,
      "metadata": {
        "id": "Vt7W-LbKk6pL",
        "outputId": "349c7f76-fd27-4803-8d7c-5d38380e8755"
      },
      "outputs": [
        {
          "data": {
            "text/plain": [
              "(['ggal', 450.0], ['bma', 320.0], ['come', 3.0])"
            ]
          },
          "execution_count": 100,
          "metadata": {},
          "output_type": "execute_result"
        }
      ],
      "source": [
        "acciones_favs"
      ]
    },
    {
      "cell_type": "code",
      "execution_count": null,
      "metadata": {
        "id": "IAGV1d46k6pL",
        "outputId": "d9905af1-c2b7-4647-cdaa-a5252f7aa48f"
      },
      "outputs": [
        {
          "data": {
            "text/plain": [
              "(['ggal', 'bma', 'come'], [450.0, 320.0, 3.0])"
            ]
          },
          "execution_count": 102,
          "metadata": {},
          "output_type": "execute_result"
        }
      ],
      "source": [
        "tickers = []\n",
        "precios = []\n",
        "\n",
        "for i in acciones_favs:\n",
        "    tickers.append(i[0])\n",
        "    precios.append(i[1])\n",
        "tickers , precios"
      ]
    },
    {
      "cell_type": "code",
      "execution_count": null,
      "metadata": {
        "id": "xGW1Uz7ek6pM"
      },
      "outputs": [],
      "source": []
    },
    {
      "cell_type": "markdown",
      "metadata": {
        "id": "H4p0b-qPct_Q"
      },
      "source": [
        "### 9)\n",
        "Se requiere saber cuales son los numeros que __NO__ se repiten dentro de la lista, para informarlos por consola.\n",
        "\n",
        "El informe debe ser del tipo __\"es X que Y se encuentra solo una vez en 'nums'   \"__"
      ]
    },
    {
      "cell_type": "code",
      "execution_count": null,
      "metadata": {
        "id": "nkUmwHvOcukH"
      },
      "outputs": [],
      "source": [
        "nums = [1, 2, 3, 1, 4, 2, 5, 6, 3]"
      ]
    },
    {
      "cell_type": "code",
      "execution_count": null,
      "metadata": {
        "id": "QNZyL1mgcw83"
      },
      "outputs": [],
      "source": []
    },
    {
      "cell_type": "markdown",
      "metadata": {
        "id": "lm8ouATucxQ4"
      },
      "source": [
        "### 10)\n",
        "### a)\n",
        "\n",
        "En base a la lista dada, imprimir en formato \"en fecha X se ha operado: una C/V del papel Y a un precio de P \"."
      ]
    },
    {
      "cell_type": "code",
      "execution_count": null,
      "metadata": {
        "id": "87DfZ26Mc_Xi"
      },
      "outputs": [],
      "source": [
        "fechas_a = [[\"2023-05-01\", \"C\" , \"BMA\" , 220] ,\n",
        "          [\"2023-05-02\" , \"V\" , \"COME\" , 3.00],\n",
        "          [\"2023-05-03\" , \"C\" , \"GGAL\" , 451.32] ]"
      ]
    },
    {
      "cell_type": "code",
      "execution_count": null,
      "metadata": {
        "id": "gIeqtdNddPY1"
      },
      "outputs": [],
      "source": []
    },
    {
      "cell_type": "code",
      "execution_count": null,
      "metadata": {
        "id": "tuY7kaemk6rk",
        "outputId": "4835ee66-cd5f-4e68-9a52-94fe5ca66ba5"
      },
      "outputs": [
        {
          "name": "stdout",
          "output_type": "stream",
          "text": [
            "en fecha2023-05-01 he operado una C del papel BMA al precio 220\n",
            "en fecha2023-05-02 he operado una V del papel COME al precio 3.0\n",
            "en fecha2023-05-03 he operado una C del papel GGAL al precio 451.32\n"
          ]
        }
      ],
      "source": [
        "for i in fechas_a:\n",
        "    f = i[0]\n",
        "    o = i[1]\n",
        "    t = i[2]\n",
        "    p = i[3]\n",
        "    print(f\"en fecha{f} he operado una {o} del papel {t} al precio {p}\")"
      ]
    },
    {
      "cell_type": "code",
      "execution_count": null,
      "metadata": {
        "id": "NWEYhOqNk6rk"
      },
      "outputs": [],
      "source": []
    },
    {
      "cell_type": "code",
      "execution_count": null,
      "metadata": {
        "id": "LhZBerWdk6rl"
      },
      "outputs": [],
      "source": []
    },
    {
      "cell_type": "markdown",
      "metadata": {
        "id": "TJcZJMk4dQDs"
      },
      "source": [
        "### b)\n",
        "En base a la lista dada, imprimir en formato \"en fecha X se ha operado: una C/V del papel Y a un precio de P \"."
      ]
    },
    {
      "cell_type": "code",
      "execution_count": null,
      "metadata": {
        "id": "P_RpJGDIdZ8j"
      },
      "outputs": [],
      "source": [
        "fechas_b = [\"2023-05-01\", \"C\" , \"BMA\" , 220 ,\n",
        "          \"2023-05-02\" , \"V\" , \"COME\" , 3.00,\n",
        "          \"2023-05-03\" , \"C\" , \"GGAL\" , 451.32]"
      ]
    },
    {
      "cell_type": "code",
      "execution_count": null,
      "metadata": {
        "id": "qEGFaBwGk6rm",
        "outputId": "ef3268a1-5674-4b76-baeb-d2896af199d4"
      },
      "outputs": [
        {
          "name": "stdout",
          "output_type": "stream",
          "text": [
            "en fecha 2023-05-01 he operado una C del papel BMA al precio 220\n",
            "en fecha 2023-05-02 he operado una V del papel COME al precio 3.0\n",
            "en fecha 2023-05-03 he operado una C del papel GGAL al precio 451.32\n"
          ]
        }
      ],
      "source": [
        "for i in range(3): # intentar hacerlo con un for i in range(0,12,4). encontrar la forma\n",
        "    f = fechas_b[0: : 4]\n",
        "    o = fechas_b[1: : 4]\n",
        "    t = fechas_b[2: : 4]\n",
        "    p = fechas_b[3: : 4]\n",
        "    print(f\"en fecha {f[i]} he operado una {o[i]} del papel {t[i]} al precio {p[i]}\")"
      ]
    },
    {
      "cell_type": "code",
      "execution_count": null,
      "metadata": {
        "id": "8X7iaFSMk6rn"
      },
      "outputs": [],
      "source": []
    },
    {
      "cell_type": "code",
      "execution_count": null,
      "metadata": {
        "id": "u9vWgsM_k6rn"
      },
      "outputs": [],
      "source": []
    },
    {
      "cell_type": "markdown",
      "metadata": {
        "id": "Fns9fBH6dgsj"
      },
      "source": [
        "### c)\n",
        "En base a la lista dada, imprimir en formato \"en fecha X se ha operado: una C/V del papel Y a un precio de P \"."
      ]
    },
    {
      "cell_type": "code",
      "execution_count": null,
      "metadata": {
        "id": "vA-bpNYYduBZ"
      },
      "outputs": [],
      "source": [
        "fechas_c = [\n",
        "    [\"2023-05-01\", [\"C\"] , [\"BMA\"] , [220]] ,\n",
        "          [\"2023-05-02\" , [\"V\"] , [\"COME\"] , [3.00]],\n",
        "          [\"2023-05-03\" , [\"C\"] , [\"GGAL\"] , [451.32]]\n",
        "]"
      ]
    },
    {
      "cell_type": "code",
      "execution_count": null,
      "metadata": {
        "id": "W2xVb9LCdwTk",
        "outputId": "16231df0-127d-4da6-dc38-d1a1f5b79dca"
      },
      "outputs": [
        {
          "name": "stdout",
          "output_type": "stream",
          "text": [
            "en fecha2023-05-01 he operado una C del papel BMA al precio 220\n",
            "en fecha2023-05-02 he operado una V del papel COME al precio 3.0\n",
            "en fecha2023-05-03 he operado una C del papel GGAL al precio 451.32\n"
          ]
        }
      ],
      "source": [
        "for i in fechas_c:\n",
        "    f = i[0]\n",
        "    o = i[1][0]\n",
        "    t = i[2][0]\n",
        "    p = i[3][0]\n",
        "    print(f\"en fecha{f} he operado una {o} del papel {t} al precio {p}\")"
      ]
    },
    {
      "cell_type": "markdown",
      "metadata": {
        "id": "LEZp8ZXVdw5Y"
      },
      "source": [
        "### d)\n",
        "\n",
        "En base a la lista dada, imprimir en formato \"en fecha X se ha operado: una C/V del papel Y a un precio de P \"."
      ]
    },
    {
      "cell_type": "code",
      "execution_count": null,
      "metadata": {
        "id": "kzjqGyB4dzn_"
      },
      "outputs": [],
      "source": [
        "fechas_d = [[\"2023-05-01\", [\"C\" , \"C\" , \"V\"] , [\"BMA\" ,\"BMA\" , \"BMA\"] , [220 , 219.22 , 221.5]] , #ejemplo 2023-05-01 opere C BMA 220\n",
        "          [\"2023-05-02\" , [\"V\" , \"C\" , \"V\"] , [\"COME\" ,\"GGAL\" , \"BMA\"] , [3.00 , 190.95 , 220.25]]] # 2023-05-02 opere V COME 3.00"
      ]
    },
    {
      "cell_type": "code",
      "execution_count": null,
      "metadata": {
        "id": "yCKFFUQ6d4QI"
      },
      "outputs": [],
      "source": [
        "#TAREA OBLIGATORIA!!! tiene 6 salidas"
      ]
    },
    {
      "cell_type": "markdown",
      "metadata": {
        "id": "4hOn8X8_d9Fp"
      },
      "source": [
        "### 11)\n",
        "generar un array de 25 numeros entre 1 y 100. Eliminar el 3er elemento del array , y reemplazar por 0 al numero que se encuentre en la posicion 21. Imprimir numero por numero, junto a su cuadrado , de forma ordenada de mayor a menor. (__chat gpt__)"
      ]
    },
    {
      "cell_type": "code",
      "execution_count": null,
      "metadata": {
        "id": "cJsM7qqKd-D5"
      },
      "outputs": [],
      "source": [
        "import numpy as np\n"
      ]
    },
    {
      "cell_type": "code",
      "execution_count": null,
      "metadata": {
        "id": "T_kB6cFCk6rt",
        "outputId": "52f965b1-30e6-466b-a946-3676ba547da3"
      },
      "outputs": [
        {
          "data": {
            "text/plain": [
              "array([ 9, 25, 68, 88, 80, 49, 11, 95, 53, 99, 54, 67, 99, 15, 35, 25, 16,\n",
              "       61, 59, 17, 10, 94, 87,  3, 28])"
            ]
          },
          "execution_count": 157,
          "metadata": {},
          "output_type": "execute_result"
        }
      ],
      "source": [
        "np.random.seed(100)\n",
        "a = np.random.randint(size=25 , low=1 , high=100)\n",
        "a"
      ]
    },
    {
      "cell_type": "code",
      "execution_count": null,
      "metadata": {
        "id": "r8GD4Kx4k6rt"
      },
      "outputs": [],
      "source": [
        "a = np.delete(a , 2)"
      ]
    },
    {
      "cell_type": "code",
      "execution_count": null,
      "metadata": {
        "id": "Q9jGg7Pik6ru"
      },
      "outputs": [],
      "source": [
        "a[20] = 0"
      ]
    },
    {
      "cell_type": "code",
      "execution_count": null,
      "metadata": {
        "id": "Dxp7uVlxk6ru",
        "outputId": "8d8c553c-70bf-44e7-a9cc-940033ea5be6"
      },
      "outputs": [
        {
          "data": {
            "text/plain": [
              "array([ 9, 25, 88, 80, 49, 11, 95, 53, 99, 54, 67, 99, 15, 35, 25, 16, 61,\n",
              "       59, 17, 10,  0, 87,  3, 28])"
            ]
          },
          "execution_count": 161,
          "metadata": {},
          "output_type": "execute_result"
        }
      ],
      "source": [
        "a"
      ]
    },
    {
      "cell_type": "code",
      "execution_count": null,
      "metadata": {
        "id": "Ymk5u9F5k6rv",
        "outputId": "ee86d2c4-3aec-415f-d680-f5d057c1b13c"
      },
      "outputs": [
        {
          "name": "stdout",
          "output_type": "stream",
          "text": [
            "99 9801\n",
            "99 9801\n",
            "95 9025\n",
            "88 7744\n",
            "87 7569\n",
            "80 6400\n",
            "67 4489\n",
            "61 3721\n",
            "59 3481\n",
            "54 2916\n",
            "53 2809\n",
            "49 2401\n",
            "35 1225\n",
            "28 784\n",
            "25 625\n",
            "25 625\n",
            "17 289\n",
            "16 256\n",
            "15 225\n",
            "11 121\n",
            "10 100\n",
            "9 81\n",
            "3 9\n",
            "0 0\n"
          ]
        }
      ],
      "source": [
        "for i in sorted(a , reverse=True):   # array.sort() es otra forma\n",
        "    print(i , i**2)\n"
      ]
    },
    {
      "cell_type": "code",
      "execution_count": null,
      "metadata": {
        "id": "ts2qp-b6k6rw"
      },
      "outputs": [],
      "source": []
    },
    {
      "cell_type": "markdown",
      "metadata": {
        "id": "CrYCnkkXeIoY"
      },
      "source": [
        "### 12)\n",
        "Generar 350 numeros aleatorios(menores a mil) y guardarlos en una lista.\n",
        "Calcular media, moda y mediana. Calcular desvio , varianza y deciles utilizando metodos de librerias de calculo. (__chat gpt__)"
      ]
    },
    {
      "cell_type": "markdown",
      "metadata": {
        "id": "OuJXl7O_eJ9R"
      },
      "source": [
        "#  ejercicios de tarea : 6 , 9 , 10 d (el mas importante) y 12."
      ]
    },
    {
      "cell_type": "code",
      "execution_count": null,
      "metadata": {
        "id": "D9IyeMkzk6rx"
      },
      "outputs": [],
      "source": []
    }
  ],
  "metadata": {
    "colab": {
      "provenance": []
    },
    "kernelspec": {
      "display_name": "Python 3 (ipykernel)",
      "language": "python",
      "name": "python3"
    },
    "language_info": {
      "codemirror_mode": {
        "name": "ipython",
        "version": 3
      },
      "file_extension": ".py",
      "mimetype": "text/x-python",
      "name": "python",
      "nbconvert_exporter": "python",
      "pygments_lexer": "ipython3",
      "version": "3.10.9"
    }
  },
  "nbformat": 4,
  "nbformat_minor": 0
}