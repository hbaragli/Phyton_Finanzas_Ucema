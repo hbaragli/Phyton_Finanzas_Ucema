{
  "cells": [
    {
      "cell_type": "markdown",
      "metadata": {
        "id": "view-in-github",
        "colab_type": "text"
      },
      "source": [
        "<a href=\"https://colab.research.google.com/github/hbaragli/Phyton_Finanzas_Ucema/blob/main/Copia_de_Clase_03_ejercicios_pi_respuestas.ipynb\" target=\"_parent\"><img src=\"https://colab.research.google.com/assets/colab-badge.svg\" alt=\"Open In Colab\"/></a>"
      ]
    },
    {
      "cell_type": "markdown",
      "metadata": {
        "id": "gdL_mo409sIZ"
      },
      "source": [
        "## Euler"
      ]
    },
    {
      "cell_type": "markdown",
      "metadata": {
        "id": "eiOcelz79sId"
      },
      "source": [
        "$$  \\large \\frac{\\pi^2}{6} = \\frac{1}{1^2} + \\frac{1}{2^2} + \\frac{1}{3^2} + \\frac{1}{4^2} + ... $$"
      ]
    },
    {
      "cell_type": "markdown",
      "metadata": {
        "id": "fR2EK52M9sId"
      },
      "source": [
        "## Leibniz"
      ]
    },
    {
      "cell_type": "markdown",
      "metadata": {
        "id": "qYnwsemg9sIe"
      },
      "source": [
        "$$  \\large \\frac{\\pi}{4} = 1 - \\frac{1}{3} + \\frac{1}{5} -  \\frac{1}{7} +... $$"
      ]
    },
    {
      "cell_type": "markdown",
      "metadata": {
        "id": "LvIdth-K9sIe"
      },
      "source": [
        "## Wallis"
      ]
    },
    {
      "cell_type": "markdown",
      "metadata": {
        "id": "tC6HoDgN9sIe"
      },
      "source": [
        "$$  \\large \\frac{\\pi}{2} = \\frac{2}{1} . \\frac{2}{3} . \\frac{4}{3} . \\frac{4}{5} . \\frac{6}{5} . \\frac{6}{7} ... $$"
      ]
    },
    {
      "cell_type": "markdown",
      "metadata": {
        "id": "5EsWbVvi9sIf"
      },
      "source": [
        "## Viete"
      ]
    },
    {
      "cell_type": "markdown",
      "metadata": {
        "id": "Q7uh9RzL9sIf"
      },
      "source": [
        "$$  \\large \\pi = 2 . \\frac{2}{\\sqrt{2}} . \\frac{2}{\\sqrt{2+\\sqrt{2}}} . \\frac{2}{\\sqrt{2+\\sqrt{2+\\sqrt{2}}}} ... $$"
      ]
    },
    {
      "cell_type": "markdown",
      "metadata": {
        "id": "lqVKwMxv9sIf"
      },
      "source": [
        "# Respuestas propuestas"
      ]
    },
    {
      "cell_type": "markdown",
      "metadata": {
        "id": "-C97uHAE9sIg"
      },
      "source": [
        "## Euler"
      ]
    },
    {
      "cell_type": "markdown",
      "metadata": {
        "id": "b3BNNSmS9sIg"
      },
      "source": [
        "$$  \\large \\frac{\\pi^2}{6} = \\frac{1}{1^2} + \\frac{1}{2^2} + \\frac{1}{3^2} + \\frac{1}{4^2} + ... $$"
      ]
    },
    {
      "cell_type": "code",
      "execution_count": null,
      "metadata": {
        "id": "BWRXrAJP9sIg",
        "outputId": "dc7db974-a744-478a-b439-c74b284e16ed"
      },
      "outputs": [
        {
          "data": {
            "text/plain": [
              "1.25"
            ]
          },
          "execution_count": 2,
          "metadata": {},
          "output_type": "execute_result"
        }
      ],
      "source": [
        "pi = 0\n",
        "\n",
        "#pi = pi + 1\n",
        "\n",
        "pi += 1\n",
        "pi += 0.25\n",
        "\n",
        "\n",
        "\n",
        "\n",
        "pi"
      ]
    },
    {
      "cell_type": "code",
      "execution_count": null,
      "metadata": {
        "id": "Zc6sf-8R9sIi",
        "outputId": "0537670c-afe2-4f53-e5a1-be9588e71d30"
      },
      "outputs": [
        {
          "data": {
            "text/plain": [
              "3.141583104230963"
            ]
          },
          "execution_count": 1,
          "metadata": {},
          "output_type": "execute_result"
        }
      ],
      "source": [
        "#=============================#\n",
        "#       Ejercicio 5.1         #\n",
        "#=============================#\n",
        "\n",
        "# Euler\n",
        "\n",
        "iteraciones=10**5\n",
        "pi = 0\n",
        "\n",
        "for i in range(1,iteraciones):\n",
        "    pi += 1/(i**2)\n",
        "\n",
        "pi = (pi*6)**0.5\n",
        "pi"
      ]
    },
    {
      "cell_type": "markdown",
      "metadata": {
        "id": "iW9J-tfH9sIi"
      },
      "source": [
        "## Leibniz"
      ]
    },
    {
      "cell_type": "code",
      "execution_count": null,
      "metadata": {
        "id": "aqcOqvYH9sIi",
        "outputId": "763fb1d6-4363-4770-9b51-ef438fd4c516"
      },
      "outputs": [
        {
          "data": {
            "text/plain": [
              "3.1415826535897198"
            ]
          },
          "execution_count": 2,
          "metadata": {},
          "output_type": "execute_result"
        }
      ],
      "source": [
        "#=============================#\n",
        "#       Ejercicio 5.2         #\n",
        "#=============================#\n",
        "\n",
        "# Leibniz\n",
        "\n",
        "iteraciones=10**5\n",
        "pi = 0\n",
        "for i in range(iteraciones):\n",
        "    pi += ((-1)**i) / (2*i+1)\n",
        "\n",
        "pi *= 4\n",
        "pi"
      ]
    },
    {
      "cell_type": "markdown",
      "metadata": {
        "id": "gVpfIKH49sIj"
      },
      "source": [
        "## Wallis"
      ]
    },
    {
      "cell_type": "code",
      "execution_count": null,
      "metadata": {
        "id": "E8KkvJhI9sIj",
        "outputId": "583454a7-a0f7-41ba-c2f4-8cd85780b327"
      },
      "outputs": [
        {
          "data": {
            "text/plain": [
              "3.1415847995784807"
            ]
          },
          "execution_count": 3,
          "metadata": {},
          "output_type": "execute_result"
        }
      ],
      "source": [
        "#=============================#\n",
        "#       Ejercicio 5.3         #\n",
        "#=============================#\n",
        "\n",
        "# Wallis\n",
        "\n",
        "iteraciones=10**5\n",
        "pi = 1\n",
        "for i in range(1,iteraciones):\n",
        "    n1, n2 = 2*i / (2*i-1),  2*i/(2*i+1)\n",
        "    pi *= n1*n2\n",
        "\n",
        "pi *=2\n",
        "p"
      ]
    },
    {
      "cell_type": "markdown",
      "metadata": {
        "id": "VwkKXcHL9sIj"
      },
      "source": [
        "## Viete"
      ]
    },
    {
      "cell_type": "code",
      "execution_count": null,
      "metadata": {
        "id": "cnW46hII9sIj",
        "outputId": "290a4471-6e8a-4490-af6d-edf12cff2845"
      },
      "outputs": [
        {
          "data": {
            "text/plain": [
              "3.1415926535897944"
            ]
          },
          "execution_count": 4,
          "metadata": {},
          "output_type": "execute_result"
        }
      ],
      "source": [
        "#=============================#\n",
        "#       Ejercicio 5.4         #\n",
        "#=============================#\n",
        "\n",
        "# Viette\n",
        "\n",
        "iteraciones=10**5\n",
        "\n",
        "pi = 2\n",
        "d = 0\n",
        "for i in range(iteraciones):\n",
        "    d = (2 + d) ** 0.5\n",
        "    pi *= (2/ d)\n",
        "\n",
        "pi"
      ]
    },
    {
      "cell_type": "markdown",
      "metadata": {
        "id": "DXRPaC6h9sIk"
      },
      "source": [
        "# Forma matricial"
      ]
    },
    {
      "cell_type": "markdown",
      "metadata": {
        "id": "Ervp84fb9sIk"
      },
      "source": [
        "## Euler"
      ]
    },
    {
      "cell_type": "code",
      "execution_count": null,
      "metadata": {
        "id": "l1P1Zf6f9sIk",
        "outputId": "e1480ef3-764a-4984-be1e-a4c814db998a"
      },
      "outputs": [
        {
          "data": {
            "text/plain": [
              "3.1415831042309486"
            ]
          },
          "execution_count": 5,
          "metadata": {},
          "output_type": "execute_result"
        }
      ],
      "source": [
        "import numpy as np\n",
        "\n",
        "iteraciones=10**5\n",
        "suc = np.array([1/(i**2) for i in range(1,iteraciones)])\n",
        "(suc.sum()*6)**0.5"
      ]
    },
    {
      "cell_type": "markdown",
      "metadata": {
        "id": "91yFFUvj9sIk"
      },
      "source": [
        "## Leibniz"
      ]
    },
    {
      "cell_type": "code",
      "execution_count": null,
      "metadata": {
        "id": "GSMR6OMq9sIk",
        "outputId": "ad12a2e0-d11c-481e-a2bd-a6bc8757d7fd"
      },
      "outputs": [
        {
          "data": {
            "text/plain": [
              "3.1416026536897927"
            ]
          },
          "execution_count": 6,
          "metadata": {},
          "output_type": "execute_result"
        }
      ],
      "source": [
        "iteraciones=10**5\n",
        "suc = np.array([((-1)**(i+1))/(2*i-1) for i in range(1,iteraciones)])\n",
        "suc.sum()*4"
      ]
    },
    {
      "cell_type": "markdown",
      "metadata": {
        "id": "tEGu4xm69sIl"
      },
      "source": [
        "## Wallis"
      ]
    },
    {
      "cell_type": "code",
      "execution_count": null,
      "metadata": {
        "id": "HSBSl-O99sIl",
        "outputId": "ce84463d-c894-4e23-97bf-fb2957edc1d5"
      },
      "outputs": [
        {
          "data": {
            "text/plain": [
              "3.1415847995784807"
            ]
          },
          "execution_count": 7,
          "metadata": {},
          "output_type": "execute_result"
        }
      ],
      "source": [
        "iteraciones=10**5\n",
        "\n",
        "s1 = np.array([2*i / (2*i-1) for i in range(1, iteraciones)])\n",
        "s2 = np.array([2*i / (2*i+1) for i in range(1, iteraciones)])\n",
        "\n",
        "(s1 * s2).prod() * 2"
      ]
    },
    {
      "cell_type": "code",
      "execution_count": null,
      "metadata": {
        "id": "22-NlRb99sIl"
      },
      "outputs": [],
      "source": []
    }
  ],
  "metadata": {
    "kernelspec": {
      "display_name": "Python 3 (ipykernel)",
      "language": "python",
      "name": "python3"
    },
    "language_info": {
      "codemirror_mode": {
        "name": "ipython",
        "version": 3
      },
      "file_extension": ".py",
      "mimetype": "text/x-python",
      "name": "python",
      "nbconvert_exporter": "python",
      "pygments_lexer": "ipython3",
      "version": "3.9.12"
    },
    "toc": {
      "base_numbering": 1,
      "nav_menu": {},
      "number_sections": true,
      "sideBar": true,
      "skip_h1_title": false,
      "title_cell": "Table of Contents",
      "title_sidebar": "Contents",
      "toc_cell": false,
      "toc_position": {},
      "toc_section_display": true,
      "toc_window_display": false
    },
    "colab": {
      "provenance": [],
      "include_colab_link": true
    }
  },
  "nbformat": 4,
  "nbformat_minor": 0
}