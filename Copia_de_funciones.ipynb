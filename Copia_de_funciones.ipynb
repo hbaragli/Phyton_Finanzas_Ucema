{
  "cells": [
    {
      "cell_type": "markdown",
      "id": "f0853856",
      "metadata": {
        "id": "f0853856"
      },
      "source": [
        "# Teoría sobre funciones en Python\n",
        "\n",
        "En Python, una función es un bloque de código que realiza una tarea específica. Las funciones se definen usando la palabra clave `def` seguida del nombre de la función y paréntesis `()`.\n",
        "\n",
        "Las funciones pueden tomar argumentos (valores de entrada) y pueden devolver un resultado utilizando la palabra clave `return`.\n",
        "\n",
        "Aquí hay un ejemplo de una función simple que suma dos números:\n",
        "\n",
        "```python\n",
        "def suma(a, b):\n",
        "    resultado = a + b\n",
        "    return resultado\n"
      ]
    },
    {
      "cell_type": "code",
      "execution_count": null,
      "id": "2f4176e5",
      "metadata": {
        "id": "2f4176e5"
      },
      "outputs": [],
      "source": []
    },
    {
      "cell_type": "markdown",
      "id": "9e0a9c18",
      "metadata": {
        "id": "9e0a9c18"
      },
      "source": [
        "# Argumentos en funciones en Python\n",
        "\n",
        "En Python, los argumentos son valores que se pasan a una función para que los utilice durante su ejecución. Los argumentos permiten que una función sea más flexible y reutilizable al permitirle trabajar con diferentes valores en diferentes momentos.\n",
        "\n",
        "Existen diferentes tipos de argumentos en Python:\n",
        "\n",
        "1. **Argumentos posicionales**: Son los argumentos que se pasan a una función en el orden en que están definidos en la firma de la función. Estos argumentos se corresponden con los parámetros definidos en la función.\n",
        "\n",
        "2. **Argumentos por palabra clave**: Son los argumentos que se pasan a una función utilizando la sintaxis `nombre=valor`. Estos argumentos permiten especificar los valores para parámetros específicos, sin importar el orden en que se definieron en la función.\n",
        "\n",
        "3. **Argumentos por defecto**: Son argumentos que tienen un valor predeterminado especificado en la definición de la función. Estos argumentos son opcionales y pueden omitirse al llamar a la función. Si no se proporciona un valor para un argumento por defecto, se utilizará el valor predeterminado.\n",
        "\n"
      ]
    },
    {
      "cell_type": "code",
      "execution_count": null,
      "id": "804162b2",
      "metadata": {
        "id": "804162b2"
      },
      "outputs": [],
      "source": []
    },
    {
      "cell_type": "markdown",
      "id": "9ba01bc8",
      "metadata": {
        "id": "9ba01bc8"
      },
      "source": [
        "### 1)\n",
        "Escribir una función llamada __encontrar_maximo__ que reciba una lista de números como argumento y devuelva el número más grande de la lista. La función debe verificar que el argumento sea una lista no vacía."
      ]
    },
    {
      "cell_type": "code",
      "execution_count": null,
      "id": "7c3d9883",
      "metadata": {
        "id": "7c3d9883"
      },
      "outputs": [],
      "source": []
    },
    {
      "cell_type": "code",
      "execution_count": null,
      "id": "74b17eba",
      "metadata": {
        "id": "74b17eba"
      },
      "outputs": [],
      "source": []
    },
    {
      "cell_type": "markdown",
      "id": "6095bc34",
      "metadata": {
        "id": "6095bc34"
      },
      "source": [
        "### 2)\n",
        "\n",
        "Escribir una función llamada __filtrar_nombres__ que reciba una lista de nombres como argumento y devuelva una lista con los nombres que comienzan con una letra específica (tambien pasada por parametro y que por default sea la letra __a__). La función debe validar que la lista no este vacia."
      ]
    },
    {
      "cell_type": "code",
      "execution_count": null,
      "id": "37190efd",
      "metadata": {
        "id": "37190efd"
      },
      "outputs": [],
      "source": [
        "nombres=[\"MARIA\" , \"JUAN\" , \"analia\" , \"Ana\" , \"Agostina\"]"
      ]
    },
    {
      "cell_type": "code",
      "execution_count": null,
      "id": "bc50b9e7",
      "metadata": {
        "id": "bc50b9e7"
      },
      "outputs": [],
      "source": []
    },
    {
      "cell_type": "code",
      "execution_count": null,
      "id": "e52c0a66",
      "metadata": {
        "id": "e52c0a66"
      },
      "outputs": [],
      "source": []
    },
    {
      "cell_type": "markdown",
      "id": "be5b70db",
      "metadata": {
        "id": "be5b70db"
      },
      "source": [
        "### 3)\n",
        "Escribir una función llamada __contar_palabras__ que reciba una cadena de texto como argumento y devuelva un diccionario con la frecuencia de cada palabra en la cadena.\n",
        "\n",
        "La función debe permitir al usuario decidir si quiere hacer una diferencia entre mayusculas y minusculas a la hora de contar."
      ]
    },
    {
      "cell_type": "code",
      "execution_count": null,
      "id": "591aff75",
      "metadata": {
        "id": "591aff75"
      },
      "outputs": [],
      "source": [
        "from unidecode import unidecode\n",
        "\n",
        "t  = \"\"\"En el segmento de renta fija, por su parte, los bonos nominados en dólares cerraron con mayoría de subas. Sobresalieron en la jornada el AL29D (+3,9%); GD41D (+2,8%); y el GD35D (+1,9%). \"Los bonos en dólares arrancaron muy bien la semana y operaron tomadores durante todo el día\", comentaron desde SBS.\n",
        "\n",
        "Por su parte, el riesgo país cayó 1,3% hasta los 2.516 puntos básicos, el menor nivel en casi un mes.\n",
        "\n",
        "En el mercado de pesos, los títulos dollar-linked continúan mostrando poca actividad y terminaron con subas promedio de 0,3%, con el volumen concentrado en el T2V3.\n",
        "\n",
        "El segmento que sí se está moviendo es el de los duales, con muy buen volumen a lo largo de la curva: cerró con alzas promedio de 0,5% (el TDS23 trepó 1,3%).\n",
        "\n",
        "Finalmente, los bonos CER (inflación) subieron un 0,3% en el tramo corto y 0,9% en el tramo largo de la curva, destacándose el T2X5 que se alzó un 1,8%.\"\"\"\n",
        "\n",
        "\n",
        "t = unidecode(t) #sacamos los acentos.\n"
      ]
    },
    {
      "cell_type": "code",
      "execution_count": null,
      "id": "19ad09a0",
      "metadata": {
        "id": "19ad09a0"
      },
      "outputs": [],
      "source": []
    },
    {
      "cell_type": "code",
      "execution_count": null,
      "id": "e6bb2614",
      "metadata": {
        "id": "e6bb2614"
      },
      "outputs": [],
      "source": []
    }
  ],
  "metadata": {
    "kernelspec": {
      "display_name": "Python 3 (ipykernel)",
      "language": "python",
      "name": "python3"
    },
    "language_info": {
      "codemirror_mode": {
        "name": "ipython",
        "version": 3
      },
      "file_extension": ".py",
      "mimetype": "text/x-python",
      "name": "python",
      "nbconvert_exporter": "python",
      "pygments_lexer": "ipython3",
      "version": "3.10.9"
    },
    "colab": {
      "provenance": []
    }
  },
  "nbformat": 4,
  "nbformat_minor": 5
}