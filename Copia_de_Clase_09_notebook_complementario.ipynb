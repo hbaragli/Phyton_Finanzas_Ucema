{
  "cells": [
    {
      "cell_type": "markdown",
      "id": "077b22a5-a8c4-433f-b3cb-1f167ac827d5",
      "metadata": {
        "id": "077b22a5-a8c4-433f-b3cb-1f167ac827d5"
      },
      "source": [
        "# Imports"
      ]
    },
    {
      "cell_type": "code",
      "execution_count": null,
      "id": "f562d77d-5c60-40fb-81d5-f8b0298babef",
      "metadata": {
        "id": "f562d77d-5c60-40fb-81d5-f8b0298babef"
      },
      "outputs": [],
      "source": [
        "import yfinance as yf, numpy as np, pandas as pd\n",
        "from sklearn.tree import DecisionTreeClassifier\n",
        "from sklearn.ensemble import RandomForestClassifier\n",
        "from sklearn.metrics import confusion_matrix, ConfusionMatrixDisplay\n",
        "import math"
      ]
    },
    {
      "cell_type": "markdown",
      "id": "ab73d9b6-7530-4788-b62b-60bf27d07674",
      "metadata": {
        "id": "ab73d9b6-7530-4788-b62b-60bf27d07674"
      },
      "source": [
        "# Recoleccion de datos"
      ]
    },
    {
      "cell_type": "code",
      "execution_count": null,
      "id": "6846568e-9d7a-47dd-8205-572f34df52e8",
      "metadata": {
        "id": "6846568e-9d7a-47dd-8205-572f34df52e8",
        "outputId": "bcd41985-7e8e-435e-f7c4-243e581e34e4"
      },
      "outputs": [
        {
          "name": "stdout",
          "output_type": "stream",
          "text": [
            "[*********************100%***********************]  86 of 86 completed\n",
            "[*********************100%***********************]  1 of 1 completed\n",
            "[*********************100%***********************]  1 of 1 completed\n"
          ]
        },
        {
          "data": {
            "text/plain": [
              "(363389, 54954)"
            ]
          },
          "execution_count": 3,
          "metadata": {},
          "output_type": "execute_result"
        }
      ],
      "source": [
        "smas = ((30, 100), (50, 200), (70, 300))\n",
        "ventana = 250\n",
        "\n",
        "tickers = ['LMT', 'SO', 'BAC', 'ABT', 'IBM', 'MCD', 'TMO', 'WFC', 'COST', 'TSLA', 'NFLX', 'BA', 'AMAT', 'UNH', 'EXC', 'T',\n",
        " 'C', 'GD', 'SPG', 'INTU', 'AXP', 'GE', 'HD', 'CVX', 'DHR', 'LUV', 'TXN', 'LLY', 'SBUX', 'CVS', 'TGT', 'PEP',\n",
        " 'GOOGL', 'HON', 'JPM', 'QCOM', 'CMCSA', 'VZ', 'FDX', 'PG', 'NEM', 'AAPL', 'LOW', 'DIS', 'SLB', 'PM', 'CSX',\n",
        " 'KO', 'GS', 'MET', 'NSC', 'AMGN', 'MMM', 'META', 'JNJ', 'AMZN', 'INTC', 'V', 'NEE', 'WMT', 'CSCO', 'GM', 'COP',\n",
        " 'CAT', 'ADBE', 'ORCL', 'CME', 'PFE', 'OXY', 'MA', 'MSFT', 'UPS', 'ADP', 'MS', 'CRM', 'UNP', 'MO', 'EMR', 'NVDA',\n",
        " 'GILD', 'BMY', 'ABBV', 'NKE', 'XOM', 'MRK', 'MDLZ']\n",
        "\n",
        "df = yf.download(tickers, start='2000-01-01',auto_adjust=True)\n",
        "spy = yf.download('SPY', start='2000-01-01', auto_adjust=True)\n",
        "vix = yf.download('^VIX', start='2000-01-01', auto_adjust=True)\n",
        "\n",
        "dfs_train, dfs_test = [], []\n",
        "for ticker in tickers:\n",
        "    data = df['Close'][ticker].to_frame()\n",
        "    data.columns = ['Close']\n",
        "    dif = data['Close'].diff()\n",
        "    RSI_CONS = 50\n",
        "    win = pd.DataFrame(np.where(dif > 0, dif, 0))\n",
        "    loss = pd.DataFrame(np.where(dif < 0, abs(dif), 0))\n",
        "    ema_win = win.ewm(alpha=1/RSI_CONS).mean()\n",
        "    ema_loss = loss.ewm(alpha=1/RSI_CONS).mean()\n",
        "    rs = ema_win / ema_loss\n",
        "    rsi = 100 - (100 / (1 + rs))\n",
        "    rsi.index = data.index\n",
        "\n",
        "    data['pctChange'] = data['Close'].pct_change()\n",
        "    data['fw'] = data['Close'].shift(-ventana)/data['Close']-1\n",
        "    data[f'RSI_{RSI_CONS}'] = rsi/100\n",
        "    v = data['pctChange'].rolling(50).std() * 50**0.5\n",
        "    data['volatilidad_zs'] = (v - v.rolling(50).mean()) / v.rolling(50).std()\n",
        "    data['volatilidad_vix'] = v / vix.Close\n",
        "    data['vix'] = vix.Close\n",
        "\n",
        "    spy_zs_slow = (spy.Close - spy.Close.rolling(80).mean()) / spy.Close.rolling(80).std()\n",
        "    spy_zs_fast = (spy.Close - spy.Close.rolling(40).mean()) / spy.Close.rolling(40).std()\n",
        "\n",
        "    data['SP500_Zscore_fast'] = spy_zs_fast\n",
        "    data['SP500_Zscore_slow'] = spy_zs_slow\n",
        "    data['SP500_rel'] = spy_zs_slow / spy_zs_fast\n",
        "\n",
        "    data['sma_volatilidad'] = data['pctChange'].rolling(50).std() * 50**0.5\n",
        "    data['ema_volatilidad'] = data['pctChange'].ewm(span=40).std() * 40**0.5\n",
        "    data['SPY_Corr'] = data.Close.pct_change().rolling(40).corr(spy.Close.pct_change())\n",
        "    c1 = f'cruce_{smas[0][0]}_{smas[0][1]}'\n",
        "    c2 = f'cruce_{smas[1][0]}_{smas[1][1]}'\n",
        "    c3 = f'cruce_{smas[2][0]}_{smas[2][1]}'\n",
        "    data[c1] = data['Close'].rolling(smas[0][0]).mean()/data['Close'].rolling(smas[0][1]).mean()-1\n",
        "    data[c2] = data['Close'].rolling(smas[1][0]).mean()/data['Close'].rolling(smas[1][1]).mean()-1\n",
        "    data[c3] = data['Close'].rolling(smas[2][0]).mean()/data['Close'].rolling(smas[2][1]).mean()-1\n",
        "    qtrain = int(len(data)*0.85)\n",
        "    dfs_train.append(data.reset_index(drop=True).iloc[:qtrain])\n",
        "    dfs_test.append(data.reset_index(drop=True).iloc[qtrain:])\n",
        "\n",
        "data_train = pd.concat(dfs_train).reset_index(drop=True)\n",
        "data_test = pd.concat(dfs_test).reset_index(drop=True)\n",
        "len(data_train.dropna()), len(data_test.dropna())"
      ]
    },
    {
      "cell_type": "markdown",
      "id": "f835686b-e6cb-441d-af34-4e6122cf9786",
      "metadata": {
        "id": "f835686b-e6cb-441d-af34-4e6122cf9786"
      },
      "source": [
        "# Matriz de Diseño"
      ]
    },
    {
      "cell_type": "code",
      "execution_count": null,
      "id": "57508fe7-fbae-45ac-9616-9c3c7e1db7b4",
      "metadata": {
        "id": "57508fe7-fbae-45ac-9616-9c3c7e1db7b4"
      },
      "outputs": [],
      "source": [
        "data_train['target'] = 0\n",
        "data_train.loc[data_train.fw >= 0.14 , 'target'] = 1\n",
        "data_train.dropna(inplace=True)\n",
        "\n",
        "data_test['target'] = 0\n",
        "data_test.loc[data_test.fw >= 0.14 , 'target'] = 1\n",
        "\n",
        "data_test_full = data_test.copy()\n",
        "data_test.dropna(inplace=True)\n",
        "\n",
        "features = 13\n",
        "X_train, X_test = data_train.iloc[:,-(features+1):-1], data_test.iloc[:,-(features+1):-1]\n",
        "y_train, y_test = data_train.iloc[:,-1], data_test.iloc[:,-1]"
      ]
    },
    {
      "cell_type": "code",
      "execution_count": null,
      "id": "0fb8c856-a74b-44d2-b240-d94801c3682a",
      "metadata": {
        "id": "0fb8c856-a74b-44d2-b240-d94801c3682a",
        "outputId": "c111f277-16f8-4879-aa57-0ba6bd40f25f"
      },
      "outputs": [
        {
          "data": {
            "text/plain": [
              "target\n",
              "0    186082\n",
              "1    177307\n",
              "dtype: int64"
            ]
          },
          "execution_count": 5,
          "metadata": {},
          "output_type": "execute_result"
        }
      ],
      "source": [
        "y_train.to_frame().groupby('target').size()"
      ]
    },
    {
      "cell_type": "markdown",
      "id": "4a19ca97-9992-4f41-a553-685d4eae9fc8",
      "metadata": {
        "tags": [],
        "id": "4a19ca97-9992-4f41-a553-685d4eae9fc8"
      },
      "source": [
        "# Fit y test"
      ]
    },
    {
      "cell_type": "code",
      "execution_count": null,
      "id": "912712e9-08f3-457e-9ff4-9415efcc1534",
      "metadata": {
        "id": "912712e9-08f3-457e-9ff4-9415efcc1534",
        "outputId": "c533b712-77b9-4c0b-d820-a12df747e532"
      },
      "outputs": [
        {
          "name": "stdout",
          "output_type": "stream",
          "text": [
            "CPU times: total: 8.67 s\n",
            "Wall time: 12.9 s\n"
          ]
        },
        {
          "data": {
            "image/png": "[encoded data removed]",
            "text/plain": [
              "<Figure size 432x288 with 2 Axes>"
            ]
          },
          "metadata": {
            "needs_background": "light"
          },
          "output_type": "display_data"
        }
      ],
      "source": [
        "%%time\n",
        "\n",
        "# Pedimos que cada nodo tenga al menos 30 datos\n",
        "levels = int(math.log((len(X_train)/30),2))\n",
        "\n",
        "modelo = DecisionTreeClassifier(criterion = 'entropy', max_depth=levels, random_state=1)\n",
        "modelo.fit(X_train, y_train)\n",
        "y_pred = modelo.predict(X_test)\n",
        "\n",
        "disp = ConfusionMatrixDisplay.from_estimator(modelo, X_test.dropna(), y_test.dropna(), normalize='pred',\n",
        "                                             display_labels=['No sube +14%','Sube +14%'], cmap='Blues')\n",
        "\n",
        "\n",
        "m = disp.confusion_matrix"
      ]
    },
    {
      "cell_type": "markdown",
      "id": "f39dd573-0389-45f6-a2fb-d6f20ed4f04a",
      "metadata": {
        "id": "f39dd573-0389-45f6-a2fb-d6f20ed4f04a"
      },
      "source": [
        "## Analizamos distintos targets que el +14%"
      ]
    },
    {
      "cell_type": "code",
      "execution_count": null,
      "id": "d567fad5-a53a-47c1-b158-94a24c5cae96",
      "metadata": {
        "id": "d567fad5-a53a-47c1-b158-94a24c5cae96",
        "outputId": "dab6b9e4-e7a7-4a2d-d84b-004ab2f88428"
      },
      "outputs": [
        {
          "data": {
            "image/png": "[encoded data removed]",
            "text/plain": [
              "<Figure size 432x288 with 2 Axes>"
            ]
          },
          "metadata": {
            "needs_background": "light"
          },
          "output_type": "display_data"
        }
      ],
      "source": [
        "NUEVO_TARGET = 0.0\n",
        "\n",
        "data_test_alt = data_test.copy()\n",
        "data_test_alt['target'] = 0\n",
        "data_test_alt.loc[data_test_alt.fw >= NUEVO_TARGET , 'target'] = 1\n",
        "y_test_alt =  data_test_alt.iloc[:,-1]\n",
        "\n",
        "# Como el modelo entrenado es el mismo, solo evaluo con el criterio diferente del target\n",
        "\n",
        "disp = ConfusionMatrixDisplay.from_estimator(modelo, X_test.dropna(), y_test_alt.dropna(), normalize='pred',\n",
        "                                             display_labels=[f'No sube +{NUEVO_TARGET:.0%}',f'Sube +{NUEVO_TARGET:.0%}%'],\n",
        "                                             cmap='Blues')\n",
        "\n",
        "\n",
        "m = disp.confusion_matrix"
      ]
    },
    {
      "cell_type": "code",
      "execution_count": null,
      "id": "7c73dac6-2d95-4eed-87e9-524577de6b23",
      "metadata": {
        "id": "7c73dac6-2d95-4eed-87e9-524577de6b23",
        "outputId": "f212e00b-7763-4c94-99b6-c5f6fb8bfe9d"
      },
      "outputs": [
        {
          "data": {
            "text/plain": [
              "-0.04284161963501558"
            ]
          },
          "execution_count": 8,
          "metadata": {},
          "output_type": "execute_result"
        }
      ],
      "source": [
        "data_test.quantile(0.28).fw  # O sea que mi VaR para 72% de confianza era -4.28%, contra 0% del modelo"
      ]
    },
    {
      "cell_type": "code",
      "execution_count": null,
      "id": "0803c867-d932-4b2e-b396-4209ad3c8522",
      "metadata": {
        "id": "0803c867-d932-4b2e-b396-4209ad3c8522",
        "outputId": "d1ae724a-9dd3-48bd-8f88-2f64f6366fd7"
      },
      "outputs": [
        {
          "data": {
            "text/plain": [
              "0.11796855024557806"
            ]
          },
          "execution_count": 9,
          "metadata": {},
          "output_type": "execute_result"
        }
      ],
      "source": [
        "data_test.fw.median() # osea que el 50% de las veces deberia estar debajo de 11.79% tradeando al azar"
      ]
    },
    {
      "cell_type": "markdown",
      "id": "7f522a7c-5eba-4992-bd86-082db015890d",
      "metadata": {
        "id": "7f522a7c-5eba-4992-bd86-082db015890d"
      },
      "source": [
        "# Proxy de calculo Esperanza matematica"
      ]
    },
    {
      "cell_type": "code",
      "execution_count": null,
      "id": "8edf4667-e30f-48f5-9645-3338745c4bb1",
      "metadata": {
        "id": "8edf4667-e30f-48f5-9645-3338745c4bb1",
        "outputId": "9b526d55-9d99-4a22-8f95-a78a84e23161"
      },
      "outputs": [
        {
          "data": {
            "text/plain": [
              "0.11796855024557806"
            ]
          },
          "execution_count": 10,
          "metadata": {},
          "output_type": "execute_result"
        }
      ],
      "source": [
        "data_test.fw.median()"
      ]
    },
    {
      "cell_type": "code",
      "execution_count": null,
      "id": "f4996eb5-04ad-41b2-b345-9c875ebba5a1",
      "metadata": {
        "id": "f4996eb5-04ad-41b2-b345-9c875ebba5a1",
        "outputId": "a43e0a38-ca9a-4b48-d91c-1ca0e03a9a51"
      },
      "outputs": [
        {
          "data": {
            "text/plain": [
              "(0.375085003496764, -0.2901972508803728)"
            ]
          },
          "execution_count": 11,
          "metadata": {},
          "output_type": "execute_result"
        }
      ],
      "source": [
        "# media de trades ganadores y perdedores (arriba de +11%, abajo de -11%)\n",
        "w_mean = math.log(data_test.loc[data_test.fw>0.11].fw.mean() +1)\n",
        "l_mean = math.log(data_test.loc[data_test.fw<-0.11].fw.mean() +1)\n",
        "\n",
        "w_mean, l_mean"
      ]
    },
    {
      "cell_type": "code",
      "execution_count": null,
      "id": "3e9674cf-c2c9-4a19-81be-792c6bf39273",
      "metadata": {
        "id": "3e9674cf-c2c9-4a19-81be-792c6bf39273",
        "outputId": "33ad5d4a-4078-4811-8c12-afc51df40d5d"
      },
      "outputs": [
        {
          "data": {
            "text/plain": [
              "(0.5890809666607867, 0.1584935614746869)"
            ]
          },
          "execution_count": 12,
          "metadata": {},
          "output_type": "execute_result"
        }
      ],
      "source": [
        "# Calculo % de trades positivos (arriba de +11%) y negativos (abajo de -11%)\n",
        "\n",
        "# Uso una funcion para recalcular los y de validacion en funcion del target\n",
        "def getTestAlt(TARGET):\n",
        "    data_test_alt = data_test.copy()\n",
        "    data_test_alt['target'] = 0\n",
        "    data_test_alt.loc[data_test_alt.fw >= TARGET , 'target'] = 1\n",
        "    y_test_alt =  data_test_alt.iloc[:,-1]\n",
        "    return y_test_alt\n",
        "\n",
        "# Uso la matriz de confusion para calcular la probabilidad de acertar o fallar\n",
        "m_arriba_11 = np.array(confusion_matrix(getTestAlt(0.11), y_pred, normalize='pred'))\n",
        "win_q = m_arriba_11[1][1]\n",
        "\n",
        "m_abajo_11 = np.array(confusion_matrix(getTestAlt(-0.11), y_pred, normalize='pred'))\n",
        "loss_q = m_abajo_11[0][1]\n",
        "\n",
        "win_q, loss_q"
      ]
    },
    {
      "cell_type": "code",
      "execution_count": null,
      "id": "c9e65227-6d00-4932-ae23-6b9420815866",
      "metadata": {
        "id": "c9e65227-6d00-4932-ae23-6b9420815866",
        "outputId": "1c5f6350-7be8-4001-f03e-7e2f3373f612"
      },
      "outputs": [
        {
          "data": {
            "text/plain": [
              "(0.787989617744219, 0.21201038225578106)"
            ]
          },
          "execution_count": 13,
          "metadata": {},
          "output_type": "execute_result"
        }
      ],
      "source": [
        "# normalizo las probabilidades al 100%\n",
        "# estoy descartando todos los trades entre -11% y 11% porque asumo que se compensan\n",
        "\n",
        "win_perc, loss_perc = win_q/(win_q+loss_q), loss_q/(win_q+loss_q)\n",
        "win_perc, loss_perc"
      ]
    },
    {
      "cell_type": "code",
      "execution_count": null,
      "id": "6f02ee54-db39-4525-b160-4b819f826441",
      "metadata": {
        "id": "6f02ee54-db39-4525-b160-4b819f826441",
        "outputId": "a39d5a96-a482-4255-9ece-3fd3fce9801c"
      },
      "outputs": [
        {
          "data": {
            "text/plain": [
              "0.2636928381974053"
            ]
          },
          "execution_count": 14,
          "metadata": {},
          "output_type": "execute_result"
        }
      ],
      "source": [
        "# Esperanza matematica\n",
        "\n",
        "E = math.e** (w_mean * win_perc + l_mean * loss_perc) - 1\n",
        "E"
      ]
    },
    {
      "cell_type": "code",
      "execution_count": null,
      "id": "47627e7b-22e3-49fc-a99e-5ffcee9fb44c",
      "metadata": {
        "id": "47627e7b-22e3-49fc-a99e-5ffcee9fb44c"
      },
      "outputs": [],
      "source": []
    },
    {
      "cell_type": "code",
      "execution_count": null,
      "id": "38244508-d3b4-492f-b03f-a694cdfef6c0",
      "metadata": {
        "id": "38244508-d3b4-492f-b03f-a694cdfef6c0"
      },
      "outputs": [],
      "source": []
    }
  ],
  "metadata": {
    "kernelspec": {
      "display_name": "Python 3 (ipykernel)",
      "language": "python",
      "name": "python3"
    },
    "language_info": {
      "codemirror_mode": {
        "name": "ipython",
        "version": 3
      },
      "file_extension": ".py",
      "mimetype": "text/x-python",
      "name": "python",
      "nbconvert_exporter": "python",
      "pygments_lexer": "ipython3",
      "version": "3.9.12"
    },
    "colab": {
      "provenance": []
    }
  },
  "nbformat": 4,
  "nbformat_minor": 5
}