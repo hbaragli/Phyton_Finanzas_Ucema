{
  "cells": [
    {
      "cell_type": "code",
      "execution_count": null,
      "id": "25003ae1",
      "metadata": {
        "id": "25003ae1"
      },
      "outputs": [],
      "source": [
        "data = {\n",
        "    'empresa': ['Apple Inc.', 'Microsoft Corporation', 'Amazon.com Inc.', 'JPMorgan Chase & Co.', 'Berkshire Hathaway Inc.',\n",
        "                'Visa Inc.', 'Walmart Inc.', 'Johnson & Johnson', 'Procter & Gamble Co.', 'Mastercard Incorporated',\n",
        "                'Telefónica S.A.', 'Banco Santander', 'Volkswagen AG', 'Siemens AG', 'TotalEnergies SE',\n",
        "                'YPF Sociedad Anónima', 'Mercado Libre, Inc.', 'Globant S.A.', 'Grupo Financiero Galicia S.A.',\n",
        "                ],\n",
        "    'sector': ['Tecnología', 'Tecnología', 'Comercio electrónico', 'Banca', 'Conglomerado',\n",
        "               'Servicios Financieros', 'Comercio minorista', 'Farmacéutico', 'Bienes de consumo', 'Servicios Financieros',\n",
        "               'Telecomunicaciones', 'Banca', 'Automotriz', 'Tecnología industrial', 'Energía', 'Energía',\n",
        "               'Comercio electrónico', 'Tecnología', 'Servicios Financieros'],\n",
        "    'simbolo': ['AAPL', 'MSFT', 'AMZN', 'JPM', 'BRK.A', 'V', 'WMT', 'JNJ', 'PG', 'MA',\n",
        "                'TEF', 'SAN', 'VOW3', 'SIE', 'TOT', 'YPFD', 'MELI', 'GLOB', 'GGAL'],\n",
        "    'mercado': ['NASDAQ', 'NASDAQ', 'NASDAQ', 'NYSE', 'NYSE', 'NYSE', 'NYSE', 'NYSE', 'NYSE', 'NYSE',\n",
        "                'NYSE', 'NYSE', 'XETRA', 'XETRA', 'Euronext Paris', 'NYSE', 'NASDAQ', 'NASDAQ', 'BYMA'],\n",
        "    'empleados(miles)': [147, 181, 1271, 255, 391, 19, 2200, 135, 97, 15,\n",
        "                            110, 77, 670, 300, 105, 15, 16.9, 20.1, 15.4],\n",
        "    'pais': ['Estados Unidos', 'Estados Unidos', 'Estados Unidos', 'Estados Unidos', 'Estados Unidos',\n",
        "             'Estados Unidos', 'Estados Unidos', 'Estados Unidos', 'Estados Unidos', 'Estados Unidos',\n",
        "             'España', 'España', 'Alemania', 'Alemania', 'Francia', 'Argentina', 'Argentina', 'Argentina', 'Argentina'],\n",
        "    'facturacion': [274_515, 168_088, 386_064, 152_256, 327_077, 23_600, 560_380, 82_620, 70_800, 17_300,\n",
        "                                            47_650, 64_690, 254_780, 59_856, 125_498, 13_809, 3_968, 2_156, 3_098]}"
      ]
    },
    {
      "cell_type": "code",
      "execution_count": null,
      "id": "74f6bca9",
      "metadata": {
        "id": "74f6bca9"
      },
      "outputs": [],
      "source": [
        "import numpy as np\n",
        "import pandas as pd\n",
        "import matplotlib.pyplot as plt\n",
        "import seaborn as sns"
      ]
    },
    {
      "cell_type": "code",
      "execution_count": null,
      "id": "10736d11",
      "metadata": {
        "id": "10736d11"
      },
      "outputs": [],
      "source": [
        "d = pd.DataFrame(data)"
      ]
    },
    {
      "cell_type": "code",
      "execution_count": null,
      "id": "59db18ef",
      "metadata": {
        "id": "59db18ef"
      },
      "outputs": [],
      "source": []
    },
    {
      "cell_type": "markdown",
      "id": "29e3fdff",
      "metadata": {
        "id": "29e3fdff"
      },
      "source": [
        "##### countplot"
      ]
    },
    {
      "cell_type": "code",
      "execution_count": null,
      "id": "7b9e9908",
      "metadata": {
        "id": "7b9e9908"
      },
      "outputs": [],
      "source": [
        "sns.countplot(data=d , x=\"pais\") #cuenta en base a la variable categorica x\n",
        "plt.show()"
      ]
    },
    {
      "cell_type": "markdown",
      "id": "8cdc69d6",
      "metadata": {
        "id": "8cdc69d6"
      },
      "source": [
        "# catplot (variables categoricas)"
      ]
    },
    {
      "cell_type": "code",
      "execution_count": null,
      "id": "9627017d",
      "metadata": {
        "id": "9627017d"
      },
      "outputs": [],
      "source": [
        "#mismo que  sns.countplot\n",
        "sns.catplot(data=d , kind=\"count\" , y=\"sector\" ) #vertical si lo pongo en x.\n",
        "plt.xticks(rotation=90)\n",
        "plt.show()"
      ]
    },
    {
      "cell_type": "code",
      "execution_count": null,
      "id": "17db2748",
      "metadata": {
        "id": "17db2748"
      },
      "outputs": [],
      "source": []
    },
    {
      "cell_type": "code",
      "execution_count": null,
      "id": "2fc9dc2d",
      "metadata": {
        "id": "2fc9dc2d"
      },
      "outputs": [],
      "source": [
        "d[d[\"pais\"] == \"Estados Unidos\"][\"facturacion\"].sum()"
      ]
    },
    {
      "cell_type": "code",
      "execution_count": null,
      "id": "90268cab",
      "metadata": {
        "id": "90268cab"
      },
      "outputs": [],
      "source": [
        "#grafico de barras.\n",
        "sns.catplot(data=d , x=\"pais\" , y=\"facturacion\" , kind=\"bar\" , errorbar=None , estimator=np.sum )\n",
        "plt.xticks(rotation=70 )\n",
        "\n",
        "\n",
        "plt.show()"
      ]
    },
    {
      "cell_type": "code",
      "execution_count": null,
      "id": "e18838cf",
      "metadata": {
        "id": "e18838cf"
      },
      "outputs": [],
      "source": [
        "#boxplot (bigotes)\n",
        "sns.catplot(data=d , kind=\"box\" , x=\"pais\" , y=\"facturacion\")\n",
        "plt.xticks(rotation=90)\n",
        "plt.show()"
      ]
    },
    {
      "cell_type": "code",
      "execution_count": null,
      "id": "20f33450",
      "metadata": {
        "id": "20f33450"
      },
      "outputs": [],
      "source": []
    },
    {
      "cell_type": "code",
      "execution_count": null,
      "id": "391ff990",
      "metadata": {
        "id": "391ff990"
      },
      "outputs": [],
      "source": [
        "import yfinance as yf\n",
        "precios = yf.download([\"supv\" , \"bma\"] , start=\"2017-01-01\" , end=\"2020-12-31\" , auto_adjust=True)[\"Close\"]\n",
        "precios[\"var_supv\"] = precios.SUPV.pct_change() * 100\n",
        "precios.dropna(inplace=True)\n",
        "precios[\"nro_mes\"] = precios.index.year\n",
        "sns.catplot(data=precios , x= \"nro_mes\", y=\"var_supv\" , kind=\"box\" ,whis=[5,95]) #pantallazo rapido de retornos diarios\n",
        "#sym=\"\" omite outliers\n",
        "#whis= nro --> mueve el iqr * nro (por default en 1.5). Ej: 2 entonces bigotes se para en iqr * 2 (iqr es percentil 75 - percentil 25)\n",
        "#whis=[nro1 , nro2] --> toma los numeros como percentiles minimos y maximos y ubica a los bigotes alli. ej: [5,95] percentil 5 a 95"
      ]
    },
    {
      "cell_type": "code",
      "execution_count": null,
      "id": "115b7a63",
      "metadata": {
        "id": "115b7a63"
      },
      "outputs": [],
      "source": []
    },
    {
      "cell_type": "markdown",
      "id": "b9edbee9",
      "metadata": {
        "id": "b9edbee9"
      },
      "source": [
        "# displot"
      ]
    },
    {
      "cell_type": "code",
      "execution_count": null,
      "id": "1327c5a2",
      "metadata": {
        "id": "1327c5a2"
      },
      "outputs": [],
      "source": [
        "#por default kind=\"hist\"\n",
        "sns.displot(data=precios , x=\"var_supv\" , col=precios.index.year , col_wrap=2 )"
      ]
    },
    {
      "cell_type": "code",
      "execution_count": null,
      "id": "8793f272",
      "metadata": {
        "id": "8793f272"
      },
      "outputs": [],
      "source": []
    },
    {
      "cell_type": "markdown",
      "id": "a4419014",
      "metadata": {
        "id": "a4419014"
      },
      "source": [
        "##### scatterplot"
      ]
    },
    {
      "cell_type": "code",
      "execution_count": null,
      "id": "8d732224",
      "metadata": {
        "id": "8d732224"
      },
      "outputs": [],
      "source": [
        "colores = {\"Estados Unidos\":\"red\",\n",
        "          \"España\":\"green\",\n",
        "          \"Alemania\": \"orange\",\n",
        "          \"Francia\":\"blue\",\n",
        "          \"Argentina\":\"yellow\"}\n",
        "\n",
        "\n",
        "sns.scatterplot(data=d , x=\"empleados(miles)\" , y=\"facturacion\" ,hue=\"pais\" , palette=colores)\n"
      ]
    },
    {
      "cell_type": "code",
      "execution_count": null,
      "id": "0a094ffe",
      "metadata": {
        "id": "0a094ffe"
      },
      "outputs": [],
      "source": []
    },
    {
      "cell_type": "markdown",
      "id": "43955780",
      "metadata": {
        "id": "43955780"
      },
      "source": [
        "# relplot"
      ]
    },
    {
      "cell_type": "code",
      "execution_count": null,
      "id": "9b4c67ba",
      "metadata": {
        "id": "9b4c67ba"
      },
      "outputs": [],
      "source": [
        "sns.relplot(data=d , x=\"empleados(miles)\" , y=\"facturacion\" , kind=\"scatter\" , hue=\"pais\") # hasta ahora lo mismo que scatterplot"
      ]
    },
    {
      "cell_type": "code",
      "execution_count": null,
      "id": "432a9eb1",
      "metadata": {
        "id": "432a9eb1"
      },
      "outputs": [],
      "source": []
    },
    {
      "cell_type": "code",
      "execution_count": null,
      "id": "f73b25e2",
      "metadata": {
        "id": "f73b25e2"
      },
      "outputs": [],
      "source": []
    },
    {
      "cell_type": "code",
      "execution_count": null,
      "id": "0022f26c",
      "metadata": {
        "id": "0022f26c"
      },
      "outputs": [],
      "source": [
        "mediana = d[\"empleados(miles)\"].median()\n",
        "\n",
        "d[\"grandes_empleadores\"] = np.where(d[\"empleados(miles)\"] >= mediana , \"si\" , \"no\")"
      ]
    },
    {
      "cell_type": "code",
      "execution_count": null,
      "id": "f6b8a693",
      "metadata": {
        "id": "f6b8a693"
      },
      "outputs": [],
      "source": [
        "d[\"baja_facturacion\"] =np.where(d[\"facturacion\"] < 100000, True , False)"
      ]
    },
    {
      "cell_type": "code",
      "execution_count": null,
      "id": "b76be0fc",
      "metadata": {
        "id": "b76be0fc"
      },
      "outputs": [],
      "source": []
    },
    {
      "cell_type": "code",
      "execution_count": null,
      "id": "492207c0",
      "metadata": {
        "id": "492207c0"
      },
      "outputs": [],
      "source": [
        "sns.relplot(data=d , x=\"empleados(miles)\" , y=\"facturacion\" , kind=\"scatter\"  , col=\"grandes_empleadores\" ) #mismo con col"
      ]
    },
    {
      "cell_type": "code",
      "execution_count": null,
      "id": "22f99c6c",
      "metadata": {
        "id": "22f99c6c"
      },
      "outputs": [],
      "source": []
    },
    {
      "cell_type": "code",
      "execution_count": null,
      "id": "81de1f86",
      "metadata": {
        "id": "81de1f86"
      },
      "outputs": [],
      "source": [
        "sns.relplot(data=d , x=\"empleados(miles)\" , y=\"facturacion\" , kind=\"scatter\"  , size=\"facturacion\"  , hue=\"sector\" , style=\"pais\" ,alpha=0.7)\n",
        "#size y hue se podrian usar juntos para darle un mejor estilo"
      ]
    },
    {
      "cell_type": "code",
      "execution_count": null,
      "id": "304a3670",
      "metadata": {
        "id": "304a3670"
      },
      "outputs": [],
      "source": []
    },
    {
      "cell_type": "code",
      "execution_count": null,
      "id": "3a97c37a",
      "metadata": {
        "id": "3a97c37a"
      },
      "outputs": [],
      "source": []
    },
    {
      "cell_type": "markdown",
      "id": "a07d8835",
      "metadata": {
        "id": "a07d8835"
      },
      "source": [
        "![tipos seaborn](./tipos_sns.jpg)\n"
      ]
    },
    {
      "cell_type": "code",
      "execution_count": null,
      "id": "7071b940",
      "metadata": {
        "id": "7071b940"
      },
      "outputs": [],
      "source": []
    }
  ],
  "metadata": {
    "kernelspec": {
      "display_name": "Python 3 (ipykernel)",
      "language": "python",
      "name": "python3"
    },
    "language_info": {
      "codemirror_mode": {
        "name": "ipython",
        "version": 3
      },
      "file_extension": ".py",
      "mimetype": "text/x-python",
      "name": "python",
      "nbconvert_exporter": "python",
      "pygments_lexer": "ipython3",
      "version": "3.10.9"
    },
    "colab": {
      "provenance": []
    }
  },
  "nbformat": 4,
  "nbformat_minor": 5
}