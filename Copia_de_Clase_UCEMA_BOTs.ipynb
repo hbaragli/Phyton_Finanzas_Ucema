{
  "nbformat": 4,
  "nbformat_minor": 0,
  "metadata": {
    "colab": {
      "provenance": [],
      "toc_visible": true
    },
    "kernelspec": {
      "name": "python3",
      "display_name": "Python 3"
    },
    "language_info": {
      "name": "python"
    }
  },
  "cells": [
    {
      "cell_type": "markdown",
      "source": [
        "#Clase de bots\n",
        "\n",
        "profesor: Ignacio Guardines\n",
        "twitter: nacho_java"
      ],
      "metadata": {
        "id": "NQSg6j6U3lmt"
      }
    },
    {
      "cell_type": "markdown",
      "source": [
        "## BOTs\n",
        "¿Que son?\n",
        "¿Para que sirven?\n",
        "Clasificacion de bots"
      ],
      "metadata": {
        "id": "I1ED9tPqnVPT"
      }
    },
    {
      "cell_type": "code",
      "source": [],
      "metadata": {
        "id": "QmsNdkCU-z_P"
      },
      "execution_count": null,
      "outputs": []
    },
    {
      "cell_type": "markdown",
      "source": [
        "\n",
        "\n",
        "1. **Bots de Alertas**: Los bots de alerta son programas automatizados que envían notificaciones o alertas a los usuarios basadas en ciertos criterios o eventos predefinidos. Estas alertas pueden enviarse a través de diversos medios, como correo electrónico, SMS, aplicaciones de mensajería o incluso aplicaciones específicas.\n",
        "\n",
        "2. **Bots de Redes Sociales**: Los bots de redes sociales pueden realizar tareas automatizadas como publicar contenido, seguir o dejar de seguir a usuarios, responder a mensajes y más. Un ejemplo popular de este tipo de bot es el bot de Twitter que automáticamente retuitea o responde a tweets basados en ciertas palabras clave.\n",
        "\n",
        "3. **Bots de Juegos**: Los bots de juegos se utilizan para realizar tareas repetitivas en los videojuegos, como recoger recursos o subir de nivel a un personaje. Algunos juegos permiten el uso de bots, mientras que otros los prohíben debido a cuestiones de equidad.\n",
        "\n",
        "4. **Bots de Noticias**: Los bots de noticias pueden recopilar y publicar noticias de diferentes fuentes automáticamente. Por ejemplo, el bot de Reddit AutoModerator puede configurarse para publicar automáticamente artículos de noticias en un subreddit.\n",
        "\n",
        "5. **Bots de Web Scraping**: Los bots de web scraping se utilizan para recopilar información de sitios web. Pueden ser utilizados para una variedad de tareas, desde recopilar datos para investigación, hasta monitorear los precios de los productos en las tiendas en línea.\n",
        "\n",
        "6. **Bots de Atención al Cliente**: Estos bots pueden responder a consultas básicas de los clientes y redirigir a los usuarios a un agente de atención al cliente humano cuando sea necesario. Muchas empresas utilizan estos bots en sus sitios web o en aplicaciones de mensajería para mejorar la eficiencia de su servicio de atención al cliente.\n",
        "\n",
        "7. **Bots financieros**:\n",
        "\n",
        "  BOTs de DataFeed / Screeners\n",
        "\n",
        "  BOTs de Trading\n",
        "\n",
        "    * A- Bots de Colocación de grandes órdenes, para no alterar precio\n",
        "\n",
        "    * B- Bots de Colocación de órdenes, para obtener el mejor precio\n",
        "    * C- Bots de Market Making\n",
        "    * D- Bots de Arbitrajes en un mercado\n",
        "    * E- Bots de Arbitrajes entre mercados\n",
        "    * F- Bots de Arbitrajes estadísticos (en un mercado o entre mercados)\n",
        "    * G- Bots de Hedging\n",
        "    * H- Bots de Balanceo de carteras (optimización, riesgo, etc)\n",
        "    * I- Bots de ruteo para seguimiento de índices (fondos, etfs)\n",
        "    * J- Bots de scalping\n",
        "    * K- Bots de swing trading\n",
        "\n",
        "  BOTs estratégicos\n",
        "\n",
        "      * Bots de detección de otros bots"
      ],
      "metadata": {
        "id": "kbF_XCunbpET"
      }
    },
    {
      "cell_type": "markdown",
      "metadata": {
        "id": "ad802b1c"
      },
      "source": [
        "##Funcionalidad para envio de email"
      ]
    },
    {
      "cell_type": "markdown",
      "source": [
        "BOT 🇰\n",
        "un codigo que realiza una tarea automaticamente\n",
        "\n",
        "necesito un bot que cuando se llega a la cuenta de 10 envie un email\n",
        "y que en el email figure que el nro 10 fue alcanzado.\n"
      ],
      "metadata": {
        "id": "GG9F9U7uGA58"
      }
    },
    {
      "cell_type": "code",
      "source": [
        "\n",
        "\n",
        "import time\n",
        "import smtplib\n",
        "from email.message import EmailMessage\n",
        "\n",
        "\n",
        "def send_email_alert():\n",
        "    msg = EmailMessage()\n",
        "    msg.set_content('llego al nro 10')\n",
        "    msg['Subject'] = 'llego al nro 10'\n",
        "    msg['From'] = 'g4tpteam@gmail.com'\n",
        "    msg['To'] = 'iguardines@gmail.com'\n",
        "\n",
        "    # Configuración básica de SMTP (Este es un ejemplo con Gmail)\n",
        "    server = smtplib.SMTP('smtp.gmail.com', 587)\n",
        "    server.starttls()\n",
        "    username = \"cursopythonbot@gmail.com\"\n",
        "    password = \"yimsfaumlcvwabzn\"\n",
        "    server.login(username, password)\n",
        "    server.send_message(msg)\n",
        "    server.quit()\n",
        "\n",
        "contador = 0\n",
        "while True:\n",
        "  contador += 1\n",
        "  print(\"numero\" + str(contador))\n",
        "  print(f\"el valor del contador es {contador}\")\n",
        "  if contador == 10:\n",
        "    time.sleep(0.5)\n",
        "    send_email_alert()\n",
        "    break\n",
        "\n",
        "\n"
      ],
      "metadata": {
        "id": "WjljufbJbiK9",
        "colab": {
          "base_uri": "https://localhost:8080/"
        },
        "outputId": "64ebe0ad-a8eb-4e29-df14-5d4823002f33"
      },
      "execution_count": null,
      "outputs": [
        {
          "output_type": "stream",
          "name": "stdout",
          "text": [
            "numero1\n",
            "el valor del contador es 1\n",
            "numero2\n",
            "el valor del contador es 2\n",
            "numero3\n",
            "el valor del contador es 3\n",
            "numero4\n",
            "el valor del contador es 4\n",
            "numero5\n",
            "el valor del contador es 5\n",
            "numero6\n",
            "el valor del contador es 6\n",
            "numero7\n",
            "el valor del contador es 7\n",
            "numero8\n",
            "el valor del contador es 8\n",
            "numero9\n",
            "el valor del contador es 9\n",
            "numero10\n",
            "el valor del contador es 10\n"
          ]
        }
      ]
    },
    {
      "cell_type": "code",
      "source": [],
      "metadata": {
        "id": "mdHzWN4knEYD"
      },
      "execution_count": null,
      "outputs": []
    },
    {
      "cell_type": "markdown",
      "source": [
        "## Bot hecho por Juampy que simular compra venta"
      ],
      "metadata": {
        "id": "Uj6qek0AvdJ3"
      }
    },
    {
      "cell_type": "code",
      "source": [
        "import requests, json as j, pandas as pd, time\n",
        "\n",
        "# Ejercicio didactico de un taller dictado en Digital House para mujeres traders\n",
        "# La idea es ver la lógica de un bot de trading, no tiene aplicación real es solo a fines didácticos de mostrar la idea\n",
        "\n",
        "def getData(s,token):\n",
        "    url = \"https://min-api.cryptocompare.com/data/v2/histominute?fsym=\"+s\n",
        "    url += \"&tsym=USD&limit=100&e=bitstamp\"\n",
        "    json = j.loads(requests.get(url = url).text)\n",
        "    df = pd.DataFrame(json['Data']['Data']).dropna()\n",
        "    return df\n",
        "\n",
        "def sma(serie,ruedas,nombreColumna):\n",
        "    rta=pd.DataFrame({nombreColumna:[]})\n",
        "    i = 0\n",
        "    for valor in serie:\n",
        "        if(i >= ruedas):\n",
        "            promedio = sum(serie[i-ruedas+1:i+1])/ruedas\n",
        "            rta.loc[i] = promedio\n",
        "        i = i+1\n",
        "    return rta\n",
        "\n",
        "def getTabla(simbolo,nRapida,nLenta,token):\n",
        "    data = getData(simbolo,token)\n",
        "    rapidas = sma(data['close'],nRapida,\"rapida\")\n",
        "    lentas = sma(data['close'],nLenta,\"lenta\")\n",
        "    #alternativa version de pandas para media: lentas = datos['close'].rolling(nLenta).mean().dropna()\n",
        "    tabla = rapidas.join(lentas).join(data['close']).dropna().reset_index()\n",
        "    return tabla\n",
        "\n",
        "def accion(cruce, pos, precio):\n",
        "    if(cruce>1):\n",
        "        if (pos==\"Wait\"):\n",
        "            print(\"--Buy Order $\"+str(precio)+\"--\")\n",
        "        pos = \"hold\"\n",
        "    else:\n",
        "        if (pos==\"hold\"):\n",
        "            print(\"--Sell Order $\"+str(precio)+\"--\")\n",
        "        pos = \"Wait\"\n",
        "    return pos\n",
        "\n",
        "pos = \"Wait\"\n",
        "token =\"2ea3a4ebf9cdba3a08625248c0ad7865a082bee3cd9fbdb39613892e8d5e2e18\"\n",
        "while True:\n",
        "    tabla = getTabla(\"BTC\",10,20,token)\n",
        "    cruce = tabla['rapida'].iloc[-1] / tabla['lenta'].iloc[-1]\n",
        "    precio = tabla['close'].iloc[-1]\n",
        "    pos = accion(cruce, pos, precio)\n",
        "    print(pos+\" $\" +str(precio) )\n",
        "    time.sleep(60)\n",
        "\n"
      ],
      "metadata": {
        "colab": {
          "base_uri": "https://localhost:8080/",
          "height": 1000
        },
        "id": "4T3n7suYviCK",
        "outputId": "8fcaa88e-0c8e-45b3-fe55-710fcebb3fd7"
      },
      "execution_count": null,
      "outputs": [
        {
          "output_type": "stream",
          "name": "stdout",
          "text": [
            "Wait $29195\n",
            "Wait $29192\n",
            "Wait $29193\n",
            "Wait $29193\n",
            "Wait $29194\n",
            "Wait $29190\n",
            "Wait $29204\n",
            "Wait $29195\n",
            "Wait $29194\n",
            "Wait $29188\n",
            "Wait $29185\n",
            "Wait $29176\n",
            "Wait $29187\n",
            "Wait $29195\n",
            "Wait $29200\n",
            "Wait $29205\n",
            "Wait $29205\n",
            "--Buy Order $29204--\n",
            "hold $29204\n",
            "hold $29212\n",
            "hold $29196\n",
            "hold $29197\n",
            "hold $29186\n",
            "hold $29162\n",
            "hold $29178\n",
            "--Sell Order $29171--\n",
            "Wait $29171\n",
            "Wait $29177\n",
            "Wait $29188\n",
            "Wait $29193\n",
            "Wait $29197\n",
            "Wait $29199\n",
            "Wait $29198\n",
            "Wait $29196\n",
            "Wait $29197\n",
            "Wait $29204\n",
            "--Buy Order $29220--\n",
            "hold $29220\n",
            "hold $29228\n",
            "hold $29241\n",
            "hold $29241\n",
            "hold $29241\n",
            "hold $29206\n",
            "hold $29213\n",
            "hold $29218\n",
            "hold $29218\n",
            "hold $29218\n",
            "hold $29210\n",
            "hold $29209\n",
            "hold $29212\n",
            "--Sell Order $29207--\n",
            "Wait $29207\n",
            "Wait $29208\n",
            "Wait $29211\n",
            "Wait $29213\n",
            "Wait $29213\n",
            "Wait $29221\n",
            "Wait $29223\n",
            "Wait $29224\n",
            "--Buy Order $29225--\n",
            "hold $29225\n",
            "hold $29232\n",
            "hold $29232\n",
            "hold $29232\n",
            "hold $29253\n",
            "hold $29255\n",
            "hold $29249\n",
            "hold $29249\n",
            "hold $29250\n",
            "hold $29251\n",
            "hold $29248\n",
            "hold $29245\n",
            "hold $29256\n",
            "hold $29255\n",
            "hold $29252\n",
            "hold $29275\n",
            "hold $29297\n",
            "hold $29252\n",
            "hold $29253\n",
            "hold $29232\n",
            "hold $29234\n",
            "hold $29213\n",
            "--Sell Order $29210--\n",
            "Wait $29210\n",
            "Wait $29209\n",
            "Wait $29197\n",
            "Wait $29199\n",
            "Wait $29207\n",
            "Wait $29185\n",
            "Wait $29185\n",
            "Wait $29185\n",
            "Wait $29184\n",
            "Wait $29185\n",
            "Wait $29185\n",
            "Wait $29184\n",
            "Wait $29185\n",
            "Wait $29187\n",
            "Wait $29191\n",
            "Wait $29191\n",
            "Wait $29191\n",
            "Wait $29194\n",
            "Wait $29193\n",
            "--Buy Order $29196--\n",
            "hold $29196\n",
            "hold $29209\n",
            "hold $29220\n",
            "hold $29228\n",
            "hold $29196\n",
            "hold $29187\n"
          ]
        },
        {
          "output_type": "error",
          "ename": "KeyboardInterrupt",
          "evalue": "ignored",
          "traceback": [
            "\u001b[0;31m---------------------------------------------------------------------------\u001b[0m",
            "\u001b[0;31mKeyboardInterrupt\u001b[0m                         Traceback (most recent call last)",
            "\u001b[0;32m<ipython-input-6-cdf56f41eb81>\u001b[0m in \u001b[0;36m<cell line: 44>\u001b[0;34m()\u001b[0m\n\u001b[1;32m     48\u001b[0m     \u001b[0mpos\u001b[0m \u001b[0;34m=\u001b[0m \u001b[0maccion\u001b[0m\u001b[0;34m(\u001b[0m\u001b[0mcruce\u001b[0m\u001b[0;34m,\u001b[0m \u001b[0mpos\u001b[0m\u001b[0;34m,\u001b[0m \u001b[0mprecio\u001b[0m\u001b[0;34m)\u001b[0m\u001b[0;34m\u001b[0m\u001b[0;34m\u001b[0m\u001b[0m\n\u001b[1;32m     49\u001b[0m     \u001b[0mprint\u001b[0m\u001b[0;34m(\u001b[0m\u001b[0mpos\u001b[0m\u001b[0;34m+\u001b[0m\u001b[0;34m\" $\"\u001b[0m \u001b[0;34m+\u001b[0m\u001b[0mstr\u001b[0m\u001b[0;34m(\u001b[0m\u001b[0mprecio\u001b[0m\u001b[0;34m)\u001b[0m \u001b[0;34m)\u001b[0m\u001b[0;34m\u001b[0m\u001b[0;34m\u001b[0m\u001b[0m\n\u001b[0;32m---> 50\u001b[0;31m     \u001b[0mtime\u001b[0m\u001b[0;34m.\u001b[0m\u001b[0msleep\u001b[0m\u001b[0;34m(\u001b[0m\u001b[0;36m60\u001b[0m\u001b[0;34m)\u001b[0m\u001b[0;34m\u001b[0m\u001b[0;34m\u001b[0m\u001b[0m\n\u001b[0m\u001b[1;32m     51\u001b[0m \u001b[0;34m\u001b[0m\u001b[0m\n",
            "\u001b[0;31mKeyboardInterrupt\u001b[0m: "
          ]
        }
      ]
    },
    {
      "cell_type": "markdown",
      "source": [
        "## BOT, que se conecta a binance, y persiste en SQLITE"
      ],
      "metadata": {
        "id": "2oKmb7lMnEyq"
      }
    },
    {
      "cell_type": "code",
      "source": [],
      "metadata": {
        "id": "c3v_876NafTj"
      },
      "execution_count": null,
      "outputs": []
    },
    {
      "cell_type": "code",
      "source": [
        "#precio, lado, cantidad\n",
        "ordenes = [[29105, \"buy\", 15],[29100, \"sell\", 155],\n",
        "\n",
        "precio, lado, cantidad\n",
        "29104, \"buy\", 21\n",
        "29105, \"buy\", 15\n",
        "29100, \"sell\", 155\n",
        "29104, \"buy\", 21\n",
        "\n"
      ],
      "metadata": {
        "id": "2iX73QLYNcDS"
      },
      "execution_count": null,
      "outputs": []
    },
    {
      "cell_type": "code",
      "execution_count": null,
      "metadata": {
        "id": "C5XCaKXwlk_o"
      },
      "outputs": [],
      "source": [
        "import ccxt\n",
        "import sqlite3\n",
        "import pandas as pd\n",
        "import time\n",
        "import os\n",
        "\n",
        "# Definir parámetros\n",
        "api_key = 'your_api_key'\n",
        "api_secret = 'your_api_secret'\n",
        "market = 'BTC/USDT'\n",
        "timeframe = '1h'\n",
        "ma_period = 30\n",
        "\n",
        "# Conectar a Binance\n",
        "exchange = ccxt.binance({\n",
        "    'apiKey': api_key,\n",
        "    'secret': api_secret,\n",
        "})\n",
        "\n",
        "# Conectar a SQLite\n",
        "conn = sqlite3.connect('trades.db')\n",
        "c = conn.cursor()\n",
        "\n",
        "# Crear tabla si no existe\n",
        "c.execute('''CREATE TABLE IF NOT EXISTS trades\n",
        "             (timestamp TEXT, side TEXT, price REAL, amount REAL)''')\n",
        "\n",
        "# Inicializar variables\n",
        "last_action = None\n",
        "buy_price = 0\n",
        "profit_loss = 0\n",
        "\n",
        "while True:\n",
        "    try:\n",
        "        # Verificar la existencia de archivo centinela\n",
        "        if os.path.isfile('stop.txt'):\n",
        "            print(\"Archivo centinela encontrado, deteniendo el bucle...\")\n",
        "            break\n",
        "\n",
        "        # Obtener datos OHLCV\n",
        "        ohlcv = exchange.fetch_ohlcv(market, timeframe)\n",
        "        df = pd.DataFrame(ohlcv, columns=['timestamp', 'open', 'high', 'low', 'close', 'volume'])\n",
        "\n",
        "        # Calcular la media móvil\n",
        "        df['ma'] = df['close'].rolling(window=ma_period).mean()\n",
        "\n",
        "        # Recorrer las filas del DataFrame\n",
        "        for index, row in df.iterrows():\n",
        "            if index < ma_period:\n",
        "                continue\n",
        "\n",
        "            # Comprar cuando el precio cruza la media de 30 hacia arriba\n",
        "            if row['close'] > row['ma'] and (last_action != 'buy' or last_action is None):\n",
        "                balance = exchange.fetch_balance()\n",
        "                amount = min(balance['USDT']['free'], 0.001)  # Sólo comprará si hay suficientes fondos en USDT\n",
        "                if amount > 0:\n",
        "                    order = exchange.create_market_buy_order(market, amount)\n",
        "                    c.execute(\"INSERT INTO trades VALUES (?, ?, ?, ?)\",\n",
        "                              (row['timestamp'], 'buy', order['price'], order['amount']))\n",
        "                    last_action = 'buy'\n",
        "                    buy_price = order['price']\n",
        "\n",
        "            # Vender cuando el precio cruza la media de 30 hacia abajo\n",
        "            elif row['close'] < row['ma'] and last_action == 'buy':\n",
        "                balance = exchange.fetch_balance()\n",
        "                amount = balance[market.split('/')[0]]['free']  # Sólo venderá si hay suficiente cantidad de la moneda comprada\n",
        "                if amount > 0:\n",
        "                    order = exchange.create_market_sell_order(market, amount)\n",
        "                    c.execute(\"INSERT INTO trades VALUES (?, ?, ?, ?)\",\n",
        "                              (row['timestamp'], 'sell', order['price'], order['amount']))\n",
        "                    last_action = 'sell'\n",
        "                    profit_loss += order['amount'] * (order['price'] - buy_price)\n",
        "\n",
        "        # Guardar los cambios\n",
        "        conn.commit()\n",
        "\n",
        "        # Imprimir ganancias y pérdidas\n",
        "        print(f'Ganancias/Pérdidas: {profit_loss}')\n",
        "\n",
        "        # Dormir hasta la próxima hora\n",
        "        time.sleep(3600)\n",
        "\n",
        "    except Exception as e:\n",
        "        print(f'Error: {e}')\n",
        "        # Dormir durante un minuto antes de intentarlo de nuevo\n",
        "        time.sleep(60)\n",
        "\n",
        "# Cerrar la conexión a la base de datos\n",
        "conn.close()\n"
      ]
    },
    {
      "cell_type": "code",
      "source": [
        "cambio_estructura = True\n",
        "numero_observacion =3\n",
        "valor_de_referencia = 3\n",
        "open high low close\n",
        "tendencia = \"bajista\"\n",
        " [[3,4,1,3], [1,4,4,4],[1,4,5,5], 3,4,1,4.5], [1,4,4,4],[1,4,5,3]]\n"
      ],
      "metadata": {
        "id": "m9RqvmJFSLNI"
      },
      "execution_count": null,
      "outputs": []
    },
    {
      "cell_type": "markdown",
      "source": [
        "## BOT que indica informacion sobre un activo usando telegram y yfinance"
      ],
      "metadata": {
        "id": "MM9QWvmkoNkH"
      }
    },
    {
      "cell_type": "code",
      "source": [
        "#primero si ya estaba instalado desinstalamos y volvemos a is\n",
        "!pip install python-telegram-bot==13.7 --force-reinstall"
      ],
      "metadata": {
        "id": "SNYg0y-jqq6m"
      },
      "execution_count": null,
      "outputs": []
    },
    {
      "cell_type": "markdown",
      "source": [
        "primera version, facil, muy basica"
      ],
      "metadata": {
        "id": "_k9-mNL0uek2"
      }
    },
    {
      "cell_type": "code",
      "source": [],
      "metadata": {
        "id": "mewZ98bQW4We"
      },
      "execution_count": null,
      "outputs": []
    },
    {
      "cell_type": "code",
      "source": [
        "import yfinance as yf\n",
        "from telegram import Bot, Update\n",
        "from telegram.ext import Updater, CommandHandler, MessageHandler, Filters, CallbackContext\n",
        "\n",
        "TOKEN = '6462748121:AAE2_pqXteuK06Ddy_zOW2ia2S00umjpD5E'\n",
        "\n",
        "def start(update: Update, context: CallbackContext) -> None:\n",
        "    update.message.reply_text(\"¡Hola! Envíame un ticker y te diré el valor actual de la acción.\")\n",
        "\n",
        "def get_stock_price(update: Update, context: CallbackContext) -> None:\n",
        "    ticker = update.message.text\n",
        "    stock = yf.Ticker(ticker)\n",
        "    price = stock.history(period=\"1d\")[\"Close\"][0]\n",
        "    update.message.reply_text(f\"El precio de cierre para {ticker} hoy fue de ${price:.2f}\")\n",
        "\n",
        "def main():\n",
        "    updater = Updater(TOKEN)\n",
        "\n",
        "    dp = updater.dispatcher\n",
        "\n",
        "    dp.add_handler(CommandHandler(\"start\", start))\n",
        "    dp.add_handler(MessageHandler(Filters.text & ~Filters.command, get_stock_price))\n",
        "\n",
        "    updater.start_polling()\n",
        "\n",
        "    updater.idle()\n",
        "\n",
        "if __name__ == '__main__':\n",
        "    main()\n"
      ],
      "metadata": {
        "id": "ECqHq8aguhYr"
      },
      "execution_count": null,
      "outputs": []
    },
    {
      "cell_type": "code",
      "source": [
        "import yfinance as yf\n",
        "from telegram import Bot, Update\n",
        "from telegram.ext import Updater, CommandHandler, MessageHandler, Filters, CallbackContext\n",
        "\n",
        "TOKEN = ''\n",
        "\n",
        "def help(update: Update, context: CallbackContext) -> None:\n",
        "    update.message.reply_text(\"¡Hola! Usa /financials <ticker> para obtener datos financieros, y /strategy <ticker> para la estrategia de medias móviles.\")\n",
        "\n",
        "\n",
        "def price(update: Update, context: CallbackContext) -> None:\n",
        "    if context.args:\n",
        "        ticker = context.args[0].upper()\n",
        "        stock = yf.Ticker(ticker)\n",
        "        try:\n",
        "            current_price = stock.history(period=\"1d\")['Close'][0]\n",
        "            update.message.reply_text(f\"El precio de cierre de {ticker} es ${current_price}\")\n",
        "        except Exception as e:\n",
        "            update.message.reply_text(f\"Error al obtener el precio para {ticker}. Asegúrate de que el ticker es correcto. Detalles del error: {e}\")\n",
        "    else:\n",
        "        update.message.reply_text(\"Por favor, proporciona un ticker después del comando. Ejemplo: /price AAPL\")\n",
        "\n",
        "def get_financials(update: Update, context: CallbackContext) -> None:\n",
        "    ticker = context.args[0]\n",
        "    stock = yf.Ticker(ticker)\n",
        "    financials = stock.financials.T.to_dict()\n",
        "    latest_financials = financials[list(financials.keys())[0]]\n",
        "\n",
        "    message = f\"Datos financieros para {ticker}:\\n\"\n",
        "    for key, value in latest_financials.items():\n",
        "        message += f\"{key}: {value}\\n\"\n",
        "\n",
        "    update.message.reply_text(message)\n",
        "\n",
        "def moving_average_strategy(update: Update, context: CallbackContext) -> None:\n",
        "    ticker = context.args[0]\n",
        "    stock = yf.Ticker(ticker)\n",
        "    df = stock.history(period=\"1y\")\n",
        "\n",
        "    ma21 = df['Close'].rolling(window=21).mean()\n",
        "    ma42 = df['Close'].rolling(window=42).mean()\n",
        "\n",
        "    if ma21.iloc[-1] > ma42.iloc[-1]:\n",
        "        update.message.reply_text(f\"La acción {ticker} es una COMPRA según la estrategia de medias móviles.\")\n",
        "    else:\n",
        "        update.message.reply_text(f\"La acción {ticker} es una VENTA según la estrategia de medias móviles.\")\n",
        "\n",
        "def main():\n",
        "    updater = Updater(TOKEN)\n",
        "\n",
        "    dp = updater.dispatcher\n",
        "\n",
        "    dp.add_handler(CommandHandler(\"help\", help))\n",
        "    dp.add_handler(CommandHandler(\"price\", price, pass_args=True))\n",
        "    dp.add_handler(CommandHandler(\"financials\", get_financials, pass_args=True))\n",
        "    dp.add_handler(CommandHandler(\"strategy\", moving_average_strategy, pass_args=True))\n",
        "\n",
        "    updater.start_polling()\n",
        "\n",
        "    updater.idle()\n",
        "\n",
        "if __name__ == '__main__':\n",
        "    main()\n"
      ],
      "metadata": {
        "id": "Y2bsD3yPoNN7",
        "colab": {
          "base_uri": "https://localhost:8080/"
        },
        "outputId": "924c94dc-3c9f-434e-c88a-84dbb603aeba"
      },
      "execution_count": null,
      "outputs": [
        {
          "output_type": "stream",
          "name": "stderr",
          "text": [
            "ERROR:yfinance:Y: No data found, symbol may be delisted\n",
            "ERROR:telegram.ext.dispatcher:No error handlers are registered, logging exception.\n",
            "Traceback (most recent call last):\n",
            "  File \"/usr/local/lib/python3.10/dist-packages/telegram/ext/dispatcher.py\", line 555, in process_update\n",
            "    handler.handle_update(update, self, check, context)\n",
            "  File \"/usr/local/lib/python3.10/dist-packages/telegram/ext/handler.py\", line 198, in handle_update\n",
            "    return self.callback(update, context)\n",
            "  File \"<ipython-input-2-867183c69a8f>\", line 42, in moving_average_strategy\n",
            "    if ma21.iloc[-1] > ma42.iloc[-1]:\n",
            "  File \"/usr/local/lib/python3.10/dist-packages/pandas/core/indexing.py\", line 1073, in __getitem__\n",
            "    return self._getitem_axis(maybe_callable, axis=axis)\n",
            "  File \"/usr/local/lib/python3.10/dist-packages/pandas/core/indexing.py\", line 1625, in _getitem_axis\n",
            "    self._validate_integer(key, axis)\n",
            "  File \"/usr/local/lib/python3.10/dist-packages/pandas/core/indexing.py\", line 1557, in _validate_integer\n",
            "    raise IndexError(\"single positional indexer is out-of-bounds\")\n",
            "IndexError: single positional indexer is out-of-bounds\n",
            "ERROR:yfinance:GOAL.BA: No data found, symbol may be delisted\n"
          ]
        }
      ]
    },
    {
      "cell_type": "markdown",
      "source": [
        "Vamos a agregarle algunas cosas mas"
      ],
      "metadata": {
        "id": "glt24u50qY30"
      }
    },
    {
      "cell_type": "code",
      "source": [
        "import requests, json as j, pandas as pd, time\n",
        "import logging\n",
        "\n",
        "# Configurar el logging\n",
        "logging.basicConfig(level=logging.INFO,\n",
        "                    format='%(asctime)s - %(levelname)s - %(message)s',\n",
        "                    filename='trading_bot.log')  # Guarda los logs en un archivo.\n",
        "\n",
        "# Ejercicio didáctico de un taller dictado en Digital House para mujeres traders\n",
        "# La idea es ver la lógica de un bot de trading, no tiene aplicación real es solo a fines didácticos de mostrar la idea\n",
        "\n",
        "def getData(s, token):\n",
        "    logging.info(f\"Obteniendo datos para el símbolo {s}...\")\n",
        "    url = \"https://min-api.cryptocompare.com/data/v2/histominute?fsym=\"+s\n",
        "    url += \"&tsym=USD&limit=100&e=bitstamp\"\n",
        "    try:\n",
        "        json = j.loads(requests.get(url=url).text)\n",
        "        df = pd.DataFrame(json['Data']['Data']).dropna()\n",
        "        return df\n",
        "    except Exception as e:\n",
        "        logging.error(f\"Error al obtener datos: {str(e)}\")\n",
        "\n",
        "def sma(serie, ruedas, nombreColumna):\n",
        "    logging.info(f\"Calculando SMA con {ruedas} ruedas...\")\n",
        "    rta=pd.DataFrame({nombreColumna:[]})\n",
        "    i = 0\n",
        "    for valor in serie:\n",
        "        if(i >= ruedas):\n",
        "            promedio = sum(serie[i-ruedas+1:i+1])/ruedas\n",
        "            rta.loc[i] = promedio\n",
        "        i = i+1\n",
        "    return rta\n",
        "\n",
        "def getTabla(simbolo, nRapida, nLenta, token):\n",
        "    logging.info(f\"Generando tabla para símbolo {simbolo}...\")\n",
        "    data = getData(simbolo,token)\n",
        "    rapidas = sma(data['close'],nRapida,\"rapida\")\n",
        "    lentas = sma(data['close'],nLenta,\"lenta\")\n",
        "    tabla = rapidas.join(lentas).join(data['close']).dropna().reset_index()\n",
        "    return tabla\n",
        "\n",
        "def accion(cruce, pos, precio):\n",
        "    logging.info(f\"Evaluando acción con cruce {cruce} y posición actual {pos}...\")\n",
        "    if(cruce>1):\n",
        "        if (pos==\"Wait\"):\n",
        "            print(\"--Buy Order $\"+str(precio)+\"--\")\n",
        "        pos = \"hold\"\n",
        "    else:\n",
        "        if (pos==\"hold\"):\n",
        "            print(\"--Sell Order $\"+str(precio)+\"--\")\n",
        "        pos = \"Wait\"\n",
        "    return pos\n",
        "\n",
        "pos = \"Wait\"\n",
        "token = \"2ea3a4ebf9cdba3a08625248c0ad7865a082bee3cd9fbdb39613892e8d5e2e18\"\n",
        "while True:\n",
        "    logging.info(\"Iniciando ciclo de trading...\")\n",
        "    tabla = getTabla(\"BTC\", 10, 20, token)\n",
        "    cruce = tabla['rapida'].iloc[-1] / tabla['lenta'].iloc[-1]\n",
        "    precio = tabla['close'].iloc[-1]\n",
        "    pos = accion(cruce, pos, precio)\n",
        "    print(pos+\" $\" +str(precio))\n",
        "    time.sleep(60)\n"
      ],
      "metadata": {
        "id": "ZSwALHW5qbf_"
      },
      "execution_count": null,
      "outputs": []
    }
  ]
}