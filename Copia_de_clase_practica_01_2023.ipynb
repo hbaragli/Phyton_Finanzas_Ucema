{
  "cells": [
    {
      "cell_type": "markdown",
      "metadata": {
        "id": "view-in-github",
        "colab_type": "text"
      },
      "source": [
        "<a href=\"https://colab.research.google.com/github/hbaragli/Phyton_Finanzas_Ucema/blob/main/Copia_de_clase_practica_01_2023.ipynb\" target=\"_parent\"><img src=\"https://colab.research.google.com/assets/colab-badge.svg\" alt=\"Open In Colab\"/></a>"
      ]
    },
    {
      "cell_type": "markdown",
      "id": "53095299",
      "metadata": {
        "id": "53095299"
      },
      "source": [
        "# Python Para finanzas 2023\n",
        "\n",
        "EJERCICIOS CLASES TEORICAS 1 Y 2."
      ]
    },
    {
      "cell_type": "markdown",
      "id": "252f3158",
      "metadata": {
        "id": "252f3158"
      },
      "source": [
        "1)\n",
        "\n",
        "pedir al usuario su nombre y edad. guardarlo en una variable llamada \"name\". Imprimir en pantalla un saludo a este usuario.\n",
        "imprimir de forma concatenada  y tambien utlizando fstring!\n",
        "\n",
        "imprimir la edad del hijo del usuario, que asumimos que tiene un tercio de la edad de este."
      ]
    },
    {
      "cell_type": "code",
      "execution_count": null,
      "id": "12d249b9",
      "metadata": {
        "id": "12d249b9"
      },
      "outputs": [],
      "source": []
    },
    {
      "cell_type": "code",
      "execution_count": null,
      "id": "1c05556a",
      "metadata": {
        "id": "1c05556a"
      },
      "outputs": [],
      "source": []
    },
    {
      "cell_type": "markdown",
      "id": "61a708ba",
      "metadata": {
        "id": "61a708ba"
      },
      "source": [
        "2)\n",
        "\n",
        "pedir al usuario su apellido, guardarlo en variable \"last_name\", asegurar que el mismo se encuentre con mayuscula en su letra inicial.\n",
        "\n",
        "como me aseguro cumplir con las mayusculas si tengo un apellido con mas de una palabra (compuesto)?\n",
        "\n",
        "corroborar pythonicamente si logramos lo solicitado.\n",
        "\n",
        "**ayuda** ==> metodos strings\n"
      ]
    },
    {
      "cell_type": "code",
      "execution_count": null,
      "id": "badc26ba",
      "metadata": {
        "id": "badc26ba"
      },
      "outputs": [],
      "source": []
    },
    {
      "cell_type": "code",
      "execution_count": null,
      "id": "83cd3d84",
      "metadata": {
        "id": "83cd3d84"
      },
      "outputs": [],
      "source": []
    },
    {
      "cell_type": "markdown",
      "id": "697fc1dd",
      "metadata": {
        "id": "697fc1dd"
      },
      "source": [
        "3) practiquemos algunas operaciones matematicas para refrescar!!\n",
        "\n",
        "  defina cada variable y responda las siguientes preguntas:  \n",
        "  * a = 3\n",
        "  * b = 5\n",
        "  * c = 4\n",
        "\n",
        "  3.1) el resultado de la suma de a y c\n",
        "\n",
        "  3.2) el resultado de A menos B\n",
        "\n",
        "  3.3) la multiplicacion de A y C\n",
        "\n",
        "  3.4) cual es el cuadrado de B ?\n",
        "\n",
        "  3.5) dividir B en C veces es igual a.. ? y si la division es entera? cual es el resto?\n",
        "\n",
        "  3.6) cual es la raiz cuadrada de C ?\n",
        "\n",
        "  3.7) es A par? y C ?\n",
        "\n",
        "**ayuda**: que hace el operador %?\n",
        "\n",
        "\n",
        "\n",
        "\n",
        "\n"
      ]
    },
    {
      "cell_type": "code",
      "execution_count": null,
      "id": "cc8fa1c1",
      "metadata": {
        "id": "cc8fa1c1"
      },
      "outputs": [],
      "source": []
    },
    {
      "cell_type": "code",
      "execution_count": null,
      "id": "57281169",
      "metadata": {
        "id": "57281169"
      },
      "outputs": [],
      "source": []
    },
    {
      "cell_type": "markdown",
      "id": "fe6aefcb",
      "metadata": {
        "id": "fe6aefcb"
      },
      "source": [
        "4)\n",
        "\n",
        "pedir al usuario el precio de cierre de GGAL y guardarla en variable \"ggal_price\". Si tengo la certeza que mañana no subira ni bajara mas de un X% (ingresar por consola tambien),entre que posibles precios se podra encontrar mañana? guardar los rangos minimos y maximos en dos variables."
      ]
    },
    {
      "cell_type": "code",
      "execution_count": null,
      "id": "55d7ad2f",
      "metadata": {
        "id": "55d7ad2f"
      },
      "outputs": [],
      "source": []
    },
    {
      "cell_type": "code",
      "execution_count": null,
      "id": "222cf699",
      "metadata": {
        "id": "222cf699"
      },
      "outputs": [],
      "source": []
    },
    {
      "cell_type": "markdown",
      "id": "c68cb6db",
      "metadata": {
        "id": "c68cb6db"
      },
      "source": [
        "5) siguiendo con el ejercicio anterior.. imprimir nuevamente las variables \"ggal_price_max\" y \"ggal_price_min\". Supongamos que ahora tenemos la certeza de que el valor de mañana para ggal estara entre el rango de precios maximo y minimo...\n",
        "\n",
        "Generar aleatoriamente el precio de ggal de mañana asumiendo que cualquier valor entre el máximo y el mínimo tienen la misma probabilidad de ocurrencia"
      ]
    },
    {
      "cell_type": "code",
      "execution_count": null,
      "id": "bed3ccb0",
      "metadata": {
        "id": "bed3ccb0"
      },
      "outputs": [],
      "source": []
    },
    {
      "cell_type": "code",
      "execution_count": null,
      "id": "dbfb1bcd",
      "metadata": {
        "id": "dbfb1bcd"
      },
      "outputs": [],
      "source": []
    },
    {
      "cell_type": "markdown",
      "id": "53e2f6f5",
      "metadata": {
        "id": "53e2f6f5"
      },
      "source": [
        "5b) Idem al anterior pero asumir esta vez que el mínimo y maximo dados son los topes de 3 sigmas y que GGAL sigue una distribucion normal\n",
        "Imprimir el resultado en un fstring con 2 posiciones decimales"
      ]
    },
    {
      "cell_type": "code",
      "execution_count": null,
      "id": "aae29cd7",
      "metadata": {
        "id": "aae29cd7"
      },
      "outputs": [],
      "source": []
    },
    {
      "cell_type": "code",
      "execution_count": null,
      "id": "ce6c4e5e",
      "metadata": {
        "id": "ce6c4e5e"
      },
      "outputs": [],
      "source": []
    },
    {
      "cell_type": "markdown",
      "id": "144f07b7",
      "metadata": {
        "id": "144f07b7"
      },
      "source": [
        "6) Sabiendo que la accion de BMA cerro en $ 220, asumiendo que BMA tiene una volatilidad  diaria del 3% y en promedio sube un 0.027%\n",
        "\n",
        "Pedir al usuario que estime a que precio abrira mañana.\n",
        "Generar un precio aleatorio asumiendo una distribucion normal e indicar que tanta diferencia hubo en la estimacion del usuario con el precio aleatorio generado.\n"
      ]
    },
    {
      "cell_type": "code",
      "execution_count": null,
      "id": "1bcf139d",
      "metadata": {
        "id": "1bcf139d"
      },
      "outputs": [],
      "source": []
    },
    {
      "cell_type": "code",
      "execution_count": null,
      "id": "84116706",
      "metadata": {
        "id": "84116706"
      },
      "outputs": [],
      "source": []
    },
    {
      "cell_type": "markdown",
      "id": "14fbbccc",
      "metadata": {
        "id": "14fbbccc"
      },
      "source": [
        "7) Que fecha es hoy? imprimir la fecha y el tipo de dato a continuacion. Para finalizar guardar en la variable \"date_string\" la fecha en el tipo string utilizando el metodo visto en clase.\n"
      ]
    },
    {
      "cell_type": "code",
      "execution_count": null,
      "id": "40840681",
      "metadata": {
        "id": "40840681"
      },
      "outputs": [],
      "source": []
    },
    {
      "cell_type": "code",
      "execution_count": null,
      "id": "3c474d0f",
      "metadata": {
        "id": "3c474d0f"
      },
      "outputs": [],
      "source": []
    },
    {
      "cell_type": "markdown",
      "id": "d472cbde",
      "metadata": {
        "id": "d472cbde"
      },
      "source": [
        "8) Asignar el dia mes y año a las variables \"day\" , \"month\" y \"year\" respectivamente."
      ]
    },
    {
      "cell_type": "code",
      "execution_count": null,
      "id": "6b322a30",
      "metadata": {
        "id": "6b322a30"
      },
      "outputs": [],
      "source": []
    },
    {
      "cell_type": "code",
      "execution_count": null,
      "id": "bbd0eb11",
      "metadata": {
        "id": "bbd0eb11"
      },
      "outputs": [],
      "source": []
    },
    {
      "cell_type": "markdown",
      "id": "454f9c31",
      "metadata": {
        "id": "454f9c31"
      },
      "source": [
        "9)\n",
        "\n",
        "pedir al usuario por consola su fecha de nacimiento (formato YYYY-MM-DD) y calcular cuantos años tiene hoy.\n",
        "\n",
        "\n",
        "como podria evitar dolores de cabeza en cuanto al formato a la hora de solicitar los datos?"
      ]
    },
    {
      "cell_type": "code",
      "execution_count": null,
      "id": "24cbd6fa",
      "metadata": {
        "id": "24cbd6fa"
      },
      "outputs": [],
      "source": []
    },
    {
      "cell_type": "code",
      "execution_count": null,
      "id": "e01821a0",
      "metadata": {
        "id": "e01821a0"
      },
      "outputs": [],
      "source": []
    },
    {
      "cell_type": "markdown",
      "id": "ef31bd2c",
      "metadata": {
        "id": "ef31bd2c"
      },
      "source": [
        "10) cual es la fecha UNIX (tambien llamada timestamp) del primer segundo del actual milenio?"
      ]
    },
    {
      "cell_type": "code",
      "execution_count": null,
      "id": "5221ca80",
      "metadata": {
        "id": "5221ca80"
      },
      "outputs": [],
      "source": []
    },
    {
      "cell_type": "code",
      "execution_count": null,
      "id": "789d8f25",
      "metadata": {
        "id": "789d8f25"
      },
      "outputs": [],
      "source": []
    },
    {
      "cell_type": "markdown",
      "id": "cb154a9e",
      "metadata": {
        "id": "cb154a9e"
      },
      "source": [
        "11) juguemos un rato con los slicing en strings!!\n",
        "* utilizando metodos de strings , capturar en una variable la frase \"es la mas alta de los ultimos años\"\n",
        "* cual es la ultima palabra?\n",
        "* demostrar que la palabra Neuquen es un palindromo ( capicua en criollo)"
      ]
    },
    {
      "cell_type": "code",
      "execution_count": null,
      "id": "7024813b",
      "metadata": {
        "id": "7024813b"
      },
      "outputs": [],
      "source": [
        "oracion = \"\"\"    La inflación de EE.UU. es la más alta de los últimos años. ¿No sabés qué hacer para que tus dólares no pierdan valor?\n",
        "Te compartimos tres carteras de ONs y sus rendimientos anuales esperados para que puedas proteger tu capital    \"\"\""
      ]
    },
    {
      "cell_type": "code",
      "execution_count": null,
      "id": "a5b3ffeb",
      "metadata": {
        "id": "a5b3ffeb"
      },
      "outputs": [],
      "source": []
    },
    {
      "cell_type": "code",
      "execution_count": null,
      "id": "a967e785",
      "metadata": {
        "id": "a967e785"
      },
      "outputs": [],
      "source": []
    },
    {
      "cell_type": "markdown",
      "id": "bdcfa234",
      "metadata": {
        "id": "bdcfa234"
      },
      "source": [
        "12) Limpiar el string de cotizaciones lo maximo posible."
      ]
    },
    {
      "cell_type": "code",
      "execution_count": null,
      "id": "a04b284b",
      "metadata": {
        "id": "a04b284b"
      },
      "outputs": [],
      "source": [
        "cotizaciones = \"\"\"BMA C 220,00\n",
        "BMA C $219,22\n",
        "BMA V221,50\n",
        "COME V $3.00\n",
        "GGAL c 190.95\n",
        "BMA V $220.25\n",
        "GGAL v 187,20\n",
        "TS V $40,30\n",
        "TS C $45,20\n",
        "TS V 40,20\n",
        "COME C $3,01\"\"\""
      ]
    },
    {
      "cell_type": "code",
      "execution_count": null,
      "id": "e5630401",
      "metadata": {
        "id": "e5630401"
      },
      "outputs": [],
      "source": []
    },
    {
      "cell_type": "code",
      "execution_count": null,
      "id": "562be81f",
      "metadata": {
        "id": "562be81f"
      },
      "outputs": [],
      "source": []
    }
  ],
  "metadata": {
    "kernelspec": {
      "display_name": "Python 3 (ipykernel)",
      "language": "python",
      "name": "python3"
    },
    "language_info": {
      "codemirror_mode": {
        "name": "ipython",
        "version": 3
      },
      "file_extension": ".py",
      "mimetype": "text/x-python",
      "name": "python",
      "nbconvert_exporter": "python",
      "pygments_lexer": "ipython3",
      "version": "3.10.9"
    },
    "colab": {
      "provenance": [],
      "include_colab_link": true
    }
  },
  "nbformat": 4,
  "nbformat_minor": 5
}