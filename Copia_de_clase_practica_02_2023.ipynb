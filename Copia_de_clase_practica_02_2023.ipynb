{
  "cells": [
    {
      "cell_type": "markdown",
      "metadata": {
        "id": "0a6uSS3uapr8"
      },
      "source": [
        "# Clase Practica 02\n",
        "\n",
        " - Ejercitacion de temas vistos en clases teoricas 1, 2 y 3."
      ]
    },
    {
      "cell_type": "markdown",
      "metadata": {
        "id": "4i7MwhJLauMy"
      },
      "source": [
        "### 1)\n",
        "generar una lista que contenga todos los numeros del 1 al 9 con la funcion vista en clase. guardarla en la variable \"numeros\".\n"
      ]
    },
    {
      "cell_type": "code",
      "execution_count": null,
      "metadata": {
        "id": "ETqMxh8mawzW"
      },
      "outputs": [],
      "source": []
    },
    {
      "cell_type": "markdown",
      "metadata": {
        "id": "9oepPfOca0z2"
      },
      "source": [
        "### 2)\n",
        "hacer slicing con la variable \"numeros\" e imprimir:\n",
        "\n",
        "* numeros pares\n",
        "* numeros del 7 al 9\n",
        "* numeros impares de mayor a menor\n",
        "* promedio de la sumatoria de los elementos\n",
        "* promedio de la sumatoria sin tener en cuenta el primer elemento"
      ]
    },
    {
      "cell_type": "code",
      "execution_count": null,
      "metadata": {
        "id": "4olv2Z48a1UV"
      },
      "outputs": [],
      "source": []
    },
    {
      "cell_type": "markdown",
      "metadata": {
        "id": "moZnFCTAbFCq"
      },
      "source": [
        "### 3)\n",
        "Solicitar al usuario un valor entero para generar una tabla de multiplicación (1 al 10), presentando los resultados en pantalla y almacenándolos en una lista. ¿Como podría dejar almacenado dichos resultados en una tupla , en lugar de la lista?"
      ]
    },
    {
      "cell_type": "code",
      "execution_count": null,
      "metadata": {
        "id": "xbKaIq1JbFlf"
      },
      "outputs": [],
      "source": []
    },
    {
      "cell_type": "markdown",
      "metadata": {
        "id": "qntemL3kbNYl"
      },
      "source": [
        "### 4)\n",
        "Utilizando otro número para las tablas, genera una nueva tabla de multiplicar y aplique la misma lógica utilizada en el punto 3. Luego, compare la nueva lista resultante con la del punto 3 y determine qué valores están presentes en ambas listas.\n",
        "\n",
        "Que formas de resolucion ofrece el chat gpt?"
      ]
    },
    {
      "cell_type": "code",
      "execution_count": null,
      "metadata": {
        "id": "VnsW6oCCbN7p"
      },
      "outputs": [],
      "source": []
    },
    {
      "cell_type": "markdown",
      "metadata": {
        "id": "T6EdZ7kxbVe6"
      },
      "source": [
        "###  5)\n",
        "solicitar al usuario cuantos elementos tendra nuestra lista.\n",
        "\n",
        "Utilizando ese dato, solicitar al usuario tantos numeros como longitud de la lista, dando la posibilidad de que sean numeros decimales.\n",
        "\n",
        "Guardar dichos numeros en una lista, y luego A MANO  calcular la media y la desviacion estandar. (__chat gpt__)\n",
        "\n",
        "Verificar con alguna libreria, los resultados obtenidos."
      ]
    },
    {
      "cell_type": "code",
      "execution_count": null,
      "metadata": {
        "id": "YSTKPmYgbV8H"
      },
      "outputs": [],
      "source": []
    },
    {
      "cell_type": "markdown",
      "metadata": {
        "id": "E6kw3TjQbaUk"
      },
      "source": [
        "###  6)\n",
        "\n",
        "Pedir al usuario 5 tickers y guardarlos en una lista. Verificar que ninguno tenga espacios al principio ni final, y que se encuentren en mayusculas.\n",
        "\n",
        "Usar la lista \"historial_de_operaciones\" para ver si he operado algun ticker de los pasados por el usuario.\n",
        "\n",
        "En el caso de hallar coincidencias , imprimir tales tickers en un texto minuscula como \"el ticker X ha sido operado por mi\"\n",
        "\n",
        "Para aquellos tickers que no se hallen coincidencias, eliminarlos de \"historial de operaciones\" y guardarlos en una tupla.(__chat gpt__)"
      ]
    },
    {
      "cell_type": "code",
      "execution_count": null,
      "metadata": {
        "id": "nitCjjYLba1L"
      },
      "outputs": [],
      "source": [
        "historial_de_operaciones = [\"BMA\" , \"KO\" , \"TSLA\" , \"YPFD\"]"
      ]
    },
    {
      "cell_type": "code",
      "execution_count": null,
      "metadata": {
        "id": "OtbT9wbKbg0K"
      },
      "outputs": [],
      "source": []
    },
    {
      "cell_type": "markdown",
      "metadata": {
        "id": "RKWwYlJVbhQS"
      },
      "source": [
        "### 7)\n",
        "\n",
        "Con el String utilizado en la clase pasada, volverlo a limpiar para dejarlo normalizado, y luego generar una lista con las operaciones individuales (ticker operacion precio).\n",
        "\n",
        "\n",
        "Obtener el precio promedio de las operaciones."
      ]
    },
    {
      "cell_type": "code",
      "execution_count": null,
      "metadata": {
        "id": "5eta8bHKbkly"
      },
      "outputs": [],
      "source": [
        "cotizaciones = \"\"\"BMA C 220,00\n",
        "BMA C $219,22\n",
        "BMA V $221,50\n",
        "COME V $3,00\n",
        "GGAL c $190,95\n",
        "BMA V $220,25\n",
        "GGAL v 187,20\n",
        "TS V $40,30\n",
        "TS C $45,20\n",
        "TS V 40,20\n",
        "COME C $3,01\"\"\""
      ]
    },
    {
      "cell_type": "code",
      "execution_count": null,
      "metadata": {
        "id": "25VtSuZnbnS8"
      },
      "outputs": [],
      "source": []
    },
    {
      "cell_type": "markdown",
      "metadata": {
        "id": "UVeS2l0gcL6q"
      },
      "source": [
        "### 8)\n",
        "\n",
        "Pedir al usuario sus 3 acciones favoritas, y sus precios actuales, guardando este par de datos dentro de una lista, y luego todas estas listas de pares, dentro de la tupla \"acciones_favs\"\n",
        "\n",
        "Con los datos de la tupla, generar dos listas. Una con los tickers y otra con los precios."
      ]
    },
    {
      "cell_type": "code",
      "execution_count": null,
      "metadata": {
        "id": "uW6-zBtwcMbg"
      },
      "outputs": [],
      "source": []
    },
    {
      "cell_type": "markdown",
      "metadata": {
        "id": "H4p0b-qPct_Q"
      },
      "source": [
        "### 9)\n",
        "Se requiere saber cuales son los numeros que __NO__ se repiten dentro de la lista, para informarlos por consola.\n",
        "\n",
        "El informe debe ser del tipo __\"es X que Y se encuentra solo una vez en 'nums'   \"__"
      ]
    },
    {
      "cell_type": "code",
      "execution_count": null,
      "metadata": {
        "id": "nkUmwHvOcukH"
      },
      "outputs": [],
      "source": [
        "nums = [1, 2, 3, 1, 4, 2, 5, 6, 3]"
      ]
    },
    {
      "cell_type": "code",
      "execution_count": null,
      "metadata": {
        "id": "QNZyL1mgcw83"
      },
      "outputs": [],
      "source": []
    },
    {
      "cell_type": "markdown",
      "metadata": {
        "id": "lm8ouATucxQ4"
      },
      "source": [
        "### 10)\n",
        "### a)\n",
        "\n",
        "En base a la lista dada, imprimir en formato \"en fecha X se ha operado: una C/V del papel Y a un precio de P \"."
      ]
    },
    {
      "cell_type": "code",
      "execution_count": null,
      "metadata": {
        "id": "87DfZ26Mc_Xi"
      },
      "outputs": [],
      "source": [
        "fechas_a = [[\"2023-05-01\", \"C\" , \"BMA\" , 220] ,\n",
        "          [\"2023-05-02\" , \"V\" , \"COME\" , 3.00],\n",
        "          [\"2023-05-03\" , \"C\" , \"GGAL\" , 451.32] ]"
      ]
    },
    {
      "cell_type": "code",
      "execution_count": null,
      "metadata": {
        "id": "gIeqtdNddPY1"
      },
      "outputs": [],
      "source": []
    },
    {
      "cell_type": "markdown",
      "metadata": {
        "id": "TJcZJMk4dQDs"
      },
      "source": [
        "### b)\n",
        "En base a la lista dada, imprimir en formato \"en fecha X se ha operado: una C/V del papel Y a un precio de P \"."
      ]
    },
    {
      "cell_type": "code",
      "execution_count": null,
      "metadata": {
        "id": "P_RpJGDIdZ8j"
      },
      "outputs": [],
      "source": [
        "fechas_b = [\"2023-05-01\", \"C\" , \"BMA\" , 220 ,\n",
        "          \"2023-05-02\" , \"V\" , \"COME\" , 3.00,\n",
        "          \"2023-05-03\" , \"C\" , \"GGAL\" , 451.32]"
      ]
    },
    {
      "cell_type": "code",
      "execution_count": null,
      "metadata": {
        "id": "zwWAwfQbdgIP"
      },
      "outputs": [],
      "source": []
    },
    {
      "cell_type": "markdown",
      "metadata": {
        "id": "Fns9fBH6dgsj"
      },
      "source": [
        "### c)\n",
        "En base a la lista dada, imprimir en formato \"en fecha X se ha operado: una C/V del papel Y a un precio de P \"."
      ]
    },
    {
      "cell_type": "code",
      "execution_count": null,
      "metadata": {
        "id": "vA-bpNYYduBZ"
      },
      "outputs": [],
      "source": [
        "fechas_c = [[\"2023-05-01\", [\"C\"] , [\"BMA\"] , [220]] ,\n",
        "          [\"2023-05-02\" , [\"V\"] , [\"COME\"] , [3.00]],\n",
        "          [\"2023-05-03\" , [\"C\"] , [\"GGAL\"] , [451.32]]]"
      ]
    },
    {
      "cell_type": "code",
      "execution_count": null,
      "metadata": {
        "id": "W2xVb9LCdwTk"
      },
      "outputs": [],
      "source": []
    },
    {
      "cell_type": "markdown",
      "metadata": {
        "id": "LEZp8ZXVdw5Y"
      },
      "source": [
        "### d)\n",
        "\n",
        "En base a la lista dada, imprimir en formato \"en fecha X se ha operado: una C/V del papel Y a un precio de P \"."
      ]
    },
    {
      "cell_type": "code",
      "execution_count": null,
      "metadata": {
        "id": "kzjqGyB4dzn_"
      },
      "outputs": [],
      "source": [
        "fechas_d = [[\"2023-05-01\", [\"C\" , \"C\" , \"V\"] , [\"BMA\" ,\"BMA\" , \"BMA\"] , [220 , 219.22 , 221.5]] ,\n",
        "          [\"2023-05-02\" , [\"V\" , \"C\" , \"V\"] , [\"COME\" ,\"GGAL\" , \"BMA\"] , [3.00 , 190.95 , 220.25]] ]"
      ]
    },
    {
      "cell_type": "code",
      "execution_count": null,
      "metadata": {
        "id": "yCKFFUQ6d4QI"
      },
      "outputs": [],
      "source": []
    },
    {
      "cell_type": "markdown",
      "metadata": {
        "id": "4hOn8X8_d9Fp"
      },
      "source": [
        "### 11)\n",
        "generar un array de 25 numeros entre 1 y 100. Eliminar el 3er elemento del array , y reemplazar por 0 al numero que se encuentre en la posicion 21. Imprimir numero por numero, junto a su cuadrado , de forma ordenada de mayor a menor. (__chat gpt__)"
      ]
    },
    {
      "cell_type": "code",
      "execution_count": null,
      "metadata": {
        "id": "cJsM7qqKd-D5"
      },
      "outputs": [],
      "source": []
    },
    {
      "cell_type": "markdown",
      "metadata": {
        "id": "CrYCnkkXeIoY"
      },
      "source": [
        "### 12)\n",
        "Generar 350 numeros aleatorios(menores a mil) y guardarlos en una lista.\n",
        "Calcular media, moda y mediana. Calcular desvio , varianza y deciles utilizando metodos de librerias de calculo. (__chat gpt__)"
      ]
    },
    {
      "cell_type": "code",
      "execution_count": null,
      "metadata": {
        "id": "OuJXl7O_eJ9R"
      },
      "outputs": [],
      "source": []
    }
  ],
  "metadata": {
    "colab": {
      "provenance": []
    },
    "kernelspec": {
      "display_name": "Python 3 (ipykernel)",
      "language": "python",
      "name": "python3"
    },
    "language_info": {
      "codemirror_mode": {
        "name": "ipython",
        "version": 3
      },
      "file_extension": ".py",
      "mimetype": "text/x-python",
      "name": "python",
      "nbconvert_exporter": "python",
      "pygments_lexer": "ipython3",
      "version": "3.10.9"
    }
  },
  "nbformat": 4,
  "nbformat_minor": 0
}