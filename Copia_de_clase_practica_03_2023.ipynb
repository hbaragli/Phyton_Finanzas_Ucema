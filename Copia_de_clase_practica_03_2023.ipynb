{
  "cells": [
    {
      "cell_type": "markdown",
      "id": "c1ed6c3f",
      "metadata": {
        "id": "c1ed6c3f"
      },
      "source": [
        "# Clase practica 03\n",
        "practica de clases teoricas 1,2,3 y 4."
      ]
    },
    {
      "cell_type": "markdown",
      "id": "810500aa",
      "metadata": {
        "id": "810500aa"
      },
      "source": [
        "###  1)\n",
        "encontrar las tablas de multiplicar del 1 al 5 inclusive. evaluar si cada resultado es par, y en dicho caso imprimirlo por pantalla."
      ]
    },
    {
      "cell_type": "code",
      "execution_count": null,
      "id": "9c042fe3",
      "metadata": {
        "id": "9c042fe3"
      },
      "outputs": [],
      "source": []
    },
    {
      "cell_type": "code",
      "execution_count": null,
      "id": "5dcc8939",
      "metadata": {
        "id": "5dcc8939"
      },
      "outputs": [],
      "source": []
    },
    {
      "cell_type": "markdown",
      "id": "1ddba15b",
      "metadata": {
        "id": "1ddba15b"
      },
      "source": [
        "###  2)\n",
        "imprimir las tablas de multiplicar del 1 al 10 inclusive. solo imprimir si el resultado no es multiplo de 8.\n",
        "Guardar los resultados de cada operacion en listas \"es_multiplo\" y \"no_es_multiplo\" segun corresponda.\n"
      ]
    },
    {
      "cell_type": "code",
      "execution_count": null,
      "id": "e11248fb",
      "metadata": {
        "id": "e11248fb"
      },
      "outputs": [],
      "source": []
    },
    {
      "cell_type": "code",
      "execution_count": null,
      "id": "f007084d",
      "metadata": {
        "id": "f007084d"
      },
      "outputs": [],
      "source": []
    },
    {
      "cell_type": "markdown",
      "id": "738934e4",
      "metadata": {
        "id": "738934e4"
      },
      "source": [
        "## ejecutar las siguientes listas cada vez que comienza los ejercicios de 3 a 5 inclusive:"
      ]
    },
    {
      "cell_type": "code",
      "execution_count": null,
      "id": "7282ad60",
      "metadata": {
        "id": "7282ad60"
      },
      "outputs": [],
      "source": [
        "nyse = [\"KO\", \"TSLA\" , \"TS\" , \"AAPL\" , \"BRK.A\"]\n",
        "byma = [\"EDN\" , \"GGAL\" , \"YPFD\" , \"CTIO\"]"
      ]
    },
    {
      "cell_type": "code",
      "execution_count": null,
      "id": "6c5d4a89",
      "metadata": {
        "id": "6c5d4a89"
      },
      "outputs": [],
      "source": []
    },
    {
      "cell_type": "code",
      "execution_count": null,
      "id": "b76a6e67",
      "metadata": {
        "id": "b76a6e67"
      },
      "outputs": [],
      "source": []
    },
    {
      "cell_type": "markdown",
      "id": "b0b915d7",
      "metadata": {
        "id": "b0b915d7"
      },
      "source": [
        "### 3)\n",
        "elegir un ticker aleatoriamente de byma ( __ayuda__ : metodo de la libreria random a investigar https://www.w3schools.com/python/module_random.asp) y guardarlo en la variable \"from_byma_to_nyse\". primero imprimir dicho ticker y luego agregarlo a la lista de nyse, e imprimir esta ultima."
      ]
    },
    {
      "cell_type": "code",
      "execution_count": null,
      "id": "1c73070c",
      "metadata": {
        "id": "1c73070c"
      },
      "outputs": [],
      "source": [
        "nyse = [\"KO\", \"TSLA\" , \"TS\" , \"AAPL\" , \"BRK.A\"]\n",
        "byma = [\"EDN\" , \"GGAL\" , \"YPFD\" , \"CTIO\"]"
      ]
    },
    {
      "cell_type": "code",
      "execution_count": null,
      "id": "fbfc5379",
      "metadata": {
        "id": "fbfc5379"
      },
      "outputs": [],
      "source": []
    },
    {
      "cell_type": "code",
      "execution_count": null,
      "id": "9f995c77",
      "metadata": {
        "id": "9f995c77"
      },
      "outputs": [],
      "source": []
    },
    {
      "cell_type": "markdown",
      "id": "8939dec2",
      "metadata": {
        "id": "8939dec2"
      },
      "source": [
        "### 4)\n",
        "mezclar aleatoriamente la lista nyse e imprimirla. Imprimir el anteultimo ticker de nyse y luego agregarlo a la lista byma en primera posicion.\n",
        "imprimir para corroborar.\n",
        "* __ayuda__ : metodo de libreria random a investigar."
      ]
    },
    {
      "cell_type": "code",
      "execution_count": null,
      "id": "1a4dd21e",
      "metadata": {
        "id": "1a4dd21e"
      },
      "outputs": [],
      "source": [
        "nyse = [\"KO\", \"TSLA\" , \"TS\" , \"AAPL\" , \"BRK.A\"]\n",
        "byma = [\"EDN\" , \"GGAL\" , \"YPFD\" , \"CTIO\"]"
      ]
    },
    {
      "cell_type": "code",
      "execution_count": null,
      "id": "2ecebe54",
      "metadata": {
        "id": "2ecebe54"
      },
      "outputs": [],
      "source": []
    },
    {
      "cell_type": "code",
      "execution_count": null,
      "id": "67302635",
      "metadata": {
        "id": "67302635"
      },
      "outputs": [],
      "source": []
    },
    {
      "cell_type": "markdown",
      "id": "bff8f083",
      "metadata": {
        "id": "bff8f083"
      },
      "source": [
        "### 5)\n",
        "fusionar las dos listas en una , luego cargar estos datos en una variable llamada \"lista_larga\". Acomodar dicha lista de forma INVERSA (Z a A) , imprimir y luego:\n",
        "* elimilar el primer elemento utilizando el nombre del ticker (str) correspondiente.\n",
        "* eliminar el ultimo elemento utilizando el indice del mismo e imprimir cual es dicho ticker.\n",
        "\n",
        "imprimir nuevamente la lista para verificar los cambios."
      ]
    },
    {
      "cell_type": "code",
      "execution_count": null,
      "id": "e285a33b",
      "metadata": {
        "id": "e285a33b"
      },
      "outputs": [],
      "source": [
        "nyse = [\"KO\", \"TSLA\" , \"TS\" , \"AAPL\" , \"BRK.A\"]\n",
        "byma = [\"EDN\" , \"GGAL\" , \"YPFD\" , \"CTIO\"]"
      ]
    },
    {
      "cell_type": "code",
      "execution_count": null,
      "id": "b3211350",
      "metadata": {
        "id": "b3211350"
      },
      "outputs": [],
      "source": []
    },
    {
      "cell_type": "code",
      "execution_count": null,
      "id": "0e084f37",
      "metadata": {
        "id": "0e084f37"
      },
      "outputs": [],
      "source": []
    },
    {
      "cell_type": "markdown",
      "id": "318925d3",
      "metadata": {
        "id": "318925d3"
      },
      "source": [
        "### 6)\n",
        "pasar ambas listas a un diccionario llamado \"dict_1\" utilizando la funcion zip. utilizar la lista __t__ como claves."
      ]
    },
    {
      "cell_type": "code",
      "execution_count": null,
      "id": "e4b69816",
      "metadata": {
        "id": "e4b69816"
      },
      "outputs": [],
      "source": [
        "t = [\"GGAL\" , \"BMA\", \"SUPV\" , \"LOMA\" , \"MIRG\" , \"MORI\"]\n",
        "p = [180.5 , 305.65 , 68.5 , 224.1 , 3212.25 , 11.8]"
      ]
    },
    {
      "cell_type": "code",
      "execution_count": null,
      "id": "2597624d",
      "metadata": {
        "id": "2597624d"
      },
      "outputs": [],
      "source": []
    },
    {
      "cell_type": "code",
      "execution_count": null,
      "id": "7f144aa4",
      "metadata": {
        "id": "7f144aa4"
      },
      "outputs": [],
      "source": []
    },
    {
      "cell_type": "markdown",
      "id": "80675f47",
      "metadata": {
        "id": "80675f47"
      },
      "source": [
        "### 7)\n",
        "pasar del diccionario \"dict_1\" a las listas __t__ y __p__ nuevamente."
      ]
    },
    {
      "cell_type": "code",
      "execution_count": null,
      "id": "97ea1daf",
      "metadata": {
        "id": "97ea1daf"
      },
      "outputs": [],
      "source": []
    },
    {
      "cell_type": "code",
      "execution_count": null,
      "id": "b0beb819",
      "metadata": {
        "id": "b0beb819"
      },
      "outputs": [],
      "source": []
    },
    {
      "cell_type": "markdown",
      "id": "dae39e06",
      "metadata": {
        "id": "dae39e06"
      },
      "source": [
        "###  8)\n",
        "volver a pasar ambas listas a un diccionario llamado \"dict_2\" pero utilizando un ciclo FOR."
      ]
    },
    {
      "cell_type": "code",
      "execution_count": null,
      "id": "bccc28e3",
      "metadata": {
        "id": "bccc28e3"
      },
      "outputs": [],
      "source": []
    },
    {
      "cell_type": "code",
      "execution_count": null,
      "id": "5771ef55",
      "metadata": {
        "id": "5771ef55"
      },
      "outputs": [],
      "source": []
    },
    {
      "cell_type": "markdown",
      "id": "dd9d3278",
      "metadata": {
        "id": "dd9d3278"
      },
      "source": [
        "###  9)\n",
        "pasar todos los elementos de dict_2 a una lista llamada \"lista_completa\" utilizando la funcion zip.\n",
        "\n",
        "imprimir el tipo de dato de los elementos dentro de la lista."
      ]
    },
    {
      "cell_type": "code",
      "execution_count": null,
      "id": "39a2a4ad",
      "metadata": {
        "id": "39a2a4ad"
      },
      "outputs": [],
      "source": []
    },
    {
      "cell_type": "code",
      "execution_count": null,
      "id": "1507dd15",
      "metadata": {
        "id": "1507dd15"
      },
      "outputs": [],
      "source": []
    },
    {
      "cell_type": "markdown",
      "id": "4c6df31a",
      "metadata": {
        "id": "4c6df31a"
      },
      "source": [
        "###  10)\n",
        "por ultimo crear un diccionario \"dict_3\" utilizando los datos de \"lista_completa\""
      ]
    },
    {
      "cell_type": "code",
      "execution_count": null,
      "id": "e1580191",
      "metadata": {
        "id": "e1580191"
      },
      "outputs": [],
      "source": []
    },
    {
      "cell_type": "code",
      "execution_count": null,
      "id": "b7125f01",
      "metadata": {
        "id": "b7125f01"
      },
      "outputs": [],
      "source": []
    },
    {
      "cell_type": "markdown",
      "id": "c673d75e",
      "metadata": {
        "id": "c673d75e"
      },
      "source": [
        "###  11)\n",
        "__seguimos utilizando dict_3 como fuente de datos hasta ejercicio 13 inclusive.__\n",
        "\n",
        "pedir al usuario por consola un ticker e imprimir su precio. Encontrar al menos dos soluciones para que el codigo no arroje errores en caso de que el ticker no se encuentre entre nuestros datos. __chat gpt__"
      ]
    },
    {
      "cell_type": "code",
      "execution_count": null,
      "id": "c759d163",
      "metadata": {
        "id": "c759d163"
      },
      "outputs": [],
      "source": []
    },
    {
      "cell_type": "code",
      "execution_count": null,
      "id": "59d259d7",
      "metadata": {
        "id": "59d259d7"
      },
      "outputs": [],
      "source": []
    },
    {
      "cell_type": "markdown",
      "id": "3583c134",
      "metadata": {
        "id": "3583c134"
      },
      "source": [
        "###  12)\n",
        "\n",
        "elegir un ticker aleatoriamente y luego reemplazar su precio por uno nuevo que se encuentre en un rango +/- 2.5$\n",
        "\n",
        "imprimir el ticker seleccionado, el precio original , el nuevo precio y por ultimo el diccionario modificado."
      ]
    },
    {
      "cell_type": "code",
      "execution_count": null,
      "id": "10449b1f",
      "metadata": {
        "id": "10449b1f"
      },
      "outputs": [],
      "source": []
    },
    {
      "cell_type": "code",
      "execution_count": null,
      "id": "e0703a50",
      "metadata": {
        "id": "e0703a50"
      },
      "outputs": [],
      "source": []
    },
    {
      "cell_type": "markdown",
      "id": "17e3638e",
      "metadata": {
        "id": "17e3638e"
      },
      "source": [
        "###  13)  \n",
        "elegir un ticker aleatoriamente y luego reemplazar su precio por uno nuevo que se encuentre en un rango +/- 3.5 %  \n",
        "\n",
        "imprimir el ticker seleccionado, el precio original , el nuevo precio y por ultimo el diccionario modificado."
      ]
    },
    {
      "cell_type": "code",
      "execution_count": null,
      "id": "ad9c2557",
      "metadata": {
        "id": "ad9c2557"
      },
      "outputs": [],
      "source": []
    },
    {
      "cell_type": "code",
      "execution_count": null,
      "id": "fec912e8",
      "metadata": {
        "id": "fec912e8"
      },
      "outputs": [],
      "source": []
    },
    {
      "cell_type": "markdown",
      "id": "fcecfdb9",
      "metadata": {
        "id": "fcecfdb9"
      },
      "source": [
        "### 14)\n",
        "\n",
        "Supongamos que estamos evaluando otorgar prestamos con una tasa que varia en funcion del monto y del perfil de riesgo del beneficiario (bajo , medio y alto). Para montos mayores a 1.000.000 , la tasa sera del 5% sobre el capital. Para montos menores a 300.000 , la tasa sera del 12%. Para aquellos montos intermedios, la tasa estara en un 8%.\n",
        "\n",
        "En cuanto al perfil, no se otorgara prestamos mayores a 1.000.000 para aquellos de riesgo alto. En caso de un perfil de riesgo bajo, se descontara un 1% a la tasa fijada sin importar el monto.\n",
        "\n",
        "En caso de ser una solicitud aprobada, se guardara en un diccionario \"aprobados\" donde se usara el nombre como __key__, y el __monto + tasa__ como __value__.\n",
        "\n",
        "en caso de no estar aprobada la solicitud, debera guardarse el nombre en la lista \"denegados\"\n",
        "\n",
        "Ademas se solicita:\n",
        "\n",
        "- contar cantidad de perfiles de riesgo alto (sin importar si el prestamo ha sido otorgado o no).\n",
        "- sumar las cantidades de dinero otorgadas para perfiles de riesgo medio y bajo(no se debe sumar la tasa)."
      ]
    },
    {
      "cell_type": "code",
      "execution_count": null,
      "id": "67cf4005",
      "metadata": {
        "id": "67cf4005"
      },
      "outputs": [],
      "source": [
        "solicitudes = {\n",
        "    \"Pepe\": [200000 , \"bajo\"],\n",
        "    \"Juan\": [3000000 , \"medio\"],\n",
        "    \"Victoria\": [600000 , \"medio\"],\n",
        "    \"Agostina\" : [1500000 , \"alto\"],\n",
        "    \"Julian\" : [300000 , \"alto\"],\n",
        "    \"Francisco\": [500000 , \"alto\"],\n",
        "    \"Pilar\": [3000000 , \"bajo\"]\n",
        "}"
      ]
    },
    {
      "cell_type": "code",
      "execution_count": null,
      "id": "61f5fe91",
      "metadata": {
        "id": "61f5fe91"
      },
      "outputs": [],
      "source": []
    },
    {
      "cell_type": "code",
      "execution_count": null,
      "id": "669e823a",
      "metadata": {
        "id": "669e823a"
      },
      "outputs": [],
      "source": []
    }
  ],
  "metadata": {
    "kernelspec": {
      "display_name": "Python 3 (ipykernel)",
      "language": "python",
      "name": "python3"
    },
    "language_info": {
      "codemirror_mode": {
        "name": "ipython",
        "version": 3
      },
      "file_extension": ".py",
      "mimetype": "text/x-python",
      "name": "python",
      "nbconvert_exporter": "python",
      "pygments_lexer": "ipython3",
      "version": "3.10.9"
    },
    "colab": {
      "provenance": []
    }
  },
  "nbformat": 4,
  "nbformat_minor": 5
}