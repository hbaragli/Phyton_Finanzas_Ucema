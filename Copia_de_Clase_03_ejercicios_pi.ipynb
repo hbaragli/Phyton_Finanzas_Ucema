{
  "cells": [
    {
      "cell_type": "markdown",
      "metadata": {
        "id": "view-in-github",
        "colab_type": "text"
      },
      "source": [
        "<a href=\"https://colab.research.google.com/github/hbaragli/Phyton_Finanzas_Ucema/blob/main/Copia_de_Clase_03_ejercicios_pi.ipynb\" target=\"_parent\"><img src=\"https://colab.research.google.com/assets/colab-badge.svg\" alt=\"Open In Colab\"/></a>"
      ]
    },
    {
      "cell_type": "markdown",
      "metadata": {
        "id": "cocr2-om8OX_"
      },
      "source": [
        "## Euler"
      ]
    },
    {
      "cell_type": "markdown",
      "metadata": {
        "id": "qjck3pMM8OYI"
      },
      "source": [
        "$$  \\large \\frac{\\pi^2}{6} = \\frac{1}{1^2} + \\frac{1}{2^2} + \\frac{1}{3^2} + \\frac{1}{4^2} + ... $$"
      ]
    },
    {
      "cell_type": "markdown",
      "metadata": {
        "id": "WiL6GxZj8OYJ"
      },
      "source": [
        "## Leibniz"
      ]
    },
    {
      "cell_type": "markdown",
      "metadata": {
        "id": "hkJeGv7W8OYL"
      },
      "source": [
        "$$  \\large \\frac{\\pi}{4} = 1 - \\frac{1}{3} + \\frac{1}{5} -  \\frac{1}{7} +... $$"
      ]
    },
    {
      "cell_type": "markdown",
      "metadata": {
        "id": "NG4nhSys8OYM"
      },
      "source": [
        "## Wallis"
      ]
    },
    {
      "cell_type": "markdown",
      "metadata": {
        "id": "Myn34fya8OYM"
      },
      "source": [
        "$$  \\large \\frac{\\pi}{2} = \\frac{2}{1} . \\frac{2}{3} . \\frac{4}{3} . \\frac{4}{5} . \\frac{6}{5} . \\frac{6}{7} ... $$"
      ]
    },
    {
      "cell_type": "markdown",
      "metadata": {
        "id": "anyJuS1Q8OYN"
      },
      "source": [
        "## Viete"
      ]
    },
    {
      "cell_type": "markdown",
      "metadata": {
        "id": "5xHSJoSQ8OYO"
      },
      "source": [
        "$$  \\large \\pi = 2 . \\frac{2}{\\sqrt{2}} . \\frac{2}{\\sqrt{2+\\sqrt{2}}} . \\frac{2}{\\sqrt{2+\\sqrt{2+\\sqrt{2}}}} ... $$"
      ]
    },
    {
      "cell_type": "code",
      "execution_count": null,
      "metadata": {
        "id": "-xsCqiQ-8OYP"
      },
      "outputs": [],
      "source": []
    }
  ],
  "metadata": {
    "kernelspec": {
      "display_name": "Python 3 (ipykernel)",
      "language": "python",
      "name": "python3"
    },
    "language_info": {
      "codemirror_mode": {
        "name": "ipython",
        "version": 3
      },
      "file_extension": ".py",
      "mimetype": "text/x-python",
      "name": "python",
      "nbconvert_exporter": "python",
      "pygments_lexer": "ipython3",
      "version": "3.9.7"
    },
    "toc": {
      "base_numbering": 1,
      "nav_menu": {},
      "number_sections": true,
      "sideBar": true,
      "skip_h1_title": false,
      "title_cell": "Table of Contents",
      "title_sidebar": "Contents",
      "toc_cell": false,
      "toc_position": {},
      "toc_section_display": true,
      "toc_window_display": false
    },
    "colab": {
      "provenance": [],
      "include_colab_link": true
    }
  },
  "nbformat": 4,
  "nbformat_minor": 0
}