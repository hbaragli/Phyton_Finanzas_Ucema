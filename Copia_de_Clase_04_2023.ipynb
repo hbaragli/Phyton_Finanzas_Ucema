{
  "cells": [
    {
      "cell_type": "markdown",
      "source": [
        "# Idea Cálculo Matricial"
      ],
      "metadata": {
        "id": "dgIG_ZOHY1ql"
      }
    },
    {
      "cell_type": "code",
      "source": [
        "import numpy as np\n",
        "\n",
        "n = 5000\n",
        "ret = np.random.normal(0,2,n)"
      ],
      "metadata": {
        "id": "hWxwIaopY1Zl"
      },
      "execution_count": null,
      "outputs": []
    },
    {
      "cell_type": "code",
      "source": [
        "%%time\n",
        "\n",
        "suma = 0\n",
        "mu = ret.mean()\n",
        "\n",
        "for xi in ret:\n",
        "  suma += (mu - xi)**2\n",
        "\n",
        "(suma/n)**0.5"
      ],
      "metadata": {
        "colab": {
          "base_uri": "https://localhost:8080/"
        },
        "id": "wB2vdSAPY1UA",
        "outputId": "c8f20ca8-ff65-4947-d5ea-64574da5a727"
      },
      "execution_count": null,
      "outputs": [
        {
          "output_type": "stream",
          "name": "stdout",
          "text": [
            "CPU times: user 4.22 ms, sys: 0 ns, total: 4.22 ms\n",
            "Wall time: 4.16 ms\n"
          ]
        },
        {
          "output_type": "execute_result",
          "data": {
            "text/plain": [
              "2.0280999879010406"
            ]
          },
          "metadata": {},
          "execution_count": 2
        }
      ]
    },
    {
      "cell_type": "markdown",
      "source": [
        "$$  \\Large  \\sigma = \\sqrt {\\frac{1}{n} \\sum_{i=1}^{n} (\\mu - x_i)^2}  $$"
      ],
      "metadata": {
        "id": "l0Gmxd_AZNjr"
      }
    },
    {
      "cell_type": "markdown",
      "source": [
        "$$ \\text{Var}(X) = \\frac{1}{N}(X - \\mu)^T (X - \\mu) $$"
      ],
      "metadata": {
        "id": "sDXNPI3FbEoX"
      }
    },
    {
      "cell_type": "markdown",
      "source": [
        "$$ \\sigma(X) = \\sqrt{\\text{Var}(X)} $$"
      ],
      "metadata": {
        "id": "aLtFlMBtbVoR"
      }
    },
    {
      "cell_type": "code",
      "source": [
        "X = ret"
      ],
      "metadata": {
        "id": "oBF06JeEdNBr"
      },
      "execution_count": null,
      "outputs": []
    },
    {
      "cell_type": "code",
      "source": [
        "%%timeit\n",
        "np.sqrt(np.divide((X - mu).T.dot(X - mu), n))"
      ],
      "metadata": {
        "colab": {
          "base_uri": "https://localhost:8080/"
        },
        "id": "dr-Zx_T1Y1Eq",
        "outputId": "ddef6e83-38a4-40de-c02c-53e5f0ad8ddf"
      },
      "execution_count": null,
      "outputs": [
        {
          "output_type": "stream",
          "name": "stdout",
          "text": [
            "The slowest run took 4.26 times longer than the fastest. This could mean that an intermediate result is being cached.\n",
            "28.3 µs ± 14.7 µs per loop (mean ± std. dev. of 7 runs, 100000 loops each)\n"
          ]
        }
      ]
    },
    {
      "cell_type": "code",
      "source": [
        "%%timeit\n",
        "(((mu - X)**2).sum() / n) ** 0.5"
      ],
      "metadata": {
        "colab": {
          "base_uri": "https://localhost:8080/"
        },
        "id": "pwnD-RHYY1PN",
        "outputId": "51f6574c-76ba-4bee-955b-dafad4ec6ff1"
      },
      "execution_count": null,
      "outputs": [
        {
          "output_type": "stream",
          "name": "stdout",
          "text": [
            "12.3 µs ± 2.06 µs per loop (mean ± std. dev. of 7 runs, 100000 loops each)\n"
          ]
        }
      ]
    },
    {
      "cell_type": "code",
      "source": [
        "(((mu - X)**2).sum() / n) ** 0.5"
      ],
      "metadata": {
        "id": "JxKqMEHZY0_r",
        "colab": {
          "base_uri": "https://localhost:8080/"
        },
        "outputId": "fbdda635-fc00-492e-fcdd-ceb64af7c750"
      },
      "execution_count": null,
      "outputs": [
        {
          "output_type": "execute_result",
          "data": {
            "text/plain": [
              "2.0280999879010397"
            ]
          },
          "metadata": {},
          "execution_count": 6
        }
      ]
    },
    {
      "cell_type": "code",
      "source": [],
      "metadata": {
        "id": "pl2e_x9eY06H"
      },
      "execution_count": null,
      "outputs": []
    },
    {
      "cell_type": "code",
      "source": [],
      "metadata": {
        "id": "1AWa6CDyY00r"
      },
      "execution_count": null,
      "outputs": []
    },
    {
      "cell_type": "code",
      "source": [],
      "metadata": {
        "id": "XNaamKwwY0vu"
      },
      "execution_count": null,
      "outputs": []
    },
    {
      "cell_type": "code",
      "source": [],
      "metadata": {
        "id": "q3IBC4ofY0mj"
      },
      "execution_count": null,
      "outputs": []
    },
    {
      "cell_type": "code",
      "source": [],
      "metadata": {
        "id": "JmMk9BPmY0fg"
      },
      "execution_count": null,
      "outputs": []
    },
    {
      "cell_type": "markdown",
      "metadata": {
        "id": "TBx4WioPG4kt"
      },
      "source": [
        "# Diccionarios"
      ]
    },
    {
      "cell_type": "markdown",
      "metadata": {
        "id": "KHCilJNBG4kx"
      },
      "source": [
        "Un diccionario es una estructura Clave=>Valor\n",
        "<br>Por ejemplo en lugar de tener un listado de las notas de mis alumnos, podria tener un diccionario con la nota asignada al nombre de cada uno"
      ]
    },
    {
      "cell_type": "markdown",
      "metadata": {
        "id": "2MatdMjJG4kx"
      },
      "source": [
        "## Estruuctura del diccionario\n",
        "\n",
        "* Abre con: {\n",
        "* Cierra con: }\n",
        "* Los elementos se separan con comas\n",
        "* Los elementos del diccionario tienen clave y valor\n",
        "* La clave se escribe entre comillas preferentemente\n",
        "* EL valor se escribe entre comillas solo si es un string\n",
        "* Entre clave y valor va un \":\""
      ]
    },
    {
      "cell_type": "code",
      "execution_count": null,
      "metadata": {
        "scrolled": true,
        "id": "MVVKXz7UG4ky",
        "outputId": "21b1a5d4-662f-4900-8ab4-907f6516d863",
        "colab": {
          "base_uri": "https://localhost:8080/"
        }
      },
      "outputs": [
        {
          "output_type": "execute_result",
          "data": {
            "text/plain": [
              "dict"
            ]
          },
          "metadata": {},
          "execution_count": 7
        }
      ],
      "source": [
        "diccionario = {\"ALUA\":29.35 , \"BBAR\":120.85 , \"BMA\":265.2 , \"BYMA\":[290,299]}\n",
        "type(diccionario)"
      ]
    },
    {
      "cell_type": "code",
      "execution_count": null,
      "metadata": {
        "id": "8PdvIWubG4k0",
        "outputId": "8343c8a8-04a4-4471-acce-ac3bb12f33e3",
        "colab": {
          "base_uri": "https://localhost:8080/"
        }
      },
      "outputs": [
        {
          "output_type": "stream",
          "name": "stdout",
          "text": [
            "{'ALUA': 29.35, 'BBAR': 120.85, 'BMA': 265.2, 'BYMA': [290, 299]}\n"
          ]
        }
      ],
      "source": [
        "print(diccionario)"
      ]
    },
    {
      "cell_type": "code",
      "execution_count": null,
      "metadata": {
        "id": "dC3GqeqMG4k0",
        "outputId": "9ba99db6-283a-4086-9db6-1a50d4f80fee",
        "colab": {
          "base_uri": "https://localhost:8080/"
        }
      },
      "outputs": [
        {
          "output_type": "execute_result",
          "data": {
            "text/plain": [
              "120.85"
            ]
          },
          "metadata": {},
          "execution_count": 9
        }
      ],
      "source": [
        "diccionario[\"BBAR\"]"
      ]
    },
    {
      "cell_type": "code",
      "execution_count": null,
      "metadata": {
        "id": "Y4S4S4cBG4k0",
        "outputId": "d6d4c682-de9f-4ca0-9119-700a0d83867a",
        "colab": {
          "base_uri": "https://localhost:8080/"
        }
      },
      "outputs": [
        {
          "output_type": "execute_result",
          "data": {
            "text/plain": [
              "4"
            ]
          },
          "metadata": {},
          "execution_count": 10
        }
      ],
      "source": [
        "len(diccionario)"
      ]
    },
    {
      "cell_type": "markdown",
      "source": [
        "<img src=\"https://wallpapers.com/images/hd/chatgpt-ed148576yu0uvj3e.jpg\" width=160>"
      ],
      "metadata": {
        "id": "KeEtCj-Xtqe3"
      }
    },
    {
      "cell_type": "markdown",
      "source": [
        "https://chat.openai.com/c/a0e9c678-13d3-4ae6-837e-da6f8f2f1e97"
      ],
      "metadata": {
        "id": "B5VQRpB8qJPE"
      }
    },
    {
      "cell_type": "code",
      "execution_count": null,
      "metadata": {
        "id": "K9_H6YEEG4k1",
        "outputId": "9f93e626-1350-4e9c-968e-4d39d7b487b8",
        "colab": {
          "base_uri": "https://localhost:8080/",
          "height": 244
        }
      },
      "outputs": [
        {
          "output_type": "error",
          "ename": "KeyError",
          "evalue": "ignored",
          "traceback": [
            "\u001b[0;31m---------------------------------------------------------------------------\u001b[0m",
            "\u001b[0;31mKeyError\u001b[0m                                  Traceback (most recent call last)",
            "\u001b[0;32m<ipython-input-11-7306c4793b6a>\u001b[0m in \u001b[0;36m<cell line: 3>\u001b[0;34m()\u001b[0m\n\u001b[1;32m      1\u001b[0m \u001b[0;31m# buscar activo para vender primero\u001b[0m\u001b[0;34m\u001b[0m\u001b[0;34m\u001b[0m\u001b[0m\n\u001b[1;32m      2\u001b[0m \u001b[0;34m\u001b[0m\u001b[0m\n\u001b[0;32m----> 3\u001b[0;31m \u001b[0mactivo_a_vender\u001b[0m \u001b[0;34m=\u001b[0m \u001b[0mdiccionario\u001b[0m\u001b[0;34m[\u001b[0m\u001b[0;34m\"AAPL\"\u001b[0m\u001b[0;34m]\u001b[0m\u001b[0;34m\u001b[0m\u001b[0;34m\u001b[0m\u001b[0m\n\u001b[0m\u001b[1;32m      4\u001b[0m \u001b[0;34m\u001b[0m\u001b[0m\n\u001b[1;32m      5\u001b[0m \u001b[0mprint\u001b[0m\u001b[0;34m(\u001b[0m\u001b[0;34m'estoy vendiendo'\u001b[0m\u001b[0;34m)\u001b[0m\u001b[0;34m\u001b[0m\u001b[0;34m\u001b[0m\u001b[0m\n",
            "\u001b[0;31mKeyError\u001b[0m: 'AAPL'"
          ]
        }
      ],
      "source": [
        "# buscar activo para vender primero\n",
        "\n",
        "activo_a_vender = diccionario[\"AAPL\"]\n",
        "\n",
        "print('estoy vendiendo')\n",
        "# vender el activo seleccionado"
      ]
    },
    {
      "cell_type": "markdown",
      "metadata": {
        "id": "jznv_onaG4k1"
      },
      "source": [
        "## El método get()"
      ]
    },
    {
      "cell_type": "markdown",
      "metadata": {
        "id": "9_iCqU7bG4k2"
      },
      "source": [
        "<br>\n",
        "Dos Formas de Acceder a los valores de una clave de un diccionario"
      ]
    },
    {
      "cell_type": "code",
      "execution_count": null,
      "metadata": {
        "id": "xU7iDEbpG4k2",
        "outputId": "cc64921c-b5af-450b-84dc-1e71801678c1",
        "colab": {
          "base_uri": "https://localhost:8080/"
        }
      },
      "outputs": [
        {
          "output_type": "execute_result",
          "data": {
            "text/plain": [
              "120.85"
            ]
          },
          "metadata": {},
          "execution_count": 13
        }
      ],
      "source": [
        "diccionario['BBAR']"
      ]
    },
    {
      "cell_type": "code",
      "execution_count": null,
      "metadata": {
        "id": "zFylgOv3G4k2",
        "outputId": "a7169966-0634-44e0-c566-9bf445aa91be",
        "colab": {
          "base_uri": "https://localhost:8080/"
        }
      },
      "outputs": [
        {
          "output_type": "execute_result",
          "data": {
            "text/plain": [
              "120.85"
            ]
          },
          "metadata": {},
          "execution_count": 14
        }
      ],
      "source": [
        "diccionario.get('BBAR')"
      ]
    },
    {
      "cell_type": "code",
      "execution_count": null,
      "metadata": {
        "id": "-180WMUgG4k3",
        "outputId": "d632f0ab-7770-45a3-fa17-545eadf8a877",
        "colab": {
          "base_uri": "https://localhost:8080/",
          "height": 189
        }
      },
      "outputs": [
        {
          "output_type": "error",
          "ename": "KeyError",
          "evalue": "ignored",
          "traceback": [
            "\u001b[0;31m---------------------------------------------------------------------------\u001b[0m",
            "\u001b[0;31mKeyError\u001b[0m                                  Traceback (most recent call last)",
            "\u001b[0;32m<ipython-input-15-52f0b44be0cf>\u001b[0m in \u001b[0;36m<cell line: 1>\u001b[0;34m()\u001b[0m\n\u001b[0;32m----> 1\u001b[0;31m \u001b[0mrta\u001b[0m \u001b[0;34m=\u001b[0m \u001b[0mdiccionario\u001b[0m\u001b[0;34m[\u001b[0m\u001b[0;34m'AAPL'\u001b[0m\u001b[0;34m]\u001b[0m\u001b[0;34m\u001b[0m\u001b[0;34m\u001b[0m\u001b[0m\n\u001b[0m\u001b[1;32m      2\u001b[0m \u001b[0mprint\u001b[0m\u001b[0;34m(\u001b[0m\u001b[0mrta\u001b[0m\u001b[0;34m)\u001b[0m\u001b[0;34m\u001b[0m\u001b[0;34m\u001b[0m\u001b[0m\n",
            "\u001b[0;31mKeyError\u001b[0m: 'AAPL'"
          ]
        }
      ],
      "source": [
        "rta = diccionario['AAPL']\n",
        "print(rta)"
      ]
    },
    {
      "cell_type": "code",
      "execution_count": null,
      "metadata": {
        "scrolled": true,
        "id": "R046kpSXG4k3",
        "outputId": "ae2538d0-ce86-4a54-d9e8-a677f384da24",
        "colab": {
          "base_uri": "https://localhost:8080/"
        }
      },
      "outputs": [
        {
          "output_type": "stream",
          "name": "stdout",
          "text": [
            "El bot sigue...  TICKER_DEFAULT\n"
          ]
        }
      ],
      "source": [
        "rta = diccionario.get('AAPL', 'TICKER_DEFAULT')\n",
        "print('El bot sigue... ', rta)"
      ]
    },
    {
      "cell_type": "code",
      "execution_count": null,
      "metadata": {
        "id": "pyqa-GgkG4k3",
        "outputId": "c83dc027-9f8f-4120-c959-e4ef8f8a266a",
        "colab": {
          "base_uri": "https://localhost:8080/"
        }
      },
      "outputs": [
        {
          "output_type": "stream",
          "name": "stdout",
          "text": [
            "0\n"
          ]
        }
      ],
      "source": [
        "# Generar un valor opr default en caso que no encuentre el key en el dict\n",
        "print(diccionario.get('FRAN',0))"
      ]
    },
    {
      "cell_type": "markdown",
      "metadata": {
        "id": "O4eZS3toG4k4"
      },
      "source": [
        "## Keys(), values() e items()"
      ]
    },
    {
      "cell_type": "markdown",
      "metadata": {
        "id": "rtS2DTJXG4k4"
      },
      "source": [
        "<br>\n",
        "Accedemos por separado a las Claves y Valores"
      ]
    },
    {
      "cell_type": "code",
      "execution_count": null,
      "metadata": {
        "id": "PhogIEokG4k4",
        "outputId": "471274ff-820e-46a0-b10e-049552e5c1a7",
        "colab": {
          "base_uri": "https://localhost:8080/"
        }
      },
      "outputs": [
        {
          "output_type": "stream",
          "name": "stdout",
          "text": [
            "dict_keys(['ALUA', 'BBAR', 'BMA', 'BYMA'])\n"
          ]
        }
      ],
      "source": [
        "keys = diccionario.keys()\n",
        "print(keys)"
      ]
    },
    {
      "cell_type": "code",
      "execution_count": null,
      "metadata": {
        "id": "A-JAQG5pG4k4",
        "outputId": "902aaff4-c649-456a-a081-473ec5390f7e",
        "colab": {
          "base_uri": "https://localhost:8080/"
        }
      },
      "outputs": [
        {
          "output_type": "stream",
          "name": "stdout",
          "text": [
            "dict_values([29.35, 120.85, 265.2, [290, 299]])\n"
          ]
        }
      ],
      "source": [
        "valores = diccionario.values()\n",
        "print(valores)"
      ]
    },
    {
      "cell_type": "code",
      "execution_count": null,
      "metadata": {
        "id": "iYCQ6x4MG4k4",
        "outputId": "328152a0-c171-42b3-fea2-a716fb16140f",
        "colab": {
          "base_uri": "https://localhost:8080/"
        }
      },
      "outputs": [
        {
          "output_type": "execute_result",
          "data": {
            "text/plain": [
              "dict_keys"
            ]
          },
          "metadata": {},
          "execution_count": 20
        }
      ],
      "source": [
        "type(keys)"
      ]
    },
    {
      "cell_type": "code",
      "execution_count": null,
      "metadata": {
        "id": "xpzSJEP4G4k4",
        "outputId": "2fcf23f3-ca40-4570-f418-7f14b331e33a",
        "colab": {
          "base_uri": "https://localhost:8080/"
        }
      },
      "outputs": [
        {
          "output_type": "execute_result",
          "data": {
            "text/plain": [
              "['ALUA', 'BBAR', 'BMA', 'BYMA']"
            ]
          },
          "metadata": {},
          "execution_count": 21
        }
      ],
      "source": [
        "claves_lista = list(keys)\n",
        "claves_lista"
      ]
    },
    {
      "cell_type": "code",
      "execution_count": null,
      "metadata": {
        "id": "NQNuEHrbG4k5",
        "outputId": "50f94ac8-1d54-4d57-bbe5-cb45842f305b",
        "colab": {
          "base_uri": "https://localhost:8080/"
        }
      },
      "outputs": [
        {
          "output_type": "stream",
          "name": "stdout",
          "text": [
            "ALUA\n",
            "BBAR\n",
            "BMA\n",
            "BYMA\n"
          ]
        }
      ],
      "source": [
        "for key in keys:\n",
        "    print(key)"
      ]
    },
    {
      "cell_type": "markdown",
      "metadata": {
        "id": "5ewsPobdG4k5"
      },
      "source": [
        "### Accedemos a los pares Clave=>Valor"
      ]
    },
    {
      "cell_type": "code",
      "execution_count": null,
      "metadata": {
        "id": "hz__0TGlG4k5",
        "outputId": "9190b091-5db7-4e29-9137-13635fb49047",
        "colab": {
          "base_uri": "https://localhost:8080/"
        }
      },
      "outputs": [
        {
          "output_type": "stream",
          "name": "stdout",
          "text": [
            "dict_items([('ALUA', 29.35), ('BBAR', 120.85), ('BMA', 265.2), ('BYMA', [290, 299])])\n"
          ]
        }
      ],
      "source": [
        "items = diccionario.items()\n",
        "print(items)"
      ]
    },
    {
      "cell_type": "code",
      "execution_count": null,
      "metadata": {
        "id": "b1ZUBLJsG4k5",
        "outputId": "a9c0240c-e836-4245-dc52-566bb59b8903",
        "colab": {
          "base_uri": "https://localhost:8080/"
        }
      },
      "outputs": [
        {
          "output_type": "stream",
          "name": "stdout",
          "text": [
            "('ALUA', 29.35)\n"
          ]
        }
      ],
      "source": [
        "items = diccionario.items()\n",
        "print(list(items)[0])"
      ]
    },
    {
      "cell_type": "markdown",
      "metadata": {
        "id": "E38IxWhXG4k5"
      },
      "source": [
        "## Iterando un diccionario"
      ]
    },
    {
      "cell_type": "markdown",
      "source": [
        "<img src=\"https://wallpapers.com/images/hd/chatgpt-ed148576yu0uvj3e.jpg\" width=160>"
      ],
      "metadata": {
        "id": "Prbm9L1GsxrJ"
      }
    },
    {
      "cell_type": "markdown",
      "source": [
        "https://chat.openai.com/c/104daac7-e689-4785-bafa-3024c0d39312"
      ],
      "metadata": {
        "id": "Qwd8SVSjpxC5"
      }
    },
    {
      "cell_type": "code",
      "execution_count": null,
      "metadata": {
        "id": "ZuvQ-M4VG4k5",
        "outputId": "aa940684-a2b6-4b52-f4b5-26a85e368787",
        "colab": {
          "base_uri": "https://localhost:8080/"
        }
      },
      "outputs": [
        {
          "output_type": "stream",
          "name": "stdout",
          "text": [
            "la clave es ALUA, el valor es 29.35\n",
            "la clave es BBAR, el valor es 120.85\n",
            "la clave es BMA, el valor es 265.2\n",
            "la clave es BYMA, el valor es 100\n"
          ]
        }
      ],
      "source": [
        "diccionario = {\"ALUA\":29.35 , \"BBAR\":120.85 , \"BMA\":265.2 , \"BYMA\":100}\n",
        "\n",
        "for ticker, precio in diccionario.items():\n",
        "    print(f'la clave es {ticker}, el valor es {precio}')\n"
      ]
    },
    {
      "cell_type": "code",
      "execution_count": null,
      "metadata": {
        "id": "y_ach8tLG4k6",
        "outputId": "42b93728-581c-4557-8c30-1b8917d22bf9",
        "colab": {
          "base_uri": "https://localhost:8080/"
        }
      },
      "outputs": [
        {
          "output_type": "stream",
          "name": "stdout",
          "text": [
            "el item es ('ALUA', 29.35)\n",
            "el item es ('BBAR', 120.85)\n",
            "el item es ('BMA', 265.2)\n",
            "el item es ('BYMA', 100)\n"
          ]
        }
      ],
      "source": [
        "for tupla in diccionario.items():\n",
        "    print(f'el item es {tupla}')"
      ]
    },
    {
      "cell_type": "code",
      "execution_count": null,
      "metadata": {
        "id": "ZFGwVS5hG4k6",
        "outputId": "608f1a96-bc01-4323-d6c0-d3f2a8100e94",
        "colab": {
          "base_uri": "https://localhost:8080/"
        }
      },
      "outputs": [
        {
          "output_type": "stream",
          "name": "stdout",
          "text": [
            "la clave es ALUA, el valor es 29.35\n",
            "la clave es BBAR, el valor es 120.85\n",
            "la clave es BMA, el valor es 265.2\n",
            "la clave es BYMA, el valor es 100\n"
          ]
        }
      ],
      "source": [
        "for tupla in diccionario.items():\n",
        "    print(f'la clave es {tupla[0]}, el valor es {tupla[1]}')"
      ]
    },
    {
      "cell_type": "code",
      "execution_count": null,
      "metadata": {
        "id": "uokx2ZrAG4k6",
        "outputId": "cc3b997c-9633-4513-9fc3-a4ad891155ea",
        "colab": {
          "base_uri": "https://localhost:8080/"
        }
      },
      "outputs": [
        {
          "output_type": "stream",
          "name": "stdout",
          "text": [
            "1/4 la clave es ALUA, el valor es 29.35\n",
            "2/4 la clave es BBAR, el valor es 120.85\n",
            "3/4 la clave es BMA, el valor es 265.2\n",
            "4/4 la clave es BYMA, el valor es 100\n"
          ]
        }
      ],
      "source": [
        "for i, tupla in enumerate(diccionario.items()):\n",
        "    print(f'{i+1}/{len(diccionario)} la clave es {tupla[0]}, el valor es {tupla[1]}')"
      ]
    },
    {
      "cell_type": "code",
      "execution_count": null,
      "metadata": {
        "id": "r-uyVuJLG4k6"
      },
      "outputs": [],
      "source": []
    },
    {
      "cell_type": "markdown",
      "metadata": {
        "id": "uFyuwYOZG4k6"
      },
      "source": [
        "## La función zip()"
      ]
    },
    {
      "cell_type": "code",
      "execution_count": null,
      "metadata": {
        "id": "YCW5anF7G4k6",
        "outputId": "bc8d49ab-cd48-43f2-c5c0-2a6184869aad",
        "colab": {
          "base_uri": "https://localhost:8080/"
        }
      },
      "outputs": [
        {
          "output_type": "execute_result",
          "data": {
            "text/plain": [
              "<zip at 0x7feac4ed8480>"
            ]
          },
          "metadata": {},
          "execution_count": 41
        }
      ],
      "source": [
        "tickers = ['ALUA', 'BBAR', 'BMA', 'BYMA']\n",
        "precios = [1,2,3,4]\n",
        "volumenes = [100,120,130,140]\n",
        "\n",
        "paquete = zip(tickers, precios, volumenes)\n",
        "paquete"
      ]
    },
    {
      "cell_type": "code",
      "execution_count": null,
      "metadata": {
        "id": "bPPfWdJZG4k7",
        "outputId": "316277be-375b-45b3-eeb7-40616cc274d8",
        "colab": {
          "base_uri": "https://localhost:8080/"
        }
      },
      "outputs": [
        {
          "output_type": "execute_result",
          "data": {
            "text/plain": [
              "zip"
            ]
          },
          "metadata": {},
          "execution_count": 42
        }
      ],
      "source": [
        "type(paquete)"
      ]
    },
    {
      "cell_type": "code",
      "execution_count": null,
      "metadata": {
        "id": "LVJ4Ehs7G4k7",
        "outputId": "8455e111-69db-4601-f5ca-0c566a66731e",
        "colab": {
          "base_uri": "https://localhost:8080/"
        }
      },
      "outputs": [
        {
          "output_type": "stream",
          "name": "stdout",
          "text": [
            "ALUA 1 100\n",
            "BBAR 2 120\n",
            "BMA 3 130\n",
            "BYMA 4 140\n"
          ]
        }
      ],
      "source": [
        "tickers = ['ALUA', 'BBAR', 'BMA', 'BYMA']\n",
        "precios = [1, 2, 3, 4]\n",
        "volumenes = [100,120,130,140]\n",
        "\n",
        "paquete = zip(tickers, precios, volumenes)\n",
        "\n",
        "\n",
        "for t, p, v in paquete:\n",
        "    print(t,p,v)"
      ]
    },
    {
      "cell_type": "markdown",
      "source": [
        "Que pasa si vuelvo a iterar?"
      ],
      "metadata": {
        "id": "AEqTEAXHvMQ8"
      }
    },
    {
      "cell_type": "code",
      "source": [
        "for t, p, v in paquete:\n",
        "    print(t,p,v)"
      ],
      "metadata": {
        "id": "JnND2qwgeUIZ"
      },
      "execution_count": null,
      "outputs": []
    },
    {
      "cell_type": "markdown",
      "source": [
        "Que pasó??"
      ],
      "metadata": {
        "id": "miwYJypVvPwZ"
      }
    },
    {
      "cell_type": "markdown",
      "source": [
        "<img src=\"https://wallpapers.com/images/hd/chatgpt-ed148576yu0uvj3e.jpg\" width=160>"
      ],
      "metadata": {
        "id": "n52aYzHZvW3f"
      }
    },
    {
      "cell_type": "markdown",
      "source": [
        "https://chat.openai.com/c/ce10379a-1158-4975-8e58-87a10f0483b9"
      ],
      "metadata": {
        "id": "inn7swcYvR64"
      }
    },
    {
      "cell_type": "markdown",
      "metadata": {
        "id": "PlgS1DW5G4k7"
      },
      "source": [
        "# De zip a Diccionario"
      ]
    },
    {
      "cell_type": "code",
      "execution_count": null,
      "metadata": {
        "id": "syESRLAgG4lB",
        "outputId": "ccb8ccca-47f6-4a92-a406-3024d593fed9",
        "colab": {
          "base_uri": "https://localhost:8080/"
        }
      },
      "outputs": [
        {
          "output_type": "execute_result",
          "data": {
            "text/plain": [
              "{'ALUA': 1, 'BBAR': 2}"
            ]
          },
          "metadata": {},
          "execution_count": 45
        }
      ],
      "source": [
        "tickers = ['ALUA','BBAR']\n",
        "cantidades = [1,2]\n",
        "diccio = dict(zip(tickers, cantidades))\n",
        "diccio"
      ]
    },
    {
      "cell_type": "markdown",
      "metadata": {
        "id": "slqXUTy_G4lB"
      },
      "source": [
        "# De zip a Lista"
      ]
    },
    {
      "cell_type": "code",
      "execution_count": null,
      "metadata": {
        "id": "fwCY91qeG4lB",
        "outputId": "7883ed8f-d067-48bc-c694-e3757b0287da",
        "colab": {
          "base_uri": "https://localhost:8080/"
        }
      },
      "outputs": [
        {
          "output_type": "execute_result",
          "data": {
            "text/plain": [
              "[('ALUA', 1), ('BBAR', 2)]"
            ]
          },
          "metadata": {},
          "execution_count": 46
        }
      ],
      "source": [
        "tickers = ['ALUA','BBAR']\n",
        "cantidades = [1,2]\n",
        "lista = list(zip(tickers, cantidades))\n",
        "lista"
      ]
    },
    {
      "cell_type": "code",
      "execution_count": null,
      "metadata": {
        "id": "ElcXs777G4lC"
      },
      "outputs": [],
      "source": []
    },
    {
      "cell_type": "code",
      "execution_count": null,
      "metadata": {
        "id": "wDWEzSTeG4lC"
      },
      "outputs": [],
      "source": []
    },
    {
      "cell_type": "code",
      "execution_count": null,
      "metadata": {
        "id": "poNc8cqrG4lC"
      },
      "outputs": [],
      "source": []
    },
    {
      "cell_type": "markdown",
      "metadata": {
        "id": "JHJ0K0LHG4lC"
      },
      "source": [
        "## De un diccionario a algo mas copado?"
      ]
    },
    {
      "cell_type": "markdown",
      "metadata": {
        "id": "UeqRsJBsG4lC"
      },
      "source": [
        "Supongamos que tenemos los montos de tenencias en cartera de esta fomra:"
      ]
    },
    {
      "cell_type": "code",
      "execution_count": null,
      "metadata": {
        "id": "jsK6Td09G4lC",
        "outputId": "6514feeb-da69-4209-ed70-f056e8bb0993",
        "colab": {
          "base_uri": "https://localhost:8080/"
        }
      },
      "outputs": [
        {
          "output_type": "execute_result",
          "data": {
            "text/plain": [
              "{'TSLA': 12500,\n",
              " 'AMZN': 5000,\n",
              " 'GOOGL': 10500,\n",
              " 'TLT': 20000,\n",
              " 'SHY': 700,\n",
              " 'BTC': 7000.0}"
            ]
          },
          "metadata": {},
          "execution_count": 49
        }
      ],
      "source": [
        "tickers = ['TSLA','AMZN','GOOGL','TLT','SHY','BTC']\n",
        "montos = [12500, 5000, 10500, 20_000, 7*10**2, 7e3]\n",
        "\n",
        "diccio = dict(zip(tickers, montos))\n",
        "diccio"
      ]
    },
    {
      "cell_type": "markdown",
      "metadata": {
        "id": "MkmyHqUMG4lC"
      },
      "source": [
        "¿Si quisiera la suma de montos?"
      ]
    },
    {
      "cell_type": "code",
      "execution_count": null,
      "metadata": {
        "id": "6jaY-Gb3G4lC"
      },
      "outputs": [],
      "source": []
    },
    {
      "cell_type": "code",
      "execution_count": null,
      "metadata": {
        "id": "K3_qoGRsG4lC"
      },
      "outputs": [],
      "source": []
    },
    {
      "cell_type": "markdown",
      "metadata": {
        "id": "1Tu5dfqsG4lC"
      },
      "source": [
        "Si quisiera los porcentajes? de cada asset en el portafolio?"
      ]
    },
    {
      "cell_type": "code",
      "execution_count": null,
      "metadata": {
        "id": "bxzHVDBAG4lD"
      },
      "outputs": [],
      "source": []
    },
    {
      "cell_type": "code",
      "execution_count": null,
      "metadata": {
        "id": "kOiNyxSCG4lD"
      },
      "outputs": [],
      "source": []
    },
    {
      "cell_type": "markdown",
      "metadata": {
        "id": "DMD393wJG4lD"
      },
      "source": [
        "Y si quiero el monto de TLT?"
      ]
    },
    {
      "cell_type": "code",
      "execution_count": null,
      "metadata": {
        "id": "A9_ZHt8xG4lD"
      },
      "outputs": [],
      "source": []
    },
    {
      "cell_type": "code",
      "execution_count": null,
      "metadata": {
        "id": "1Bt_lDv9G4lD"
      },
      "outputs": [],
      "source": []
    },
    {
      "cell_type": "markdown",
      "metadata": {
        "id": "WOCb3upBG4lD"
      },
      "source": [
        "Y si quiero los 3 activos de mayor tenencia?"
      ]
    },
    {
      "cell_type": "code",
      "execution_count": null,
      "metadata": {
        "id": "CRigtWUYG4lD"
      },
      "outputs": [],
      "source": []
    },
    {
      "cell_type": "code",
      "execution_count": null,
      "metadata": {
        "id": "HbGkULO3G4lD"
      },
      "outputs": [],
      "source": []
    },
    {
      "cell_type": "markdown",
      "metadata": {
        "id": "EQ6To9K4G4lD"
      },
      "source": [
        "Y si fueran 100, y quiero los tickers del primer decil, o el percentil 6 de mayor tenencia?"
      ]
    },
    {
      "cell_type": "code",
      "execution_count": null,
      "metadata": {
        "id": "QZ97Q0GvG4lD"
      },
      "outputs": [],
      "source": []
    },
    {
      "cell_type": "code",
      "execution_count": null,
      "metadata": {
        "id": "nT_Ow6yDG4lD"
      },
      "outputs": [],
      "source": []
    },
    {
      "cell_type": "markdown",
      "metadata": {
        "id": "QEzwiBWFG4lD"
      },
      "source": [
        "# DataFrames"
      ]
    },
    {
      "cell_type": "code",
      "execution_count": null,
      "metadata": {
        "id": "YhoaiJIYG4lE"
      },
      "outputs": [],
      "source": [
        "import pandas as pd"
      ]
    },
    {
      "cell_type": "code",
      "execution_count": null,
      "metadata": {
        "id": "kolefHO0G4lE",
        "outputId": "7b126da6-aab5-4036-9e46-5e2fe97fc595",
        "colab": {
          "base_uri": "https://localhost:8080/",
          "height": 237
        }
      },
      "outputs": [
        {
          "output_type": "execute_result",
          "data": {
            "text/plain": [
              "        montos\n",
              "TSLA   12500.0\n",
              "AMZN    5000.0\n",
              "GOOGL  10500.0\n",
              "TLT    20000.0\n",
              "SHY      700.0\n",
              "BTC     7000.0"
            ],
            "text/html": [
              "\n",
              "  <div id=\"df-6d3926b7-4ec0-42d4-b17f-b8ac8cc0d1e6\">\n",
              "    <div class=\"colab-df-container\">\n",
              "      <div>\n",
              "<style scoped>\n",
              "    .dataframe tbody tr th:only-of-type {\n",
              "        vertical-align: middle;\n",
              "    }\n",
              "\n",
              "    .dataframe tbody tr th {\n",
              "        vertical-align: top;\n",
              "    }\n",
              "\n",
              "    .dataframe thead th {\n",
              "        text-align: right;\n",
              "    }\n",
              "</style>\n",
              "<table border=\"1\" class=\"dataframe\">\n",
              "  <thead>\n",
              "    <tr style=\"text-align: right;\">\n",
              "      <th></th>\n",
              "      <th>montos</th>\n",
              "    </tr>\n",
              "  </thead>\n",
              "  <tbody>\n",
              "    <tr>\n",
              "      <th>TSLA</th>\n",
              "      <td>12500.0</td>\n",
              "    </tr>\n",
              "    <tr>\n",
              "      <th>AMZN</th>\n",
              "      <td>5000.0</td>\n",
              "    </tr>\n",
              "    <tr>\n",
              "      <th>GOOGL</th>\n",
              "      <td>10500.0</td>\n",
              "    </tr>\n",
              "    <tr>\n",
              "      <th>TLT</th>\n",
              "      <td>20000.0</td>\n",
              "    </tr>\n",
              "    <tr>\n",
              "      <th>SHY</th>\n",
              "      <td>700.0</td>\n",
              "    </tr>\n",
              "    <tr>\n",
              "      <th>BTC</th>\n",
              "      <td>7000.0</td>\n",
              "    </tr>\n",
              "  </tbody>\n",
              "</table>\n",
              "</div>\n",
              "      <button class=\"colab-df-convert\" onclick=\"convertToInteractive('df-6d3926b7-4ec0-42d4-b17f-b8ac8cc0d1e6')\"\n",
              "              title=\"Convert this dataframe to an interactive table.\"\n",
              "              style=\"display:none;\">\n",
              "        \n",
              "  <svg xmlns=\"http://www.w3.org/2000/svg\" height=\"24px\"viewBox=\"0 0 24 24\"\n",
              "       width=\"24px\">\n",
              "    <path d=\"M0 0h24v24H0V0z\" fill=\"none\"/>\n",
              "    <path d=\"M18.56 5.44l.94 2.06.94-2.06 2.06-.94-2.06-.94-.94-2.06-.94 2.06-2.06.94zm-11 1L8.5 8.5l.94-2.06 2.06-.94-2.06-.94L8.5 2.5l-.94 2.06-2.06.94zm10 10l.94 2.06.94-2.06 2.06-.94-2.06-.94-.94-2.06-.94 2.06-2.06.94z\"/><path d=\"M17.41 7.96l-1.37-1.37c-.4-.4-.92-.59-1.43-.59-.52 0-1.04.2-1.43.59L10.3 9.45l-7.72 7.72c-.78.78-.78 2.05 0 2.83L4 21.41c.39.39.9.59 1.41.59.51 0 1.02-.2 1.41-.59l7.78-7.78 2.81-2.81c.8-.78.8-2.07 0-2.86zM5.41 20L4 18.59l7.72-7.72 1.47 1.35L5.41 20z\"/>\n",
              "  </svg>\n",
              "      </button>\n",
              "      \n",
              "  <style>\n",
              "    .colab-df-container {\n",
              "      display:flex;\n",
              "      flex-wrap:wrap;\n",
              "      gap: 12px;\n",
              "    }\n",
              "\n",
              "    .colab-df-convert {\n",
              "      background-color: #E8F0FE;\n",
              "      border: none;\n",
              "      border-radius: 50%;\n",
              "      cursor: pointer;\n",
              "      display: none;\n",
              "      fill: #1967D2;\n",
              "      height: 32px;\n",
              "      padding: 0 0 0 0;\n",
              "      width: 32px;\n",
              "    }\n",
              "\n",
              "    .colab-df-convert:hover {\n",
              "      background-color: #E2EBFA;\n",
              "      box-shadow: 0px 1px 2px rgba(60, 64, 67, 0.3), 0px 1px 3px 1px rgba(60, 64, 67, 0.15);\n",
              "      fill: #174EA6;\n",
              "    }\n",
              "\n",
              "    [theme=dark] .colab-df-convert {\n",
              "      background-color: #3B4455;\n",
              "      fill: #D2E3FC;\n",
              "    }\n",
              "\n",
              "    [theme=dark] .colab-df-convert:hover {\n",
              "      background-color: #434B5C;\n",
              "      box-shadow: 0px 1px 3px 1px rgba(0, 0, 0, 0.15);\n",
              "      filter: drop-shadow(0px 1px 2px rgba(0, 0, 0, 0.3));\n",
              "      fill: #FFFFFF;\n",
              "    }\n",
              "  </style>\n",
              "\n",
              "      <script>\n",
              "        const buttonEl =\n",
              "          document.querySelector('#df-6d3926b7-4ec0-42d4-b17f-b8ac8cc0d1e6 button.colab-df-convert');\n",
              "        buttonEl.style.display =\n",
              "          google.colab.kernel.accessAllowed ? 'block' : 'none';\n",
              "\n",
              "        async function convertToInteractive(key) {\n",
              "          const element = document.querySelector('#df-6d3926b7-4ec0-42d4-b17f-b8ac8cc0d1e6');\n",
              "          const dataTable =\n",
              "            await google.colab.kernel.invokeFunction('convertToInteractive',\n",
              "                                                     [key], {});\n",
              "          if (!dataTable) return;\n",
              "\n",
              "          const docLinkHtml = 'Like what you see? Visit the ' +\n",
              "            '<a target=\"_blank\" href=https://colab.research.google.com/notebooks/data_table.ipynb>data table notebook</a>'\n",
              "            + ' to learn more about interactive tables.';\n",
              "          element.innerHTML = '';\n",
              "          dataTable['output_type'] = 'display_data';\n",
              "          await google.colab.output.renderOutput(dataTable, element);\n",
              "          const docLink = document.createElement('div');\n",
              "          docLink.innerHTML = docLinkHtml;\n",
              "          element.appendChild(docLink);\n",
              "        }\n",
              "      </script>\n",
              "    </div>\n",
              "  </div>\n",
              "  "
            ]
          },
          "metadata": {},
          "execution_count": 60
        }
      ],
      "source": [
        "tickers = ['TSLA','AMZN','GOOGL','TLT','SHY','BTC']\n",
        "montos = [12500, 5000, 10500, 20_000, 7*10**2, 7e3]\n",
        "\n",
        "\n",
        "cartera = pd.DataFrame(data=montos, index=tickers)\n",
        "cartera.columns=['montos']\n",
        "cartera"
      ]
    },
    {
      "cell_type": "code",
      "execution_count": null,
      "metadata": {
        "id": "_N_f460KG4lE",
        "outputId": "3ac81519-4495-43f2-be6e-7031d93567d9",
        "colab": {
          "base_uri": "https://localhost:8080/",
          "height": 237
        }
      },
      "outputs": [
        {
          "output_type": "execute_result",
          "data": {
            "text/plain": [
              "        montos  porcentajes\n",
              "TSLA   12500.0     0.224417\n",
              "AMZN    5000.0     0.089767\n",
              "GOOGL  10500.0     0.188510\n",
              "TLT    20000.0     0.359066\n",
              "SHY      700.0     0.012567\n",
              "BTC     7000.0     0.125673"
            ],
            "text/html": [
              "\n",
              "  <div id=\"df-e0d0b1db-f7ff-490a-b4e0-1f0a4b5e3b2c\">\n",
              "    <div class=\"colab-df-container\">\n",
              "      <div>\n",
              "<style scoped>\n",
              "    .dataframe tbody tr th:only-of-type {\n",
              "        vertical-align: middle;\n",
              "    }\n",
              "\n",
              "    .dataframe tbody tr th {\n",
              "        vertical-align: top;\n",
              "    }\n",
              "\n",
              "    .dataframe thead th {\n",
              "        text-align: right;\n",
              "    }\n",
              "</style>\n",
              "<table border=\"1\" class=\"dataframe\">\n",
              "  <thead>\n",
              "    <tr style=\"text-align: right;\">\n",
              "      <th></th>\n",
              "      <th>montos</th>\n",
              "      <th>porcentajes</th>\n",
              "    </tr>\n",
              "  </thead>\n",
              "  <tbody>\n",
              "    <tr>\n",
              "      <th>TSLA</th>\n",
              "      <td>12500.0</td>\n",
              "      <td>0.224417</td>\n",
              "    </tr>\n",
              "    <tr>\n",
              "      <th>AMZN</th>\n",
              "      <td>5000.0</td>\n",
              "      <td>0.089767</td>\n",
              "    </tr>\n",
              "    <tr>\n",
              "      <th>GOOGL</th>\n",
              "      <td>10500.0</td>\n",
              "      <td>0.188510</td>\n",
              "    </tr>\n",
              "    <tr>\n",
              "      <th>TLT</th>\n",
              "      <td>20000.0</td>\n",
              "      <td>0.359066</td>\n",
              "    </tr>\n",
              "    <tr>\n",
              "      <th>SHY</th>\n",
              "      <td>700.0</td>\n",
              "      <td>0.012567</td>\n",
              "    </tr>\n",
              "    <tr>\n",
              "      <th>BTC</th>\n",
              "      <td>7000.0</td>\n",
              "      <td>0.125673</td>\n",
              "    </tr>\n",
              "  </tbody>\n",
              "</table>\n",
              "</div>\n",
              "      <button class=\"colab-df-convert\" onclick=\"convertToInteractive('df-e0d0b1db-f7ff-490a-b4e0-1f0a4b5e3b2c')\"\n",
              "              title=\"Convert this dataframe to an interactive table.\"\n",
              "              style=\"display:none;\">\n",
              "        \n",
              "  <svg xmlns=\"http://www.w3.org/2000/svg\" height=\"24px\"viewBox=\"0 0 24 24\"\n",
              "       width=\"24px\">\n",
              "    <path d=\"M0 0h24v24H0V0z\" fill=\"none\"/>\n",
              "    <path d=\"M18.56 5.44l.94 2.06.94-2.06 2.06-.94-2.06-.94-.94-2.06-.94 2.06-2.06.94zm-11 1L8.5 8.5l.94-2.06 2.06-.94-2.06-.94L8.5 2.5l-.94 2.06-2.06.94zm10 10l.94 2.06.94-2.06 2.06-.94-2.06-.94-.94-2.06-.94 2.06-2.06.94z\"/><path d=\"M17.41 7.96l-1.37-1.37c-.4-.4-.92-.59-1.43-.59-.52 0-1.04.2-1.43.59L10.3 9.45l-7.72 7.72c-.78.78-.78 2.05 0 2.83L4 21.41c.39.39.9.59 1.41.59.51 0 1.02-.2 1.41-.59l7.78-7.78 2.81-2.81c.8-.78.8-2.07 0-2.86zM5.41 20L4 18.59l7.72-7.72 1.47 1.35L5.41 20z\"/>\n",
              "  </svg>\n",
              "      </button>\n",
              "      \n",
              "  <style>\n",
              "    .colab-df-container {\n",
              "      display:flex;\n",
              "      flex-wrap:wrap;\n",
              "      gap: 12px;\n",
              "    }\n",
              "\n",
              "    .colab-df-convert {\n",
              "      background-color: #E8F0FE;\n",
              "      border: none;\n",
              "      border-radius: 50%;\n",
              "      cursor: pointer;\n",
              "      display: none;\n",
              "      fill: #1967D2;\n",
              "      height: 32px;\n",
              "      padding: 0 0 0 0;\n",
              "      width: 32px;\n",
              "    }\n",
              "\n",
              "    .colab-df-convert:hover {\n",
              "      background-color: #E2EBFA;\n",
              "      box-shadow: 0px 1px 2px rgba(60, 64, 67, 0.3), 0px 1px 3px 1px rgba(60, 64, 67, 0.15);\n",
              "      fill: #174EA6;\n",
              "    }\n",
              "\n",
              "    [theme=dark] .colab-df-convert {\n",
              "      background-color: #3B4455;\n",
              "      fill: #D2E3FC;\n",
              "    }\n",
              "\n",
              "    [theme=dark] .colab-df-convert:hover {\n",
              "      background-color: #434B5C;\n",
              "      box-shadow: 0px 1px 3px 1px rgba(0, 0, 0, 0.15);\n",
              "      filter: drop-shadow(0px 1px 2px rgba(0, 0, 0, 0.3));\n",
              "      fill: #FFFFFF;\n",
              "    }\n",
              "  </style>\n",
              "\n",
              "      <script>\n",
              "        const buttonEl =\n",
              "          document.querySelector('#df-e0d0b1db-f7ff-490a-b4e0-1f0a4b5e3b2c button.colab-df-convert');\n",
              "        buttonEl.style.display =\n",
              "          google.colab.kernel.accessAllowed ? 'block' : 'none';\n",
              "\n",
              "        async function convertToInteractive(key) {\n",
              "          const element = document.querySelector('#df-e0d0b1db-f7ff-490a-b4e0-1f0a4b5e3b2c');\n",
              "          const dataTable =\n",
              "            await google.colab.kernel.invokeFunction('convertToInteractive',\n",
              "                                                     [key], {});\n",
              "          if (!dataTable) return;\n",
              "\n",
              "          const docLinkHtml = 'Like what you see? Visit the ' +\n",
              "            '<a target=\"_blank\" href=https://colab.research.google.com/notebooks/data_table.ipynb>data table notebook</a>'\n",
              "            + ' to learn more about interactive tables.';\n",
              "          element.innerHTML = '';\n",
              "          dataTable['output_type'] = 'display_data';\n",
              "          await google.colab.output.renderOutput(dataTable, element);\n",
              "          const docLink = document.createElement('div');\n",
              "          docLink.innerHTML = docLinkHtml;\n",
              "          element.appendChild(docLink);\n",
              "        }\n",
              "      </script>\n",
              "    </div>\n",
              "  </div>\n",
              "  "
            ]
          },
          "metadata": {},
          "execution_count": 61
        }
      ],
      "source": [
        "cartera['porcentajes'] = cartera.montos / cartera.montos.sum()\n",
        "cartera"
      ]
    },
    {
      "cell_type": "code",
      "execution_count": null,
      "metadata": {
        "id": "dNpaFJGUG4lE"
      },
      "outputs": [],
      "source": []
    },
    {
      "cell_type": "markdown",
      "metadata": {
        "id": "3m91tlAhG4lE"
      },
      "source": [
        "Se acuerdan si quiero los 3 mayores montos?"
      ]
    },
    {
      "cell_type": "code",
      "execution_count": null,
      "metadata": {
        "id": "n_ZpBZeLG4lE",
        "outputId": "9ff8bf79-c9ba-4437-c631-2577623a7654",
        "colab": {
          "base_uri": "https://localhost:8080/"
        }
      },
      "outputs": [
        {
          "output_type": "execute_result",
          "data": {
            "text/plain": [
              "Index(['TLT', 'TSLA', 'GOOGL'], dtype='object')"
            ]
          },
          "metadata": {},
          "execution_count": 62
        }
      ],
      "source": [
        "cartera.montos.sort_values(ascending=False).head(3).index"
      ]
    },
    {
      "cell_type": "code",
      "execution_count": null,
      "metadata": {
        "id": "ZTSxGKBPG4lE"
      },
      "outputs": [],
      "source": []
    },
    {
      "cell_type": "code",
      "execution_count": null,
      "metadata": {
        "id": "ss-2MADaG4lE"
      },
      "outputs": [],
      "source": []
    },
    {
      "cell_type": "code",
      "execution_count": null,
      "metadata": {
        "id": "KM7yHLhWG4lE"
      },
      "outputs": [],
      "source": []
    },
    {
      "cell_type": "code",
      "execution_count": null,
      "metadata": {
        "id": "RS_vIr7VG4lE"
      },
      "outputs": [],
      "source": []
    },
    {
      "cell_type": "code",
      "execution_count": null,
      "metadata": {
        "id": "je05ic1FG4lF"
      },
      "outputs": [],
      "source": []
    },
    {
      "cell_type": "code",
      "execution_count": null,
      "metadata": {
        "id": "qGIuOpa6G4lF"
      },
      "outputs": [],
      "source": []
    },
    {
      "cell_type": "code",
      "execution_count": null,
      "metadata": {
        "id": "22s78c5BG4lF"
      },
      "outputs": [],
      "source": []
    },
    {
      "cell_type": "code",
      "execution_count": null,
      "metadata": {
        "id": "0SVzOefgG4lF"
      },
      "outputs": [],
      "source": []
    },
    {
      "cell_type": "markdown",
      "metadata": {
        "id": "OEuRmfd1G4lF"
      },
      "source": [
        "# Datos de Mercado"
      ]
    },
    {
      "cell_type": "code",
      "execution_count": null,
      "metadata": {
        "id": "26DX1q04G4lF"
      },
      "outputs": [],
      "source": [
        "# pip install yfinance"
      ]
    },
    {
      "cell_type": "code",
      "source": [
        "pip list"
      ],
      "metadata": {
        "id": "EZO6FwOGutmH",
        "outputId": "2e373af9-6a01-4d3d-ef76-b1a9df676426",
        "colab": {
          "base_uri": "https://localhost:8080/"
        }
      },
      "execution_count": null,
      "outputs": [
        {
          "output_type": "stream",
          "name": "stdout",
          "text": [
            "Package                       Version\n",
            "----------------------------- --------------------\n",
            "absl-py                       1.4.0\n",
            "alabaster                     0.7.13\n",
            "albumentations                1.2.1\n",
            "altair                        4.2.2\n",
            "anyio                         3.6.2\n",
            "appdirs                       1.4.4\n",
            "argon2-cffi                   21.3.0\n",
            "argon2-cffi-bindings          21.2.0\n",
            "array-record                  0.2.0\n",
            "arviz                         0.15.1\n",
            "astropy                       5.2.2\n",
            "astunparse                    1.6.3\n",
            "attrs                         23.1.0\n",
            "audioread                     3.0.0\n",
            "autograd                      1.5\n",
            "Babel                         2.12.1\n",
            "backcall                      0.2.0\n",
            "beautifulsoup4                4.11.2\n",
            "bleach                        6.0.0\n",
            "blis                          0.7.9\n",
            "blosc2                        2.0.0\n",
            "bokeh                         2.4.3\n",
            "branca                        0.6.0\n",
            "build                         0.10.0\n",
            "CacheControl                  0.12.11\n",
            "cached-property               1.5.2\n",
            "cachetools                    5.3.0\n",
            "catalogue                     2.0.8\n",
            "certifi                       2022.12.7\n",
            "cffi                          1.15.1\n",
            "chardet                       4.0.0\n",
            "charset-normalizer            2.0.12\n",
            "chex                          0.1.7\n",
            "click                         8.1.3\n",
            "cloudpickle                   2.2.1\n",
            "cmake                         3.25.2\n",
            "cmdstanpy                     1.1.0\n",
            "colorcet                      3.0.1\n",
            "colorlover                    0.3.0\n",
            "community                     1.0.0b1\n",
            "confection                    0.0.4\n",
            "cons                          0.4.5\n",
            "contextlib2                   0.6.0.post1\n",
            "contourpy                     1.0.7\n",
            "convertdate                   2.4.0\n",
            "cryptography                  40.0.2\n",
            "cufflinks                     0.17.3\n",
            "cvxopt                        1.3.0\n",
            "cvxpy                         1.3.1\n",
            "cycler                        0.11.0\n",
            "cymem                         2.0.7\n",
            "Cython                        0.29.34\n",
            "dask                          2022.12.1\n",
            "datascience                   0.17.6\n",
            "db-dtypes                     1.1.1\n",
            "dbus-python                   1.2.16\n",
            "debugpy                       1.6.6\n",
            "decorator                     4.4.2\n",
            "defusedxml                    0.7.1\n",
            "distributed                   2022.12.1\n",
            "dlib                          19.24.1\n",
            "dm-tree                       0.1.8\n",
            "docutils                      0.16\n",
            "dopamine-rl                   4.0.6\n",
            "duckdb                        0.7.1\n",
            "earthengine-api               0.1.350\n",
            "easydict                      1.10\n",
            "ecos                          2.0.12\n",
            "editdistance                  0.6.2\n",
            "en-core-web-sm                3.5.0\n",
            "entrypoints                   0.4\n",
            "ephem                         4.1.4\n",
            "et-xmlfile                    1.1.0\n",
            "etils                         1.2.0\n",
            "etuples                       0.3.8\n",
            "exceptiongroup                1.1.1\n",
            "fastai                        2.7.12\n",
            "fastcore                      1.5.29\n",
            "fastdownload                  0.0.7\n",
            "fastjsonschema                2.16.3\n",
            "fastprogress                  1.0.3\n",
            "fastrlock                     0.8.1\n",
            "filelock                      3.12.0\n",
            "firebase-admin                5.3.0\n",
            "Flask                         2.2.4\n",
            "flatbuffers                   23.3.3\n",
            "flax                          0.6.9\n",
            "folium                        0.14.0\n",
            "fonttools                     4.39.3\n",
            "frozendict                    2.3.7\n",
            "fsspec                        2023.4.0\n",
            "future                        0.18.3\n",
            "gast                          0.4.0\n",
            "GDAL                          3.3.2\n",
            "gdown                         4.6.6\n",
            "gensim                        4.3.1\n",
            "geographiclib                 2.0\n",
            "geopy                         2.3.0\n",
            "gin-config                    0.5.0\n",
            "glob2                         0.7\n",
            "google                        2.0.3\n",
            "google-api-core               2.11.0\n",
            "google-api-python-client      2.84.0\n",
            "google-auth                   2.17.3\n",
            "google-auth-httplib2          0.1.0\n",
            "google-auth-oauthlib          1.0.0\n",
            "google-cloud-bigquery         3.9.0\n",
            "google-cloud-bigquery-storage 2.19.1\n",
            "google-cloud-core             2.3.2\n",
            "google-cloud-datastore        2.15.1\n",
            "google-cloud-firestore        2.11.0\n",
            "google-cloud-language         2.9.1\n",
            "google-cloud-storage          2.8.0\n",
            "google-cloud-translate        3.11.1\n",
            "google-colab                  1.0.0\n",
            "google-crc32c                 1.5.0\n",
            "google-pasta                  0.2.0\n",
            "google-resumable-media        2.5.0\n",
            "googleapis-common-protos      1.59.0\n",
            "googledrivedownloader         0.4\n",
            "graphviz                      0.20.1\n",
            "greenlet                      2.0.2\n",
            "grpcio                        1.54.0\n",
            "grpcio-status                 1.48.2\n",
            "gspread                       3.4.2\n",
            "gspread-dataframe             3.0.8\n",
            "gym                           0.25.2\n",
            "gym-notices                   0.0.8\n",
            "h5netcdf                      1.1.0\n",
            "h5py                          3.8.0\n",
            "hijri-converter               2.3.1\n",
            "holidays                      0.23\n",
            "holoviews                     1.15.4\n",
            "html5lib                      1.1\n",
            "httpimport                    1.3.0\n",
            "httplib2                      0.21.0\n",
            "humanize                      4.6.0\n",
            "hyperopt                      0.2.7\n",
            "idna                          3.4\n",
            "imageio                       2.25.1\n",
            "imageio-ffmpeg                0.4.8\n",
            "imagesize                     1.4.1\n",
            "imbalanced-learn              0.10.1\n",
            "imgaug                        0.4.0\n",
            "importlib-resources           5.12.0\n",
            "imutils                       0.5.4\n",
            "inflect                       6.0.4\n",
            "iniconfig                     2.0.0\n",
            "intel-openmp                  2023.1.0\n",
            "ipykernel                     5.5.6\n",
            "ipython                       7.34.0\n",
            "ipython-genutils              0.2.0\n",
            "ipython-sql                   0.4.1\n",
            "ipywidgets                    7.7.1\n",
            "itsdangerous                  2.1.2\n",
            "jax                           0.4.8\n",
            "jaxlib                        0.4.7+cuda11.cudnn86\n",
            "jieba                         0.42.1\n",
            "Jinja2                        3.1.2\n",
            "joblib                        1.2.0\n",
            "jsonpickle                    3.0.1\n",
            "jsonschema                    4.3.3\n",
            "jupyter-client                6.1.12\n",
            "jupyter-console               6.1.0\n",
            "jupyter_core                  5.3.0\n",
            "jupyter-server                1.24.0\n",
            "jupyterlab-pygments           0.2.2\n",
            "jupyterlab-widgets            3.0.7\n",
            "kaggle                        1.5.13\n",
            "keras                         2.12.0\n",
            "kiwisolver                    1.4.4\n",
            "korean-lunar-calendar         0.3.1\n",
            "langcodes                     3.3.0\n",
            "lazy_loader                   0.2\n",
            "libclang                      16.0.0\n",
            "librosa                       0.10.0.post2\n",
            "lightgbm                      3.3.5\n",
            "lit                           16.0.3\n",
            "llvmlite                      0.39.1\n",
            "locket                        1.0.0\n",
            "logical-unification           0.4.5\n",
            "LunarCalendar                 0.0.9\n",
            "lxml                          4.9.2\n",
            "Markdown                      3.4.3\n",
            "markdown-it-py                2.2.0\n",
            "MarkupSafe                    2.1.2\n",
            "matplotlib                    3.7.1\n",
            "matplotlib-inline             0.1.6\n",
            "matplotlib-venn               0.11.9\n",
            "mdurl                         0.1.2\n",
            "miniKanren                    1.0.3\n",
            "missingno                     0.5.2\n",
            "mistune                       0.8.4\n",
            "mizani                        0.8.1\n",
            "mkl                           2019.0\n",
            "ml-dtypes                     0.1.0\n",
            "mlxtend                       0.14.0\n",
            "more-itertools                9.1.0\n",
            "moviepy                       1.0.3\n",
            "mpmath                        1.3.0\n",
            "msgpack                       1.0.5\n",
            "multipledispatch              0.6.0\n",
            "multitasking                  0.0.11\n",
            "murmurhash                    1.0.9\n",
            "music21                       8.1.0\n",
            "natsort                       8.3.1\n",
            "nbclient                      0.7.4\n",
            "nbconvert                     6.5.4\n",
            "nbformat                      5.8.0\n",
            "nest-asyncio                  1.5.6\n",
            "networkx                      3.1\n",
            "nibabel                       3.0.2\n",
            "nltk                          3.8.1\n",
            "notebook                      6.4.8\n",
            "numba                         0.56.4\n",
            "numexpr                       2.8.4\n",
            "numpy                         1.22.4\n",
            "oauth2client                  4.1.3\n",
            "oauthlib                      3.2.2\n",
            "opencv-contrib-python         4.7.0.72\n",
            "opencv-python                 4.7.0.72\n",
            "opencv-python-headless        4.7.0.72\n",
            "openpyxl                      3.0.10\n",
            "opt-einsum                    3.3.0\n",
            "optax                         0.1.5\n",
            "orbax-checkpoint              0.2.1\n",
            "osqp                          0.6.2.post8\n",
            "packaging                     23.1\n",
            "palettable                    3.3.3\n",
            "pandas                        1.5.3\n",
            "pandas-datareader             0.10.0\n",
            "pandas-gbq                    0.17.9\n",
            "pandocfilters                 1.5.0\n",
            "panel                         0.14.4\n",
            "param                         1.13.0\n",
            "parso                         0.8.3\n",
            "partd                         1.4.0\n",
            "pathlib                       1.0.1\n",
            "pathy                         0.10.1\n",
            "patsy                         0.5.3\n",
            "pexpect                       4.8.0\n",
            "pickleshare                   0.7.5\n",
            "Pillow                        8.4.0\n",
            "pip                           23.1.2\n",
            "pip-tools                     6.13.0\n",
            "platformdirs                  3.3.0\n",
            "plotly                        5.13.1\n",
            "plotnine                      0.10.1\n",
            "pluggy                        1.0.0\n",
            "polars                        0.17.3\n",
            "pooch                         1.6.0\n",
            "portpicker                    1.3.9\n",
            "prefetch-generator            1.0.3\n",
            "preshed                       3.0.8\n",
            "prettytable                   0.7.2\n",
            "proglog                       0.1.10\n",
            "progressbar2                  4.2.0\n",
            "prometheus-client             0.16.0\n",
            "promise                       2.3\n",
            "prompt-toolkit                3.0.38\n",
            "prophet                       1.1.2\n",
            "proto-plus                    1.22.2\n",
            "protobuf                      3.20.3\n",
            "psutil                        5.9.5\n",
            "psycopg2                      2.9.6\n",
            "ptyprocess                    0.7.0\n",
            "py-cpuinfo                    9.0.0\n",
            "py4j                          0.10.9.7\n",
            "pyarrow                       9.0.0\n",
            "pyasn1                        0.5.0\n",
            "pyasn1-modules                0.3.0\n",
            "pycocotools                   2.0.6\n",
            "pycparser                     2.21\n",
            "pyct                          0.5.0\n",
            "pydantic                      1.10.7\n",
            "pydata-google-auth            1.7.0\n",
            "pydot                         1.4.2\n",
            "pydot-ng                      2.0.0\n",
            "pydotplus                     2.0.2\n",
            "PyDrive                       1.3.1\n",
            "pyerfa                        2.0.0.3\n",
            "pygame                        2.3.0\n",
            "Pygments                      2.14.0\n",
            "PyGObject                     3.36.0\n",
            "pymc                          5.1.2\n",
            "PyMeeus                       0.5.12\n",
            "pymystem3                     0.2.0\n",
            "PyOpenGL                      3.1.6\n",
            "pyparsing                     3.0.9\n",
            "pyproject_hooks               1.0.0\n",
            "pyrsistent                    0.19.3\n",
            "PySocks                       1.7.1\n",
            "pytensor                      2.10.1\n",
            "pytest                        7.2.2\n",
            "python-apt                    0.0.0\n",
            "python-dateutil               2.8.2\n",
            "python-louvain                0.16\n",
            "python-slugify                8.0.1\n",
            "python-utils                  3.5.2\n",
            "pytz                          2022.7.1\n",
            "pytz-deprecation-shim         0.1.0.post0\n",
            "pyviz-comms                   2.2.1\n",
            "PyWavelets                    1.4.1\n",
            "PyYAML                        6.0\n",
            "pyzmq                         23.2.1\n",
            "qdldl                         0.1.7\n",
            "qudida                        0.0.4\n",
            "regex                         2022.10.31\n",
            "requests                      2.27.1\n",
            "requests-oauthlib             1.3.1\n",
            "requests-unixsocket           0.2.0\n",
            "requirements-parser           0.5.0\n",
            "rich                          13.3.4\n",
            "rpy2                          3.5.5\n",
            "rsa                           4.9\n",
            "scikit-image                  0.19.3\n",
            "scikit-learn                  1.2.2\n",
            "scipy                         1.10.1\n",
            "scs                           3.2.3\n",
            "seaborn                       0.12.2\n",
            "Send2Trash                    1.8.0\n",
            "setuptools                    67.7.2\n",
            "shapely                       2.0.1\n",
            "six                           1.16.0\n",
            "sklearn-pandas                2.2.0\n",
            "smart-open                    6.3.0\n",
            "sniffio                       1.3.0\n",
            "snowballstemmer               2.2.0\n",
            "sortedcontainers              2.4.0\n",
            "soundfile                     0.12.1\n",
            "soupsieve                     2.4.1\n",
            "soxr                          0.3.5\n",
            "spacy                         3.5.2\n",
            "spacy-legacy                  3.0.12\n",
            "spacy-loggers                 1.0.4\n",
            "Sphinx                        3.5.4\n",
            "sphinxcontrib-applehelp       1.0.4\n",
            "sphinxcontrib-devhelp         1.0.2\n",
            "sphinxcontrib-htmlhelp        2.0.1\n",
            "sphinxcontrib-jsmath          1.0.1\n",
            "sphinxcontrib-qthelp          1.0.3\n",
            "sphinxcontrib-serializinghtml 1.1.5\n",
            "SQLAlchemy                    2.0.10\n",
            "sqlparse                      0.4.4\n",
            "srsly                         2.4.6\n",
            "statsmodels                   0.13.5\n",
            "sympy                         1.11.1\n",
            "tables                        3.8.0\n",
            "tabulate                      0.8.10\n",
            "tblib                         1.7.0\n",
            "tenacity                      8.2.2\n",
            "tensorboard                   2.12.2\n",
            "tensorboard-data-server       0.7.0\n",
            "tensorboard-plugin-wit        1.8.1\n",
            "tensorflow                    2.12.0\n",
            "tensorflow-datasets           4.9.2\n",
            "tensorflow-estimator          2.12.0\n",
            "tensorflow-gcs-config         2.12.0\n",
            "tensorflow-hub                0.13.0\n",
            "tensorflow-io-gcs-filesystem  0.32.0\n",
            "tensorflow-metadata           1.13.1\n",
            "tensorflow-probability        0.19.0\n",
            "tensorstore                   0.1.36\n",
            "termcolor                     2.3.0\n",
            "terminado                     0.17.1\n",
            "text-unidecode                1.3\n",
            "textblob                      0.17.1\n",
            "tf-slim                       1.1.0\n",
            "thinc                         8.1.9\n",
            "threadpoolctl                 3.1.0\n",
            "tifffile                      2023.4.12\n",
            "tinycss2                      1.2.1\n",
            "toml                          0.10.2\n",
            "tomli                         2.0.1\n",
            "toolz                         0.12.0\n",
            "torch                         2.0.0+cu118\n",
            "torchaudio                    2.0.1+cu118\n",
            "torchdata                     0.6.0\n",
            "torchsummary                  1.5.1\n",
            "torchtext                     0.15.1\n",
            "torchvision                   0.15.1+cu118\n",
            "tornado                       6.3.1\n",
            "tqdm                          4.65.0\n",
            "traitlets                     5.7.1\n",
            "triton                        2.0.0\n",
            "tweepy                        4.13.0\n",
            "typer                         0.7.0\n",
            "types-setuptools              67.7.0.2\n",
            "typing_extensions             4.5.0\n",
            "tzdata                        2023.3\n",
            "tzlocal                       4.3\n",
            "uritemplate                   4.1.1\n",
            "urllib3                       1.26.15\n",
            "vega-datasets                 0.9.0\n",
            "wasabi                        1.1.1\n",
            "wcwidth                       0.2.6\n",
            "webcolors                     1.13\n",
            "webencodings                  0.5.1\n",
            "websocket-client              1.5.1\n",
            "Werkzeug                      2.3.0\n",
            "wheel                         0.40.0\n",
            "widgetsnbextension            3.6.4\n",
            "wordcloud                     1.8.2.2\n",
            "wrapt                         1.14.1\n",
            "xarray                        2022.12.0\n",
            "xarray-einstats               0.5.1\n",
            "xgboost                       1.7.5\n",
            "xlrd                          2.0.1\n",
            "yellowbrick                   1.5\n",
            "yfinance                      0.2.18\n",
            "zict                          3.0.0\n",
            "zipp                          3.15.0\n"
          ]
        }
      ]
    },
    {
      "cell_type": "code",
      "execution_count": null,
      "metadata": {
        "id": "hVw1r2RjG4lF"
      },
      "outputs": [],
      "source": [
        "import yfinance as yf"
      ]
    },
    {
      "cell_type": "code",
      "execution_count": null,
      "metadata": {
        "colab": {
          "base_uri": "https://localhost:8080/",
          "height": 473
        },
        "id": "LnYEFfdBG4lF",
        "outputId": "fa8632b2-6394-470f-f732-edbbc094325a"
      },
      "outputs": [
        {
          "output_type": "stream",
          "name": "stdout",
          "text": [
            "\r[*********************100%***********************]  1 of 1 completed\n"
          ]
        },
        {
          "output_type": "execute_result",
          "data": {
            "text/plain": [
              "                  Open        High         Low       Close     Volume\n",
              "Date                                                                 \n",
              "2010-01-04    6.478689    6.511169    6.446817    6.496295  493729600\n",
              "2010-01-05    6.514204    6.544255    6.473224    6.507525  601904800\n",
              "2010-01-06    6.507526    6.533328    6.397337    6.404016  552160000\n",
              "2010-01-07    6.427693    6.435281    6.345733    6.392177  477131200\n",
              "2010-01-08    6.383677    6.435281    6.346038    6.434674  447610800\n",
              "...                ...         ...         ...         ...        ...\n",
              "2023-05-10  172.781019  173.789619  171.662556  173.320267   53724500\n",
              "2023-05-11  173.609878  174.348846  171.932190  173.510010   49514700\n",
              "2023-05-12  173.619995  174.059998  171.000000  172.570007   45497800\n",
              "2023-05-15  173.160004  173.210007  171.470001  172.070007   37266700\n",
              "2023-05-16  171.990005  173.138306  171.799103  172.070007   42040684\n",
              "\n",
              "[3365 rows x 5 columns]"
            ],
            "text/html": [
              "\n",
              "  <div id=\"df-058e9d71-8846-482b-bd42-61b34cd3b353\">\n",
              "    <div class=\"colab-df-container\">\n",
              "      <div>\n",
              "<style scoped>\n",
              "    .dataframe tbody tr th:only-of-type {\n",
              "        vertical-align: middle;\n",
              "    }\n",
              "\n",
              "    .dataframe tbody tr th {\n",
              "        vertical-align: top;\n",
              "    }\n",
              "\n",
              "    .dataframe thead th {\n",
              "        text-align: right;\n",
              "    }\n",
              "</style>\n",
              "<table border=\"1\" class=\"dataframe\">\n",
              "  <thead>\n",
              "    <tr style=\"text-align: right;\">\n",
              "      <th></th>\n",
              "      <th>Open</th>\n",
              "      <th>High</th>\n",
              "      <th>Low</th>\n",
              "      <th>Close</th>\n",
              "      <th>Volume</th>\n",
              "    </tr>\n",
              "    <tr>\n",
              "      <th>Date</th>\n",
              "      <th></th>\n",
              "      <th></th>\n",
              "      <th></th>\n",
              "      <th></th>\n",
              "      <th></th>\n",
              "    </tr>\n",
              "  </thead>\n",
              "  <tbody>\n",
              "    <tr>\n",
              "      <th>2010-01-04</th>\n",
              "      <td>6.478689</td>\n",
              "      <td>6.511169</td>\n",
              "      <td>6.446817</td>\n",
              "      <td>6.496295</td>\n",
              "      <td>493729600</td>\n",
              "    </tr>\n",
              "    <tr>\n",
              "      <th>2010-01-05</th>\n",
              "      <td>6.514204</td>\n",
              "      <td>6.544255</td>\n",
              "      <td>6.473224</td>\n",
              "      <td>6.507525</td>\n",
              "      <td>601904800</td>\n",
              "    </tr>\n",
              "    <tr>\n",
              "      <th>2010-01-06</th>\n",
              "      <td>6.507526</td>\n",
              "      <td>6.533328</td>\n",
              "      <td>6.397337</td>\n",
              "      <td>6.404016</td>\n",
              "      <td>552160000</td>\n",
              "    </tr>\n",
              "    <tr>\n",
              "      <th>2010-01-07</th>\n",
              "      <td>6.427693</td>\n",
              "      <td>6.435281</td>\n",
              "      <td>6.345733</td>\n",
              "      <td>6.392177</td>\n",
              "      <td>477131200</td>\n",
              "    </tr>\n",
              "    <tr>\n",
              "      <th>2010-01-08</th>\n",
              "      <td>6.383677</td>\n",
              "      <td>6.435281</td>\n",
              "      <td>6.346038</td>\n",
              "      <td>6.434674</td>\n",
              "      <td>447610800</td>\n",
              "    </tr>\n",
              "    <tr>\n",
              "      <th>...</th>\n",
              "      <td>...</td>\n",
              "      <td>...</td>\n",
              "      <td>...</td>\n",
              "      <td>...</td>\n",
              "      <td>...</td>\n",
              "    </tr>\n",
              "    <tr>\n",
              "      <th>2023-05-10</th>\n",
              "      <td>172.781019</td>\n",
              "      <td>173.789619</td>\n",
              "      <td>171.662556</td>\n",
              "      <td>173.320267</td>\n",
              "      <td>53724500</td>\n",
              "    </tr>\n",
              "    <tr>\n",
              "      <th>2023-05-11</th>\n",
              "      <td>173.609878</td>\n",
              "      <td>174.348846</td>\n",
              "      <td>171.932190</td>\n",
              "      <td>173.510010</td>\n",
              "      <td>49514700</td>\n",
              "    </tr>\n",
              "    <tr>\n",
              "      <th>2023-05-12</th>\n",
              "      <td>173.619995</td>\n",
              "      <td>174.059998</td>\n",
              "      <td>171.000000</td>\n",
              "      <td>172.570007</td>\n",
              "      <td>45497800</td>\n",
              "    </tr>\n",
              "    <tr>\n",
              "      <th>2023-05-15</th>\n",
              "      <td>173.160004</td>\n",
              "      <td>173.210007</td>\n",
              "      <td>171.470001</td>\n",
              "      <td>172.070007</td>\n",
              "      <td>37266700</td>\n",
              "    </tr>\n",
              "    <tr>\n",
              "      <th>2023-05-16</th>\n",
              "      <td>171.990005</td>\n",
              "      <td>173.138306</td>\n",
              "      <td>171.799103</td>\n",
              "      <td>172.070007</td>\n",
              "      <td>42040684</td>\n",
              "    </tr>\n",
              "  </tbody>\n",
              "</table>\n",
              "<p>3365 rows × 5 columns</p>\n",
              "</div>\n",
              "      <button class=\"colab-df-convert\" onclick=\"convertToInteractive('df-058e9d71-8846-482b-bd42-61b34cd3b353')\"\n",
              "              title=\"Convert this dataframe to an interactive table.\"\n",
              "              style=\"display:none;\">\n",
              "        \n",
              "  <svg xmlns=\"http://www.w3.org/2000/svg\" height=\"24px\"viewBox=\"0 0 24 24\"\n",
              "       width=\"24px\">\n",
              "    <path d=\"M0 0h24v24H0V0z\" fill=\"none\"/>\n",
              "    <path d=\"M18.56 5.44l.94 2.06.94-2.06 2.06-.94-2.06-.94-.94-2.06-.94 2.06-2.06.94zm-11 1L8.5 8.5l.94-2.06 2.06-.94-2.06-.94L8.5 2.5l-.94 2.06-2.06.94zm10 10l.94 2.06.94-2.06 2.06-.94-2.06-.94-.94-2.06-.94 2.06-2.06.94z\"/><path d=\"M17.41 7.96l-1.37-1.37c-.4-.4-.92-.59-1.43-.59-.52 0-1.04.2-1.43.59L10.3 9.45l-7.72 7.72c-.78.78-.78 2.05 0 2.83L4 21.41c.39.39.9.59 1.41.59.51 0 1.02-.2 1.41-.59l7.78-7.78 2.81-2.81c.8-.78.8-2.07 0-2.86zM5.41 20L4 18.59l7.72-7.72 1.47 1.35L5.41 20z\"/>\n",
              "  </svg>\n",
              "      </button>\n",
              "      \n",
              "  <style>\n",
              "    .colab-df-container {\n",
              "      display:flex;\n",
              "      flex-wrap:wrap;\n",
              "      gap: 12px;\n",
              "    }\n",
              "\n",
              "    .colab-df-convert {\n",
              "      background-color: #E8F0FE;\n",
              "      border: none;\n",
              "      border-radius: 50%;\n",
              "      cursor: pointer;\n",
              "      display: none;\n",
              "      fill: #1967D2;\n",
              "      height: 32px;\n",
              "      padding: 0 0 0 0;\n",
              "      width: 32px;\n",
              "    }\n",
              "\n",
              "    .colab-df-convert:hover {\n",
              "      background-color: #E2EBFA;\n",
              "      box-shadow: 0px 1px 2px rgba(60, 64, 67, 0.3), 0px 1px 3px 1px rgba(60, 64, 67, 0.15);\n",
              "      fill: #174EA6;\n",
              "    }\n",
              "\n",
              "    [theme=dark] .colab-df-convert {\n",
              "      background-color: #3B4455;\n",
              "      fill: #D2E3FC;\n",
              "    }\n",
              "\n",
              "    [theme=dark] .colab-df-convert:hover {\n",
              "      background-color: #434B5C;\n",
              "      box-shadow: 0px 1px 3px 1px rgba(0, 0, 0, 0.15);\n",
              "      filter: drop-shadow(0px 1px 2px rgba(0, 0, 0, 0.3));\n",
              "      fill: #FFFFFF;\n",
              "    }\n",
              "  </style>\n",
              "\n",
              "      <script>\n",
              "        const buttonEl =\n",
              "          document.querySelector('#df-058e9d71-8846-482b-bd42-61b34cd3b353 button.colab-df-convert');\n",
              "        buttonEl.style.display =\n",
              "          google.colab.kernel.accessAllowed ? 'block' : 'none';\n",
              "\n",
              "        async function convertToInteractive(key) {\n",
              "          const element = document.querySelector('#df-058e9d71-8846-482b-bd42-61b34cd3b353');\n",
              "          const dataTable =\n",
              "            await google.colab.kernel.invokeFunction('convertToInteractive',\n",
              "                                                     [key], {});\n",
              "          if (!dataTable) return;\n",
              "\n",
              "          const docLinkHtml = 'Like what you see? Visit the ' +\n",
              "            '<a target=\"_blank\" href=https://colab.research.google.com/notebooks/data_table.ipynb>data table notebook</a>'\n",
              "            + ' to learn more about interactive tables.';\n",
              "          element.innerHTML = '';\n",
              "          dataTable['output_type'] = 'display_data';\n",
              "          await google.colab.output.renderOutput(dataTable, element);\n",
              "          const docLink = document.createElement('div');\n",
              "          docLink.innerHTML = docLinkHtml;\n",
              "          element.appendChild(docLink);\n",
              "        }\n",
              "      </script>\n",
              "    </div>\n",
              "  </div>\n",
              "  "
            ]
          },
          "metadata": {},
          "execution_count": 101
        }
      ],
      "source": [
        "data_aapl = yf.download('AAPL', start='2010-01-01', auto_adjust=True)\n",
        "data_aapl"
      ]
    },
    {
      "cell_type": "markdown",
      "metadata": {
        "id": "DZqIRjTrG4lF"
      },
      "source": [
        "# Guardado y lectura de excel"
      ]
    },
    {
      "cell_type": "code",
      "execution_count": null,
      "metadata": {
        "id": "lQ2YPoxuG4lF"
      },
      "outputs": [],
      "source": [
        "data_aapl.to_excel(\"datos_bajados_yahoo.xlsx\")"
      ]
    },
    {
      "cell_type": "code",
      "execution_count": null,
      "metadata": {
        "colab": {
          "base_uri": "https://localhost:8080/",
          "height": 423
        },
        "id": "Z3MzspprG4lF",
        "outputId": "cf244431-8d8c-4945-c786-65feaf66fa14"
      },
      "outputs": [
        {
          "output_type": "execute_result",
          "data": {
            "text/plain": [
              "           Date        Open        High         Low       Close     Volume\n",
              "0    2010-01-04    6.478688    6.511167    6.446815    6.496294  493729600\n",
              "1    2010-01-05    6.514206    6.544257    6.473226    6.507527  601904800\n",
              "2    2010-01-06    6.507527    6.533329    6.397338    6.404016  552160000\n",
              "3    2010-01-07    6.427692    6.435281    6.345733    6.392176  477131200\n",
              "4    2010-01-08    6.383677    6.435281    6.346037    6.434673  447610800\n",
              "...         ...         ...         ...         ...         ...        ...\n",
              "3360 2023-05-10  172.781019  173.789619  171.662556  173.320267   53724500\n",
              "3361 2023-05-11  173.609878  174.348846  171.932190  173.510010   49514700\n",
              "3362 2023-05-12  173.619995  174.059998  171.000000  172.570007   45497800\n",
              "3363 2023-05-15  173.160004  173.210007  171.470001  172.070007   37237800\n",
              "3364 2023-05-16  171.990005  173.138306  171.799103  172.203903   29017827\n",
              "\n",
              "[3365 rows x 6 columns]"
            ],
            "text/html": [
              "\n",
              "  <div id=\"df-2c377ce4-fe79-4502-8e59-d78b95f68619\">\n",
              "    <div class=\"colab-df-container\">\n",
              "      <div>\n",
              "<style scoped>\n",
              "    .dataframe tbody tr th:only-of-type {\n",
              "        vertical-align: middle;\n",
              "    }\n",
              "\n",
              "    .dataframe tbody tr th {\n",
              "        vertical-align: top;\n",
              "    }\n",
              "\n",
              "    .dataframe thead th {\n",
              "        text-align: right;\n",
              "    }\n",
              "</style>\n",
              "<table border=\"1\" class=\"dataframe\">\n",
              "  <thead>\n",
              "    <tr style=\"text-align: right;\">\n",
              "      <th></th>\n",
              "      <th>Date</th>\n",
              "      <th>Open</th>\n",
              "      <th>High</th>\n",
              "      <th>Low</th>\n",
              "      <th>Close</th>\n",
              "      <th>Volume</th>\n",
              "    </tr>\n",
              "  </thead>\n",
              "  <tbody>\n",
              "    <tr>\n",
              "      <th>0</th>\n",
              "      <td>2010-01-04</td>\n",
              "      <td>6.478688</td>\n",
              "      <td>6.511167</td>\n",
              "      <td>6.446815</td>\n",
              "      <td>6.496294</td>\n",
              "      <td>493729600</td>\n",
              "    </tr>\n",
              "    <tr>\n",
              "      <th>1</th>\n",
              "      <td>2010-01-05</td>\n",
              "      <td>6.514206</td>\n",
              "      <td>6.544257</td>\n",
              "      <td>6.473226</td>\n",
              "      <td>6.507527</td>\n",
              "      <td>601904800</td>\n",
              "    </tr>\n",
              "    <tr>\n",
              "      <th>2</th>\n",
              "      <td>2010-01-06</td>\n",
              "      <td>6.507527</td>\n",
              "      <td>6.533329</td>\n",
              "      <td>6.397338</td>\n",
              "      <td>6.404016</td>\n",
              "      <td>552160000</td>\n",
              "    </tr>\n",
              "    <tr>\n",
              "      <th>3</th>\n",
              "      <td>2010-01-07</td>\n",
              "      <td>6.427692</td>\n",
              "      <td>6.435281</td>\n",
              "      <td>6.345733</td>\n",
              "      <td>6.392176</td>\n",
              "      <td>477131200</td>\n",
              "    </tr>\n",
              "    <tr>\n",
              "      <th>4</th>\n",
              "      <td>2010-01-08</td>\n",
              "      <td>6.383677</td>\n",
              "      <td>6.435281</td>\n",
              "      <td>6.346037</td>\n",
              "      <td>6.434673</td>\n",
              "      <td>447610800</td>\n",
              "    </tr>\n",
              "    <tr>\n",
              "      <th>...</th>\n",
              "      <td>...</td>\n",
              "      <td>...</td>\n",
              "      <td>...</td>\n",
              "      <td>...</td>\n",
              "      <td>...</td>\n",
              "      <td>...</td>\n",
              "    </tr>\n",
              "    <tr>\n",
              "      <th>3360</th>\n",
              "      <td>2023-05-10</td>\n",
              "      <td>172.781019</td>\n",
              "      <td>173.789619</td>\n",
              "      <td>171.662556</td>\n",
              "      <td>173.320267</td>\n",
              "      <td>53724500</td>\n",
              "    </tr>\n",
              "    <tr>\n",
              "      <th>3361</th>\n",
              "      <td>2023-05-11</td>\n",
              "      <td>173.609878</td>\n",
              "      <td>174.348846</td>\n",
              "      <td>171.932190</td>\n",
              "      <td>173.510010</td>\n",
              "      <td>49514700</td>\n",
              "    </tr>\n",
              "    <tr>\n",
              "      <th>3362</th>\n",
              "      <td>2023-05-12</td>\n",
              "      <td>173.619995</td>\n",
              "      <td>174.059998</td>\n",
              "      <td>171.000000</td>\n",
              "      <td>172.570007</td>\n",
              "      <td>45497800</td>\n",
              "    </tr>\n",
              "    <tr>\n",
              "      <th>3363</th>\n",
              "      <td>2023-05-15</td>\n",
              "      <td>173.160004</td>\n",
              "      <td>173.210007</td>\n",
              "      <td>171.470001</td>\n",
              "      <td>172.070007</td>\n",
              "      <td>37237800</td>\n",
              "    </tr>\n",
              "    <tr>\n",
              "      <th>3364</th>\n",
              "      <td>2023-05-16</td>\n",
              "      <td>171.990005</td>\n",
              "      <td>173.138306</td>\n",
              "      <td>171.799103</td>\n",
              "      <td>172.203903</td>\n",
              "      <td>29017827</td>\n",
              "    </tr>\n",
              "  </tbody>\n",
              "</table>\n",
              "<p>3365 rows × 6 columns</p>\n",
              "</div>\n",
              "      <button class=\"colab-df-convert\" onclick=\"convertToInteractive('df-2c377ce4-fe79-4502-8e59-d78b95f68619')\"\n",
              "              title=\"Convert this dataframe to an interactive table.\"\n",
              "              style=\"display:none;\">\n",
              "        \n",
              "  <svg xmlns=\"http://www.w3.org/2000/svg\" height=\"24px\"viewBox=\"0 0 24 24\"\n",
              "       width=\"24px\">\n",
              "    <path d=\"M0 0h24v24H0V0z\" fill=\"none\"/>\n",
              "    <path d=\"M18.56 5.44l.94 2.06.94-2.06 2.06-.94-2.06-.94-.94-2.06-.94 2.06-2.06.94zm-11 1L8.5 8.5l.94-2.06 2.06-.94-2.06-.94L8.5 2.5l-.94 2.06-2.06.94zm10 10l.94 2.06.94-2.06 2.06-.94-2.06-.94-.94-2.06-.94 2.06-2.06.94z\"/><path d=\"M17.41 7.96l-1.37-1.37c-.4-.4-.92-.59-1.43-.59-.52 0-1.04.2-1.43.59L10.3 9.45l-7.72 7.72c-.78.78-.78 2.05 0 2.83L4 21.41c.39.39.9.59 1.41.59.51 0 1.02-.2 1.41-.59l7.78-7.78 2.81-2.81c.8-.78.8-2.07 0-2.86zM5.41 20L4 18.59l7.72-7.72 1.47 1.35L5.41 20z\"/>\n",
              "  </svg>\n",
              "      </button>\n",
              "      \n",
              "  <style>\n",
              "    .colab-df-container {\n",
              "      display:flex;\n",
              "      flex-wrap:wrap;\n",
              "      gap: 12px;\n",
              "    }\n",
              "\n",
              "    .colab-df-convert {\n",
              "      background-color: #E8F0FE;\n",
              "      border: none;\n",
              "      border-radius: 50%;\n",
              "      cursor: pointer;\n",
              "      display: none;\n",
              "      fill: #1967D2;\n",
              "      height: 32px;\n",
              "      padding: 0 0 0 0;\n",
              "      width: 32px;\n",
              "    }\n",
              "\n",
              "    .colab-df-convert:hover {\n",
              "      background-color: #E2EBFA;\n",
              "      box-shadow: 0px 1px 2px rgba(60, 64, 67, 0.3), 0px 1px 3px 1px rgba(60, 64, 67, 0.15);\n",
              "      fill: #174EA6;\n",
              "    }\n",
              "\n",
              "    [theme=dark] .colab-df-convert {\n",
              "      background-color: #3B4455;\n",
              "      fill: #D2E3FC;\n",
              "    }\n",
              "\n",
              "    [theme=dark] .colab-df-convert:hover {\n",
              "      background-color: #434B5C;\n",
              "      box-shadow: 0px 1px 3px 1px rgba(0, 0, 0, 0.15);\n",
              "      filter: drop-shadow(0px 1px 2px rgba(0, 0, 0, 0.3));\n",
              "      fill: #FFFFFF;\n",
              "    }\n",
              "  </style>\n",
              "\n",
              "      <script>\n",
              "        const buttonEl =\n",
              "          document.querySelector('#df-2c377ce4-fe79-4502-8e59-d78b95f68619 button.colab-df-convert');\n",
              "        buttonEl.style.display =\n",
              "          google.colab.kernel.accessAllowed ? 'block' : 'none';\n",
              "\n",
              "        async function convertToInteractive(key) {\n",
              "          const element = document.querySelector('#df-2c377ce4-fe79-4502-8e59-d78b95f68619');\n",
              "          const dataTable =\n",
              "            await google.colab.kernel.invokeFunction('convertToInteractive',\n",
              "                                                     [key], {});\n",
              "          if (!dataTable) return;\n",
              "\n",
              "          const docLinkHtml = 'Like what you see? Visit the ' +\n",
              "            '<a target=\"_blank\" href=https://colab.research.google.com/notebooks/data_table.ipynb>data table notebook</a>'\n",
              "            + ' to learn more about interactive tables.';\n",
              "          element.innerHTML = '';\n",
              "          dataTable['output_type'] = 'display_data';\n",
              "          await google.colab.output.renderOutput(dataTable, element);\n",
              "          const docLink = document.createElement('div');\n",
              "          docLink.innerHTML = docLinkHtml;\n",
              "          element.appendChild(docLink);\n",
              "        }\n",
              "      </script>\n",
              "    </div>\n",
              "  </div>\n",
              "  "
            ]
          },
          "metadata": {},
          "execution_count": 66
        }
      ],
      "source": [
        "import pandas as pd\n",
        "\n",
        "pd.read_excel('datos_bajados_yahoo.xlsx')"
      ]
    },
    {
      "cell_type": "code",
      "source": [
        "from google.colab import drive\n",
        "drive.mount('/content/drive')"
      ],
      "metadata": {
        "id": "HjUpt1CMq3wv"
      },
      "execution_count": null,
      "outputs": []
    },
    {
      "cell_type": "code",
      "execution_count": null,
      "metadata": {
        "id": "xVQSBtu7G4lG"
      },
      "outputs": [],
      "source": []
    },
    {
      "cell_type": "code",
      "execution_count": null,
      "metadata": {
        "id": "Cvwu2JfcG4lG"
      },
      "outputs": [],
      "source": []
    },
    {
      "cell_type": "markdown",
      "metadata": {
        "id": "pKUcMSFiG4lG"
      },
      "source": [
        "## Otros timeframes"
      ]
    },
    {
      "cell_type": "code",
      "execution_count": null,
      "metadata": {
        "id": "vD3r5x0aG4lG",
        "outputId": "3c87f490-da5c-400f-ccdf-e2f56b1214d9",
        "colab": {
          "base_uri": "https://localhost:8080/",
          "height": 473
        }
      },
      "outputs": [
        {
          "output_type": "stream",
          "name": "stdout",
          "text": [
            "\r[*********************100%***********************]  1 of 1 completed\n"
          ]
        },
        {
          "output_type": "execute_result",
          "data": {
            "text/plain": [
              "                                 Open        High         Low       Close  \\\n",
              "Datetime                                                                    \n",
              "2023-04-03 09:30:00-04:00  164.270004  165.559998  164.220001  165.496704   \n",
              "2023-04-03 09:35:00-04:00  165.494995  165.849899  165.360001  165.725006   \n",
              "2023-04-03 09:40:00-04:00  165.732300  165.732300  165.440002  165.449997   \n",
              "2023-04-03 09:45:00-04:00  165.440002  165.869995  165.229996  165.869995   \n",
              "2023-04-03 09:50:00-04:00  165.869995  165.889999  165.270004  165.300003   \n",
              "...                               ...         ...         ...         ...   \n",
              "2023-05-16 14:20:00-04:00  171.949997  171.960007  171.804993  171.865005   \n",
              "2023-05-16 14:25:00-04:00  171.860001  171.929993  171.799103  171.899994   \n",
              "2023-05-16 14:30:00-04:00  171.899994  172.005005  171.869995  171.990005   \n",
              "2023-05-16 14:35:00-04:00  171.990005  172.050003  171.914993  172.050003   \n",
              "2023-05-16 14:40:00-04:00  172.054993  172.225693  172.054993  172.179993   \n",
              "\n",
              "                            Adj Close   Volume  \n",
              "Datetime                                        \n",
              "2023-04-03 09:30:00-04:00  165.496704  3833951  \n",
              "2023-04-03 09:35:00-04:00  165.725006  1398850  \n",
              "2023-04-03 09:40:00-04:00  165.449997  1077282  \n",
              "2023-04-03 09:45:00-04:00  165.869995  1138968  \n",
              "2023-04-03 09:50:00-04:00  165.300003  1160507  \n",
              "...                               ...      ...  \n",
              "2023-05-16 14:20:00-04:00  171.865005   276100  \n",
              "2023-05-16 14:25:00-04:00  171.899994   227930  \n",
              "2023-05-16 14:30:00-04:00  171.990005   275996  \n",
              "2023-05-16 14:35:00-04:00  172.050003   257426  \n",
              "2023-05-16 14:40:00-04:00  172.179993   299367  \n",
              "\n",
              "[2403 rows x 6 columns]"
            ],
            "text/html": [
              "\n",
              "  <div id=\"df-6bd589da-c2ac-49e4-836c-20d17b80b114\">\n",
              "    <div class=\"colab-df-container\">\n",
              "      <div>\n",
              "<style scoped>\n",
              "    .dataframe tbody tr th:only-of-type {\n",
              "        vertical-align: middle;\n",
              "    }\n",
              "\n",
              "    .dataframe tbody tr th {\n",
              "        vertical-align: top;\n",
              "    }\n",
              "\n",
              "    .dataframe thead th {\n",
              "        text-align: right;\n",
              "    }\n",
              "</style>\n",
              "<table border=\"1\" class=\"dataframe\">\n",
              "  <thead>\n",
              "    <tr style=\"text-align: right;\">\n",
              "      <th></th>\n",
              "      <th>Open</th>\n",
              "      <th>High</th>\n",
              "      <th>Low</th>\n",
              "      <th>Close</th>\n",
              "      <th>Adj Close</th>\n",
              "      <th>Volume</th>\n",
              "    </tr>\n",
              "    <tr>\n",
              "      <th>Datetime</th>\n",
              "      <th></th>\n",
              "      <th></th>\n",
              "      <th></th>\n",
              "      <th></th>\n",
              "      <th></th>\n",
              "      <th></th>\n",
              "    </tr>\n",
              "  </thead>\n",
              "  <tbody>\n",
              "    <tr>\n",
              "      <th>2023-04-03 09:30:00-04:00</th>\n",
              "      <td>164.270004</td>\n",
              "      <td>165.559998</td>\n",
              "      <td>164.220001</td>\n",
              "      <td>165.496704</td>\n",
              "      <td>165.496704</td>\n",
              "      <td>3833951</td>\n",
              "    </tr>\n",
              "    <tr>\n",
              "      <th>2023-04-03 09:35:00-04:00</th>\n",
              "      <td>165.494995</td>\n",
              "      <td>165.849899</td>\n",
              "      <td>165.360001</td>\n",
              "      <td>165.725006</td>\n",
              "      <td>165.725006</td>\n",
              "      <td>1398850</td>\n",
              "    </tr>\n",
              "    <tr>\n",
              "      <th>2023-04-03 09:40:00-04:00</th>\n",
              "      <td>165.732300</td>\n",
              "      <td>165.732300</td>\n",
              "      <td>165.440002</td>\n",
              "      <td>165.449997</td>\n",
              "      <td>165.449997</td>\n",
              "      <td>1077282</td>\n",
              "    </tr>\n",
              "    <tr>\n",
              "      <th>2023-04-03 09:45:00-04:00</th>\n",
              "      <td>165.440002</td>\n",
              "      <td>165.869995</td>\n",
              "      <td>165.229996</td>\n",
              "      <td>165.869995</td>\n",
              "      <td>165.869995</td>\n",
              "      <td>1138968</td>\n",
              "    </tr>\n",
              "    <tr>\n",
              "      <th>2023-04-03 09:50:00-04:00</th>\n",
              "      <td>165.869995</td>\n",
              "      <td>165.889999</td>\n",
              "      <td>165.270004</td>\n",
              "      <td>165.300003</td>\n",
              "      <td>165.300003</td>\n",
              "      <td>1160507</td>\n",
              "    </tr>\n",
              "    <tr>\n",
              "      <th>...</th>\n",
              "      <td>...</td>\n",
              "      <td>...</td>\n",
              "      <td>...</td>\n",
              "      <td>...</td>\n",
              "      <td>...</td>\n",
              "      <td>...</td>\n",
              "    </tr>\n",
              "    <tr>\n",
              "      <th>2023-05-16 14:20:00-04:00</th>\n",
              "      <td>171.949997</td>\n",
              "      <td>171.960007</td>\n",
              "      <td>171.804993</td>\n",
              "      <td>171.865005</td>\n",
              "      <td>171.865005</td>\n",
              "      <td>276100</td>\n",
              "    </tr>\n",
              "    <tr>\n",
              "      <th>2023-05-16 14:25:00-04:00</th>\n",
              "      <td>171.860001</td>\n",
              "      <td>171.929993</td>\n",
              "      <td>171.799103</td>\n",
              "      <td>171.899994</td>\n",
              "      <td>171.899994</td>\n",
              "      <td>227930</td>\n",
              "    </tr>\n",
              "    <tr>\n",
              "      <th>2023-05-16 14:30:00-04:00</th>\n",
              "      <td>171.899994</td>\n",
              "      <td>172.005005</td>\n",
              "      <td>171.869995</td>\n",
              "      <td>171.990005</td>\n",
              "      <td>171.990005</td>\n",
              "      <td>275996</td>\n",
              "    </tr>\n",
              "    <tr>\n",
              "      <th>2023-05-16 14:35:00-04:00</th>\n",
              "      <td>171.990005</td>\n",
              "      <td>172.050003</td>\n",
              "      <td>171.914993</td>\n",
              "      <td>172.050003</td>\n",
              "      <td>172.050003</td>\n",
              "      <td>257426</td>\n",
              "    </tr>\n",
              "    <tr>\n",
              "      <th>2023-05-16 14:40:00-04:00</th>\n",
              "      <td>172.054993</td>\n",
              "      <td>172.225693</td>\n",
              "      <td>172.054993</td>\n",
              "      <td>172.179993</td>\n",
              "      <td>172.179993</td>\n",
              "      <td>299367</td>\n",
              "    </tr>\n",
              "  </tbody>\n",
              "</table>\n",
              "<p>2403 rows × 6 columns</p>\n",
              "</div>\n",
              "      <button class=\"colab-df-convert\" onclick=\"convertToInteractive('df-6bd589da-c2ac-49e4-836c-20d17b80b114')\"\n",
              "              title=\"Convert this dataframe to an interactive table.\"\n",
              "              style=\"display:none;\">\n",
              "        \n",
              "  <svg xmlns=\"http://www.w3.org/2000/svg\" height=\"24px\"viewBox=\"0 0 24 24\"\n",
              "       width=\"24px\">\n",
              "    <path d=\"M0 0h24v24H0V0z\" fill=\"none\"/>\n",
              "    <path d=\"M18.56 5.44l.94 2.06.94-2.06 2.06-.94-2.06-.94-.94-2.06-.94 2.06-2.06.94zm-11 1L8.5 8.5l.94-2.06 2.06-.94-2.06-.94L8.5 2.5l-.94 2.06-2.06.94zm10 10l.94 2.06.94-2.06 2.06-.94-2.06-.94-.94-2.06-.94 2.06-2.06.94z\"/><path d=\"M17.41 7.96l-1.37-1.37c-.4-.4-.92-.59-1.43-.59-.52 0-1.04.2-1.43.59L10.3 9.45l-7.72 7.72c-.78.78-.78 2.05 0 2.83L4 21.41c.39.39.9.59 1.41.59.51 0 1.02-.2 1.41-.59l7.78-7.78 2.81-2.81c.8-.78.8-2.07 0-2.86zM5.41 20L4 18.59l7.72-7.72 1.47 1.35L5.41 20z\"/>\n",
              "  </svg>\n",
              "      </button>\n",
              "      \n",
              "  <style>\n",
              "    .colab-df-container {\n",
              "      display:flex;\n",
              "      flex-wrap:wrap;\n",
              "      gap: 12px;\n",
              "    }\n",
              "\n",
              "    .colab-df-convert {\n",
              "      background-color: #E8F0FE;\n",
              "      border: none;\n",
              "      border-radius: 50%;\n",
              "      cursor: pointer;\n",
              "      display: none;\n",
              "      fill: #1967D2;\n",
              "      height: 32px;\n",
              "      padding: 0 0 0 0;\n",
              "      width: 32px;\n",
              "    }\n",
              "\n",
              "    .colab-df-convert:hover {\n",
              "      background-color: #E2EBFA;\n",
              "      box-shadow: 0px 1px 2px rgba(60, 64, 67, 0.3), 0px 1px 3px 1px rgba(60, 64, 67, 0.15);\n",
              "      fill: #174EA6;\n",
              "    }\n",
              "\n",
              "    [theme=dark] .colab-df-convert {\n",
              "      background-color: #3B4455;\n",
              "      fill: #D2E3FC;\n",
              "    }\n",
              "\n",
              "    [theme=dark] .colab-df-convert:hover {\n",
              "      background-color: #434B5C;\n",
              "      box-shadow: 0px 1px 3px 1px rgba(0, 0, 0, 0.15);\n",
              "      filter: drop-shadow(0px 1px 2px rgba(0, 0, 0, 0.3));\n",
              "      fill: #FFFFFF;\n",
              "    }\n",
              "  </style>\n",
              "\n",
              "      <script>\n",
              "        const buttonEl =\n",
              "          document.querySelector('#df-6bd589da-c2ac-49e4-836c-20d17b80b114 button.colab-df-convert');\n",
              "        buttonEl.style.display =\n",
              "          google.colab.kernel.accessAllowed ? 'block' : 'none';\n",
              "\n",
              "        async function convertToInteractive(key) {\n",
              "          const element = document.querySelector('#df-6bd589da-c2ac-49e4-836c-20d17b80b114');\n",
              "          const dataTable =\n",
              "            await google.colab.kernel.invokeFunction('convertToInteractive',\n",
              "                                                     [key], {});\n",
              "          if (!dataTable) return;\n",
              "\n",
              "          const docLinkHtml = 'Like what you see? Visit the ' +\n",
              "            '<a target=\"_blank\" href=https://colab.research.google.com/notebooks/data_table.ipynb>data table notebook</a>'\n",
              "            + ' to learn more about interactive tables.';\n",
              "          element.innerHTML = '';\n",
              "          dataTable['output_type'] = 'display_data';\n",
              "          await google.colab.output.renderOutput(dataTable, element);\n",
              "          const docLink = document.createElement('div');\n",
              "          docLink.innerHTML = docLinkHtml;\n",
              "          element.appendChild(docLink);\n",
              "        }\n",
              "      </script>\n",
              "    </div>\n",
              "  </div>\n",
              "  "
            ]
          },
          "metadata": {},
          "execution_count": 69
        }
      ],
      "source": [
        "yf.download('AAPL', start='2023-04-01', interval=\"5m\", auto_adjust=False)"
      ]
    },
    {
      "cell_type": "markdown",
      "metadata": {
        "id": "0BEwE9r9G4lG"
      },
      "source": [
        "## Varios tickers a la vez"
      ]
    },
    {
      "cell_type": "code",
      "execution_count": null,
      "metadata": {
        "id": "yO6BDBEkG4lG",
        "outputId": "32340845-6dd4-434c-9455-0dadfe835ec1",
        "colab": {
          "base_uri": "https://localhost:8080/",
          "height": 473
        }
      },
      "outputs": [
        {
          "output_type": "stream",
          "name": "stdout",
          "text": [
            "[*********************100%***********************]  7 of 7 completed\n"
          ]
        },
        {
          "output_type": "execute_result",
          "data": {
            "text/plain": [
              "                  AAPL        AMZN       GOOGL        META        NFLX  \\\n",
              "Date                                                                     \n",
              "2020-01-02   73.347954   94.900497   68.433998  209.779999  329.809998   \n",
              "2020-01-03   72.634850   93.748497   68.075996  208.669998  325.899994   \n",
              "2020-01-06   73.213623   95.143997   69.890503  212.600006  335.829987   \n",
              "2020-01-07   72.869286   95.343002   69.755501  213.059998  330.750000   \n",
              "2020-01-08   74.041481   94.598503   70.251999  215.220001  339.260010   \n",
              "...                ...         ...         ...         ...         ...   \n",
              "2023-05-10  173.320267  110.190002  111.750000  233.080002  335.420013   \n",
              "2023-05-11  173.510010  112.180000  116.570000  235.789993  344.760010   \n",
              "2023-05-12  172.570007  110.260002  117.510002  233.809998  339.890015   \n",
              "2023-05-15  172.070007  111.199997  116.510002  238.860001  335.890015   \n",
              "2023-05-16  172.350006  114.195000  120.260002  239.479996  332.950012   \n",
              "\n",
              "                   QQQ        SQQQ  \n",
              "Date                                \n",
              "2020-01-02  212.012680  526.091980  \n",
              "2020-01-03  210.070663  540.170471  \n",
              "2020-01-06  211.424210  529.796875  \n",
              "2020-01-07  211.394745  530.043823  \n",
              "2020-01-08  212.983673  518.188293  \n",
              "...                ...         ...  \n",
              "2023-05-10  325.140015   28.270000  \n",
              "2023-05-11  326.200012   28.040001  \n",
              "2023-05-12  325.029999   28.340000  \n",
              "2023-05-15  326.790009   27.900000  \n",
              "2023-05-16  328.529999   27.468399  \n",
              "\n",
              "[849 rows x 7 columns]"
            ],
            "text/html": [
              "\n",
              "  <div id=\"df-456f01f6-6b06-45a0-8d10-242254a1fb38\">\n",
              "    <div class=\"colab-df-container\">\n",
              "      <div>\n",
              "<style scoped>\n",
              "    .dataframe tbody tr th:only-of-type {\n",
              "        vertical-align: middle;\n",
              "    }\n",
              "\n",
              "    .dataframe tbody tr th {\n",
              "        vertical-align: top;\n",
              "    }\n",
              "\n",
              "    .dataframe thead th {\n",
              "        text-align: right;\n",
              "    }\n",
              "</style>\n",
              "<table border=\"1\" class=\"dataframe\">\n",
              "  <thead>\n",
              "    <tr style=\"text-align: right;\">\n",
              "      <th></th>\n",
              "      <th>AAPL</th>\n",
              "      <th>AMZN</th>\n",
              "      <th>GOOGL</th>\n",
              "      <th>META</th>\n",
              "      <th>NFLX</th>\n",
              "      <th>QQQ</th>\n",
              "      <th>SQQQ</th>\n",
              "    </tr>\n",
              "    <tr>\n",
              "      <th>Date</th>\n",
              "      <th></th>\n",
              "      <th></th>\n",
              "      <th></th>\n",
              "      <th></th>\n",
              "      <th></th>\n",
              "      <th></th>\n",
              "      <th></th>\n",
              "    </tr>\n",
              "  </thead>\n",
              "  <tbody>\n",
              "    <tr>\n",
              "      <th>2020-01-02</th>\n",
              "      <td>73.347954</td>\n",
              "      <td>94.900497</td>\n",
              "      <td>68.433998</td>\n",
              "      <td>209.779999</td>\n",
              "      <td>329.809998</td>\n",
              "      <td>212.012680</td>\n",
              "      <td>526.091980</td>\n",
              "    </tr>\n",
              "    <tr>\n",
              "      <th>2020-01-03</th>\n",
              "      <td>72.634850</td>\n",
              "      <td>93.748497</td>\n",
              "      <td>68.075996</td>\n",
              "      <td>208.669998</td>\n",
              "      <td>325.899994</td>\n",
              "      <td>210.070663</td>\n",
              "      <td>540.170471</td>\n",
              "    </tr>\n",
              "    <tr>\n",
              "      <th>2020-01-06</th>\n",
              "      <td>73.213623</td>\n",
              "      <td>95.143997</td>\n",
              "      <td>69.890503</td>\n",
              "      <td>212.600006</td>\n",
              "      <td>335.829987</td>\n",
              "      <td>211.424210</td>\n",
              "      <td>529.796875</td>\n",
              "    </tr>\n",
              "    <tr>\n",
              "      <th>2020-01-07</th>\n",
              "      <td>72.869286</td>\n",
              "      <td>95.343002</td>\n",
              "      <td>69.755501</td>\n",
              "      <td>213.059998</td>\n",
              "      <td>330.750000</td>\n",
              "      <td>211.394745</td>\n",
              "      <td>530.043823</td>\n",
              "    </tr>\n",
              "    <tr>\n",
              "      <th>2020-01-08</th>\n",
              "      <td>74.041481</td>\n",
              "      <td>94.598503</td>\n",
              "      <td>70.251999</td>\n",
              "      <td>215.220001</td>\n",
              "      <td>339.260010</td>\n",
              "      <td>212.983673</td>\n",
              "      <td>518.188293</td>\n",
              "    </tr>\n",
              "    <tr>\n",
              "      <th>...</th>\n",
              "      <td>...</td>\n",
              "      <td>...</td>\n",
              "      <td>...</td>\n",
              "      <td>...</td>\n",
              "      <td>...</td>\n",
              "      <td>...</td>\n",
              "      <td>...</td>\n",
              "    </tr>\n",
              "    <tr>\n",
              "      <th>2023-05-10</th>\n",
              "      <td>173.320267</td>\n",
              "      <td>110.190002</td>\n",
              "      <td>111.750000</td>\n",
              "      <td>233.080002</td>\n",
              "      <td>335.420013</td>\n",
              "      <td>325.140015</td>\n",
              "      <td>28.270000</td>\n",
              "    </tr>\n",
              "    <tr>\n",
              "      <th>2023-05-11</th>\n",
              "      <td>173.510010</td>\n",
              "      <td>112.180000</td>\n",
              "      <td>116.570000</td>\n",
              "      <td>235.789993</td>\n",
              "      <td>344.760010</td>\n",
              "      <td>326.200012</td>\n",
              "      <td>28.040001</td>\n",
              "    </tr>\n",
              "    <tr>\n",
              "      <th>2023-05-12</th>\n",
              "      <td>172.570007</td>\n",
              "      <td>110.260002</td>\n",
              "      <td>117.510002</td>\n",
              "      <td>233.809998</td>\n",
              "      <td>339.890015</td>\n",
              "      <td>325.029999</td>\n",
              "      <td>28.340000</td>\n",
              "    </tr>\n",
              "    <tr>\n",
              "      <th>2023-05-15</th>\n",
              "      <td>172.070007</td>\n",
              "      <td>111.199997</td>\n",
              "      <td>116.510002</td>\n",
              "      <td>238.860001</td>\n",
              "      <td>335.890015</td>\n",
              "      <td>326.790009</td>\n",
              "      <td>27.900000</td>\n",
              "    </tr>\n",
              "    <tr>\n",
              "      <th>2023-05-16</th>\n",
              "      <td>172.350006</td>\n",
              "      <td>114.195000</td>\n",
              "      <td>120.260002</td>\n",
              "      <td>239.479996</td>\n",
              "      <td>332.950012</td>\n",
              "      <td>328.529999</td>\n",
              "      <td>27.468399</td>\n",
              "    </tr>\n",
              "  </tbody>\n",
              "</table>\n",
              "<p>849 rows × 7 columns</p>\n",
              "</div>\n",
              "      <button class=\"colab-df-convert\" onclick=\"convertToInteractive('df-456f01f6-6b06-45a0-8d10-242254a1fb38')\"\n",
              "              title=\"Convert this dataframe to an interactive table.\"\n",
              "              style=\"display:none;\">\n",
              "        \n",
              "  <svg xmlns=\"http://www.w3.org/2000/svg\" height=\"24px\"viewBox=\"0 0 24 24\"\n",
              "       width=\"24px\">\n",
              "    <path d=\"M0 0h24v24H0V0z\" fill=\"none\"/>\n",
              "    <path d=\"M18.56 5.44l.94 2.06.94-2.06 2.06-.94-2.06-.94-.94-2.06-.94 2.06-2.06.94zm-11 1L8.5 8.5l.94-2.06 2.06-.94-2.06-.94L8.5 2.5l-.94 2.06-2.06.94zm10 10l.94 2.06.94-2.06 2.06-.94-2.06-.94-.94-2.06-.94 2.06-2.06.94z\"/><path d=\"M17.41 7.96l-1.37-1.37c-.4-.4-.92-.59-1.43-.59-.52 0-1.04.2-1.43.59L10.3 9.45l-7.72 7.72c-.78.78-.78 2.05 0 2.83L4 21.41c.39.39.9.59 1.41.59.51 0 1.02-.2 1.41-.59l7.78-7.78 2.81-2.81c.8-.78.8-2.07 0-2.86zM5.41 20L4 18.59l7.72-7.72 1.47 1.35L5.41 20z\"/>\n",
              "  </svg>\n",
              "      </button>\n",
              "      \n",
              "  <style>\n",
              "    .colab-df-container {\n",
              "      display:flex;\n",
              "      flex-wrap:wrap;\n",
              "      gap: 12px;\n",
              "    }\n",
              "\n",
              "    .colab-df-convert {\n",
              "      background-color: #E8F0FE;\n",
              "      border: none;\n",
              "      border-radius: 50%;\n",
              "      cursor: pointer;\n",
              "      display: none;\n",
              "      fill: #1967D2;\n",
              "      height: 32px;\n",
              "      padding: 0 0 0 0;\n",
              "      width: 32px;\n",
              "    }\n",
              "\n",
              "    .colab-df-convert:hover {\n",
              "      background-color: #E2EBFA;\n",
              "      box-shadow: 0px 1px 2px rgba(60, 64, 67, 0.3), 0px 1px 3px 1px rgba(60, 64, 67, 0.15);\n",
              "      fill: #174EA6;\n",
              "    }\n",
              "\n",
              "    [theme=dark] .colab-df-convert {\n",
              "      background-color: #3B4455;\n",
              "      fill: #D2E3FC;\n",
              "    }\n",
              "\n",
              "    [theme=dark] .colab-df-convert:hover {\n",
              "      background-color: #434B5C;\n",
              "      box-shadow: 0px 1px 3px 1px rgba(0, 0, 0, 0.15);\n",
              "      filter: drop-shadow(0px 1px 2px rgba(0, 0, 0, 0.3));\n",
              "      fill: #FFFFFF;\n",
              "    }\n",
              "  </style>\n",
              "\n",
              "      <script>\n",
              "        const buttonEl =\n",
              "          document.querySelector('#df-456f01f6-6b06-45a0-8d10-242254a1fb38 button.colab-df-convert');\n",
              "        buttonEl.style.display =\n",
              "          google.colab.kernel.accessAllowed ? 'block' : 'none';\n",
              "\n",
              "        async function convertToInteractive(key) {\n",
              "          const element = document.querySelector('#df-456f01f6-6b06-45a0-8d10-242254a1fb38');\n",
              "          const dataTable =\n",
              "            await google.colab.kernel.invokeFunction('convertToInteractive',\n",
              "                                                     [key], {});\n",
              "          if (!dataTable) return;\n",
              "\n",
              "          const docLinkHtml = 'Like what you see? Visit the ' +\n",
              "            '<a target=\"_blank\" href=https://colab.research.google.com/notebooks/data_table.ipynb>data table notebook</a>'\n",
              "            + ' to learn more about interactive tables.';\n",
              "          element.innerHTML = '';\n",
              "          dataTable['output_type'] = 'display_data';\n",
              "          await google.colab.output.renderOutput(dataTable, element);\n",
              "          const docLink = document.createElement('div');\n",
              "          docLink.innerHTML = docLinkHtml;\n",
              "          element.appendChild(docLink);\n",
              "        }\n",
              "      </script>\n",
              "    </div>\n",
              "  </div>\n",
              "  "
            ]
          },
          "metadata": {},
          "execution_count": 84
        }
      ],
      "source": [
        "tickers = ['AAPL', 'META', 'AMZN', 'GOOGL', 'NFLX', 'QQQ', 'SQQQ']\n",
        "\n",
        "data = yf.download(tickers, start='2020-01-01', auto_adjust=True)['Close']\n",
        "data"
      ]
    },
    {
      "cell_type": "markdown",
      "metadata": {
        "id": "yOqy6jUNG4lG"
      },
      "source": [
        "## Magia I: pct_change()"
      ]
    },
    {
      "cell_type": "code",
      "execution_count": null,
      "metadata": {
        "id": "VirOgz8kG4lG",
        "colab": {
          "base_uri": "https://localhost:8080/",
          "height": 455
        },
        "outputId": "086eeca1-ea8e-4474-84b0-a7f7822f21aa"
      },
      "outputs": [
        {
          "output_type": "execute_result",
          "data": {
            "text/plain": [
              "                AAPL      AMZN     GOOGL      META      NFLX       QQQ  \\\n",
              "Date                                                                     \n",
              "2020-01-02       NaN       NaN       NaN       NaN       NaN       NaN   \n",
              "2020-01-03 -0.009722 -0.012139 -0.005231 -0.005291 -0.011855 -0.009160   \n",
              "2020-01-06  0.007968  0.014886  0.026654  0.018834  0.030469  0.006443   \n",
              "2020-01-07 -0.004703  0.002092 -0.001932  0.002164 -0.015127 -0.000139   \n",
              "2020-01-08  0.016086 -0.007809  0.007118  0.010138  0.025729  0.007516   \n",
              "...              ...       ...       ...       ...       ...       ...   \n",
              "2023-05-10  0.010421  0.033483  0.040987 -0.001243  0.009875  0.010882   \n",
              "2023-05-11  0.001095  0.018060  0.043132  0.011627  0.027846  0.003260   \n",
              "2023-05-12 -0.005418 -0.017115  0.008064 -0.008397 -0.014126 -0.003587   \n",
              "2023-05-15 -0.002897  0.008525 -0.008510  0.021599 -0.011769  0.005415   \n",
              "2023-05-16  0.001627  0.026933  0.032186  0.002596 -0.008753  0.005324   \n",
              "\n",
              "                SQQQ  \n",
              "Date                  \n",
              "2020-01-02       NaN  \n",
              "2020-01-03  0.026761  \n",
              "2020-01-06 -0.019204  \n",
              "2020-01-07  0.000466  \n",
              "2020-01-08 -0.022367  \n",
              "...              ...  \n",
              "2023-05-10 -0.031849  \n",
              "2023-05-11 -0.008136  \n",
              "2023-05-12  0.010699  \n",
              "2023-05-15 -0.015526  \n",
              "2023-05-16 -0.015470  \n",
              "\n",
              "[849 rows x 7 columns]"
            ],
            "text/html": [
              "\n",
              "  <div id=\"df-da97008a-e367-4990-b272-2d3a5a379d09\">\n",
              "    <div class=\"colab-df-container\">\n",
              "      <div>\n",
              "<style scoped>\n",
              "    .dataframe tbody tr th:only-of-type {\n",
              "        vertical-align: middle;\n",
              "    }\n",
              "\n",
              "    .dataframe tbody tr th {\n",
              "        vertical-align: top;\n",
              "    }\n",
              "\n",
              "    .dataframe thead th {\n",
              "        text-align: right;\n",
              "    }\n",
              "</style>\n",
              "<table border=\"1\" class=\"dataframe\">\n",
              "  <thead>\n",
              "    <tr style=\"text-align: right;\">\n",
              "      <th></th>\n",
              "      <th>AAPL</th>\n",
              "      <th>AMZN</th>\n",
              "      <th>GOOGL</th>\n",
              "      <th>META</th>\n",
              "      <th>NFLX</th>\n",
              "      <th>QQQ</th>\n",
              "      <th>SQQQ</th>\n",
              "    </tr>\n",
              "    <tr>\n",
              "      <th>Date</th>\n",
              "      <th></th>\n",
              "      <th></th>\n",
              "      <th></th>\n",
              "      <th></th>\n",
              "      <th></th>\n",
              "      <th></th>\n",
              "      <th></th>\n",
              "    </tr>\n",
              "  </thead>\n",
              "  <tbody>\n",
              "    <tr>\n",
              "      <th>2020-01-02</th>\n",
              "      <td>NaN</td>\n",
              "      <td>NaN</td>\n",
              "      <td>NaN</td>\n",
              "      <td>NaN</td>\n",
              "      <td>NaN</td>\n",
              "      <td>NaN</td>\n",
              "      <td>NaN</td>\n",
              "    </tr>\n",
              "    <tr>\n",
              "      <th>2020-01-03</th>\n",
              "      <td>-0.009722</td>\n",
              "      <td>-0.012139</td>\n",
              "      <td>-0.005231</td>\n",
              "      <td>-0.005291</td>\n",
              "      <td>-0.011855</td>\n",
              "      <td>-0.009160</td>\n",
              "      <td>0.026761</td>\n",
              "    </tr>\n",
              "    <tr>\n",
              "      <th>2020-01-06</th>\n",
              "      <td>0.007968</td>\n",
              "      <td>0.014886</td>\n",
              "      <td>0.026654</td>\n",
              "      <td>0.018834</td>\n",
              "      <td>0.030469</td>\n",
              "      <td>0.006443</td>\n",
              "      <td>-0.019204</td>\n",
              "    </tr>\n",
              "    <tr>\n",
              "      <th>2020-01-07</th>\n",
              "      <td>-0.004703</td>\n",
              "      <td>0.002092</td>\n",
              "      <td>-0.001932</td>\n",
              "      <td>0.002164</td>\n",
              "      <td>-0.015127</td>\n",
              "      <td>-0.000139</td>\n",
              "      <td>0.000466</td>\n",
              "    </tr>\n",
              "    <tr>\n",
              "      <th>2020-01-08</th>\n",
              "      <td>0.016086</td>\n",
              "      <td>-0.007809</td>\n",
              "      <td>0.007118</td>\n",
              "      <td>0.010138</td>\n",
              "      <td>0.025729</td>\n",
              "      <td>0.007516</td>\n",
              "      <td>-0.022367</td>\n",
              "    </tr>\n",
              "    <tr>\n",
              "      <th>...</th>\n",
              "      <td>...</td>\n",
              "      <td>...</td>\n",
              "      <td>...</td>\n",
              "      <td>...</td>\n",
              "      <td>...</td>\n",
              "      <td>...</td>\n",
              "      <td>...</td>\n",
              "    </tr>\n",
              "    <tr>\n",
              "      <th>2023-05-10</th>\n",
              "      <td>0.010421</td>\n",
              "      <td>0.033483</td>\n",
              "      <td>0.040987</td>\n",
              "      <td>-0.001243</td>\n",
              "      <td>0.009875</td>\n",
              "      <td>0.010882</td>\n",
              "      <td>-0.031849</td>\n",
              "    </tr>\n",
              "    <tr>\n",
              "      <th>2023-05-11</th>\n",
              "      <td>0.001095</td>\n",
              "      <td>0.018060</td>\n",
              "      <td>0.043132</td>\n",
              "      <td>0.011627</td>\n",
              "      <td>0.027846</td>\n",
              "      <td>0.003260</td>\n",
              "      <td>-0.008136</td>\n",
              "    </tr>\n",
              "    <tr>\n",
              "      <th>2023-05-12</th>\n",
              "      <td>-0.005418</td>\n",
              "      <td>-0.017115</td>\n",
              "      <td>0.008064</td>\n",
              "      <td>-0.008397</td>\n",
              "      <td>-0.014126</td>\n",
              "      <td>-0.003587</td>\n",
              "      <td>0.010699</td>\n",
              "    </tr>\n",
              "    <tr>\n",
              "      <th>2023-05-15</th>\n",
              "      <td>-0.002897</td>\n",
              "      <td>0.008525</td>\n",
              "      <td>-0.008510</td>\n",
              "      <td>0.021599</td>\n",
              "      <td>-0.011769</td>\n",
              "      <td>0.005415</td>\n",
              "      <td>-0.015526</td>\n",
              "    </tr>\n",
              "    <tr>\n",
              "      <th>2023-05-16</th>\n",
              "      <td>0.001627</td>\n",
              "      <td>0.026933</td>\n",
              "      <td>0.032186</td>\n",
              "      <td>0.002596</td>\n",
              "      <td>-0.008753</td>\n",
              "      <td>0.005324</td>\n",
              "      <td>-0.015470</td>\n",
              "    </tr>\n",
              "  </tbody>\n",
              "</table>\n",
              "<p>849 rows × 7 columns</p>\n",
              "</div>\n",
              "      <button class=\"colab-df-convert\" onclick=\"convertToInteractive('df-da97008a-e367-4990-b272-2d3a5a379d09')\"\n",
              "              title=\"Convert this dataframe to an interactive table.\"\n",
              "              style=\"display:none;\">\n",
              "        \n",
              "  <svg xmlns=\"http://www.w3.org/2000/svg\" height=\"24px\"viewBox=\"0 0 24 24\"\n",
              "       width=\"24px\">\n",
              "    <path d=\"M0 0h24v24H0V0z\" fill=\"none\"/>\n",
              "    <path d=\"M18.56 5.44l.94 2.06.94-2.06 2.06-.94-2.06-.94-.94-2.06-.94 2.06-2.06.94zm-11 1L8.5 8.5l.94-2.06 2.06-.94-2.06-.94L8.5 2.5l-.94 2.06-2.06.94zm10 10l.94 2.06.94-2.06 2.06-.94-2.06-.94-.94-2.06-.94 2.06-2.06.94z\"/><path d=\"M17.41 7.96l-1.37-1.37c-.4-.4-.92-.59-1.43-.59-.52 0-1.04.2-1.43.59L10.3 9.45l-7.72 7.72c-.78.78-.78 2.05 0 2.83L4 21.41c.39.39.9.59 1.41.59.51 0 1.02-.2 1.41-.59l7.78-7.78 2.81-2.81c.8-.78.8-2.07 0-2.86zM5.41 20L4 18.59l7.72-7.72 1.47 1.35L5.41 20z\"/>\n",
              "  </svg>\n",
              "      </button>\n",
              "      \n",
              "  <style>\n",
              "    .colab-df-container {\n",
              "      display:flex;\n",
              "      flex-wrap:wrap;\n",
              "      gap: 12px;\n",
              "    }\n",
              "\n",
              "    .colab-df-convert {\n",
              "      background-color: #E8F0FE;\n",
              "      border: none;\n",
              "      border-radius: 50%;\n",
              "      cursor: pointer;\n",
              "      display: none;\n",
              "      fill: #1967D2;\n",
              "      height: 32px;\n",
              "      padding: 0 0 0 0;\n",
              "      width: 32px;\n",
              "    }\n",
              "\n",
              "    .colab-df-convert:hover {\n",
              "      background-color: #E2EBFA;\n",
              "      box-shadow: 0px 1px 2px rgba(60, 64, 67, 0.3), 0px 1px 3px 1px rgba(60, 64, 67, 0.15);\n",
              "      fill: #174EA6;\n",
              "    }\n",
              "\n",
              "    [theme=dark] .colab-df-convert {\n",
              "      background-color: #3B4455;\n",
              "      fill: #D2E3FC;\n",
              "    }\n",
              "\n",
              "    [theme=dark] .colab-df-convert:hover {\n",
              "      background-color: #434B5C;\n",
              "      box-shadow: 0px 1px 3px 1px rgba(0, 0, 0, 0.15);\n",
              "      filter: drop-shadow(0px 1px 2px rgba(0, 0, 0, 0.3));\n",
              "      fill: #FFFFFF;\n",
              "    }\n",
              "  </style>\n",
              "\n",
              "      <script>\n",
              "        const buttonEl =\n",
              "          document.querySelector('#df-da97008a-e367-4990-b272-2d3a5a379d09 button.colab-df-convert');\n",
              "        buttonEl.style.display =\n",
              "          google.colab.kernel.accessAllowed ? 'block' : 'none';\n",
              "\n",
              "        async function convertToInteractive(key) {\n",
              "          const element = document.querySelector('#df-da97008a-e367-4990-b272-2d3a5a379d09');\n",
              "          const dataTable =\n",
              "            await google.colab.kernel.invokeFunction('convertToInteractive',\n",
              "                                                     [key], {});\n",
              "          if (!dataTable) return;\n",
              "\n",
              "          const docLinkHtml = 'Like what you see? Visit the ' +\n",
              "            '<a target=\"_blank\" href=https://colab.research.google.com/notebooks/data_table.ipynb>data table notebook</a>'\n",
              "            + ' to learn more about interactive tables.';\n",
              "          element.innerHTML = '';\n",
              "          dataTable['output_type'] = 'display_data';\n",
              "          await google.colab.output.renderOutput(dataTable, element);\n",
              "          const docLink = document.createElement('div');\n",
              "          docLink.innerHTML = docLinkHtml;\n",
              "          element.appendChild(docLink);\n",
              "        }\n",
              "      </script>\n",
              "    </div>\n",
              "  </div>\n",
              "  "
            ]
          },
          "metadata": {},
          "execution_count": 85
        }
      ],
      "source": [
        "va = data.pct_change(1)\n",
        "va"
      ]
    },
    {
      "cell_type": "code",
      "execution_count": null,
      "metadata": {
        "id": "gynga75PG4lG"
      },
      "outputs": [],
      "source": []
    },
    {
      "cell_type": "code",
      "execution_count": null,
      "metadata": {
        "id": "jvi87Xg2G4lG"
      },
      "outputs": [],
      "source": []
    },
    {
      "cell_type": "markdown",
      "metadata": {
        "id": "dnLnu4NKG4lH"
      },
      "source": [
        "## Magia II: rolling()"
      ]
    },
    {
      "cell_type": "code",
      "source": [],
      "metadata": {
        "id": "70eg335o5QPG"
      },
      "execution_count": null,
      "outputs": []
    },
    {
      "cell_type": "code",
      "execution_count": null,
      "metadata": {
        "id": "bYs_4V9aG4lH"
      },
      "outputs": [],
      "source": []
    },
    {
      "cell_type": "markdown",
      "metadata": {
        "id": "UqsZ1vhZG4lH"
      },
      "source": [
        "## Repaso covarianza"
      ]
    },
    {
      "cell_type": "markdown",
      "metadata": {
        "id": "H8foHpTQG4lH"
      },
      "source": [
        "$$ \\Large  cov_{x,y}  = \\sum_{i=1}^{n} \\frac{(x_i-\\bar{x})(y_i-\\bar{y})}{n-1} $$"
      ]
    },
    {
      "cell_type": "code",
      "execution_count": null,
      "metadata": {
        "id": "sEo5EqoGG4lH"
      },
      "outputs": [],
      "source": []
    },
    {
      "cell_type": "code",
      "execution_count": null,
      "metadata": {
        "id": "nEgDJ9wTG4lH"
      },
      "outputs": [],
      "source": []
    },
    {
      "cell_type": "markdown",
      "metadata": {
        "id": "X_lSzFsyG4lH"
      },
      "source": [
        "## Magia III: matriz de covarianzas, correlacion, etc.."
      ]
    },
    {
      "cell_type": "markdown",
      "metadata": {
        "id": "K40qyuhqG4lH"
      },
      "source": [
        "$$ \\Large \\rho_{x,y} = \\frac{cov_{x,y}}{\\sigma_x \\sigma_y}  $$"
      ]
    },
    {
      "cell_type": "code",
      "source": [],
      "metadata": {
        "id": "khBjr_zE6eZf"
      },
      "execution_count": null,
      "outputs": []
    },
    {
      "cell_type": "code",
      "execution_count": null,
      "metadata": {
        "id": "1_rU-SBwG4lI"
      },
      "outputs": [],
      "source": []
    },
    {
      "cell_type": "code",
      "execution_count": null,
      "metadata": {
        "id": "p_VNDwEOG4lI"
      },
      "outputs": [],
      "source": []
    },
    {
      "cell_type": "code",
      "execution_count": null,
      "metadata": {
        "id": "A46quPBkG4lI"
      },
      "outputs": [],
      "source": []
    },
    {
      "cell_type": "code",
      "execution_count": null,
      "metadata": {
        "id": "N6nrJS2xG4lI"
      },
      "outputs": [],
      "source": []
    },
    {
      "cell_type": "markdown",
      "metadata": {
        "id": "waVIsHgOG4lI"
      },
      "source": [
        "## Magia IV: Estadística descriptiva"
      ]
    },
    {
      "cell_type": "markdown",
      "metadata": {
        "id": "yL3oBafEG4lI"
      },
      "source": [
        "* describe\n",
        "* rank\n",
        "* quantiles\n",
        "* std, kurt, skew"
      ]
    },
    {
      "cell_type": "code",
      "execution_count": null,
      "metadata": {
        "id": "NBLB_mUFG4lI"
      },
      "outputs": [],
      "source": []
    },
    {
      "cell_type": "code",
      "execution_count": null,
      "metadata": {
        "id": "pnDu0V0VG4lI"
      },
      "outputs": [],
      "source": []
    },
    {
      "cell_type": "code",
      "execution_count": null,
      "metadata": {
        "id": "KG7WUnw0G4lI"
      },
      "outputs": [],
      "source": []
    },
    {
      "cell_type": "code",
      "execution_count": null,
      "metadata": {
        "id": "YwtDylUAG4lI"
      },
      "outputs": [],
      "source": []
    },
    {
      "cell_type": "markdown",
      "metadata": {
        "id": "7H7FWqfmG4lI"
      },
      "source": [
        "## Magia V: Conversiones, ej. dataFrame a diccionario"
      ]
    },
    {
      "cell_type": "code",
      "execution_count": null,
      "metadata": {
        "id": "5ANuiKsuG4lI"
      },
      "outputs": [],
      "source": []
    },
    {
      "cell_type": "code",
      "execution_count": null,
      "metadata": {
        "id": "-r_woYOzG4lI"
      },
      "outputs": [],
      "source": []
    },
    {
      "cell_type": "markdown",
      "metadata": {
        "id": "mz3sb3-lG4lJ"
      },
      "source": [
        "## Magia VI: Graficos rápidos"
      ]
    },
    {
      "cell_type": "code",
      "execution_count": null,
      "metadata": {
        "id": "9ZKPtpSXG4lJ"
      },
      "outputs": [],
      "source": []
    },
    {
      "cell_type": "code",
      "execution_count": null,
      "metadata": {
        "id": "Em9sa_UAG4lJ"
      },
      "outputs": [],
      "source": []
    },
    {
      "cell_type": "code",
      "execution_count": null,
      "metadata": {
        "id": "HWjDS54qG4lJ"
      },
      "outputs": [],
      "source": []
    },
    {
      "cell_type": "code",
      "execution_count": null,
      "metadata": {
        "id": "sZOPdBKoG4lJ"
      },
      "outputs": [],
      "source": []
    },
    {
      "cell_type": "markdown",
      "metadata": {
        "id": "9X0txdUfG4lJ"
      },
      "source": [
        "# Excepciones y errores"
      ]
    },
    {
      "cell_type": "code",
      "execution_count": null,
      "metadata": {
        "id": "wyVZlpdgG4lJ"
      },
      "outputs": [],
      "source": []
    },
    {
      "cell_type": "code",
      "execution_count": null,
      "metadata": {
        "scrolled": true,
        "id": "HIbWq4x-G4lJ",
        "outputId": "862cf862-bc82-413a-9a34-c4f42dba02b9"
      },
      "outputs": [
        {
          "name": "stdout",
          "output_type": "stream",
          "text": [
            "0.5\n"
          ]
        }
      ],
      "source": [
        "a = 10\n",
        "b = 20\n",
        "\n",
        "c = a / b\n",
        "\n",
        "print(c)"
      ]
    },
    {
      "cell_type": "code",
      "execution_count": null,
      "metadata": {
        "id": "WHRvVncRG4lJ",
        "outputId": "4ff720f9-4702-43bd-a81a-992b2b02b1a7"
      },
      "outputs": [
        {
          "ename": "ZeroDivisionError",
          "evalue": "division by zero",
          "output_type": "error",
          "traceback": [
            "\u001b[1;31m---------------------------------------------------------------------------\u001b[0m",
            "\u001b[1;31mZeroDivisionError\u001b[0m                         Traceback (most recent call last)",
            "\u001b[1;32m~\\AppData\\Local\\Temp/ipykernel_21288/4229039705.py\u001b[0m in \u001b[0;36m<module>\u001b[1;34m\u001b[0m\n\u001b[0;32m      2\u001b[0m \u001b[0mb\u001b[0m \u001b[1;33m=\u001b[0m \u001b[1;36m0\u001b[0m\u001b[1;33m\u001b[0m\u001b[1;33m\u001b[0m\u001b[0m\n\u001b[0;32m      3\u001b[0m \u001b[1;33m\u001b[0m\u001b[0m\n\u001b[1;32m----> 4\u001b[1;33m \u001b[0mc\u001b[0m \u001b[1;33m=\u001b[0m \u001b[0ma\u001b[0m \u001b[1;33m/\u001b[0m \u001b[0mb\u001b[0m\u001b[1;33m\u001b[0m\u001b[1;33m\u001b[0m\u001b[0m\n\u001b[0m\u001b[0;32m      5\u001b[0m \u001b[1;33m\u001b[0m\u001b[0m\n\u001b[0;32m      6\u001b[0m \u001b[0mprint\u001b[0m\u001b[1;33m(\u001b[0m\u001b[1;34m'Hola ya terminé el paso de la division'\u001b[0m\u001b[1;33m)\u001b[0m\u001b[1;33m\u001b[0m\u001b[1;33m\u001b[0m\u001b[0m\n",
            "\u001b[1;31mZeroDivisionError\u001b[0m: division by zero"
          ]
        }
      ],
      "source": [
        "a = 10\n",
        "b = 0\n",
        "\n",
        "c = a / b\n",
        "\n",
        "print('Hola ya terminé el paso de la division')\n",
        "print(c)"
      ]
    },
    {
      "cell_type": "code",
      "execution_count": null,
      "metadata": {
        "id": "quokUqLNG4lJ"
      },
      "outputs": [],
      "source": []
    },
    {
      "cell_type": "code",
      "execution_count": null,
      "metadata": {
        "id": "1JCRdVo4G4lJ"
      },
      "outputs": [],
      "source": []
    },
    {
      "cell_type": "code",
      "execution_count": null,
      "metadata": {
        "id": "vocXAXMqG4lJ"
      },
      "outputs": [],
      "source": []
    },
    {
      "cell_type": "code",
      "execution_count": null,
      "metadata": {
        "id": "0HPbfFnDG4lJ"
      },
      "outputs": [],
      "source": []
    },
    {
      "cell_type": "code",
      "execution_count": null,
      "metadata": {
        "id": "WCDJwjf6G4lJ"
      },
      "outputs": [],
      "source": []
    },
    {
      "cell_type": "code",
      "execution_count": null,
      "metadata": {
        "id": "xPScz5aoG4lK"
      },
      "outputs": [],
      "source": []
    },
    {
      "cell_type": "code",
      "execution_count": null,
      "metadata": {
        "id": "QAx2IYlLG4lK"
      },
      "outputs": [],
      "source": []
    },
    {
      "cell_type": "markdown",
      "metadata": {
        "id": "tB2-8gE9G4lK"
      },
      "source": [
        "# Operadores Lógicos"
      ]
    },
    {
      "cell_type": "code",
      "execution_count": null,
      "metadata": {
        "id": "U4VlwG-hG4lK"
      },
      "outputs": [],
      "source": []
    },
    {
      "cell_type": "code",
      "execution_count": null,
      "metadata": {
        "id": "63Ji9oirG4lK"
      },
      "outputs": [],
      "source": []
    },
    {
      "cell_type": "code",
      "execution_count": null,
      "metadata": {
        "id": "kB87T7arG4lK"
      },
      "outputs": [],
      "source": []
    },
    {
      "cell_type": "markdown",
      "metadata": {
        "id": "vElKTjWjG4lK"
      },
      "source": [
        "Comparadores:\n",
        "    \n",
        "     ==  Es igual a ?\n",
        "     !=  Es distinto a?\n",
        "     > Mayor que\n",
        "     >= Mayor o igual que\n",
        "     <  Menor\n",
        "     <=  Menor o igual\n",
        "\n",
        "     in Eata incluido en\n",
        "     not in  No esta incluido en"
      ]
    },
    {
      "cell_type": "code",
      "execution_count": null,
      "metadata": {
        "id": "E57Q_5pcG4lK",
        "outputId": "37516f95-6e9a-45a4-f846-5306f8e9f87b"
      },
      "outputs": [
        {
          "data": {
            "text/plain": [
              "['GGAL', 'PAMP', 'YPFD', 'CEPU', 'EDN', 'LOMA', 'CRES']"
            ]
          },
          "execution_count": 43,
          "metadata": {},
          "output_type": "execute_result"
        }
      ],
      "source": [
        "listado = [\"GGAL\",\"PAMP\",\"YPFD\",\"CEPU\",\"EDN\",\"LOMA\",\"CRES\"]\n",
        "listado"
      ]
    },
    {
      "cell_type": "code",
      "execution_count": null,
      "metadata": {
        "id": "8sbEfufuG4lK"
      },
      "outputs": [],
      "source": []
    },
    {
      "cell_type": "code",
      "execution_count": null,
      "metadata": {
        "id": "l6Z8jEKGG4lK"
      },
      "outputs": [],
      "source": []
    },
    {
      "cell_type": "code",
      "execution_count": null,
      "metadata": {
        "id": "BjYmnej1G4lK"
      },
      "outputs": [],
      "source": []
    },
    {
      "cell_type": "code",
      "execution_count": null,
      "metadata": {
        "id": "FjYbSZ-YG4lK"
      },
      "outputs": [],
      "source": []
    },
    {
      "cell_type": "markdown",
      "metadata": {
        "id": "g4DyOkNTG4lK"
      },
      "source": [
        "## RECUERDEN\n",
        "\n",
        "\n",
        "    * Un signo igual solo es una asignacion\n",
        "    * Dos signos igual es una comparacion"
      ]
    },
    {
      "cell_type": "markdown",
      "metadata": {
        "id": "51HXeG2gG4lK"
      },
      "source": [
        "# Sentencia IF"
      ]
    },
    {
      "cell_type": "markdown",
      "metadata": {
        "id": "vkxr0GzDG4lK"
      },
      "source": [
        "Los condicionales son los que definen \"ramas\" del flujo, véanlas como \"bifurcaciones\""
      ]
    },
    {
      "cell_type": "markdown",
      "metadata": {
        "id": "ng1anVb5G4lL"
      },
      "source": [
        "Obviamente la sentencia IF lo que hace es preguntar si se cumple o no una condicion, en caso afirmativo ejecuta la línea que sigue despues de los DOS PUNTOS, caso negativo termina ahí si no hay else, pero si hubiera un else, ejecuta la línea o líneas que siguen despues de os DOS PUNTOS del else"
      ]
    },
    {
      "cell_type": "raw",
      "metadata": {
        "id": "OEzRUgGcG4lL"
      },
      "source": [
        "Estrctura del IF\n",
        "\n",
        "if (condicion):\n",
        "    1° linea de codigo\n",
        "    2° línea de codigo\n",
        "    --------\n",
        "    n° linea de codigo\n",
        "else:\n",
        "    1° linea de codigo\n",
        "    2° línea de codigo\n",
        "    --------\n",
        "    n° linea de codigo"
      ]
    },
    {
      "cell_type": "markdown",
      "metadata": {
        "id": "4tl1Gg_SG4lL"
      },
      "source": [
        "## Concepto de la indentación"
      ]
    },
    {
      "cell_type": "code",
      "execution_count": null,
      "metadata": {
        "id": "BzE-GtWEG4lL",
        "outputId": "3a490932-ac9a-4ea2-f6df-f3bae20cfa68"
      },
      "outputs": [
        {
          "name": "stdout",
          "output_type": "stream",
          "text": [
            "GGAL NO está en la cartera\n"
          ]
        }
      ],
      "source": [
        "accion = \"GGAL\"\n",
        "cartera = [\"AAPL\",\"AMZN\",\"FB\"]\n",
        "\n",
        "if accion in cartera:\n",
        "    print(f\"{accion} está en la cartera\")\n",
        "    # Vender el papel\n",
        "\n",
        "else:\n",
        "    print(F\"{accion} NO está en la cartera\")\n",
        "    # buscar otro papel para vender\n"
      ]
    },
    {
      "cell_type": "code",
      "execution_count": null,
      "metadata": {
        "id": "kU9l98hmG4lL"
      },
      "outputs": [],
      "source": []
    },
    {
      "cell_type": "code",
      "execution_count": null,
      "metadata": {
        "id": "qlWIwszwG4lL"
      },
      "outputs": [],
      "source": []
    },
    {
      "cell_type": "code",
      "execution_count": null,
      "metadata": {
        "id": "vxzCGI0cG4lL"
      },
      "outputs": [],
      "source": []
    },
    {
      "cell_type": "code",
      "execution_count": null,
      "metadata": {
        "id": "4rFG9EaMG4lL"
      },
      "outputs": [],
      "source": []
    },
    {
      "cell_type": "code",
      "execution_count": null,
      "metadata": {
        "id": "ccrdXNjNG4lL"
      },
      "outputs": [],
      "source": []
    },
    {
      "cell_type": "markdown",
      "metadata": {
        "id": "8_4irI7NG4lL"
      },
      "source": [
        "# Concatenados / Anidados"
      ]
    },
    {
      "cell_type": "markdown",
      "metadata": {
        "id": "yCpM8jwfG4lL"
      },
      "source": [
        "## Ejemplo IF concatenado"
      ]
    },
    {
      "cell_type": "code",
      "execution_count": null,
      "metadata": {
        "id": "_DFEMphQG4lL",
        "outputId": "c8dabe51-5e25-48da-abf0-a1ec61596172"
      },
      "outputs": [
        {
          "name": "stdout",
          "output_type": "stream",
          "text": [
            "Ingresar el precio: 8\n",
            "Resistencia a vencer:  10\n"
          ]
        }
      ],
      "source": [
        "# Tarea arregla este script por si el usuario manda cualquier fruta por teclado\n",
        "\n",
        "resistencias = [7,10,15,20]\n",
        "precio = float(input(\"Ingresar el precio: \"))\n",
        "\n",
        "if precio < resistencias[0]:\n",
        "    print(\"Resistencia a vencer: \", resistencias[0])\n",
        "\n",
        "elif precio < resistencias[1]:\n",
        "    print(\"Resistencia a vencer: \", resistencias[1])\n",
        "\n",
        "elif precio < resistencias[2]:\n",
        "    print(\"Resistencia a vencer: \", resistencias[2])\n",
        "\n",
        "elif precio < resistencias[3]:\n",
        "    print(\"Resistencia a vencer: \", resistencias[3])\n",
        "\n",
        "else:\n",
        "    print(\"Estamos en máximos históricos\")\n",
        "\n"
      ]
    },
    {
      "cell_type": "markdown",
      "metadata": {
        "id": "qMJU46diG4lM"
      },
      "source": [
        "### Se puede resolver de una forma mas eficiente?"
      ]
    },
    {
      "cell_type": "code",
      "execution_count": null,
      "metadata": {
        "id": "Fd3JVh0zG4lM"
      },
      "outputs": [],
      "source": []
    },
    {
      "cell_type": "code",
      "execution_count": null,
      "metadata": {
        "id": "xlhEjBHlG4lM"
      },
      "outputs": [],
      "source": []
    },
    {
      "cell_type": "code",
      "execution_count": null,
      "metadata": {
        "id": "XXbqoY0zG4lM"
      },
      "outputs": [],
      "source": []
    },
    {
      "cell_type": "code",
      "execution_count": null,
      "metadata": {
        "id": "QqCFnNDbG4lM"
      },
      "outputs": [],
      "source": []
    },
    {
      "cell_type": "code",
      "execution_count": null,
      "metadata": {
        "id": "vCKme4TxG4lM"
      },
      "outputs": [],
      "source": []
    },
    {
      "cell_type": "markdown",
      "metadata": {
        "id": "0zZA3mgsG4lM"
      },
      "source": [
        "## Ejemplo IF anidado"
      ]
    },
    {
      "cell_type": "code",
      "execution_count": null,
      "metadata": {
        "id": "EceEQn1SG4lM",
        "outputId": "4f6759f3-1b1c-4ce0-825f-ec24e8c118cc"
      },
      "outputs": [
        {
          "name": "stdout",
          "output_type": "stream",
          "text": [
            "Salida por take Profit\n"
          ]
        }
      ],
      "source": [
        "precio = 111\n",
        "\n",
        "stopLoss = 95\n",
        "takeProfit = 110\n",
        "\n",
        "\n",
        "if precio > stopLoss:\n",
        "\n",
        "    # en ppio mantener\n",
        "    if precio < takeProfit:\n",
        "        print(\"Hold\")\n",
        "    else:\n",
        "        print(\"Salida por take Profit\")\n",
        "\n",
        "else:\n",
        "    print(\"Salida por Stop Loss\")"
      ]
    },
    {
      "cell_type": "code",
      "execution_count": null,
      "metadata": {
        "id": "wa_yOHQ1G4lM"
      },
      "outputs": [],
      "source": []
    },
    {
      "cell_type": "code",
      "execution_count": null,
      "metadata": {
        "id": "ohJN32OaG4lM"
      },
      "outputs": [],
      "source": []
    },
    {
      "cell_type": "code",
      "execution_count": null,
      "metadata": {
        "id": "QSPiHdDwG4lM"
      },
      "outputs": [],
      "source": []
    },
    {
      "cell_type": "code",
      "execution_count": null,
      "metadata": {
        "id": "ZiMp3x94G4lM"
      },
      "outputs": [],
      "source": []
    }
  ],
  "metadata": {
    "kernelspec": {
      "display_name": "Python 3 (ipykernel)",
      "language": "python",
      "name": "python3"
    },
    "language_info": {
      "codemirror_mode": {
        "name": "ipython",
        "version": 3
      },
      "file_extension": ".py",
      "mimetype": "text/x-python",
      "name": "python",
      "nbconvert_exporter": "python",
      "pygments_lexer": "ipython3",
      "version": "3.9.7"
    },
    "toc": {
      "base_numbering": 1,
      "nav_menu": {},
      "number_sections": true,
      "sideBar": true,
      "skip_h1_title": false,
      "title_cell": "Table of Contents",
      "title_sidebar": "Contents",
      "toc_cell": false,
      "toc_position": {},
      "toc_section_display": true,
      "toc_window_display": true
    },
    "colab": {
      "provenance": []
    }
  },
  "nbformat": 4,
  "nbformat_minor": 0
}