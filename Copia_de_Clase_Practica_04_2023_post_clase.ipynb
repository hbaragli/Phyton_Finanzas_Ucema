{
  "cells": [
    {
      "cell_type": "markdown",
      "id": "902c7284",
      "metadata": {
        "id": "902c7284"
      },
      "source": [
        "##  Clase practica N° 4\n",
        "intro a la manipulacion de datos con pandas"
      ]
    },
    {
      "cell_type": "markdown",
      "id": "eac6869b",
      "metadata": {
        "id": "eac6869b"
      },
      "source": [
        "### 1)\n",
        "\n",
        "descargar el archivo \"ko_comas.csv\" que se encuentra en el campus del curso e importarlo localmente en la variable \"df\". Imprimer el head del Dataframe con los primeros 12 valores para corroborar."
      ]
    },
    {
      "cell_type": "code",
      "execution_count": null,
      "id": "755c1aa2",
      "metadata": {
        "id": "755c1aa2"
      },
      "outputs": [],
      "source": [
        "import pandas as pd"
      ]
    },
    {
      "cell_type": "code",
      "execution_count": null,
      "id": "5e26faef",
      "metadata": {
        "id": "5e26faef"
      },
      "outputs": [],
      "source": [
        "df = pd.read_csv(\"./../archivos/ko_comas.csv\") #ruta relativa (al archivo jupyter)\n"
      ]
    },
    {
      "cell_type": "code",
      "execution_count": null,
      "id": "9a859f4a",
      "metadata": {
        "id": "9a859f4a"
      },
      "outputs": [],
      "source": [
        "df_2 = pd.read_csv(r\"C:\\Users\\desarrollo\\Desktop\\ucema 2023\\clase 4\\archivos\\ko_comas.csv\") # ruta absoluta"
      ]
    },
    {
      "cell_type": "code",
      "execution_count": null,
      "id": "f1b9c787",
      "metadata": {
        "id": "f1b9c787",
        "outputId": "0b7a6960-fde1-428a-bc0c-63c8ea986817"
      },
      "outputs": [
        {
          "data": {
            "text/html": [
              "<div>\n",
              "<style scoped>\n",
              "    .dataframe tbody tr th:only-of-type {\n",
              "        vertical-align: middle;\n",
              "    }\n",
              "\n",
              "    .dataframe tbody tr th {\n",
              "        vertical-align: top;\n",
              "    }\n",
              "\n",
              "    .dataframe thead th {\n",
              "        text-align: right;\n",
              "    }\n",
              "</style>\n",
              "<table border=\"1\" class=\"dataframe\">\n",
              "  <thead>\n",
              "    <tr style=\"text-align: right;\">\n",
              "      <th></th>\n",
              "      <th>Date</th>\n",
              "      <th>Open</th>\n",
              "      <th>High</th>\n",
              "      <th>Low</th>\n",
              "      <th>Close</th>\n",
              "      <th>Volume</th>\n",
              "    </tr>\n",
              "  </thead>\n",
              "  <tbody>\n",
              "    <tr>\n",
              "      <th>0</th>\n",
              "      <td>2000-01-03</td>\n",
              "      <td>15.777298</td>\n",
              "      <td>15.777298</td>\n",
              "      <td>15.029236</td>\n",
              "      <td>15.335261</td>\n",
              "      <td>10997000</td>\n",
              "    </tr>\n",
              "    <tr>\n",
              "      <th>1</th>\n",
              "      <td>2000-01-04</td>\n",
              "      <td>15.335263</td>\n",
              "      <td>15.454273</td>\n",
              "      <td>15.131246</td>\n",
              "      <td>15.352264</td>\n",
              "      <td>7308000</td>\n",
              "    </tr>\n",
              "    <tr>\n",
              "      <th>2</th>\n",
              "      <td>2000-01-05</td>\n",
              "      <td>15.352260</td>\n",
              "      <td>15.624282</td>\n",
              "      <td>15.250251</td>\n",
              "      <td>15.488271</td>\n",
              "      <td>9457400</td>\n",
              "    </tr>\n",
              "    <tr>\n",
              "      <th>3</th>\n",
              "      <td>2000-01-06</td>\n",
              "      <td>15.488283</td>\n",
              "      <td>15.692300</td>\n",
              "      <td>15.386274</td>\n",
              "      <td>15.505284</td>\n",
              "      <td>7129200</td>\n",
              "    </tr>\n",
              "    <tr>\n",
              "      <th>4</th>\n",
              "      <td>2000-01-07</td>\n",
              "      <td>15.743301</td>\n",
              "      <td>16.525366</td>\n",
              "      <td>15.743301</td>\n",
              "      <td>16.525366</td>\n",
              "      <td>11474000</td>\n",
              "    </tr>\n",
              "    <tr>\n",
              "      <th>5</th>\n",
              "      <td>2000-01-10</td>\n",
              "      <td>16.525359</td>\n",
              "      <td>16.576363</td>\n",
              "      <td>15.981314</td>\n",
              "      <td>15.998316</td>\n",
              "      <td>8723800</td>\n",
              "    </tr>\n",
              "    <tr>\n",
              "      <th>6</th>\n",
              "      <td>2000-01-11</td>\n",
              "      <td>16.355347</td>\n",
              "      <td>16.661372</td>\n",
              "      <td>16.355347</td>\n",
              "      <td>16.542362</td>\n",
              "      <td>9398000</td>\n",
              "    </tr>\n",
              "    <tr>\n",
              "      <th>7</th>\n",
              "      <td>2000-01-12</td>\n",
              "      <td>16.542366</td>\n",
              "      <td>16.814389</td>\n",
              "      <td>16.440358</td>\n",
              "      <td>16.729382</td>\n",
              "      <td>8389800</td>\n",
              "    </tr>\n",
              "    <tr>\n",
              "      <th>8</th>\n",
              "      <td>2000-01-13</td>\n",
              "      <td>16.712373</td>\n",
              "      <td>16.712373</td>\n",
              "      <td>16.440351</td>\n",
              "      <td>16.474354</td>\n",
              "      <td>6106000</td>\n",
              "    </tr>\n",
              "    <tr>\n",
              "      <th>9</th>\n",
              "      <td>2000-01-14</td>\n",
              "      <td>16.508366</td>\n",
              "      <td>16.848394</td>\n",
              "      <td>16.508366</td>\n",
              "      <td>16.610374</td>\n",
              "      <td>7513200</td>\n",
              "    </tr>\n",
              "    <tr>\n",
              "      <th>10</th>\n",
              "      <td>2000-01-18</td>\n",
              "      <td>16.610373</td>\n",
              "      <td>17.681461</td>\n",
              "      <td>16.610373</td>\n",
              "      <td>17.681461</td>\n",
              "      <td>18350800</td>\n",
              "    </tr>\n",
              "    <tr>\n",
              "      <th>11</th>\n",
              "      <td>2000-01-19</td>\n",
              "      <td>17.681470</td>\n",
              "      <td>17.749475</td>\n",
              "      <td>17.426449</td>\n",
              "      <td>17.749475</td>\n",
              "      <td>12813400</td>\n",
              "    </tr>\n",
              "  </tbody>\n",
              "</table>\n",
              "</div>"
            ],
            "text/plain": [
              "          Date       Open       High        Low      Close    Volume\n",
              "0   2000-01-03  15.777298  15.777298  15.029236  15.335261  10997000\n",
              "1   2000-01-04  15.335263  15.454273  15.131246  15.352264   7308000\n",
              "2   2000-01-05  15.352260  15.624282  15.250251  15.488271   9457400\n",
              "3   2000-01-06  15.488283  15.692300  15.386274  15.505284   7129200\n",
              "4   2000-01-07  15.743301  16.525366  15.743301  16.525366  11474000\n",
              "5   2000-01-10  16.525359  16.576363  15.981314  15.998316   8723800\n",
              "6   2000-01-11  16.355347  16.661372  16.355347  16.542362   9398000\n",
              "7   2000-01-12  16.542366  16.814389  16.440358  16.729382   8389800\n",
              "8   2000-01-13  16.712373  16.712373  16.440351  16.474354   6106000\n",
              "9   2000-01-14  16.508366  16.848394  16.508366  16.610374   7513200\n",
              "10  2000-01-18  16.610373  17.681461  16.610373  17.681461  18350800\n",
              "11  2000-01-19  17.681470  17.749475  17.426449  17.749475  12813400"
            ]
          },
          "execution_count": 9,
          "metadata": {},
          "output_type": "execute_result"
        }
      ],
      "source": [
        "df.head(12)"
      ]
    },
    {
      "cell_type": "markdown",
      "id": "5c8cc946",
      "metadata": {
        "id": "5c8cc946"
      },
      "source": [
        "### 2)\n",
        "\n",
        "con el fin de trabajar mas comodo en proximos ejercicios, se requiere pasar todos los nombres de las columnas (tambien llamadas  \"features\") a minusculas. Imprimir el head para corroborar."
      ]
    },
    {
      "cell_type": "code",
      "execution_count": null,
      "id": "ac02c7c6",
      "metadata": {
        "id": "ac02c7c6"
      },
      "outputs": [],
      "source": [
        "df.columns = [i.lower() for i in df.columns]"
      ]
    },
    {
      "cell_type": "code",
      "execution_count": null,
      "id": "9b35f200",
      "metadata": {
        "id": "9b35f200",
        "outputId": "9855978a-c18c-43b2-8ca0-36c46077452e"
      },
      "outputs": [
        {
          "data": {
            "text/html": [
              "<div>\n",
              "<style scoped>\n",
              "    .dataframe tbody tr th:only-of-type {\n",
              "        vertical-align: middle;\n",
              "    }\n",
              "\n",
              "    .dataframe tbody tr th {\n",
              "        vertical-align: top;\n",
              "    }\n",
              "\n",
              "    .dataframe thead th {\n",
              "        text-align: right;\n",
              "    }\n",
              "</style>\n",
              "<table border=\"1\" class=\"dataframe\">\n",
              "  <thead>\n",
              "    <tr style=\"text-align: right;\">\n",
              "      <th></th>\n",
              "      <th>date</th>\n",
              "      <th>open</th>\n",
              "      <th>high</th>\n",
              "      <th>low</th>\n",
              "      <th>close</th>\n",
              "      <th>volume</th>\n",
              "    </tr>\n",
              "  </thead>\n",
              "  <tbody>\n",
              "    <tr>\n",
              "      <th>0</th>\n",
              "      <td>2000-01-03</td>\n",
              "      <td>15.777298</td>\n",
              "      <td>15.777298</td>\n",
              "      <td>15.029236</td>\n",
              "      <td>15.335261</td>\n",
              "      <td>10997000</td>\n",
              "    </tr>\n",
              "    <tr>\n",
              "      <th>1</th>\n",
              "      <td>2000-01-04</td>\n",
              "      <td>15.335263</td>\n",
              "      <td>15.454273</td>\n",
              "      <td>15.131246</td>\n",
              "      <td>15.352264</td>\n",
              "      <td>7308000</td>\n",
              "    </tr>\n",
              "    <tr>\n",
              "      <th>2</th>\n",
              "      <td>2000-01-05</td>\n",
              "      <td>15.352260</td>\n",
              "      <td>15.624282</td>\n",
              "      <td>15.250251</td>\n",
              "      <td>15.488271</td>\n",
              "      <td>9457400</td>\n",
              "    </tr>\n",
              "    <tr>\n",
              "      <th>3</th>\n",
              "      <td>2000-01-06</td>\n",
              "      <td>15.488283</td>\n",
              "      <td>15.692300</td>\n",
              "      <td>15.386274</td>\n",
              "      <td>15.505284</td>\n",
              "      <td>7129200</td>\n",
              "    </tr>\n",
              "    <tr>\n",
              "      <th>4</th>\n",
              "      <td>2000-01-07</td>\n",
              "      <td>15.743301</td>\n",
              "      <td>16.525366</td>\n",
              "      <td>15.743301</td>\n",
              "      <td>16.525366</td>\n",
              "      <td>11474000</td>\n",
              "    </tr>\n",
              "  </tbody>\n",
              "</table>\n",
              "</div>"
            ],
            "text/plain": [
              "         date       open       high        low      close    volume\n",
              "0  2000-01-03  15.777298  15.777298  15.029236  15.335261  10997000\n",
              "1  2000-01-04  15.335263  15.454273  15.131246  15.352264   7308000\n",
              "2  2000-01-05  15.352260  15.624282  15.250251  15.488271   9457400\n",
              "3  2000-01-06  15.488283  15.692300  15.386274  15.505284   7129200\n",
              "4  2000-01-07  15.743301  16.525366  15.743301  16.525366  11474000"
            ]
          },
          "execution_count": 19,
          "metadata": {},
          "output_type": "execute_result"
        }
      ],
      "source": [
        "df.head()"
      ]
    },
    {
      "cell_type": "markdown",
      "id": "65c85762",
      "metadata": {
        "id": "65c85762"
      },
      "source": [
        "### 3)\n",
        "\n",
        "revisar cuales son los tipos de datos de cada feature. En caso de ser necesario, cambiar el tipo de dato para aprovechar  las caracteristicas de los DataFrames."
      ]
    },
    {
      "cell_type": "code",
      "execution_count": null,
      "id": "f7a1dc31",
      "metadata": {
        "id": "f7a1dc31"
      },
      "outputs": [],
      "source": [
        "#pd.to_datetime() es otra opcion para castear la fecha"
      ]
    },
    {
      "cell_type": "code",
      "execution_count": null,
      "id": "7eeaa71e",
      "metadata": {
        "id": "7eeaa71e",
        "outputId": "8dc416ab-ffa6-479c-8289-4e17d6f043b0"
      },
      "outputs": [
        {
          "name": "stdout",
          "output_type": "stream",
          "text": [
            "<class 'pandas.core.frame.DataFrame'>\n",
            "RangeIndex: 5642 entries, 0 to 5641\n",
            "Data columns (total 6 columns):\n",
            " #   Column  Non-Null Count  Dtype  \n",
            "---  ------  --------------  -----  \n",
            " 0   date    5642 non-null   object \n",
            " 1   open    5642 non-null   float64\n",
            " 2   high    5642 non-null   float64\n",
            " 3   low     5642 non-null   float64\n",
            " 4   close   5642 non-null   float64\n",
            " 5   volume  5642 non-null   int64  \n",
            "dtypes: float64(4), int64(1), object(1)\n",
            "memory usage: 264.6+ KB\n"
          ]
        }
      ],
      "source": [
        "df.info()"
      ]
    },
    {
      "cell_type": "code",
      "execution_count": null,
      "id": "223f1aaf",
      "metadata": {
        "id": "223f1aaf"
      },
      "outputs": [],
      "source": [
        "df[\"date\"] = df[\"date\"].astype(\"datetime64\")"
      ]
    },
    {
      "cell_type": "markdown",
      "id": "8389384d",
      "metadata": {
        "id": "8389384d"
      },
      "source": [
        "### 4)\n",
        "\n",
        "* cambiar el nombre de la columna \"date\" por \"fecha\" y luego setearlo como indice.\n",
        "\n"
      ]
    },
    {
      "cell_type": "code",
      "execution_count": null,
      "id": "a05fb949",
      "metadata": {
        "id": "a05fb949"
      },
      "outputs": [],
      "source": [
        "df.rename(columns={\"date\" : \"fecha\"} , inplace=True)"
      ]
    },
    {
      "cell_type": "code",
      "execution_count": null,
      "id": "ae3a01ab",
      "metadata": {
        "id": "ae3a01ab",
        "outputId": "e8dd334b-c046-4146-89d1-3fa0ad2008bd"
      },
      "outputs": [
        {
          "data": {
            "text/html": [
              "<div>\n",
              "<style scoped>\n",
              "    .dataframe tbody tr th:only-of-type {\n",
              "        vertical-align: middle;\n",
              "    }\n",
              "\n",
              "    .dataframe tbody tr th {\n",
              "        vertical-align: top;\n",
              "    }\n",
              "\n",
              "    .dataframe thead th {\n",
              "        text-align: right;\n",
              "    }\n",
              "</style>\n",
              "<table border=\"1\" class=\"dataframe\">\n",
              "  <thead>\n",
              "    <tr style=\"text-align: right;\">\n",
              "      <th></th>\n",
              "      <th>open</th>\n",
              "      <th>high</th>\n",
              "      <th>low</th>\n",
              "      <th>close</th>\n",
              "      <th>volume</th>\n",
              "    </tr>\n",
              "    <tr>\n",
              "      <th>fecha</th>\n",
              "      <th></th>\n",
              "      <th></th>\n",
              "      <th></th>\n",
              "      <th></th>\n",
              "      <th></th>\n",
              "    </tr>\n",
              "  </thead>\n",
              "  <tbody>\n",
              "    <tr>\n",
              "      <th>2000-01-03</th>\n",
              "      <td>15.777298</td>\n",
              "      <td>15.777298</td>\n",
              "      <td>15.029236</td>\n",
              "      <td>15.335261</td>\n",
              "      <td>10997000</td>\n",
              "    </tr>\n",
              "    <tr>\n",
              "      <th>2000-01-04</th>\n",
              "      <td>15.335263</td>\n",
              "      <td>15.454273</td>\n",
              "      <td>15.131246</td>\n",
              "      <td>15.352264</td>\n",
              "      <td>7308000</td>\n",
              "    </tr>\n",
              "    <tr>\n",
              "      <th>2000-01-05</th>\n",
              "      <td>15.352260</td>\n",
              "      <td>15.624282</td>\n",
              "      <td>15.250251</td>\n",
              "      <td>15.488271</td>\n",
              "      <td>9457400</td>\n",
              "    </tr>\n",
              "    <tr>\n",
              "      <th>2000-01-06</th>\n",
              "      <td>15.488283</td>\n",
              "      <td>15.692300</td>\n",
              "      <td>15.386274</td>\n",
              "      <td>15.505284</td>\n",
              "      <td>7129200</td>\n",
              "    </tr>\n",
              "    <tr>\n",
              "      <th>2000-01-07</th>\n",
              "      <td>15.743301</td>\n",
              "      <td>16.525366</td>\n",
              "      <td>15.743301</td>\n",
              "      <td>16.525366</td>\n",
              "      <td>11474000</td>\n",
              "    </tr>\n",
              "    <tr>\n",
              "      <th>...</th>\n",
              "      <td>...</td>\n",
              "      <td>...</td>\n",
              "      <td>...</td>\n",
              "      <td>...</td>\n",
              "      <td>...</td>\n",
              "    </tr>\n",
              "    <tr>\n",
              "      <th>2022-05-27</th>\n",
              "      <td>64.260002</td>\n",
              "      <td>64.830002</td>\n",
              "      <td>64.139999</td>\n",
              "      <td>64.680000</td>\n",
              "      <td>17709000</td>\n",
              "    </tr>\n",
              "    <tr>\n",
              "      <th>2022-05-31</th>\n",
              "      <td>64.080002</td>\n",
              "      <td>64.320000</td>\n",
              "      <td>63.049999</td>\n",
              "      <td>63.380001</td>\n",
              "      <td>43159000</td>\n",
              "    </tr>\n",
              "    <tr>\n",
              "      <th>2022-06-01</th>\n",
              "      <td>63.419998</td>\n",
              "      <td>63.680000</td>\n",
              "      <td>62.130001</td>\n",
              "      <td>63.070000</td>\n",
              "      <td>15408300</td>\n",
              "    </tr>\n",
              "    <tr>\n",
              "      <th>2022-06-02</th>\n",
              "      <td>63.180000</td>\n",
              "      <td>63.740002</td>\n",
              "      <td>62.110001</td>\n",
              "      <td>63.730000</td>\n",
              "      <td>14586000</td>\n",
              "    </tr>\n",
              "    <tr>\n",
              "      <th>2022-06-03</th>\n",
              "      <td>63.570000</td>\n",
              "      <td>63.625000</td>\n",
              "      <td>62.820000</td>\n",
              "      <td>62.970001</td>\n",
              "      <td>13538112</td>\n",
              "    </tr>\n",
              "  </tbody>\n",
              "</table>\n",
              "<p>5642 rows × 5 columns</p>\n",
              "</div>"
            ],
            "text/plain": [
              "                 open       high        low      close    volume\n",
              "fecha                                                           \n",
              "2000-01-03  15.777298  15.777298  15.029236  15.335261  10997000\n",
              "2000-01-04  15.335263  15.454273  15.131246  15.352264   7308000\n",
              "2000-01-05  15.352260  15.624282  15.250251  15.488271   9457400\n",
              "2000-01-06  15.488283  15.692300  15.386274  15.505284   7129200\n",
              "2000-01-07  15.743301  16.525366  15.743301  16.525366  11474000\n",
              "...               ...        ...        ...        ...       ...\n",
              "2022-05-27  64.260002  64.830002  64.139999  64.680000  17709000\n",
              "2022-05-31  64.080002  64.320000  63.049999  63.380001  43159000\n",
              "2022-06-01  63.419998  63.680000  62.130001  63.070000  15408300\n",
              "2022-06-02  63.180000  63.740002  62.110001  63.730000  14586000\n",
              "2022-06-03  63.570000  63.625000  62.820000  62.970001  13538112\n",
              "\n",
              "[5642 rows x 5 columns]"
            ]
          },
          "execution_count": 44,
          "metadata": {},
          "output_type": "execute_result"
        }
      ],
      "source": [
        "df"
      ]
    },
    {
      "cell_type": "code",
      "execution_count": null,
      "id": "4ec78b77",
      "metadata": {
        "id": "4ec78b77",
        "outputId": "745d8430-3f5f-4a50-a8cf-f219a24c5879"
      },
      "outputs": [
        {
          "ename": "KeyError",
          "evalue": "\"None of ['fecha'] are in the columns\"",
          "output_type": "error",
          "traceback": [
            "\u001b[1;31m---------------------------------------------------------------------------\u001b[0m",
            "\u001b[1;31mKeyError\u001b[0m                                  Traceback (most recent call last)",
            "Cell \u001b[1;32mIn[43], line 1\u001b[0m\n\u001b[1;32m----> 1\u001b[0m \u001b[43mdf\u001b[49m\u001b[38;5;241;43m.\u001b[39;49m\u001b[43mset_index\u001b[49m\u001b[43m(\u001b[49m\u001b[38;5;124;43m\"\u001b[39;49m\u001b[38;5;124;43mfecha\u001b[39;49m\u001b[38;5;124;43m\"\u001b[39;49m\u001b[43m \u001b[49m\u001b[43m,\u001b[49m\u001b[43m \u001b[49m\u001b[43minplace\u001b[49m\u001b[38;5;241;43m=\u001b[39;49m\u001b[38;5;28;43;01mTrue\u001b[39;49;00m\u001b[43m)\u001b[49m\n",
            "File \u001b[1;32m~\\anaconda3\\lib\\site-packages\\pandas\\util\\_decorators.py:331\u001b[0m, in \u001b[0;36mdeprecate_nonkeyword_arguments.<locals>.decorate.<locals>.wrapper\u001b[1;34m(*args, **kwargs)\u001b[0m\n\u001b[0;32m    325\u001b[0m \u001b[38;5;28;01mif\u001b[39;00m \u001b[38;5;28mlen\u001b[39m(args) \u001b[38;5;241m>\u001b[39m num_allow_args:\n\u001b[0;32m    326\u001b[0m     warnings\u001b[38;5;241m.\u001b[39mwarn(\n\u001b[0;32m    327\u001b[0m         msg\u001b[38;5;241m.\u001b[39mformat(arguments\u001b[38;5;241m=\u001b[39m_format_argument_list(allow_args)),\n\u001b[0;32m    328\u001b[0m         \u001b[38;5;167;01mFutureWarning\u001b[39;00m,\n\u001b[0;32m    329\u001b[0m         stacklevel\u001b[38;5;241m=\u001b[39mfind_stack_level(),\n\u001b[0;32m    330\u001b[0m     )\n\u001b[1;32m--> 331\u001b[0m \u001b[38;5;28;01mreturn\u001b[39;00m func(\u001b[38;5;241m*\u001b[39margs, \u001b[38;5;241m*\u001b[39m\u001b[38;5;241m*\u001b[39mkwargs)\n",
            "File \u001b[1;32m~\\anaconda3\\lib\\site-packages\\pandas\\core\\frame.py:6012\u001b[0m, in \u001b[0;36mDataFrame.set_index\u001b[1;34m(self, keys, drop, append, inplace, verify_integrity)\u001b[0m\n\u001b[0;32m   6009\u001b[0m                 missing\u001b[38;5;241m.\u001b[39mappend(col)\n\u001b[0;32m   6011\u001b[0m \u001b[38;5;28;01mif\u001b[39;00m missing:\n\u001b[1;32m-> 6012\u001b[0m     \u001b[38;5;28;01mraise\u001b[39;00m \u001b[38;5;167;01mKeyError\u001b[39;00m(\u001b[38;5;124mf\u001b[39m\u001b[38;5;124m\"\u001b[39m\u001b[38;5;124mNone of \u001b[39m\u001b[38;5;132;01m{\u001b[39;00mmissing\u001b[38;5;132;01m}\u001b[39;00m\u001b[38;5;124m are in the columns\u001b[39m\u001b[38;5;124m\"\u001b[39m)\n\u001b[0;32m   6014\u001b[0m \u001b[38;5;28;01mif\u001b[39;00m inplace:\n\u001b[0;32m   6015\u001b[0m     frame \u001b[38;5;241m=\u001b[39m \u001b[38;5;28mself\u001b[39m\n",
            "\u001b[1;31mKeyError\u001b[0m: \"None of ['fecha'] are in the columns\""
          ]
        }
      ],
      "source": [
        "df.set_index(\"fecha\" , inplace=True)"
      ]
    },
    {
      "cell_type": "code",
      "execution_count": null,
      "id": "c755cb16",
      "metadata": {
        "id": "c755cb16",
        "outputId": "ec072c77-527f-482c-f2d1-3d3450c0aed1"
      },
      "outputs": [
        {
          "data": {
            "text/html": [
              "<div>\n",
              "<style scoped>\n",
              "    .dataframe tbody tr th:only-of-type {\n",
              "        vertical-align: middle;\n",
              "    }\n",
              "\n",
              "    .dataframe tbody tr th {\n",
              "        vertical-align: top;\n",
              "    }\n",
              "\n",
              "    .dataframe thead th {\n",
              "        text-align: right;\n",
              "    }\n",
              "</style>\n",
              "<table border=\"1\" class=\"dataframe\">\n",
              "  <thead>\n",
              "    <tr style=\"text-align: right;\">\n",
              "      <th></th>\n",
              "      <th>open</th>\n",
              "      <th>high</th>\n",
              "      <th>low</th>\n",
              "      <th>close</th>\n",
              "      <th>volume</th>\n",
              "    </tr>\n",
              "    <tr>\n",
              "      <th>fecha</th>\n",
              "      <th></th>\n",
              "      <th></th>\n",
              "      <th></th>\n",
              "      <th></th>\n",
              "      <th></th>\n",
              "    </tr>\n",
              "  </thead>\n",
              "  <tbody>\n",
              "    <tr>\n",
              "      <th>2000-01-03</th>\n",
              "      <td>15.777298</td>\n",
              "      <td>15.777298</td>\n",
              "      <td>15.029236</td>\n",
              "      <td>15.335261</td>\n",
              "      <td>10997000</td>\n",
              "    </tr>\n",
              "    <tr>\n",
              "      <th>2000-01-04</th>\n",
              "      <td>15.335263</td>\n",
              "      <td>15.454273</td>\n",
              "      <td>15.131246</td>\n",
              "      <td>15.352264</td>\n",
              "      <td>7308000</td>\n",
              "    </tr>\n",
              "    <tr>\n",
              "      <th>2000-01-05</th>\n",
              "      <td>15.352260</td>\n",
              "      <td>15.624282</td>\n",
              "      <td>15.250251</td>\n",
              "      <td>15.488271</td>\n",
              "      <td>9457400</td>\n",
              "    </tr>\n",
              "    <tr>\n",
              "      <th>2000-01-06</th>\n",
              "      <td>15.488283</td>\n",
              "      <td>15.692300</td>\n",
              "      <td>15.386274</td>\n",
              "      <td>15.505284</td>\n",
              "      <td>7129200</td>\n",
              "    </tr>\n",
              "    <tr>\n",
              "      <th>2000-01-07</th>\n",
              "      <td>15.743301</td>\n",
              "      <td>16.525366</td>\n",
              "      <td>15.743301</td>\n",
              "      <td>16.525366</td>\n",
              "      <td>11474000</td>\n",
              "    </tr>\n",
              "    <tr>\n",
              "      <th>...</th>\n",
              "      <td>...</td>\n",
              "      <td>...</td>\n",
              "      <td>...</td>\n",
              "      <td>...</td>\n",
              "      <td>...</td>\n",
              "    </tr>\n",
              "    <tr>\n",
              "      <th>2022-05-27</th>\n",
              "      <td>64.260002</td>\n",
              "      <td>64.830002</td>\n",
              "      <td>64.139999</td>\n",
              "      <td>64.680000</td>\n",
              "      <td>17709000</td>\n",
              "    </tr>\n",
              "    <tr>\n",
              "      <th>2022-05-31</th>\n",
              "      <td>64.080002</td>\n",
              "      <td>64.320000</td>\n",
              "      <td>63.049999</td>\n",
              "      <td>63.380001</td>\n",
              "      <td>43159000</td>\n",
              "    </tr>\n",
              "    <tr>\n",
              "      <th>2022-06-01</th>\n",
              "      <td>63.419998</td>\n",
              "      <td>63.680000</td>\n",
              "      <td>62.130001</td>\n",
              "      <td>63.070000</td>\n",
              "      <td>15408300</td>\n",
              "    </tr>\n",
              "    <tr>\n",
              "      <th>2022-06-02</th>\n",
              "      <td>63.180000</td>\n",
              "      <td>63.740002</td>\n",
              "      <td>62.110001</td>\n",
              "      <td>63.730000</td>\n",
              "      <td>14586000</td>\n",
              "    </tr>\n",
              "    <tr>\n",
              "      <th>2022-06-03</th>\n",
              "      <td>63.570000</td>\n",
              "      <td>63.625000</td>\n",
              "      <td>62.820000</td>\n",
              "      <td>62.970001</td>\n",
              "      <td>13538112</td>\n",
              "    </tr>\n",
              "  </tbody>\n",
              "</table>\n",
              "<p>5642 rows × 5 columns</p>\n",
              "</div>"
            ],
            "text/plain": [
              "                 open       high        low      close    volume\n",
              "fecha                                                           \n",
              "2000-01-03  15.777298  15.777298  15.029236  15.335261  10997000\n",
              "2000-01-04  15.335263  15.454273  15.131246  15.352264   7308000\n",
              "2000-01-05  15.352260  15.624282  15.250251  15.488271   9457400\n",
              "2000-01-06  15.488283  15.692300  15.386274  15.505284   7129200\n",
              "2000-01-07  15.743301  16.525366  15.743301  16.525366  11474000\n",
              "...               ...        ...        ...        ...       ...\n",
              "2022-05-27  64.260002  64.830002  64.139999  64.680000  17709000\n",
              "2022-05-31  64.080002  64.320000  63.049999  63.380001  43159000\n",
              "2022-06-01  63.419998  63.680000  62.130001  63.070000  15408300\n",
              "2022-06-02  63.180000  63.740002  62.110001  63.730000  14586000\n",
              "2022-06-03  63.570000  63.625000  62.820000  62.970001  13538112\n",
              "\n",
              "[5642 rows x 5 columns]"
            ]
          },
          "execution_count": 50,
          "metadata": {},
          "output_type": "execute_result"
        }
      ],
      "source": [
        "df"
      ]
    },
    {
      "cell_type": "markdown",
      "id": "74d83ece",
      "metadata": {
        "id": "74d83ece"
      },
      "source": [
        "### 5)\n",
        "* guardar en la variable \"apertura_1\" la serie de datos que compone la columna \"open\". acceder mediante el atributo correspondiente.\n",
        "* guardar en la variable \"cierre_1\" la serie de datos  que compone la columna \"close\". Acceder mediante el nombre de la columna.\n",
        "\n",
        "para finalizar crear un dataframe llamado \"data_1\" con los datos de \"apertura_1\" y \"cierre_1\". Que ocurre con el index?"
      ]
    },
    {
      "cell_type": "code",
      "execution_count": null,
      "id": "c2060435",
      "metadata": {
        "id": "c2060435"
      },
      "outputs": [],
      "source": [
        "apertura_1 = df.open # me guardo la serie entera.\n",
        "cierre_1  = df[\"close\"]"
      ]
    },
    {
      "cell_type": "code",
      "execution_count": null,
      "id": "972abaf3",
      "metadata": {
        "id": "972abaf3",
        "outputId": "047b073f-5fca-4bd0-dfaf-63f5fbe840bc"
      },
      "outputs": [
        {
          "data": {
            "text/html": [
              "<div>\n",
              "<style scoped>\n",
              "    .dataframe tbody tr th:only-of-type {\n",
              "        vertical-align: middle;\n",
              "    }\n",
              "\n",
              "    .dataframe tbody tr th {\n",
              "        vertical-align: top;\n",
              "    }\n",
              "\n",
              "    .dataframe thead th {\n",
              "        text-align: right;\n",
              "    }\n",
              "</style>\n",
              "<table border=\"1\" class=\"dataframe\">\n",
              "  <thead>\n",
              "    <tr style=\"text-align: right;\">\n",
              "      <th></th>\n",
              "      <th>apertura</th>\n",
              "      <th>cierre</th>\n",
              "    </tr>\n",
              "    <tr>\n",
              "      <th>fecha</th>\n",
              "      <th></th>\n",
              "      <th></th>\n",
              "    </tr>\n",
              "  </thead>\n",
              "  <tbody>\n",
              "    <tr>\n",
              "      <th>2000-01-03</th>\n",
              "      <td>15.777298</td>\n",
              "      <td>15.335261</td>\n",
              "    </tr>\n",
              "    <tr>\n",
              "      <th>2000-01-04</th>\n",
              "      <td>15.335263</td>\n",
              "      <td>15.352264</td>\n",
              "    </tr>\n",
              "    <tr>\n",
              "      <th>2000-01-05</th>\n",
              "      <td>15.352260</td>\n",
              "      <td>15.488271</td>\n",
              "    </tr>\n",
              "    <tr>\n",
              "      <th>2000-01-06</th>\n",
              "      <td>15.488283</td>\n",
              "      <td>15.505284</td>\n",
              "    </tr>\n",
              "    <tr>\n",
              "      <th>2000-01-07</th>\n",
              "      <td>15.743301</td>\n",
              "      <td>16.525366</td>\n",
              "    </tr>\n",
              "    <tr>\n",
              "      <th>...</th>\n",
              "      <td>...</td>\n",
              "      <td>...</td>\n",
              "    </tr>\n",
              "    <tr>\n",
              "      <th>2022-05-27</th>\n",
              "      <td>64.260002</td>\n",
              "      <td>64.680000</td>\n",
              "    </tr>\n",
              "    <tr>\n",
              "      <th>2022-05-31</th>\n",
              "      <td>64.080002</td>\n",
              "      <td>63.380001</td>\n",
              "    </tr>\n",
              "    <tr>\n",
              "      <th>2022-06-01</th>\n",
              "      <td>63.419998</td>\n",
              "      <td>63.070000</td>\n",
              "    </tr>\n",
              "    <tr>\n",
              "      <th>2022-06-02</th>\n",
              "      <td>63.180000</td>\n",
              "      <td>63.730000</td>\n",
              "    </tr>\n",
              "    <tr>\n",
              "      <th>2022-06-03</th>\n",
              "      <td>63.570000</td>\n",
              "      <td>62.970001</td>\n",
              "    </tr>\n",
              "  </tbody>\n",
              "</table>\n",
              "<p>5642 rows × 2 columns</p>\n",
              "</div>"
            ],
            "text/plain": [
              "             apertura     cierre\n",
              "fecha                           \n",
              "2000-01-03  15.777298  15.335261\n",
              "2000-01-04  15.335263  15.352264\n",
              "2000-01-05  15.352260  15.488271\n",
              "2000-01-06  15.488283  15.505284\n",
              "2000-01-07  15.743301  16.525366\n",
              "...               ...        ...\n",
              "2022-05-27  64.260002  64.680000\n",
              "2022-05-31  64.080002  63.380001\n",
              "2022-06-01  63.419998  63.070000\n",
              "2022-06-02  63.180000  63.730000\n",
              "2022-06-03  63.570000  62.970001\n",
              "\n",
              "[5642 rows x 2 columns]"
            ]
          },
          "execution_count": 52,
          "metadata": {},
          "output_type": "execute_result"
        }
      ],
      "source": [
        "datos = {\"apertura\" : apertura_1,\n",
        "        \"cierre\" : cierre_1}\n",
        "data_1 = pd.DataFrame(datos)\n",
        "data_1"
      ]
    },
    {
      "cell_type": "code",
      "execution_count": null,
      "id": "b7637756",
      "metadata": {
        "id": "b7637756"
      },
      "outputs": [],
      "source": []
    },
    {
      "cell_type": "markdown",
      "id": "f3f4e9cb",
      "metadata": {
        "id": "f3f4e9cb"
      },
      "source": [
        "### 6)\n",
        "\n",
        "* guardar en la variable \"apertura_2\" UNICAMENTE los __VALORES__ de la columna \"open\". acceder mediante el atributo correspondiente.\n",
        "* guardar en la variable \"cierre_2\" UNICAMENTE los __VALORES__ de la columna \"close\". Acceder mediante el nombre de la columna.\n",
        "\n",
        "para finalizar crear un dataframe llamado \"data_2\" con los datos de apertura y cierre. Que ocurrio ahora con el index?"
      ]
    },
    {
      "cell_type": "code",
      "execution_count": null,
      "id": "eb3019a1",
      "metadata": {
        "id": "eb3019a1"
      },
      "outputs": [],
      "source": [
        "apertura_2 = df.open.values #me guardo solo los valores.\n",
        "cierre_2 = df[\"close\"].values"
      ]
    },
    {
      "cell_type": "code",
      "execution_count": null,
      "id": "f87e315a",
      "metadata": {
        "id": "f87e315a"
      },
      "outputs": [],
      "source": [
        "data_2 = pd.DataFrame()"
      ]
    },
    {
      "cell_type": "code",
      "execution_count": null,
      "id": "a1e5ea06",
      "metadata": {
        "id": "a1e5ea06",
        "outputId": "6aa6e27b-df23-45b2-87fc-847e596ae3e6"
      },
      "outputs": [
        {
          "data": {
            "text/html": [
              "<div>\n",
              "<style scoped>\n",
              "    .dataframe tbody tr th:only-of-type {\n",
              "        vertical-align: middle;\n",
              "    }\n",
              "\n",
              "    .dataframe tbody tr th {\n",
              "        vertical-align: top;\n",
              "    }\n",
              "\n",
              "    .dataframe thead th {\n",
              "        text-align: right;\n",
              "    }\n",
              "</style>\n",
              "<table border=\"1\" class=\"dataframe\">\n",
              "  <thead>\n",
              "    <tr style=\"text-align: right;\">\n",
              "      <th></th>\n",
              "      <th>apertura</th>\n",
              "      <th>cierre</th>\n",
              "    </tr>\n",
              "  </thead>\n",
              "  <tbody>\n",
              "    <tr>\n",
              "      <th>0</th>\n",
              "      <td>15.777298</td>\n",
              "      <td>15.335261</td>\n",
              "    </tr>\n",
              "    <tr>\n",
              "      <th>1</th>\n",
              "      <td>15.335263</td>\n",
              "      <td>15.352264</td>\n",
              "    </tr>\n",
              "    <tr>\n",
              "      <th>2</th>\n",
              "      <td>15.352260</td>\n",
              "      <td>15.488271</td>\n",
              "    </tr>\n",
              "    <tr>\n",
              "      <th>3</th>\n",
              "      <td>15.488283</td>\n",
              "      <td>15.505284</td>\n",
              "    </tr>\n",
              "    <tr>\n",
              "      <th>4</th>\n",
              "      <td>15.743301</td>\n",
              "      <td>16.525366</td>\n",
              "    </tr>\n",
              "    <tr>\n",
              "      <th>...</th>\n",
              "      <td>...</td>\n",
              "      <td>...</td>\n",
              "    </tr>\n",
              "    <tr>\n",
              "      <th>5637</th>\n",
              "      <td>64.260002</td>\n",
              "      <td>64.680000</td>\n",
              "    </tr>\n",
              "    <tr>\n",
              "      <th>5638</th>\n",
              "      <td>64.080002</td>\n",
              "      <td>63.380001</td>\n",
              "    </tr>\n",
              "    <tr>\n",
              "      <th>5639</th>\n",
              "      <td>63.419998</td>\n",
              "      <td>63.070000</td>\n",
              "    </tr>\n",
              "    <tr>\n",
              "      <th>5640</th>\n",
              "      <td>63.180000</td>\n",
              "      <td>63.730000</td>\n",
              "    </tr>\n",
              "    <tr>\n",
              "      <th>5641</th>\n",
              "      <td>63.570000</td>\n",
              "      <td>62.970001</td>\n",
              "    </tr>\n",
              "  </tbody>\n",
              "</table>\n",
              "<p>5642 rows × 2 columns</p>\n",
              "</div>"
            ],
            "text/plain": [
              "       apertura     cierre\n",
              "0     15.777298  15.335261\n",
              "1     15.335263  15.352264\n",
              "2     15.352260  15.488271\n",
              "3     15.488283  15.505284\n",
              "4     15.743301  16.525366\n",
              "...         ...        ...\n",
              "5637  64.260002  64.680000\n",
              "5638  64.080002  63.380001\n",
              "5639  63.419998  63.070000\n",
              "5640  63.180000  63.730000\n",
              "5641  63.570000  62.970001\n",
              "\n",
              "[5642 rows x 2 columns]"
            ]
          },
          "execution_count": 60,
          "metadata": {},
          "output_type": "execute_result"
        }
      ],
      "source": [
        "data_2[\"apertura\"] = apertura_2\n",
        "data_2[\"cierre\"] = cierre_2\n",
        "data_2"
      ]
    },
    {
      "cell_type": "code",
      "execution_count": null,
      "id": "ca7e2f1f",
      "metadata": {
        "id": "ca7e2f1f",
        "outputId": "7d3f3256-6665-4797-9ff6-b3ac3fe55931"
      },
      "outputs": [
        {
          "name": "stdout",
          "output_type": "stream",
          "text": [
            "<class 'pandas.core.series.Series'> <class 'numpy.ndarray'>\n"
          ]
        }
      ],
      "source": [
        "print(type(apertura_1) , type(apertura_2))"
      ]
    },
    {
      "cell_type": "code",
      "execution_count": null,
      "id": "afd0fea0",
      "metadata": {
        "id": "afd0fea0"
      },
      "outputs": [],
      "source": []
    },
    {
      "cell_type": "markdown",
      "id": "af732407",
      "metadata": {
        "id": "af732407"
      },
      "source": [
        "### 7)\n",
        "\n",
        "* Descargar el archivo \"ko_excel.xlsx\" que se encuentra en el campus del curso e importarlo localmente en la variable \"excel\".\n",
        "* Imprimer los ultimos 10 valores para ver de que trata el Dataframe.\n",
        "* Solucionar los problemas para dejar el DataFrame listo para su analisis.\n"
      ]
    },
    {
      "cell_type": "code",
      "execution_count": null,
      "id": "26ad8357",
      "metadata": {
        "id": "26ad8357"
      },
      "outputs": [],
      "source": [
        "excel = pd.read_excel(\"./../archivos/ko_excel.xlsx\" , sheet_name=1 , skiprows=1 , header=1 , usecols=[2,3,4,5,6,7] )"
      ]
    },
    {
      "cell_type": "code",
      "execution_count": null,
      "id": "9ec98b8e",
      "metadata": {
        "id": "9ec98b8e",
        "outputId": "57c32e73-3dc2-440d-95d1-06dcf5abf7c0"
      },
      "outputs": [
        {
          "data": {
            "text/html": [
              "<div>\n",
              "<style scoped>\n",
              "    .dataframe tbody tr th:only-of-type {\n",
              "        vertical-align: middle;\n",
              "    }\n",
              "\n",
              "    .dataframe tbody tr th {\n",
              "        vertical-align: top;\n",
              "    }\n",
              "\n",
              "    .dataframe thead th {\n",
              "        text-align: right;\n",
              "    }\n",
              "</style>\n",
              "<table border=\"1\" class=\"dataframe\">\n",
              "  <thead>\n",
              "    <tr style=\"text-align: right;\">\n",
              "      <th></th>\n",
              "      <th>Date</th>\n",
              "      <th>Open</th>\n",
              "      <th>High</th>\n",
              "      <th>Low</th>\n",
              "      <th>Close</th>\n",
              "      <th>Volume</th>\n",
              "    </tr>\n",
              "  </thead>\n",
              "  <tbody>\n",
              "    <tr>\n",
              "      <th>5637</th>\n",
              "      <td>2022-05-27</td>\n",
              "      <td>64.260002</td>\n",
              "      <td>64.830002</td>\n",
              "      <td>64.139999</td>\n",
              "      <td>64.680000</td>\n",
              "      <td>17709000</td>\n",
              "    </tr>\n",
              "    <tr>\n",
              "      <th>5638</th>\n",
              "      <td>2022-05-31</td>\n",
              "      <td>64.080002</td>\n",
              "      <td>64.320000</td>\n",
              "      <td>63.049999</td>\n",
              "      <td>63.380001</td>\n",
              "      <td>43159000</td>\n",
              "    </tr>\n",
              "    <tr>\n",
              "      <th>5639</th>\n",
              "      <td>2022-06-01</td>\n",
              "      <td>63.419998</td>\n",
              "      <td>63.680000</td>\n",
              "      <td>62.130001</td>\n",
              "      <td>63.070000</td>\n",
              "      <td>15408300</td>\n",
              "    </tr>\n",
              "    <tr>\n",
              "      <th>5640</th>\n",
              "      <td>2022-06-02</td>\n",
              "      <td>63.180000</td>\n",
              "      <td>63.740002</td>\n",
              "      <td>62.110001</td>\n",
              "      <td>63.730000</td>\n",
              "      <td>14586000</td>\n",
              "    </tr>\n",
              "    <tr>\n",
              "      <th>5641</th>\n",
              "      <td>2022-06-03</td>\n",
              "      <td>63.570000</td>\n",
              "      <td>63.625000</td>\n",
              "      <td>62.820000</td>\n",
              "      <td>62.970001</td>\n",
              "      <td>13538112</td>\n",
              "    </tr>\n",
              "  </tbody>\n",
              "</table>\n",
              "</div>"
            ],
            "text/plain": [
              "           Date       Open       High        Low      Close    Volume\n",
              "5637 2022-05-27  64.260002  64.830002  64.139999  64.680000  17709000\n",
              "5638 2022-05-31  64.080002  64.320000  63.049999  63.380001  43159000\n",
              "5639 2022-06-01  63.419998  63.680000  62.130001  63.070000  15408300\n",
              "5640 2022-06-02  63.180000  63.740002  62.110001  63.730000  14586000\n",
              "5641 2022-06-03  63.570000  63.625000  62.820000  62.970001  13538112"
            ]
          },
          "execution_count": 126,
          "metadata": {},
          "output_type": "execute_result"
        }
      ],
      "source": [
        "excel.tail() # como head , pero del final"
      ]
    },
    {
      "cell_type": "markdown",
      "id": "7eb7ff37",
      "metadata": {
        "id": "7eb7ff37"
      },
      "source": [
        "### 8)\n",
        "Utilizando el dataframe \"excel\" imprimir:\n",
        "\n",
        "* tipo de datos por columnas\n",
        "* verificar si existen datos faltantes\n",
        "* cuantas filas y columnas tiene el DataFrame?\n",
        "* pasar nombres a minusculas\n",
        "* cambiar \"date\" por \"fecha\" y luego setear esta columna como index.\n",
        "\n"
      ]
    },
    {
      "cell_type": "code",
      "execution_count": null,
      "id": "32a22479",
      "metadata": {
        "id": "32a22479",
        "outputId": "0ea42b8b-e597-4c7e-ff66-d66bf252b26a"
      },
      "outputs": [
        {
          "name": "stdout",
          "output_type": "stream",
          "text": [
            "<class 'pandas.core.frame.DataFrame'>\n",
            "RangeIndex: 5642 entries, 0 to 5641\n",
            "Data columns (total 6 columns):\n",
            " #   Column  Non-Null Count  Dtype         \n",
            "---  ------  --------------  -----         \n",
            " 0   Date    5642 non-null   datetime64[ns]\n",
            " 1   Open    5642 non-null   float64       \n",
            " 2   High    5642 non-null   float64       \n",
            " 3   Low     5642 non-null   float64       \n",
            " 4   Close   5642 non-null   float64       \n",
            " 5   Volume  5642 non-null   int64         \n",
            "dtypes: datetime64[ns](1), float64(4), int64(1)\n",
            "memory usage: 264.6 KB\n"
          ]
        }
      ],
      "source": [
        "excel.info()"
      ]
    },
    {
      "cell_type": "code",
      "execution_count": null,
      "id": "54927488",
      "metadata": {
        "id": "54927488"
      },
      "outputs": [],
      "source": [
        "excel.columns = [i.lower() for i in excel.columns]"
      ]
    },
    {
      "cell_type": "code",
      "execution_count": null,
      "id": "30479538",
      "metadata": {
        "id": "30479538"
      },
      "outputs": [],
      "source": [
        "excel.rename(columns={\"date\" : \"fecha\"} , inplace=True)"
      ]
    },
    {
      "cell_type": "code",
      "execution_count": null,
      "id": "dd33fb48",
      "metadata": {
        "id": "dd33fb48"
      },
      "outputs": [],
      "source": [
        "excel.set_index(\"fecha\" , inplace=True)"
      ]
    },
    {
      "cell_type": "code",
      "execution_count": null,
      "id": "073685e8",
      "metadata": {
        "id": "073685e8",
        "outputId": "5e16140f-af8f-47a4-fed9-bf5a44067f5c"
      },
      "outputs": [
        {
          "data": {
            "text/html": [
              "<div>\n",
              "<style scoped>\n",
              "    .dataframe tbody tr th:only-of-type {\n",
              "        vertical-align: middle;\n",
              "    }\n",
              "\n",
              "    .dataframe tbody tr th {\n",
              "        vertical-align: top;\n",
              "    }\n",
              "\n",
              "    .dataframe thead th {\n",
              "        text-align: right;\n",
              "    }\n",
              "</style>\n",
              "<table border=\"1\" class=\"dataframe\">\n",
              "  <thead>\n",
              "    <tr style=\"text-align: right;\">\n",
              "      <th></th>\n",
              "      <th>open</th>\n",
              "      <th>high</th>\n",
              "      <th>low</th>\n",
              "      <th>close</th>\n",
              "      <th>volume</th>\n",
              "    </tr>\n",
              "    <tr>\n",
              "      <th>fecha</th>\n",
              "      <th></th>\n",
              "      <th></th>\n",
              "      <th></th>\n",
              "      <th></th>\n",
              "      <th></th>\n",
              "    </tr>\n",
              "  </thead>\n",
              "  <tbody>\n",
              "    <tr>\n",
              "      <th>2000-01-03</th>\n",
              "      <td>15.777298</td>\n",
              "      <td>15.777298</td>\n",
              "      <td>15.029236</td>\n",
              "      <td>15.335261</td>\n",
              "      <td>10997000</td>\n",
              "    </tr>\n",
              "    <tr>\n",
              "      <th>2000-01-04</th>\n",
              "      <td>15.335263</td>\n",
              "      <td>15.454273</td>\n",
              "      <td>15.131246</td>\n",
              "      <td>15.352264</td>\n",
              "      <td>7308000</td>\n",
              "    </tr>\n",
              "    <tr>\n",
              "      <th>2000-01-05</th>\n",
              "      <td>15.352260</td>\n",
              "      <td>15.624282</td>\n",
              "      <td>15.250251</td>\n",
              "      <td>15.488271</td>\n",
              "      <td>9457400</td>\n",
              "    </tr>\n",
              "    <tr>\n",
              "      <th>2000-01-06</th>\n",
              "      <td>15.488283</td>\n",
              "      <td>15.692300</td>\n",
              "      <td>15.386274</td>\n",
              "      <td>15.505284</td>\n",
              "      <td>7129200</td>\n",
              "    </tr>\n",
              "    <tr>\n",
              "      <th>2000-01-07</th>\n",
              "      <td>15.743301</td>\n",
              "      <td>16.525366</td>\n",
              "      <td>15.743301</td>\n",
              "      <td>16.525366</td>\n",
              "      <td>11474000</td>\n",
              "    </tr>\n",
              "    <tr>\n",
              "      <th>...</th>\n",
              "      <td>...</td>\n",
              "      <td>...</td>\n",
              "      <td>...</td>\n",
              "      <td>...</td>\n",
              "      <td>...</td>\n",
              "    </tr>\n",
              "    <tr>\n",
              "      <th>2022-05-27</th>\n",
              "      <td>64.260002</td>\n",
              "      <td>64.830002</td>\n",
              "      <td>64.139999</td>\n",
              "      <td>64.680000</td>\n",
              "      <td>17709000</td>\n",
              "    </tr>\n",
              "    <tr>\n",
              "      <th>2022-05-31</th>\n",
              "      <td>64.080002</td>\n",
              "      <td>64.320000</td>\n",
              "      <td>63.049999</td>\n",
              "      <td>63.380001</td>\n",
              "      <td>43159000</td>\n",
              "    </tr>\n",
              "    <tr>\n",
              "      <th>2022-06-01</th>\n",
              "      <td>63.419998</td>\n",
              "      <td>63.680000</td>\n",
              "      <td>62.130001</td>\n",
              "      <td>63.070000</td>\n",
              "      <td>15408300</td>\n",
              "    </tr>\n",
              "    <tr>\n",
              "      <th>2022-06-02</th>\n",
              "      <td>63.180000</td>\n",
              "      <td>63.740002</td>\n",
              "      <td>62.110001</td>\n",
              "      <td>63.730000</td>\n",
              "      <td>14586000</td>\n",
              "    </tr>\n",
              "    <tr>\n",
              "      <th>2022-06-03</th>\n",
              "      <td>63.570000</td>\n",
              "      <td>63.625000</td>\n",
              "      <td>62.820000</td>\n",
              "      <td>62.970001</td>\n",
              "      <td>13538112</td>\n",
              "    </tr>\n",
              "  </tbody>\n",
              "</table>\n",
              "<p>5642 rows × 5 columns</p>\n",
              "</div>"
            ],
            "text/plain": [
              "                 open       high        low      close    volume\n",
              "fecha                                                           \n",
              "2000-01-03  15.777298  15.777298  15.029236  15.335261  10997000\n",
              "2000-01-04  15.335263  15.454273  15.131246  15.352264   7308000\n",
              "2000-01-05  15.352260  15.624282  15.250251  15.488271   9457400\n",
              "2000-01-06  15.488283  15.692300  15.386274  15.505284   7129200\n",
              "2000-01-07  15.743301  16.525366  15.743301  16.525366  11474000\n",
              "...               ...        ...        ...        ...       ...\n",
              "2022-05-27  64.260002  64.830002  64.139999  64.680000  17709000\n",
              "2022-05-31  64.080002  64.320000  63.049999  63.380001  43159000\n",
              "2022-06-01  63.419998  63.680000  62.130001  63.070000  15408300\n",
              "2022-06-02  63.180000  63.740002  62.110001  63.730000  14586000\n",
              "2022-06-03  63.570000  63.625000  62.820000  62.970001  13538112\n",
              "\n",
              "[5642 rows x 5 columns]"
            ]
          },
          "execution_count": 131,
          "metadata": {},
          "output_type": "execute_result"
        }
      ],
      "source": [
        "excel"
      ]
    },
    {
      "cell_type": "markdown",
      "id": "bf59d2d6",
      "metadata": {
        "id": "bf59d2d6"
      },
      "source": [
        "### 9)\n",
        "\n",
        "agregar tres columnas nuevas al Dataframe \"excel\". Una con el numero del dia , otra del mes y por ultimo del año.\n",
        "\n",
        "(hay una cuarta opcion que es el nombre del dia (str), que puede aportar info para usar mas adelante!!)"
      ]
    },
    {
      "cell_type": "code",
      "execution_count": null,
      "id": "2fa738e4",
      "metadata": {
        "id": "2fa738e4"
      },
      "outputs": [],
      "source": [
        "excel[\"dia\"] = excel.index.day\n",
        "excel[\"mes\"] = excel.index.month\n",
        "excel[\"year\"] = excel.index.year\n",
        "excel[\"nombre_del_dia\"] = excel.index.day_name()\n"
      ]
    },
    {
      "cell_type": "code",
      "execution_count": null,
      "id": "a776d01c",
      "metadata": {
        "id": "a776d01c",
        "outputId": "ddb6bb42-0389-4b38-9985-fa9ab4e2ddc0"
      },
      "outputs": [
        {
          "data": {
            "text/html": [
              "<div>\n",
              "<style scoped>\n",
              "    .dataframe tbody tr th:only-of-type {\n",
              "        vertical-align: middle;\n",
              "    }\n",
              "\n",
              "    .dataframe tbody tr th {\n",
              "        vertical-align: top;\n",
              "    }\n",
              "\n",
              "    .dataframe thead th {\n",
              "        text-align: right;\n",
              "    }\n",
              "</style>\n",
              "<table border=\"1\" class=\"dataframe\">\n",
              "  <thead>\n",
              "    <tr style=\"text-align: right;\">\n",
              "      <th></th>\n",
              "      <th>open</th>\n",
              "      <th>high</th>\n",
              "      <th>low</th>\n",
              "      <th>close</th>\n",
              "      <th>volume</th>\n",
              "      <th>dia</th>\n",
              "      <th>mes</th>\n",
              "      <th>year</th>\n",
              "      <th>nombre_del_dia</th>\n",
              "    </tr>\n",
              "    <tr>\n",
              "      <th>fecha</th>\n",
              "      <th></th>\n",
              "      <th></th>\n",
              "      <th></th>\n",
              "      <th></th>\n",
              "      <th></th>\n",
              "      <th></th>\n",
              "      <th></th>\n",
              "      <th></th>\n",
              "      <th></th>\n",
              "    </tr>\n",
              "  </thead>\n",
              "  <tbody>\n",
              "    <tr>\n",
              "      <th>2000-01-03</th>\n",
              "      <td>15.777298</td>\n",
              "      <td>15.777298</td>\n",
              "      <td>15.029236</td>\n",
              "      <td>15.335261</td>\n",
              "      <td>10997000</td>\n",
              "      <td>3</td>\n",
              "      <td>1</td>\n",
              "      <td>2000</td>\n",
              "      <td>Monday</td>\n",
              "    </tr>\n",
              "    <tr>\n",
              "      <th>2000-01-04</th>\n",
              "      <td>15.335263</td>\n",
              "      <td>15.454273</td>\n",
              "      <td>15.131246</td>\n",
              "      <td>15.352264</td>\n",
              "      <td>7308000</td>\n",
              "      <td>4</td>\n",
              "      <td>1</td>\n",
              "      <td>2000</td>\n",
              "      <td>Tuesday</td>\n",
              "    </tr>\n",
              "    <tr>\n",
              "      <th>2000-01-05</th>\n",
              "      <td>15.352260</td>\n",
              "      <td>15.624282</td>\n",
              "      <td>15.250251</td>\n",
              "      <td>15.488271</td>\n",
              "      <td>9457400</td>\n",
              "      <td>5</td>\n",
              "      <td>1</td>\n",
              "      <td>2000</td>\n",
              "      <td>Wednesday</td>\n",
              "    </tr>\n",
              "    <tr>\n",
              "      <th>2000-01-06</th>\n",
              "      <td>15.488283</td>\n",
              "      <td>15.692300</td>\n",
              "      <td>15.386274</td>\n",
              "      <td>15.505284</td>\n",
              "      <td>7129200</td>\n",
              "      <td>6</td>\n",
              "      <td>1</td>\n",
              "      <td>2000</td>\n",
              "      <td>Thursday</td>\n",
              "    </tr>\n",
              "    <tr>\n",
              "      <th>2000-01-07</th>\n",
              "      <td>15.743301</td>\n",
              "      <td>16.525366</td>\n",
              "      <td>15.743301</td>\n",
              "      <td>16.525366</td>\n",
              "      <td>11474000</td>\n",
              "      <td>7</td>\n",
              "      <td>1</td>\n",
              "      <td>2000</td>\n",
              "      <td>Friday</td>\n",
              "    </tr>\n",
              "    <tr>\n",
              "      <th>...</th>\n",
              "      <td>...</td>\n",
              "      <td>...</td>\n",
              "      <td>...</td>\n",
              "      <td>...</td>\n",
              "      <td>...</td>\n",
              "      <td>...</td>\n",
              "      <td>...</td>\n",
              "      <td>...</td>\n",
              "      <td>...</td>\n",
              "    </tr>\n",
              "    <tr>\n",
              "      <th>2022-05-27</th>\n",
              "      <td>64.260002</td>\n",
              "      <td>64.830002</td>\n",
              "      <td>64.139999</td>\n",
              "      <td>64.680000</td>\n",
              "      <td>17709000</td>\n",
              "      <td>27</td>\n",
              "      <td>5</td>\n",
              "      <td>2022</td>\n",
              "      <td>Friday</td>\n",
              "    </tr>\n",
              "    <tr>\n",
              "      <th>2022-05-31</th>\n",
              "      <td>64.080002</td>\n",
              "      <td>64.320000</td>\n",
              "      <td>63.049999</td>\n",
              "      <td>63.380001</td>\n",
              "      <td>43159000</td>\n",
              "      <td>31</td>\n",
              "      <td>5</td>\n",
              "      <td>2022</td>\n",
              "      <td>Tuesday</td>\n",
              "    </tr>\n",
              "    <tr>\n",
              "      <th>2022-06-01</th>\n",
              "      <td>63.419998</td>\n",
              "      <td>63.680000</td>\n",
              "      <td>62.130001</td>\n",
              "      <td>63.070000</td>\n",
              "      <td>15408300</td>\n",
              "      <td>1</td>\n",
              "      <td>6</td>\n",
              "      <td>2022</td>\n",
              "      <td>Wednesday</td>\n",
              "    </tr>\n",
              "    <tr>\n",
              "      <th>2022-06-02</th>\n",
              "      <td>63.180000</td>\n",
              "      <td>63.740002</td>\n",
              "      <td>62.110001</td>\n",
              "      <td>63.730000</td>\n",
              "      <td>14586000</td>\n",
              "      <td>2</td>\n",
              "      <td>6</td>\n",
              "      <td>2022</td>\n",
              "      <td>Thursday</td>\n",
              "    </tr>\n",
              "    <tr>\n",
              "      <th>2022-06-03</th>\n",
              "      <td>63.570000</td>\n",
              "      <td>63.625000</td>\n",
              "      <td>62.820000</td>\n",
              "      <td>62.970001</td>\n",
              "      <td>13538112</td>\n",
              "      <td>3</td>\n",
              "      <td>6</td>\n",
              "      <td>2022</td>\n",
              "      <td>Friday</td>\n",
              "    </tr>\n",
              "  </tbody>\n",
              "</table>\n",
              "<p>5642 rows × 9 columns</p>\n",
              "</div>"
            ],
            "text/plain": [
              "                 open       high        low      close    volume  dia  mes  \\\n",
              "fecha                                                                        \n",
              "2000-01-03  15.777298  15.777298  15.029236  15.335261  10997000    3    1   \n",
              "2000-01-04  15.335263  15.454273  15.131246  15.352264   7308000    4    1   \n",
              "2000-01-05  15.352260  15.624282  15.250251  15.488271   9457400    5    1   \n",
              "2000-01-06  15.488283  15.692300  15.386274  15.505284   7129200    6    1   \n",
              "2000-01-07  15.743301  16.525366  15.743301  16.525366  11474000    7    1   \n",
              "...               ...        ...        ...        ...       ...  ...  ...   \n",
              "2022-05-27  64.260002  64.830002  64.139999  64.680000  17709000   27    5   \n",
              "2022-05-31  64.080002  64.320000  63.049999  63.380001  43159000   31    5   \n",
              "2022-06-01  63.419998  63.680000  62.130001  63.070000  15408300    1    6   \n",
              "2022-06-02  63.180000  63.740002  62.110001  63.730000  14586000    2    6   \n",
              "2022-06-03  63.570000  63.625000  62.820000  62.970001  13538112    3    6   \n",
              "\n",
              "            year nombre_del_dia  \n",
              "fecha                            \n",
              "2000-01-03  2000         Monday  \n",
              "2000-01-04  2000        Tuesday  \n",
              "2000-01-05  2000      Wednesday  \n",
              "2000-01-06  2000       Thursday  \n",
              "2000-01-07  2000         Friday  \n",
              "...          ...            ...  \n",
              "2022-05-27  2022         Friday  \n",
              "2022-05-31  2022        Tuesday  \n",
              "2022-06-01  2022      Wednesday  \n",
              "2022-06-02  2022       Thursday  \n",
              "2022-06-03  2022         Friday  \n",
              "\n",
              "[5642 rows x 9 columns]"
            ]
          },
          "execution_count": 133,
          "metadata": {},
          "output_type": "execute_result"
        }
      ],
      "source": [
        "excel"
      ]
    },
    {
      "cell_type": "code",
      "execution_count": null,
      "id": "f37eaa8c",
      "metadata": {
        "id": "f37eaa8c"
      },
      "outputs": [],
      "source": []
    },
    {
      "cell_type": "markdown",
      "id": "59bbc812",
      "metadata": {
        "id": "59bbc812"
      },
      "source": [
        "### 10)\n",
        "\n",
        "* Crear un \"data_10\" con las 100 lineas mas recientes.\n",
        "* Ordenarlas de forma descendente.\n",
        "* Cual fue el precio de apertura de la fila mas antigua?\n",
        "* Que dia (day_name) fue la anteultima observacion?\n"
      ]
    },
    {
      "cell_type": "code",
      "execution_count": null,
      "id": "6dedb69d",
      "metadata": {
        "id": "6dedb69d"
      },
      "outputs": [],
      "source": [
        "#loc es por etiqueta                    e            iloc es por posicion\n",
        "\n",
        "data_10 = excel.copy() #este metodo copia el dataframe \"excel\" de forma correcta.\n",
        "data_10 = data_10[-100:] #opcion 1\n",
        "data_10.sort_index(ascending=False , inplace=True)"
      ]
    },
    {
      "cell_type": "code",
      "execution_count": null,
      "id": "fedeec2c",
      "metadata": {
        "id": "fedeec2c",
        "outputId": "c563d818-7aea-4e59-d045-5a537c469d7a"
      },
      "outputs": [
        {
          "data": {
            "text/plain": [
              "59.9709351699788"
            ]
          },
          "execution_count": 139,
          "metadata": {},
          "output_type": "execute_result"
        }
      ],
      "source": [
        "#precio de apertura\n",
        "data_10.iloc[-1].open"
      ]
    },
    {
      "cell_type": "code",
      "execution_count": null,
      "id": "f241d8d5",
      "metadata": {
        "id": "f241d8d5",
        "outputId": "2436317d-156a-47e5-cc1f-77a278fa052d"
      },
      "outputs": [
        {
          "data": {
            "text/plain": [
              "'Wednesday'"
            ]
          },
          "execution_count": 140,
          "metadata": {},
          "output_type": "execute_result"
        }
      ],
      "source": [
        "#nomre del dia de la anteultima\n",
        "data_10.iloc[-2].nombre_del_dia"
      ]
    },
    {
      "cell_type": "code",
      "execution_count": null,
      "id": "cfed72fd",
      "metadata": {
        "id": "cfed72fd"
      },
      "outputs": [],
      "source": [
        "#data_10_b = excel.sort_index(ascending=False)\n",
        "#data_10_b.iloc[ : 100].sort_index(ascending=True) #opcion 2"
      ]
    },
    {
      "cell_type": "markdown",
      "id": "d15a5be5",
      "metadata": {
        "id": "d15a5be5"
      },
      "source": [
        "### 11)\n",
        "\n",
        "* crear un \"data_11\" que contenga solo las observaciones (filas) hasta 2005 inclusive.\n",
        "* Cual fue el volumen promedio de este subconjunto?\n",
        "* cual fue el precio de cierre mas alto? que fecha fue?"
      ]
    },
    {
      "cell_type": "code",
      "execution_count": null,
      "id": "a5548e22",
      "metadata": {
        "id": "a5548e22",
        "outputId": "9b4ad8d8-82bc-4949-8278-bef9bf2073b1"
      },
      "outputs": [
        {
          "data": {
            "text/html": [
              "<div>\n",
              "<style scoped>\n",
              "    .dataframe tbody tr th:only-of-type {\n",
              "        vertical-align: middle;\n",
              "    }\n",
              "\n",
              "    .dataframe tbody tr th {\n",
              "        vertical-align: top;\n",
              "    }\n",
              "\n",
              "    .dataframe thead th {\n",
              "        text-align: right;\n",
              "    }\n",
              "</style>\n",
              "<table border=\"1\" class=\"dataframe\">\n",
              "  <thead>\n",
              "    <tr style=\"text-align: right;\">\n",
              "      <th></th>\n",
              "      <th>open</th>\n",
              "      <th>high</th>\n",
              "      <th>low</th>\n",
              "      <th>close</th>\n",
              "      <th>volume</th>\n",
              "      <th>dia</th>\n",
              "      <th>mes</th>\n",
              "      <th>year</th>\n",
              "      <th>nombre_del_dia</th>\n",
              "    </tr>\n",
              "    <tr>\n",
              "      <th>fecha</th>\n",
              "      <th></th>\n",
              "      <th></th>\n",
              "      <th></th>\n",
              "      <th></th>\n",
              "      <th></th>\n",
              "      <th></th>\n",
              "      <th></th>\n",
              "      <th></th>\n",
              "      <th></th>\n",
              "    </tr>\n",
              "  </thead>\n",
              "  <tbody>\n",
              "    <tr>\n",
              "      <th>2000-01-03</th>\n",
              "      <td>15.777298</td>\n",
              "      <td>15.777298</td>\n",
              "      <td>15.029236</td>\n",
              "      <td>15.335261</td>\n",
              "      <td>10997000</td>\n",
              "      <td>3</td>\n",
              "      <td>1</td>\n",
              "      <td>2000</td>\n",
              "      <td>Monday</td>\n",
              "    </tr>\n",
              "    <tr>\n",
              "      <th>2000-01-04</th>\n",
              "      <td>15.335263</td>\n",
              "      <td>15.454273</td>\n",
              "      <td>15.131246</td>\n",
              "      <td>15.352264</td>\n",
              "      <td>7308000</td>\n",
              "      <td>4</td>\n",
              "      <td>1</td>\n",
              "      <td>2000</td>\n",
              "      <td>Tuesday</td>\n",
              "    </tr>\n",
              "    <tr>\n",
              "      <th>2000-01-05</th>\n",
              "      <td>15.352260</td>\n",
              "      <td>15.624282</td>\n",
              "      <td>15.250251</td>\n",
              "      <td>15.488271</td>\n",
              "      <td>9457400</td>\n",
              "      <td>5</td>\n",
              "      <td>1</td>\n",
              "      <td>2000</td>\n",
              "      <td>Wednesday</td>\n",
              "    </tr>\n",
              "    <tr>\n",
              "      <th>2000-01-06</th>\n",
              "      <td>15.488283</td>\n",
              "      <td>15.692300</td>\n",
              "      <td>15.386274</td>\n",
              "      <td>15.505284</td>\n",
              "      <td>7129200</td>\n",
              "      <td>6</td>\n",
              "      <td>1</td>\n",
              "      <td>2000</td>\n",
              "      <td>Thursday</td>\n",
              "    </tr>\n",
              "    <tr>\n",
              "      <th>2000-01-07</th>\n",
              "      <td>15.743301</td>\n",
              "      <td>16.525366</td>\n",
              "      <td>15.743301</td>\n",
              "      <td>16.525366</td>\n",
              "      <td>11474000</td>\n",
              "      <td>7</td>\n",
              "      <td>1</td>\n",
              "      <td>2000</td>\n",
              "      <td>Friday</td>\n",
              "    </tr>\n",
              "    <tr>\n",
              "      <th>...</th>\n",
              "      <td>...</td>\n",
              "      <td>...</td>\n",
              "      <td>...</td>\n",
              "      <td>...</td>\n",
              "      <td>...</td>\n",
              "      <td>...</td>\n",
              "      <td>...</td>\n",
              "      <td>...</td>\n",
              "      <td>...</td>\n",
              "    </tr>\n",
              "    <tr>\n",
              "      <th>2005-12-23</th>\n",
              "      <td>12.540995</td>\n",
              "      <td>12.562297</td>\n",
              "      <td>12.510564</td>\n",
              "      <td>12.522737</td>\n",
              "      <td>5063200</td>\n",
              "      <td>23</td>\n",
              "      <td>12</td>\n",
              "      <td>2005</td>\n",
              "      <td>Friday</td>\n",
              "    </tr>\n",
              "    <tr>\n",
              "      <th>2005-12-27</th>\n",
              "      <td>12.507518</td>\n",
              "      <td>12.583598</td>\n",
              "      <td>12.367532</td>\n",
              "      <td>12.467957</td>\n",
              "      <td>14248000</td>\n",
              "      <td>27</td>\n",
              "      <td>12</td>\n",
              "      <td>2005</td>\n",
              "      <td>Tuesday</td>\n",
              "    </tr>\n",
              "    <tr>\n",
              "      <th>2005-12-28</th>\n",
              "      <td>12.470997</td>\n",
              "      <td>12.522732</td>\n",
              "      <td>12.394918</td>\n",
              "      <td>12.410133</td>\n",
              "      <td>9763000</td>\n",
              "      <td>28</td>\n",
              "      <td>12</td>\n",
              "      <td>2005</td>\n",
              "      <td>Wednesday</td>\n",
              "    </tr>\n",
              "    <tr>\n",
              "      <th>2005-12-29</th>\n",
              "      <td>12.376659</td>\n",
              "      <td>12.446654</td>\n",
              "      <td>12.300580</td>\n",
              "      <td>12.355357</td>\n",
              "      <td>11163400</td>\n",
              "      <td>29</td>\n",
              "      <td>12</td>\n",
              "      <td>2005</td>\n",
              "      <td>Thursday</td>\n",
              "    </tr>\n",
              "    <tr>\n",
              "      <th>2005-12-30</th>\n",
              "      <td>12.288411</td>\n",
              "      <td>12.376663</td>\n",
              "      <td>12.267109</td>\n",
              "      <td>12.267109</td>\n",
              "      <td>11743200</td>\n",
              "      <td>30</td>\n",
              "      <td>12</td>\n",
              "      <td>2005</td>\n",
              "      <td>Friday</td>\n",
              "    </tr>\n",
              "  </tbody>\n",
              "</table>\n",
              "<p>1508 rows × 9 columns</p>\n",
              "</div>"
            ],
            "text/plain": [
              "                 open       high        low      close    volume  dia  mes  \\\n",
              "fecha                                                                        \n",
              "2000-01-03  15.777298  15.777298  15.029236  15.335261  10997000    3    1   \n",
              "2000-01-04  15.335263  15.454273  15.131246  15.352264   7308000    4    1   \n",
              "2000-01-05  15.352260  15.624282  15.250251  15.488271   9457400    5    1   \n",
              "2000-01-06  15.488283  15.692300  15.386274  15.505284   7129200    6    1   \n",
              "2000-01-07  15.743301  16.525366  15.743301  16.525366  11474000    7    1   \n",
              "...               ...        ...        ...        ...       ...  ...  ...   \n",
              "2005-12-23  12.540995  12.562297  12.510564  12.522737   5063200   23   12   \n",
              "2005-12-27  12.507518  12.583598  12.367532  12.467957  14248000   27   12   \n",
              "2005-12-28  12.470997  12.522732  12.394918  12.410133   9763000   28   12   \n",
              "2005-12-29  12.376659  12.446654  12.300580  12.355357  11163400   29   12   \n",
              "2005-12-30  12.288411  12.376663  12.267109  12.267109  11743200   30   12   \n",
              "\n",
              "            year nombre_del_dia  \n",
              "fecha                            \n",
              "2000-01-03  2000         Monday  \n",
              "2000-01-04  2000        Tuesday  \n",
              "2000-01-05  2000      Wednesday  \n",
              "2000-01-06  2000       Thursday  \n",
              "2000-01-07  2000         Friday  \n",
              "...          ...            ...  \n",
              "2005-12-23  2005         Friday  \n",
              "2005-12-27  2005        Tuesday  \n",
              "2005-12-28  2005      Wednesday  \n",
              "2005-12-29  2005       Thursday  \n",
              "2005-12-30  2005         Friday  \n",
              "\n",
              "[1508 rows x 9 columns]"
            ]
          },
          "execution_count": 146,
          "metadata": {},
          "output_type": "execute_result"
        }
      ],
      "source": [
        "data_11 = excel.copy()\n",
        "mascara = data_11[\"year\"] <= 2005 #genera una serie de valores booleanos en base a la condicion\n",
        "data_11 = data_11.loc[mascara]\n",
        "#data_11 = data_11.loc[data_11[\"year\"] <= 2005] misma logica, de otra forma\n",
        "data_11"
      ]
    },
    {
      "cell_type": "code",
      "execution_count": null,
      "id": "1f7f04ac",
      "metadata": {
        "id": "1f7f04ac",
        "outputId": "fbbda20f-57dd-4d9c-8d2c-2496619d17e5"
      },
      "outputs": [
        {
          "data": {
            "text/plain": [
              "10734087.798408488"
            ]
          },
          "execution_count": 147,
          "metadata": {},
          "output_type": "execute_result"
        }
      ],
      "source": [
        "sum(data_11.volume) / data_11.shape[0]"
      ]
    },
    {
      "cell_type": "code",
      "execution_count": null,
      "id": "0916adf4",
      "metadata": {
        "id": "0916adf4"
      },
      "outputs": [],
      "source": [
        "#data_11.volume.mean() volumen de forma ams optima"
      ]
    },
    {
      "cell_type": "code",
      "execution_count": null,
      "id": "0b03bcd2",
      "metadata": {
        "id": "0b03bcd2",
        "outputId": "1f4aeb28-317c-430f-9800-38bf0230e53b"
      },
      "outputs": [
        {
          "data": {
            "text/plain": [
              "(Timestamp('2000-01-21 00:00:00'), 18.1915111541748)"
            ]
          },
          "execution_count": 155,
          "metadata": {},
          "output_type": "execute_result"
        }
      ],
      "source": [
        "data_11.close.idxmax() , data_11.close.max() # forma casera"
      ]
    },
    {
      "cell_type": "code",
      "execution_count": null,
      "id": "b16d8484",
      "metadata": {
        "id": "b16d8484",
        "outputId": "75ad524d-f6d4-4230-e08b-21014da7e4bd"
      },
      "outputs": [
        {
          "data": {
            "text/plain": [
              "(Timestamp('2000-01-21 00:00:00'), 18.1915111541748)"
            ]
          },
          "execution_count": 157,
          "metadata": {},
          "output_type": "execute_result"
        }
      ],
      "source": [
        "indice = data_11.close.idxmax()\n",
        "precio_maximo = data_11.loc[indice]\n",
        "indice , precio_maximo.close"
      ]
    },
    {
      "cell_type": "markdown",
      "id": "23e3a39d",
      "metadata": {
        "id": "23e3a39d"
      },
      "source": [
        "### 12)\n",
        "\n",
        "* Crear un \"data_12\" que contenga solo observaciones entre 2007 y 2009 inclusive, y que solo cuente con las features \"open\" y \"close\".\n",
        "\n",
        "* agregar una columna \"var_nom\" con la variacion nominal del precio durante el dia."
      ]
    },
    {
      "cell_type": "code",
      "execution_count": null,
      "id": "0083c7f6",
      "metadata": {
        "scrolled": true,
        "id": "0083c7f6",
        "outputId": "ca9004f6-3216-41b8-8c8a-86547b1054c5"
      },
      "outputs": [
        {
          "data": {
            "text/html": [
              "<div>\n",
              "<style scoped>\n",
              "    .dataframe tbody tr th:only-of-type {\n",
              "        vertical-align: middle;\n",
              "    }\n",
              "\n",
              "    .dataframe tbody tr th {\n",
              "        vertical-align: top;\n",
              "    }\n",
              "\n",
              "    .dataframe thead th {\n",
              "        text-align: right;\n",
              "    }\n",
              "</style>\n",
              "<table border=\"1\" class=\"dataframe\">\n",
              "  <thead>\n",
              "    <tr style=\"text-align: right;\">\n",
              "      <th></th>\n",
              "      <th>open</th>\n",
              "      <th>high</th>\n",
              "      <th>low</th>\n",
              "      <th>close</th>\n",
              "      <th>volume</th>\n",
              "      <th>dia</th>\n",
              "      <th>mes</th>\n",
              "      <th>year</th>\n",
              "      <th>nombre_del_dia</th>\n",
              "      <th>var_nom</th>\n",
              "    </tr>\n",
              "    <tr>\n",
              "      <th>fecha</th>\n",
              "      <th></th>\n",
              "      <th></th>\n",
              "      <th></th>\n",
              "      <th></th>\n",
              "      <th></th>\n",
              "      <th></th>\n",
              "      <th></th>\n",
              "      <th></th>\n",
              "      <th></th>\n",
              "      <th></th>\n",
              "    </tr>\n",
              "  </thead>\n",
              "  <tbody>\n",
              "    <tr>\n",
              "      <th>2007-01-03</th>\n",
              "      <td>15.135795</td>\n",
              "      <td>15.298546</td>\n",
              "      <td>15.110756</td>\n",
              "      <td>15.204652</td>\n",
              "      <td>15753400</td>\n",
              "      <td>3</td>\n",
              "      <td>1</td>\n",
              "      <td>2007</td>\n",
              "      <td>Wednesday</td>\n",
              "      <td>0.187790</td>\n",
              "    </tr>\n",
              "    <tr>\n",
              "      <th>2007-01-04</th>\n",
              "      <td>15.154570</td>\n",
              "      <td>15.242206</td>\n",
              "      <td>15.101364</td>\n",
              "      <td>15.210907</td>\n",
              "      <td>11810400</td>\n",
              "      <td>4</td>\n",
              "      <td>1</td>\n",
              "      <td>2007</td>\n",
              "      <td>Thursday</td>\n",
              "      <td>0.140842</td>\n",
              "    </tr>\n",
              "    <tr>\n",
              "      <th>2007-01-05</th>\n",
              "      <td>15.179614</td>\n",
              "      <td>15.201523</td>\n",
              "      <td>15.076330</td>\n",
              "      <td>15.104498</td>\n",
              "      <td>11607000</td>\n",
              "      <td>5</td>\n",
              "      <td>1</td>\n",
              "      <td>2007</td>\n",
              "      <td>Friday</td>\n",
              "      <td>0.125193</td>\n",
              "    </tr>\n",
              "    <tr>\n",
              "      <th>2007-01-08</th>\n",
              "      <td>15.026257</td>\n",
              "      <td>15.232825</td>\n",
              "      <td>15.026257</td>\n",
              "      <td>15.201528</td>\n",
              "      <td>17551000</td>\n",
              "      <td>8</td>\n",
              "      <td>1</td>\n",
              "      <td>2007</td>\n",
              "      <td>Monday</td>\n",
              "      <td>0.206568</td>\n",
              "    </tr>\n",
              "    <tr>\n",
              "      <th>2007-01-09</th>\n",
              "      <td>15.192135</td>\n",
              "      <td>15.282900</td>\n",
              "      <td>15.167096</td>\n",
              "      <td>15.214044</td>\n",
              "      <td>13724000</td>\n",
              "      <td>9</td>\n",
              "      <td>1</td>\n",
              "      <td>2007</td>\n",
              "      <td>Tuesday</td>\n",
              "      <td>0.115804</td>\n",
              "    </tr>\n",
              "    <tr>\n",
              "      <th>...</th>\n",
              "      <td>...</td>\n",
              "      <td>...</td>\n",
              "      <td>...</td>\n",
              "      <td>...</td>\n",
              "      <td>...</td>\n",
              "      <td>...</td>\n",
              "      <td>...</td>\n",
              "      <td>...</td>\n",
              "      <td>...</td>\n",
              "      <td>...</td>\n",
              "    </tr>\n",
              "    <tr>\n",
              "      <th>2009-12-24</th>\n",
              "      <td>19.650722</td>\n",
              "      <td>19.657557</td>\n",
              "      <td>19.500325</td>\n",
              "      <td>19.633631</td>\n",
              "      <td>5814200</td>\n",
              "      <td>24</td>\n",
              "      <td>12</td>\n",
              "      <td>2009</td>\n",
              "      <td>Thursday</td>\n",
              "      <td>0.157233</td>\n",
              "    </tr>\n",
              "    <tr>\n",
              "      <th>2009-12-28</th>\n",
              "      <td>19.623377</td>\n",
              "      <td>19.681485</td>\n",
              "      <td>19.578941</td>\n",
              "      <td>19.633631</td>\n",
              "      <td>7679600</td>\n",
              "      <td>28</td>\n",
              "      <td>12</td>\n",
              "      <td>2009</td>\n",
              "      <td>Monday</td>\n",
              "      <td>0.102544</td>\n",
              "    </tr>\n",
              "    <tr>\n",
              "      <th>2009-12-29</th>\n",
              "      <td>19.637050</td>\n",
              "      <td>19.814792</td>\n",
              "      <td>19.637050</td>\n",
              "      <td>19.736176</td>\n",
              "      <td>9551000</td>\n",
              "      <td>29</td>\n",
              "      <td>12</td>\n",
              "      <td>2009</td>\n",
              "      <td>Tuesday</td>\n",
              "      <td>0.177742</td>\n",
              "    </tr>\n",
              "    <tr>\n",
              "      <th>2009-12-30</th>\n",
              "      <td>19.736181</td>\n",
              "      <td>19.790870</td>\n",
              "      <td>19.647309</td>\n",
              "      <td>19.715672</td>\n",
              "      <td>9625200</td>\n",
              "      <td>30</td>\n",
              "      <td>12</td>\n",
              "      <td>2009</td>\n",
              "      <td>Wednesday</td>\n",
              "      <td>0.143561</td>\n",
              "    </tr>\n",
              "    <tr>\n",
              "      <th>2009-12-31</th>\n",
              "      <td>19.681489</td>\n",
              "      <td>19.739597</td>\n",
              "      <td>19.459312</td>\n",
              "      <td>19.483238</td>\n",
              "      <td>10848800</td>\n",
              "      <td>31</td>\n",
              "      <td>12</td>\n",
              "      <td>2009</td>\n",
              "      <td>Thursday</td>\n",
              "      <td>0.280285</td>\n",
              "    </tr>\n",
              "  </tbody>\n",
              "</table>\n",
              "<p>756 rows × 10 columns</p>\n",
              "</div>"
            ],
            "text/plain": [
              "                 open       high        low      close    volume  dia  mes  \\\n",
              "fecha                                                                        \n",
              "2007-01-03  15.135795  15.298546  15.110756  15.204652  15753400    3    1   \n",
              "2007-01-04  15.154570  15.242206  15.101364  15.210907  11810400    4    1   \n",
              "2007-01-05  15.179614  15.201523  15.076330  15.104498  11607000    5    1   \n",
              "2007-01-08  15.026257  15.232825  15.026257  15.201528  17551000    8    1   \n",
              "2007-01-09  15.192135  15.282900  15.167096  15.214044  13724000    9    1   \n",
              "...               ...        ...        ...        ...       ...  ...  ...   \n",
              "2009-12-24  19.650722  19.657557  19.500325  19.633631   5814200   24   12   \n",
              "2009-12-28  19.623377  19.681485  19.578941  19.633631   7679600   28   12   \n",
              "2009-12-29  19.637050  19.814792  19.637050  19.736176   9551000   29   12   \n",
              "2009-12-30  19.736181  19.790870  19.647309  19.715672   9625200   30   12   \n",
              "2009-12-31  19.681489  19.739597  19.459312  19.483238  10848800   31   12   \n",
              "\n",
              "            year nombre_del_dia   var_nom  \n",
              "fecha                                      \n",
              "2007-01-03  2007      Wednesday  0.187790  \n",
              "2007-01-04  2007       Thursday  0.140842  \n",
              "2007-01-05  2007         Friday  0.125193  \n",
              "2007-01-08  2007         Monday  0.206568  \n",
              "2007-01-09  2007        Tuesday  0.115804  \n",
              "...          ...            ...       ...  \n",
              "2009-12-24  2009       Thursday  0.157233  \n",
              "2009-12-28  2009         Monday  0.102544  \n",
              "2009-12-29  2009        Tuesday  0.177742  \n",
              "2009-12-30  2009      Wednesday  0.143561  \n",
              "2009-12-31  2009       Thursday  0.280285  \n",
              "\n",
              "[756 rows x 10 columns]"
            ]
          },
          "execution_count": 166,
          "metadata": {},
          "output_type": "execute_result"
        }
      ],
      "source": [
        "data_12 = excel.copy()\n",
        "mascara = (data_12.year >= 2007) & (data_12.year <=2009)\n",
        "data_12 = data_12.loc[mascara]\n",
        "data_12[\"var_nom\"] = data_12.high - data_12[\"low\"]\n",
        "data_12"
      ]
    },
    {
      "cell_type": "code",
      "execution_count": null,
      "id": "ae4a0beb",
      "metadata": {
        "id": "ae4a0beb"
      },
      "outputs": [],
      "source": []
    },
    {
      "cell_type": "markdown",
      "id": "7e1c3d3c",
      "metadata": {
        "id": "7e1c3d3c"
      },
      "source": [
        "###  13)\n",
        "\n",
        "* crear un \"data_13\" que contenga rueda por medio y solo la primer columna.\n",
        "\n",
        "* Que tipo de dato es \"data_13\" ?"
      ]
    },
    {
      "cell_type": "code",
      "execution_count": null,
      "id": "af7dc570",
      "metadata": {
        "id": "af7dc570",
        "outputId": "5125d5c9-b245-4cb6-9836-faab15adb0b2"
      },
      "outputs": [
        {
          "data": {
            "text/html": [
              "<div>\n",
              "<style scoped>\n",
              "    .dataframe tbody tr th:only-of-type {\n",
              "        vertical-align: middle;\n",
              "    }\n",
              "\n",
              "    .dataframe tbody tr th {\n",
              "        vertical-align: top;\n",
              "    }\n",
              "\n",
              "    .dataframe thead th {\n",
              "        text-align: right;\n",
              "    }\n",
              "</style>\n",
              "<table border=\"1\" class=\"dataframe\">\n",
              "  <thead>\n",
              "    <tr style=\"text-align: right;\">\n",
              "      <th></th>\n",
              "      <th>open</th>\n",
              "    </tr>\n",
              "    <tr>\n",
              "      <th>fecha</th>\n",
              "      <th></th>\n",
              "    </tr>\n",
              "  </thead>\n",
              "  <tbody>\n",
              "    <tr>\n",
              "      <th>2000-01-03</th>\n",
              "      <td>15.777298</td>\n",
              "    </tr>\n",
              "    <tr>\n",
              "      <th>2000-01-05</th>\n",
              "      <td>15.352260</td>\n",
              "    </tr>\n",
              "    <tr>\n",
              "      <th>2000-01-07</th>\n",
              "      <td>15.743301</td>\n",
              "    </tr>\n",
              "    <tr>\n",
              "      <th>2000-01-11</th>\n",
              "      <td>16.355347</td>\n",
              "    </tr>\n",
              "    <tr>\n",
              "      <th>2000-01-13</th>\n",
              "      <td>16.712373</td>\n",
              "    </tr>\n",
              "    <tr>\n",
              "      <th>...</th>\n",
              "      <td>...</td>\n",
              "    </tr>\n",
              "    <tr>\n",
              "      <th>2022-05-20</th>\n",
              "      <td>60.490002</td>\n",
              "    </tr>\n",
              "    <tr>\n",
              "      <th>2022-05-24</th>\n",
              "      <td>62.880001</td>\n",
              "    </tr>\n",
              "    <tr>\n",
              "      <th>2022-05-26</th>\n",
              "      <td>64.070000</td>\n",
              "    </tr>\n",
              "    <tr>\n",
              "      <th>2022-05-31</th>\n",
              "      <td>64.080002</td>\n",
              "    </tr>\n",
              "    <tr>\n",
              "      <th>2022-06-02</th>\n",
              "      <td>63.180000</td>\n",
              "    </tr>\n",
              "  </tbody>\n",
              "</table>\n",
              "<p>2821 rows × 1 columns</p>\n",
              "</div>"
            ],
            "text/plain": [
              "                 open\n",
              "fecha                \n",
              "2000-01-03  15.777298\n",
              "2000-01-05  15.352260\n",
              "2000-01-07  15.743301\n",
              "2000-01-11  16.355347\n",
              "2000-01-13  16.712373\n",
              "...               ...\n",
              "2022-05-20  60.490002\n",
              "2022-05-24  62.880001\n",
              "2022-05-26  64.070000\n",
              "2022-05-31  64.080002\n",
              "2022-06-02  63.180000\n",
              "\n",
              "[2821 rows x 1 columns]"
            ]
          },
          "execution_count": 169,
          "metadata": {},
          "output_type": "execute_result"
        }
      ],
      "source": [
        "data_13 = excel.copy()\n",
        "data_13 = data_13.iloc[ : :2 , [0]] # si pongo el 0 sin corchetes me devuelve una pd.Serie y no un pd.DataFrame.\n",
        "data_13"
      ]
    },
    {
      "cell_type": "code",
      "execution_count": null,
      "id": "4697a3e7",
      "metadata": {
        "id": "4697a3e7"
      },
      "outputs": [],
      "source": []
    },
    {
      "cell_type": "markdown",
      "id": "5c24556c",
      "metadata": {
        "id": "5c24556c"
      },
      "source": [
        "###  14)\n",
        "\n",
        "* Crear \"data_14\" con aquellos datos que correspondan a los dias viernes (\"Friday\").\n",
        "\n",
        "* imprimir \"data_14\" con un step de 4 en las filas y solo la columna \"high\".\n"
      ]
    },
    {
      "cell_type": "code",
      "execution_count": null,
      "id": "41282199",
      "metadata": {
        "id": "41282199"
      },
      "outputs": [],
      "source": []
    },
    {
      "cell_type": "code",
      "execution_count": null,
      "id": "9d347e3f",
      "metadata": {
        "id": "9d347e3f"
      },
      "outputs": [],
      "source": []
    },
    {
      "cell_type": "markdown",
      "id": "fda3aaf1",
      "metadata": {
        "id": "fda3aaf1"
      },
      "source": [
        "###  15)\n",
        "\n",
        "crear un \"data_15\" donde solo se contemplen los dias impares del mes.\n"
      ]
    },
    {
      "cell_type": "code",
      "execution_count": null,
      "id": "19c0e61f",
      "metadata": {
        "id": "19c0e61f"
      },
      "outputs": [],
      "source": []
    },
    {
      "cell_type": "code",
      "execution_count": null,
      "id": "ae2303ee",
      "metadata": {
        "id": "ae2303ee"
      },
      "outputs": [],
      "source": []
    },
    {
      "cell_type": "markdown",
      "id": "5c7dd265",
      "metadata": {
        "id": "5c7dd265"
      },
      "source": [
        "# tarea ver como validamos si ingresan un float\n",
        "###  16)  \n",
        "\n",
        "pedir al usuario por consola 3 numeros del 1 al 12, validando que estos no se repitan.\n",
        "\n",
        "Luego Utilizar estos numeros para filtrar los meses del dataframe que queremos visualizar.\n",
        "\n",
        "guardar el subconjunto en \"data_16\"\n"
      ]
    },
    {
      "cell_type": "code",
      "execution_count": null,
      "id": "aee7fc59",
      "metadata": {
        "id": "aee7fc59",
        "outputId": "2dbdda0c-b8ac-465b-9e44-51b7abdca160"
      },
      "outputs": [
        {
          "data": {
            "text/html": [
              "<div>\n",
              "<style scoped>\n",
              "    .dataframe tbody tr th:only-of-type {\n",
              "        vertical-align: middle;\n",
              "    }\n",
              "\n",
              "    .dataframe tbody tr th {\n",
              "        vertical-align: top;\n",
              "    }\n",
              "\n",
              "    .dataframe thead th {\n",
              "        text-align: right;\n",
              "    }\n",
              "</style>\n",
              "<table border=\"1\" class=\"dataframe\">\n",
              "  <thead>\n",
              "    <tr style=\"text-align: right;\">\n",
              "      <th></th>\n",
              "      <th>open</th>\n",
              "      <th>high</th>\n",
              "      <th>low</th>\n",
              "      <th>close</th>\n",
              "      <th>volume</th>\n",
              "      <th>dia</th>\n",
              "      <th>mes</th>\n",
              "      <th>year</th>\n",
              "      <th>nombre_del_dia</th>\n",
              "    </tr>\n",
              "    <tr>\n",
              "      <th>fecha</th>\n",
              "      <th></th>\n",
              "      <th></th>\n",
              "      <th></th>\n",
              "      <th></th>\n",
              "      <th></th>\n",
              "      <th></th>\n",
              "      <th></th>\n",
              "      <th></th>\n",
              "      <th></th>\n",
              "    </tr>\n",
              "  </thead>\n",
              "  <tbody>\n",
              "    <tr>\n",
              "      <th>2000-01-03</th>\n",
              "      <td>15.777298</td>\n",
              "      <td>15.777298</td>\n",
              "      <td>15.029236</td>\n",
              "      <td>15.335261</td>\n",
              "      <td>10997000</td>\n",
              "      <td>3</td>\n",
              "      <td>1</td>\n",
              "      <td>2000</td>\n",
              "      <td>Monday</td>\n",
              "    </tr>\n",
              "    <tr>\n",
              "      <th>2000-01-04</th>\n",
              "      <td>15.335263</td>\n",
              "      <td>15.454273</td>\n",
              "      <td>15.131246</td>\n",
              "      <td>15.352264</td>\n",
              "      <td>7308000</td>\n",
              "      <td>4</td>\n",
              "      <td>1</td>\n",
              "      <td>2000</td>\n",
              "      <td>Tuesday</td>\n",
              "    </tr>\n",
              "    <tr>\n",
              "      <th>2000-01-05</th>\n",
              "      <td>15.352260</td>\n",
              "      <td>15.624282</td>\n",
              "      <td>15.250251</td>\n",
              "      <td>15.488271</td>\n",
              "      <td>9457400</td>\n",
              "      <td>5</td>\n",
              "      <td>1</td>\n",
              "      <td>2000</td>\n",
              "      <td>Wednesday</td>\n",
              "    </tr>\n",
              "    <tr>\n",
              "      <th>2000-01-06</th>\n",
              "      <td>15.488283</td>\n",
              "      <td>15.692300</td>\n",
              "      <td>15.386274</td>\n",
              "      <td>15.505284</td>\n",
              "      <td>7129200</td>\n",
              "      <td>6</td>\n",
              "      <td>1</td>\n",
              "      <td>2000</td>\n",
              "      <td>Thursday</td>\n",
              "    </tr>\n",
              "    <tr>\n",
              "      <th>2000-01-07</th>\n",
              "      <td>15.743301</td>\n",
              "      <td>16.525366</td>\n",
              "      <td>15.743301</td>\n",
              "      <td>16.525366</td>\n",
              "      <td>11474000</td>\n",
              "      <td>7</td>\n",
              "      <td>1</td>\n",
              "      <td>2000</td>\n",
              "      <td>Friday</td>\n",
              "    </tr>\n",
              "  </tbody>\n",
              "</table>\n",
              "</div>"
            ],
            "text/plain": [
              "                 open       high        low      close    volume  dia  mes  \\\n",
              "fecha                                                                        \n",
              "2000-01-03  15.777298  15.777298  15.029236  15.335261  10997000    3    1   \n",
              "2000-01-04  15.335263  15.454273  15.131246  15.352264   7308000    4    1   \n",
              "2000-01-05  15.352260  15.624282  15.250251  15.488271   9457400    5    1   \n",
              "2000-01-06  15.488283  15.692300  15.386274  15.505284   7129200    6    1   \n",
              "2000-01-07  15.743301  16.525366  15.743301  16.525366  11474000    7    1   \n",
              "\n",
              "            year nombre_del_dia  \n",
              "fecha                            \n",
              "2000-01-03  2000         Monday  \n",
              "2000-01-04  2000        Tuesday  \n",
              "2000-01-05  2000      Wednesday  \n",
              "2000-01-06  2000       Thursday  \n",
              "2000-01-07  2000         Friday  "
            ]
          },
          "execution_count": 171,
          "metadata": {},
          "output_type": "execute_result"
        }
      ],
      "source": [
        "excel.head()"
      ]
    },
    {
      "cell_type": "code",
      "execution_count": null,
      "id": "9c5c9a68",
      "metadata": {
        "id": "9c5c9a68"
      },
      "outputs": [],
      "source": []
    },
    {
      "cell_type": "code",
      "execution_count": null,
      "id": "b4f5b152",
      "metadata": {
        "id": "b4f5b152",
        "outputId": "8ed798c8-ed51-4239-bfe0-8aab627846b9"
      },
      "outputs": [
        {
          "name": "stdout",
          "output_type": "stream",
          "text": [
            "escribe un numero del mes: 2.5\n"
          ]
        },
        {
          "ename": "ValueError",
          "evalue": "invalid literal for int() with base 10: '2.5'",
          "output_type": "error",
          "traceback": [
            "\u001b[1;31m---------------------------------------------------------------------------\u001b[0m",
            "\u001b[1;31mValueError\u001b[0m                                Traceback (most recent call last)",
            "Cell \u001b[1;32mIn[188], line 5\u001b[0m\n\u001b[0;32m      3\u001b[0m \u001b[38;5;28;01mwhile\u001b[39;00m (\u001b[38;5;28mlen\u001b[39m(lista) \u001b[38;5;241m<\u001b[39m \u001b[38;5;241m3\u001b[39m):\n\u001b[0;32m      4\u001b[0m     numero \u001b[38;5;241m=\u001b[39m \u001b[38;5;28minput\u001b[39m(\u001b[38;5;124m\"\u001b[39m\u001b[38;5;124mescribe un numero del mes: \u001b[39m\u001b[38;5;124m\"\u001b[39m)\n\u001b[1;32m----> 5\u001b[0m     numero \u001b[38;5;241m=\u001b[39m \u001b[38;5;28;43mint\u001b[39;49m\u001b[43m(\u001b[49m\u001b[43mnumero\u001b[49m\u001b[43m)\u001b[49m\n\u001b[0;32m      6\u001b[0m     \u001b[38;5;28;01mif\u001b[39;00m \u001b[38;5;28misinstance\u001b[39m(numero , \u001b[38;5;28mint\u001b[39m):\n\u001b[0;32m      7\u001b[0m         \u001b[38;5;28;01mif\u001b[39;00m numero \u001b[38;5;129;01mnot\u001b[39;00m \u001b[38;5;129;01min\u001b[39;00m lista :\n",
            "\u001b[1;31mValueError\u001b[0m: invalid literal for int() with base 10: '2.5'"
          ]
        }
      ],
      "source": [
        "#ejercicion con validacion\n",
        "lista = []\n",
        "while (len(lista) < 3):\n",
        "    numero = input(\"escribe un numero del mes: \")\n",
        "    numero = int(numero)\n",
        "    if isinstance(numero , int):\n",
        "        if numero not in lista :\n",
        "            lista.append(numero)\n",
        "        else:\n",
        "            print(\"che ese numero ya esta en la lista, proba de nuevo\")\n",
        "    else:\n",
        "        print(\"che no es un entero\")\n",
        "\n",
        "\n",
        "\n"
      ]
    },
    {
      "cell_type": "code",
      "execution_count": null,
      "id": "aae58554",
      "metadata": {
        "id": "aae58554"
      },
      "outputs": [],
      "source": [
        "pd.merge()\n",
        "pd."
      ]
    },
    {
      "cell_type": "code",
      "execution_count": null,
      "id": "bc6f4f86",
      "metadata": {
        "id": "bc6f4f86"
      },
      "outputs": [],
      "source": []
    },
    {
      "cell_type": "code",
      "execution_count": null,
      "id": "64b23eaf",
      "metadata": {
        "id": "64b23eaf"
      },
      "outputs": [],
      "source": []
    },
    {
      "cell_type": "code",
      "execution_count": null,
      "id": "5103bf22",
      "metadata": {
        "id": "5103bf22",
        "outputId": "faff86f9-8995-463b-f8c1-7b91bef6737e"
      },
      "outputs": [
        {
          "name": "stdout",
          "output_type": "stream",
          "text": [
            "escribe un numero del mes: 2\n",
            "escribe un numero del mes: 2\n",
            "escribe un numero del mes: 4\n"
          ]
        },
        {
          "data": {
            "text/html": [
              "<div>\n",
              "<style scoped>\n",
              "    .dataframe tbody tr th:only-of-type {\n",
              "        vertical-align: middle;\n",
              "    }\n",
              "\n",
              "    .dataframe tbody tr th {\n",
              "        vertical-align: top;\n",
              "    }\n",
              "\n",
              "    .dataframe thead th {\n",
              "        text-align: right;\n",
              "    }\n",
              "</style>\n",
              "<table border=\"1\" class=\"dataframe\">\n",
              "  <thead>\n",
              "    <tr style=\"text-align: right;\">\n",
              "      <th></th>\n",
              "      <th>open</th>\n",
              "      <th>high</th>\n",
              "      <th>low</th>\n",
              "      <th>close</th>\n",
              "      <th>volume</th>\n",
              "      <th>dia</th>\n",
              "      <th>mes</th>\n",
              "      <th>year</th>\n",
              "      <th>nombre_del_dia</th>\n",
              "    </tr>\n",
              "    <tr>\n",
              "      <th>fecha</th>\n",
              "      <th></th>\n",
              "      <th></th>\n",
              "      <th></th>\n",
              "      <th></th>\n",
              "      <th></th>\n",
              "      <th></th>\n",
              "      <th></th>\n",
              "      <th></th>\n",
              "      <th></th>\n",
              "    </tr>\n",
              "  </thead>\n",
              "  <tbody>\n",
              "    <tr>\n",
              "      <th>2000-02-01</th>\n",
              "      <td>15.624287</td>\n",
              "      <td>15.879308</td>\n",
              "      <td>15.318262</td>\n",
              "      <td>15.811302</td>\n",
              "      <td>8114600</td>\n",
              "      <td>1</td>\n",
              "      <td>2</td>\n",
              "      <td>2000</td>\n",
              "      <td>Tuesday</td>\n",
              "    </tr>\n",
              "    <tr>\n",
              "      <th>2000-02-02</th>\n",
              "      <td>15.743295</td>\n",
              "      <td>15.743295</td>\n",
              "      <td>15.250254</td>\n",
              "      <td>15.335261</td>\n",
              "      <td>7164000</td>\n",
              "      <td>2</td>\n",
              "      <td>2</td>\n",
              "      <td>2000</td>\n",
              "      <td>Wednesday</td>\n",
              "    </tr>\n",
              "    <tr>\n",
              "      <th>2000-02-03</th>\n",
              "      <td>15.335265</td>\n",
              "      <td>15.437273</td>\n",
              "      <td>14.978235</td>\n",
              "      <td>15.029240</td>\n",
              "      <td>9464400</td>\n",
              "      <td>3</td>\n",
              "      <td>2</td>\n",
              "      <td>2000</td>\n",
              "      <td>Thursday</td>\n",
              "    </tr>\n",
              "    <tr>\n",
              "      <th>2000-02-04</th>\n",
              "      <td>15.029240</td>\n",
              "      <td>15.709297</td>\n",
              "      <td>14.978236</td>\n",
              "      <td>15.301263</td>\n",
              "      <td>11501800</td>\n",
              "      <td>4</td>\n",
              "      <td>2</td>\n",
              "      <td>2000</td>\n",
              "      <td>Friday</td>\n",
              "    </tr>\n",
              "    <tr>\n",
              "      <th>2000-02-07</th>\n",
              "      <td>15.301268</td>\n",
              "      <td>15.675299</td>\n",
              "      <td>15.114252</td>\n",
              "      <td>15.471282</td>\n",
              "      <td>7742800</td>\n",
              "      <td>7</td>\n",
              "      <td>2</td>\n",
              "      <td>2000</td>\n",
              "      <td>Monday</td>\n",
              "    </tr>\n",
              "    <tr>\n",
              "      <th>...</th>\n",
              "      <td>...</td>\n",
              "      <td>...</td>\n",
              "      <td>...</td>\n",
              "      <td>...</td>\n",
              "      <td>...</td>\n",
              "      <td>...</td>\n",
              "      <td>...</td>\n",
              "      <td>...</td>\n",
              "      <td>...</td>\n",
              "    </tr>\n",
              "    <tr>\n",
              "      <th>2022-04-25</th>\n",
              "      <td>67.000000</td>\n",
              "      <td>67.199997</td>\n",
              "      <td>64.779999</td>\n",
              "      <td>65.940002</td>\n",
              "      <td>25082000</td>\n",
              "      <td>25</td>\n",
              "      <td>4</td>\n",
              "      <td>2022</td>\n",
              "      <td>Monday</td>\n",
              "    </tr>\n",
              "    <tr>\n",
              "      <th>2022-04-26</th>\n",
              "      <td>65.519997</td>\n",
              "      <td>66.370003</td>\n",
              "      <td>65.040001</td>\n",
              "      <td>65.050003</td>\n",
              "      <td>21982600</td>\n",
              "      <td>26</td>\n",
              "      <td>4</td>\n",
              "      <td>2022</td>\n",
              "      <td>Tuesday</td>\n",
              "    </tr>\n",
              "    <tr>\n",
              "      <th>2022-04-27</th>\n",
              "      <td>65.000000</td>\n",
              "      <td>66.279999</td>\n",
              "      <td>65.000000</td>\n",
              "      <td>65.559998</td>\n",
              "      <td>16971000</td>\n",
              "      <td>27</td>\n",
              "      <td>4</td>\n",
              "      <td>2022</td>\n",
              "      <td>Wednesday</td>\n",
              "    </tr>\n",
              "    <tr>\n",
              "      <th>2022-04-28</th>\n",
              "      <td>64.660004</td>\n",
              "      <td>66.279999</td>\n",
              "      <td>64.500000</td>\n",
              "      <td>66.190002</td>\n",
              "      <td>22010600</td>\n",
              "      <td>28</td>\n",
              "      <td>4</td>\n",
              "      <td>2022</td>\n",
              "      <td>Thursday</td>\n",
              "    </tr>\n",
              "    <tr>\n",
              "      <th>2022-04-29</th>\n",
              "      <td>65.870003</td>\n",
              "      <td>66.029999</td>\n",
              "      <td>64.489998</td>\n",
              "      <td>64.610001</td>\n",
              "      <td>20135300</td>\n",
              "      <td>29</td>\n",
              "      <td>4</td>\n",
              "      <td>2022</td>\n",
              "      <td>Friday</td>\n",
              "    </tr>\n",
              "  </tbody>\n",
              "</table>\n",
              "<p>916 rows × 9 columns</p>\n",
              "</div>"
            ],
            "text/plain": [
              "                 open       high        low      close    volume  dia  mes  \\\n",
              "fecha                                                                        \n",
              "2000-02-01  15.624287  15.879308  15.318262  15.811302   8114600    1    2   \n",
              "2000-02-02  15.743295  15.743295  15.250254  15.335261   7164000    2    2   \n",
              "2000-02-03  15.335265  15.437273  14.978235  15.029240   9464400    3    2   \n",
              "2000-02-04  15.029240  15.709297  14.978236  15.301263  11501800    4    2   \n",
              "2000-02-07  15.301268  15.675299  15.114252  15.471282   7742800    7    2   \n",
              "...               ...        ...        ...        ...       ...  ...  ...   \n",
              "2022-04-25  67.000000  67.199997  64.779999  65.940002  25082000   25    4   \n",
              "2022-04-26  65.519997  66.370003  65.040001  65.050003  21982600   26    4   \n",
              "2022-04-27  65.000000  66.279999  65.000000  65.559998  16971000   27    4   \n",
              "2022-04-28  64.660004  66.279999  64.500000  66.190002  22010600   28    4   \n",
              "2022-04-29  65.870003  66.029999  64.489998  64.610001  20135300   29    4   \n",
              "\n",
              "            year nombre_del_dia  \n",
              "fecha                            \n",
              "2000-02-01  2000        Tuesday  \n",
              "2000-02-02  2000      Wednesday  \n",
              "2000-02-03  2000       Thursday  \n",
              "2000-02-04  2000         Friday  \n",
              "2000-02-07  2000         Monday  \n",
              "...          ...            ...  \n",
              "2022-04-25  2022         Monday  \n",
              "2022-04-26  2022        Tuesday  \n",
              "2022-04-27  2022      Wednesday  \n",
              "2022-04-28  2022       Thursday  \n",
              "2022-04-29  2022         Friday  \n",
              "\n",
              "[916 rows x 9 columns]"
            ]
          },
          "execution_count": 174,
          "metadata": {},
          "output_type": "execute_result"
        }
      ],
      "source": [
        "#ejercicio sin validacion de que no se repitan\n",
        "lista = []\n",
        "for i in range(3):\n",
        "    numero = int(input(\"escribe un numero del mes: \"))\n",
        "    lista.append(numero)\n",
        "\n",
        "data_16 = excel.copy()\n",
        "mascara = (data_16[\"mes\"] == lista[0]) | (data_16[\"mes\"] == lista[1]) | (data_16[\"mes\"] == lista[2]) #version larga\n",
        "mascara_2 = data_16[\"mes\"].isin(lista) #version corta y eficiente\n",
        "data_16 = data_16.loc[mascara_2]\n",
        "data_16"
      ]
    },
    {
      "cell_type": "code",
      "execution_count": null,
      "id": "67ac52e6",
      "metadata": {
        "id": "67ac52e6"
      },
      "outputs": [],
      "source": []
    },
    {
      "cell_type": "markdown",
      "id": "46b3fa77",
      "metadata": {
        "id": "46b3fa77"
      },
      "source": [
        "###  17)\n",
        "\n",
        "* descargar las cotizaciones de AMZN del 1ro de enero de 2011 hasta la fecha.\n",
        "* la cantidad de ruedas que hubo en el año 2012.\n",
        "* acceder a los datos de las ruedas 8 y 26 del año 2021.\n",
        "* pedir por consola el numero de rueda que deseamos buscar en el año 2021 e imprimir los datos."
      ]
    },
    {
      "cell_type": "code",
      "execution_count": null,
      "id": "29a10abc",
      "metadata": {
        "id": "29a10abc"
      },
      "outputs": [],
      "source": []
    },
    {
      "cell_type": "code",
      "execution_count": null,
      "id": "d7d51893",
      "metadata": {
        "id": "d7d51893"
      },
      "outputs": [],
      "source": []
    },
    {
      "cell_type": "markdown",
      "id": "ed3912b9",
      "metadata": {
        "id": "ed3912b9"
      },
      "source": [
        "###  18)\n",
        "\n",
        "Leer el archivo de precios de AAPL y devolver el dataFrame que tenga:\n",
        "\n",
        "- Solo las columnas Open y Close\n",
        "- Que tenga como indice el timestamp\n",
        "- Que este ordenado por fechas\n",
        "- que devuelva solo los ultimos 10 valores"
      ]
    },
    {
      "cell_type": "code",
      "execution_count": null,
      "id": "5137e661",
      "metadata": {
        "id": "5137e661"
      },
      "outputs": [],
      "source": [
        "url = \"https://docs.google.com/spreadsheets/d/e/2PACX-1vRraxkyU12H2gHzFTwbhMRKvSCZBVeKfFEc2MGZw5fNJz4b2s6EQJGu0Ek-GKrBdg/pub?output=xlsx\"\n"
      ]
    },
    {
      "cell_type": "code",
      "execution_count": null,
      "id": "192fefec",
      "metadata": {
        "id": "192fefec"
      },
      "outputs": [],
      "source": []
    },
    {
      "cell_type": "markdown",
      "id": "369778ec",
      "metadata": {
        "id": "369778ec"
      },
      "source": [
        "###  19)\n",
        "\n",
        "volver a cargar el archivo de AAPL\n",
        "* Crear una nueva columna con el color de la vela diaria\n",
        "* Verde si Close > Open\n",
        "* Rojo si Close < Open\n",
        "* Doji, si Close = Open\n",
        "\n",
        "# consultar con chat gpt algunas opciones"
      ]
    },
    {
      "cell_type": "code",
      "execution_count": null,
      "id": "7c5b67e7",
      "metadata": {
        "id": "7c5b67e7"
      },
      "outputs": [],
      "source": []
    },
    {
      "cell_type": "code",
      "execution_count": null,
      "id": "9cc0ba7a",
      "metadata": {
        "id": "9cc0ba7a"
      },
      "outputs": [],
      "source": []
    },
    {
      "cell_type": "markdown",
      "id": "196f6914",
      "metadata": {
        "id": "196f6914"
      },
      "source": [
        "###  20)\n",
        "\n",
        "Usando el ejercicio 19, calcular el % de las ruedas con velas rojas del top 150 de mayor volumen historico\n",
        "\n",
        "Calcular luego el % de Verdes, Rojas y Dojis de todo el historico"
      ]
    },
    {
      "cell_type": "code",
      "execution_count": null,
      "id": "6fa676c4",
      "metadata": {
        "id": "6fa676c4"
      },
      "outputs": [],
      "source": []
    },
    {
      "cell_type": "code",
      "execution_count": null,
      "id": "1e023e5f",
      "metadata": {
        "id": "1e023e5f"
      },
      "outputs": [],
      "source": []
    }
  ],
  "metadata": {
    "kernelspec": {
      "display_name": "Python 3 (ipykernel)",
      "language": "python",
      "name": "python3"
    },
    "language_info": {
      "codemirror_mode": {
        "name": "ipython",
        "version": 3
      },
      "file_extension": ".py",
      "mimetype": "text/x-python",
      "name": "python",
      "nbconvert_exporter": "python",
      "pygments_lexer": "ipython3",
      "version": "3.10.9"
    },
    "colab": {
      "provenance": []
    }
  },
  "nbformat": 4,
  "nbformat_minor": 5
}