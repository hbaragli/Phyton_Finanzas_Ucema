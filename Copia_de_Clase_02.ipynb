{
  "cells": [
    {
      "cell_type": "markdown",
      "metadata": {
        "id": "view-in-github",
        "colab_type": "text"
      },
      "source": [
        "<a href=\"https://colab.research.google.com/github/hbaragli/Phyton_Finanzas_Ucema/blob/main/Copia_de_Clase_02.ipynb\" target=\"_parent\"><img src=\"https://colab.research.google.com/assets/colab-badge.svg\" alt=\"Open In Colab\"/></a>"
      ]
    },
    {
      "cell_type": "code",
      "source": [],
      "metadata": {
        "id": "iQnkXNfAzLk3"
      },
      "execution_count": null,
      "outputs": []
    },
    {
      "cell_type": "markdown",
      "metadata": {
        "id": "3p_6nkYbijod"
      },
      "source": [
        "# Manipulación de strings"
      ]
    },
    {
      "cell_type": "markdown",
      "metadata": {
        "id": "gtfZFoQPijog"
      },
      "source": [
        "Esquema General:\n",
        "    \n",
        "    * la referencia es abriendo y cerrando CORCHETES []\n",
        "    * Dentro de los [] hay 3 parámetros separados siempre por :\n",
        "        * [DESDE : HASTA : PASO]\n",
        "        * Si se omiten los valores default son\n",
        "            [0 : FINAL : 1]"
      ]
    },
    {
      "cell_type": "code",
      "execution_count": null,
      "metadata": {
        "id": "2s7iJQPZijoh",
        "outputId": "be0e4fca-b03f-4f45-f013-1a180ecce568",
        "colab": {
          "base_uri": "https://localhost:8080/",
          "height": 36
        }
      },
      "outputs": [
        {
          "output_type": "execute_result",
          "data": {
            "text/plain": [
              "'Manip'"
            ],
            "application/vnd.google.colaboratory.intrinsic+json": {
              "type": "string"
            }
          },
          "metadata": {},
          "execution_count": 22
        }
      ],
      "source": [
        "frase = \"Manipulación de strings\"\n",
        "\n",
        "sub1 = frase[:5:]\n",
        "sub1"
      ]
    },
    {
      "cell_type": "markdown",
      "metadata": {
        "id": "OHQlnkZ4ijoj"
      },
      "source": [
        "## Funciones de Strings\n",
        "\n",
        "* find\n",
        "* replace\n",
        "* len\n",
        "* slicing"
      ]
    },
    {
      "cell_type": "code",
      "execution_count": null,
      "metadata": {
        "id": "8lSpdwjuijoj",
        "colab": {
          "base_uri": "https://localhost:8080/",
          "height": 36
        },
        "outputId": "7e8bd6b7-7053-4770-e21f-1a16c4f0e25f"
      },
      "outputs": [
        {
          "output_type": "execute_result",
          "data": {
            "text/plain": [
              "'Manipulación ** strings'"
            ],
            "application/vnd.google.colaboratory.intrinsic+json": {
              "type": "string"
            }
          },
          "metadata": {},
          "execution_count": 20
        }
      ],
      "source": [
        "frase.replace('de', '**')"
      ]
    },
    {
      "cell_type": "code",
      "execution_count": null,
      "metadata": {
        "id": "DBdVdUANijoj",
        "colab": {
          "base_uri": "https://localhost:8080/"
        },
        "outputId": "d1b65181-47f2-4d7e-bcd2-722681757c33"
      },
      "outputs": [
        {
          "output_type": "execute_result",
          "data": {
            "text/plain": [
              "23"
            ]
          },
          "metadata": {},
          "execution_count": 21
        }
      ],
      "source": [
        "len(frase)"
      ]
    },
    {
      "cell_type": "code",
      "execution_count": null,
      "metadata": {
        "id": "VrXdXlyZijok"
      },
      "outputs": [],
      "source": []
    },
    {
      "cell_type": "code",
      "execution_count": null,
      "metadata": {
        "id": "ksXN_xBHijok"
      },
      "outputs": [],
      "source": []
    },
    {
      "cell_type": "code",
      "execution_count": null,
      "metadata": {
        "id": "w7Y8MAXLijol"
      },
      "outputs": [],
      "source": []
    },
    {
      "cell_type": "code",
      "execution_count": null,
      "metadata": {
        "id": "RNMzlmmTijol"
      },
      "outputs": [],
      "source": []
    },
    {
      "cell_type": "markdown",
      "metadata": {
        "id": "92k0llW0ijol"
      },
      "source": [
        "# Ejercicio picante"
      ]
    },
    {
      "cell_type": "markdown",
      "metadata": {
        "id": "CfxHV88Xijom"
      },
      "source": [
        "1- Dado el siguiente string largo, hacer el código necesario para que por input el usuario ingrese un ticker y se le devuelva el precio de ese ticker con su banda de +- 2%"
      ]
    },
    {
      "cell_type": "code",
      "execution_count": null,
      "metadata": {
        "id": "JQTW7brcijom"
      },
      "outputs": [],
      "source": [
        "datos =   \"\"\"\n",
        "ALUA $43,30\n",
        "BBAR $132,40\n",
        "BMA $200,05\n",
        "BYMA $635,50\n",
        "CEPU $31,45\n",
        "COME $2,39\n",
        "CRES $67,90\n",
        "CVH $296,50\n",
        "EDN $26,00\n",
        "GGAL $109,90\n",
        "HARG $120,75\n",
        "LOMA $162,65\n",
        "MIRG $1.447,50\n",
        "PAMP $82,05\n",
        "SUPV $54,70\n",
        "TECO2 $166,10\n",
        "TGNO4 $39,00\n",
        "TGSU2 $137,05\n",
        "TRAN $23,55\n",
        "TXAR $47,85\n",
        "VALO $24,75\n",
        "YPFD $637,30\n",
        "\"\"\""
      ]
    },
    {
      "cell_type": "code",
      "execution_count": null,
      "metadata": {
        "id": "78-3dgv1ijon",
        "outputId": "3c550cb0-ab6d-4324-fc92-a82939979b24",
        "colab": {
          "base_uri": "https://localhost:8080/",
          "height": 54
        }
      },
      "outputs": [
        {
          "output_type": "execute_result",
          "data": {
            "text/plain": [
              "'\\nALUA $43,30\\nBBAR $132,40\\nBMA $200,05\\nBYMA $635,50\\nCEPU $31,45\\nCOME $2,39\\nCRES $67,90\\nCVH $296,50\\nEDN $26,00\\nGGAL $109,90\\nHARG $120,75\\nLOMA $162,65\\nMIRG $1.447,50\\nPAMP $82,05\\nSUPV $54,70\\nTECO2 $166,10\\nTGNO4 $39,00\\nTGSU2 $137,05\\nTRAN $23,55\\nTXAR $47,85\\nVALO $24,75\\nYPFD $637,30\\n'"
            ],
            "application/vnd.google.colaboratory.intrinsic+json": {
              "type": "string"
            }
          },
          "metadata": {},
          "execution_count": 36
        }
      ],
      "source": [
        "datos"
      ]
    },
    {
      "cell_type": "markdown",
      "source": [],
      "metadata": {
        "id": "Z-r1lKclv9fi"
      }
    },
    {
      "cell_type": "code",
      "source": [
        "# pip install yfinance\n",
        "# pip install pyMySQL\n",
        "\n",
        "# invertironline.com  data de mercado en real time, historicos, operar (hasta 250 requests por dia es gratis)\n",
        "# PPI portfolio personal API en real time, historicos, operar"
      ],
      "metadata": {
        "id": "9Lef_7HCv8ft"
      },
      "execution_count": null,
      "outputs": []
    },
    {
      "cell_type": "markdown",
      "metadata": {
        "id": "eRhGJFzxijon"
      },
      "source": [
        "\n",
        "## Por donde arrancamos?"
      ]
    },
    {
      "cell_type": "markdown",
      "metadata": {
        "id": "wk8H0xZXijon"
      },
      "source": [
        "Desarmemos el problema en muchos subproblemas.."
      ]
    },
    {
      "cell_type": "code",
      "execution_count": null,
      "metadata": {
        "id": "0Tf6tvqDijoo",
        "colab": {
          "base_uri": "https://localhost:8080/"
        },
        "outputId": "9d38b78f-c674-472b-d57a-8d003a8db837"
      },
      "outputs": [
        {
          "output_type": "stream",
          "name": "stdout",
          "text": [
            "Ingresa tu ticker: bma\n",
            "Para el ticker BMA la banda +/- 2% es: 190.05 $220.06\n"
          ]
        }
      ],
      "source": [
        "# Primer paso: Saber que ticker quiere el usuario\n",
        "ticker = input(\"Ingresa tu ticker: \").upper()\n",
        "\n",
        "# Busco en que lugar de datos esta el ticker que pidio el usuario\n",
        "initial_position = datos.find(ticker) + len(ticker) + 2\n",
        "\n",
        "# Busco ahora el \"hasta donde\" para capturar solo el valor, busco entonces el salto de linea siguiente\n",
        "final_position = initial_position + datos[initial_position:].find('\\n')\n",
        "\n",
        "# guardo el string del precio en una variable (vamos a usar tipado dinamico)\n",
        "price = datos[initial_position:final_position]\n",
        "\n",
        "# Elimino los separadores de mil\n",
        "price = price.replace('.','').replace(',', '.')\n",
        "\n",
        "# transformo la variable en un numero (tipado dinamico)\n",
        "price = float(price)\n",
        "\n",
        "# Calculo el precio inferior y sperior de la banda del 2% que pedian\n",
        "stop_loss, take_profit = price * 0.95 , price * 1.1\n",
        "\n",
        "print(f'Para el ticker {ticker} la banda +/- 2% es: {stop_loss:.2f} ${take_profit:.2f}')"
      ]
    },
    {
      "cell_type": "markdown",
      "source": [
        "# Repaso de Estadística"
      ],
      "metadata": {
        "id": "rlI5v5X7Wnnc"
      }
    },
    {
      "cell_type": "code",
      "source": [
        "import numpy as np\n",
        "import pandas as pd\n",
        "import matplotlib.pyplot as plt\n",
        "\n",
        "plt.style.use('dark_background')\n",
        "columns = 3\n",
        "fig, ax = plt.subplots(ncols=columns, nrows=3, figsize=(15,8))\n",
        "sample = 10**5\n",
        "distributions = {'Uniform':pd.DataFrame(np.random.uniform(0, 1, size=sample)),\n",
        "        'Normal mu=0.5 sigma=0.15' : pd.DataFrame(np.random.normal(0.5, 0.15, size=sample)),\n",
        "        'Beta linear incremental' : pd.DataFrame(np.random.beta(2, 1, size=sample)),\n",
        "        'Beta exponential incremental' : pd.DataFrame(np.random.beta(4, 1, size=sample)),\n",
        "        'Beta centered low sigma' : pd.DataFrame(np.random.beta(20, 20, size=sample)),\n",
        "        'Beta convex' : pd.DataFrame(np.random.beta(0.5, 0.5, size=sample)),\n",
        "        'Beta centered high sigma ' : pd.DataFrame(np.random.beta(2, 2, size=sample)),\n",
        "        'Beta positive skew' : pd.DataFrame(np.random.beta(2, 5, size=sample)),\n",
        "        'Beta negative skew' : pd.DataFrame(np.random.beta(7, 2, size=sample)),\n",
        "        }\n",
        "\n",
        "fr_max = 0\n",
        "for i, (title, distribution) in enumerate(distributions.items()):\n",
        "  row, col = i // columns, i % columns\n",
        "  y_, x_, chart = ax[row][col].hist(distribution, bins=100,color='tab:blue', density=True)\n",
        "  ax[row][col].set_title(title, y=0.5)\n",
        "  ax[row][col].set_xlim(0,1)\n",
        "  fr_max = max(fr_max, y_.max())\n",
        "  ax[row][col].spines['top'].set_visible(False)\n",
        "  ax[row][col].spines['right'].set_visible(False)\n",
        "  ax[row][col].spines['left'].set_visible(False)\n",
        "  ax[row][col].set_yticks([])\n",
        "\n",
        "for i, (title, distribution) in enumerate(distributions.items()):\n",
        "  row, col = i // columns, i % columns\n",
        "  ax[row][col].set_ylim(0, fr_max)\n",
        "\n",
        "\n",
        "plt.subplots_adjust(hspace=0.2, wspace=0.2)"
      ],
      "metadata": {
        "colab": {
          "base_uri": "https://localhost:8080/",
          "height": 676
        },
        "id": "1r1sUladWr09",
        "outputId": "e3e64df5-a416-45fb-8436-dce83e0e26f3"
      },
      "execution_count": null,
      "outputs": [
        {
          "output_type": "display_data",
          "data": {
            "text/plain": [
              "<Figure size 1500x800 with 9 Axes>"
            ],
            "image/png": "[encoded data removed]"
          },
          "metadata": {}
        }
      ]
    },
    {
      "cell_type": "code",
      "source": [
        "# laplace\n",
        "# cauchy\n",
        "# johnsonsu\n",
        "\n",
        "# Ver kurtosis y skew\n"
      ],
      "metadata": {
        "id": "cj93plgdaYOm"
      },
      "execution_count": null,
      "outputs": []
    },
    {
      "cell_type": "code",
      "source": [
        "import random\n",
        "random.random()"
      ],
      "metadata": {
        "colab": {
          "base_uri": "https://localhost:8080/"
        },
        "id": "O3WZOIEUZD-3",
        "outputId": "7b9f5140-21f2-42ab-8f0e-11097f016363"
      },
      "execution_count": null,
      "outputs": [
        {
          "output_type": "execute_result",
          "data": {
            "text/plain": [
              "0.3638788836988731"
            ]
          },
          "metadata": {},
          "execution_count": 61
        }
      ]
    },
    {
      "cell_type": "markdown",
      "metadata": {
        "id": "ocmw9Qtkijos"
      },
      "source": [
        "## Distribucion normal"
      ]
    },
    {
      "cell_type": "markdown",
      "metadata": {
        "id": "VBmg-CvQijos"
      },
      "source": [
        "https://es.wikipedia.org/wiki/Distribuci%C3%B3n_normal"
      ]
    },
    {
      "cell_type": "code",
      "execution_count": null,
      "metadata": {
        "scrolled": true,
        "id": "R4T7Nc1rijos",
        "outputId": "f19778d5-605d-4f05-ba21-33eda29c68ce",
        "colab": {
          "base_uri": "https://localhost:8080/",
          "height": 321
        }
      },
      "outputs": [
        {
          "output_type": "execute_result",
          "data": {
            "text/plain": [
              "<IPython.lib.display.YouTubeVideo at 0x7f8a975aebe0>"
            ],
            "text/html": [
              "\n",
              "        <iframe\n",
              "            width=\"800\"\n",
              "            height=\"300\"\n",
              "            src=\"https://www.youtube.com/embed/EvHiee7gs9Y\"\n",
              "            frameborder=\"0\"\n",
              "            allowfullscreen\n",
              "            \n",
              "        ></iframe>\n",
              "        "
            ],
            "image/jpeg": "[encoded data removed]"
          },
          "metadata": {},
          "execution_count": 62
        }
      ],
      "source": [
        "from IPython.display import YouTubeVideo\n",
        "\n",
        "YouTubeVideo('EvHiee7gs9Y', width=800, height=300)"
      ]
    },
    {
      "cell_type": "markdown",
      "metadata": {
        "id": "a7o9E5AXijoo"
      },
      "source": [
        "# Paquete Random"
      ]
    },
    {
      "cell_type": "code",
      "source": [
        "import numpy as np"
      ],
      "metadata": {
        "id": "5DxmQxkbeQM-"
      },
      "execution_count": null,
      "outputs": []
    },
    {
      "cell_type": "code",
      "execution_count": null,
      "metadata": {
        "id": "jsmYxXm4ijoo"
      },
      "outputs": [],
      "source": [
        "import random"
      ]
    },
    {
      "cell_type": "code",
      "execution_count": null,
      "metadata": {
        "scrolled": true,
        "id": "Pgw-Onz8ijoo",
        "outputId": "744bb9e2-2045-4583-aac1-2e81457e466d",
        "colab": {
          "base_uri": "https://localhost:8080/"
        }
      },
      "outputs": [
        {
          "output_type": "stream",
          "name": "stdout",
          "text": [
            "0.3162359002523921\n"
          ]
        }
      ],
      "source": [
        "a = random.random()\n",
        "print(a)"
      ]
    },
    {
      "cell_type": "code",
      "execution_count": null,
      "metadata": {
        "scrolled": true,
        "id": "MbjyCgcQijop",
        "outputId": "a074a3d4-65fe-4c8b-b150-df8a9d7de4c2",
        "colab": {
          "base_uri": "https://localhost:8080/"
        }
      },
      "outputs": [
        {
          "output_type": "stream",
          "name": "stdout",
          "text": [
            "4.544145352743838\n"
          ]
        }
      ],
      "source": [
        "b = random.uniform(-5,5)\n",
        "print(b)"
      ]
    },
    {
      "cell_type": "code",
      "execution_count": null,
      "metadata": {
        "id": "SiysuOCxijop",
        "outputId": "e907514f-3d83-484f-8bc4-6ef5fa41f2c5",
        "colab": {
          "base_uri": "https://localhost:8080/"
        }
      },
      "outputs": [
        {
          "output_type": "stream",
          "name": "stdout",
          "text": [
            "-0.921388862885169\n"
          ]
        }
      ],
      "source": [
        "# Mu es la media, y sigma es el desvio estandar\n",
        "d = random.normalvariate(sigma=2.5, mu=0)\n",
        "print(d)"
      ]
    },
    {
      "cell_type": "code",
      "source": [
        "d = random.betavariate(alpha=2, beta=2)\n",
        "print(d)"
      ],
      "metadata": {
        "colab": {
          "base_uri": "https://localhost:8080/"
        },
        "id": "OuIPb_76V-9a",
        "outputId": "773fb108-c58f-465a-9341-99b3241b7d28"
      },
      "execution_count": null,
      "outputs": [
        {
          "output_type": "stream",
          "name": "stdout",
          "text": [
            "0.6381437596519374\n"
          ]
        }
      ]
    },
    {
      "cell_type": "markdown",
      "source": [
        "## Mas ejemplos entre rangos"
      ],
      "metadata": {
        "id": "Yl5nxZcXWbOc"
      }
    },
    {
      "cell_type": "code",
      "source": [
        "b = random.uniform(0,21)\n",
        "print(b)"
      ],
      "metadata": {
        "colab": {
          "base_uri": "https://localhost:8080/"
        },
        "id": "ySO4lOBQWZL0",
        "outputId": "71d1c571-1632-445c-fe4a-0cfd17746af3"
      },
      "execution_count": null,
      "outputs": [
        {
          "output_type": "stream",
          "name": "stdout",
          "text": [
            "17.796108475681887\n"
          ]
        }
      ]
    },
    {
      "cell_type": "code",
      "execution_count": null,
      "metadata": {
        "scrolled": true,
        "id": "Hvvm5Krnijop",
        "outputId": "b4070c12-b48c-4acf-b6b5-de50ccfd2fa6",
        "colab": {
          "base_uri": "https://localhost:8080/"
        }
      },
      "outputs": [
        {
          "output_type": "stream",
          "name": "stdout",
          "text": [
            "56\n"
          ]
        }
      ],
      "source": [
        "c = random.randrange(0,100,7) # numero entre 0 y 100 multiplo de 7\n",
        "print(c)"
      ]
    },
    {
      "cell_type": "markdown",
      "metadata": {
        "id": "Lcfi9MOzijoq"
      },
      "source": [
        "# Semilla"
      ]
    },
    {
      "cell_type": "code",
      "execution_count": null,
      "metadata": {
        "scrolled": true,
        "id": "XOXAzPQUijoq",
        "outputId": "7898ccd1-c5d3-42e1-9623-bf86b4a9dd12",
        "colab": {
          "base_uri": "https://localhost:8080/"
        }
      },
      "outputs": [
        {
          "output_type": "stream",
          "name": "stdout",
          "text": [
            "0.9212934358779116\n"
          ]
        }
      ],
      "source": [
        "print(random.random())"
      ]
    },
    {
      "cell_type": "code",
      "execution_count": null,
      "metadata": {
        "id": "t6FBnVSUijoq",
        "outputId": "5e53725c-0cc8-402a-cf2a-bf38c07fbba7",
        "colab": {
          "base_uri": "https://localhost:8080/"
        }
      },
      "outputs": [
        {
          "output_type": "stream",
          "name": "stdout",
          "text": [
            "0.823807241964088\n"
          ]
        }
      ],
      "source": [
        "random.seed(150)\n",
        "print(random.random())"
      ]
    },
    {
      "cell_type": "markdown",
      "metadata": {
        "id": "oePP38pOijoq"
      },
      "source": [
        "# Alias de un paquete"
      ]
    },
    {
      "cell_type": "code",
      "execution_count": null,
      "metadata": {
        "id": "GO1hV1Zxijor"
      },
      "outputs": [],
      "source": [
        "import random as rn"
      ]
    },
    {
      "cell_type": "code",
      "execution_count": null,
      "metadata": {
        "id": "MKEl5qCwijor",
        "outputId": "618647f5-4689-4cd1-ab22-75446f55029d"
      },
      "outputs": [
        {
          "name": "stdout",
          "output_type": "stream",
          "text": [
            "Help on method normalvariate in module random:\n",
            "\n",
            "normalvariate(mu, sigma) method of random.Random instance\n",
            "    Normal distribution.\n",
            "    \n",
            "    mu is the mean, and sigma is the standard deviation.\n",
            "\n"
          ]
        }
      ],
      "source": [
        "help(rn.normalvariate)"
      ]
    },
    {
      "cell_type": "code",
      "execution_count": null,
      "metadata": {
        "id": "OhvOVttLijor",
        "outputId": "74411036-b463-4dfd-8d52-569f663b961a",
        "colab": {
          "base_uri": "https://localhost:8080/"
        }
      },
      "outputs": [
        {
          "output_type": "execute_result",
          "data": {
            "text/plain": [
              "0.8348305815398291"
            ]
          },
          "metadata": {},
          "execution_count": 85
        }
      ],
      "source": [
        "rn.normalvariate(0,1)"
      ]
    },
    {
      "cell_type": "code",
      "execution_count": null,
      "metadata": {
        "id": "1zfgnL0mijor",
        "outputId": "69f22313-412e-40da-c334-7c88849bf4de",
        "colab": {
          "base_uri": "https://localhost:8080/"
        }
      },
      "outputs": [
        {
          "output_type": "execute_result",
          "data": {
            "text/plain": [
              "-0.6449767786259688"
            ]
          },
          "metadata": {},
          "execution_count": 86
        }
      ],
      "source": [
        "rn.normalvariate(0,1)"
      ]
    },
    {
      "cell_type": "markdown",
      "metadata": {
        "id": "CVD9O750ijos"
      },
      "source": [
        "# Otros tipos de datos"
      ]
    },
    {
      "cell_type": "code",
      "execution_count": null,
      "metadata": {
        "id": "josJGEPBijos"
      },
      "outputs": [],
      "source": [
        "mercado_abierto = None"
      ]
    },
    {
      "cell_type": "code",
      "execution_count": null,
      "metadata": {
        "id": "lB5Rnil8ijos",
        "outputId": "f3a8c542-1c59-4d61-f623-57b4b2b40f09",
        "colab": {
          "base_uri": "https://localhost:8080/"
        }
      },
      "outputs": [
        {
          "output_type": "execute_result",
          "data": {
            "text/plain": [
              "NoneType"
            ]
          },
          "metadata": {},
          "execution_count": 88
        }
      ],
      "source": [
        "type(mercado_abierto)"
      ]
    },
    {
      "cell_type": "code",
      "execution_count": null,
      "metadata": {
        "id": "qQf3IoaRijot",
        "outputId": "298ddcb6-068a-44d6-b2c4-cb0006355cf2",
        "colab": {
          "base_uri": "https://localhost:8080/"
        }
      },
      "outputs": [
        {
          "output_type": "execute_result",
          "data": {
            "text/plain": [
              "False"
            ]
          },
          "metadata": {},
          "execution_count": 90
        }
      ],
      "source": [
        "mercado_abierto = None\n",
        "bool(mercado_abierto)"
      ]
    },
    {
      "cell_type": "code",
      "execution_count": null,
      "metadata": {
        "id": "goBPtKEQijot",
        "outputId": "c1b60b83-aea4-4bc9-cf15-470c0b2c4a4d",
        "colab": {
          "base_uri": "https://localhost:8080/"
        }
      },
      "outputs": [
        {
          "output_type": "execute_result",
          "data": {
            "text/plain": [
              "int"
            ]
          },
          "metadata": {},
          "execution_count": 95
        }
      ],
      "source": [
        "cantidad = 1559\n",
        "type(cantidad)"
      ]
    },
    {
      "cell_type": "code",
      "execution_count": null,
      "metadata": {
        "id": "hUASHOzJijot",
        "outputId": "5d0dd1e5-bc0c-4211-bb3a-95d9a6c16054",
        "colab": {
          "base_uri": "https://localhost:8080/"
        }
      },
      "outputs": [
        {
          "output_type": "execute_result",
          "data": {
            "text/plain": [
              "True"
            ]
          },
          "metadata": {},
          "execution_count": 96
        }
      ],
      "source": [
        "bool(cantidad)"
      ]
    },
    {
      "cell_type": "code",
      "execution_count": null,
      "metadata": {
        "id": "sAqZL5O6ijou"
      },
      "outputs": [],
      "source": []
    },
    {
      "cell_type": "code",
      "execution_count": null,
      "metadata": {
        "id": "ejtGy2IDijou",
        "outputId": "87366afb-131b-46ae-dfb7-8e016a70e0a2"
      },
      "outputs": [
        {
          "name": "stdout",
          "output_type": "stream",
          "text": [
            "None\n"
          ]
        }
      ],
      "source": [
        "print(mercado_abierto)"
      ]
    },
    {
      "cell_type": "code",
      "execution_count": null,
      "metadata": {
        "id": "LvfjdNtgijou"
      },
      "outputs": [],
      "source": [
        "mercado_abierto"
      ]
    },
    {
      "cell_type": "markdown",
      "metadata": {
        "id": "7W_hkRTyijou"
      },
      "source": [
        "# Fechas"
      ]
    },
    {
      "cell_type": "markdown",
      "metadata": {
        "id": "9tUPLUWmijou"
      },
      "source": [
        "UNIX time, epoch, timestamp etc.."
      ]
    },
    {
      "cell_type": "markdown",
      "metadata": {
        "id": "uJjl6VqMijou"
      },
      "source": [
        "https://www.epochconverter.com/"
      ]
    },
    {
      "cell_type": "code",
      "execution_count": null,
      "metadata": {
        "id": "9P9zr02Wijov"
      },
      "outputs": [],
      "source": []
    },
    {
      "cell_type": "code",
      "execution_count": null,
      "metadata": {
        "id": "IF4tZja1ijov",
        "colab": {
          "base_uri": "https://localhost:8080/"
        },
        "outputId": "aedd1ef2-e114-4474-c890-8a71355c8fea"
      },
      "outputs": [
        {
          "output_type": "execute_result",
          "data": {
            "text/plain": [
              "datetime.datetime(2023, 4, 18, 22, 56, 19, 363156)"
            ]
          },
          "metadata": {},
          "execution_count": 101
        }
      ],
      "source": [
        "import datetime\n",
        "\n",
        "datetime.datetime.now()"
      ]
    },
    {
      "cell_type": "code",
      "source": [
        "from datetime import datetime as dt\n",
        "\n",
        "dt.now() # ojo que es el subpaquete de datetime"
      ],
      "metadata": {
        "colab": {
          "base_uri": "https://localhost:8080/"
        },
        "id": "0kAVzgR-lZrt",
        "outputId": "6277a184-7dcf-40aa-ed52-82a3fd3610e6"
      },
      "execution_count": null,
      "outputs": [
        {
          "output_type": "execute_result",
          "data": {
            "text/plain": [
              "datetime.datetime(2023, 4, 18, 22, 57, 15, 417533)"
            ]
          },
          "metadata": {},
          "execution_count": 103
        }
      ]
    },
    {
      "cell_type": "markdown",
      "metadata": {
        "id": "V80QV9lpijov"
      },
      "source": [
        "Sublibrerias\n",
        "* datetime\n",
        "* date\n",
        "* timedelta"
      ]
    },
    {
      "cell_type": "code",
      "execution_count": null,
      "metadata": {
        "id": "RG1R-lrSijov"
      },
      "outputs": [],
      "source": [
        "from datetime import datetime\n",
        "from datetime import date\n",
        "from datetime import timedelta\n",
        "\n",
        "from datetime import timedelta as timed"
      ]
    },
    {
      "cell_type": "code",
      "execution_count": null,
      "metadata": {
        "id": "l6yOVlTKijov"
      },
      "outputs": [],
      "source": [
        "import datetime as dt"
      ]
    },
    {
      "cell_type": "code",
      "source": [],
      "metadata": {
        "id": "Mm1bRhKtlOxY"
      },
      "execution_count": null,
      "outputs": []
    },
    {
      "cell_type": "code",
      "source": [],
      "metadata": {
        "id": "bjrr01KslOlL"
      },
      "execution_count": null,
      "outputs": []
    },
    {
      "cell_type": "code",
      "source": [],
      "metadata": {
        "id": "6LBOHs_plOP5"
      },
      "execution_count": null,
      "outputs": []
    },
    {
      "cell_type": "markdown",
      "metadata": {
        "id": "LBAHQauHijov"
      },
      "source": [
        "## Sublibrería date"
      ]
    },
    {
      "cell_type": "code",
      "source": [
        "import datetime\n",
        "\n",
        "# Crear un objeto \"date\" con una fecha específica\n",
        "mi_fecha = datetime.date(2023, 4, 19)\n",
        "\n",
        "# Convertir la fecha a una cadena de texto con formato personalizado\n",
        "cadena_fecha = mi_fecha.strftime(\"%B %d, %Y\")\n",
        "\n",
        "# Imprimir la cadena de texto formateada\n",
        "print(cadena_fecha)\n"
      ],
      "metadata": {
        "colab": {
          "base_uri": "https://localhost:8080/"
        },
        "id": "BSypY9sEm1Cc",
        "outputId": "f75c462c-7cfb-4008-84f0-8d766445a6bb"
      },
      "execution_count": null,
      "outputs": [
        {
          "output_type": "stream",
          "name": "stdout",
          "text": [
            "April 19, 2023\n"
          ]
        }
      ]
    },
    {
      "cell_type": "code",
      "source": [
        "type(mi_fecha)"
      ],
      "metadata": {
        "colab": {
          "base_uri": "https://localhost:8080/"
        },
        "id": "5y8di6kJnUhN",
        "outputId": "856ee830-affd-43a5-b6a2-d2020e3919f6"
      },
      "execution_count": null,
      "outputs": [
        {
          "output_type": "execute_result",
          "data": {
            "text/plain": [
              "datetime.date"
            ]
          },
          "metadata": {},
          "execution_count": 107
        }
      ]
    },
    {
      "cell_type": "code",
      "source": [
        "type(cadena_fecha)"
      ],
      "metadata": {
        "colab": {
          "base_uri": "https://localhost:8080/"
        },
        "id": "mYNmxjTFnToj",
        "outputId": "5ef79e92-2013-4c0a-e765-3bc89bcc853e"
      },
      "execution_count": null,
      "outputs": [
        {
          "output_type": "execute_result",
          "data": {
            "text/plain": [
              "str"
            ]
          },
          "metadata": {},
          "execution_count": 108
        }
      ]
    },
    {
      "cell_type": "code",
      "execution_count": null,
      "metadata": {
        "id": "mvZZTtx9ijov",
        "outputId": "86ab7311-4ba0-4475-d2a8-ba8679a1b174"
      },
      "outputs": [
        {
          "data": {
            "text/plain": [
              "datetime.date(2022, 4, 19)"
            ]
          },
          "execution_count": 26,
          "metadata": {},
          "output_type": "execute_result"
        }
      ],
      "source": [
        "dt.date.today()"
      ]
    },
    {
      "cell_type": "code",
      "execution_count": null,
      "metadata": {
        "id": "RyDOtXnxijow"
      },
      "outputs": [],
      "source": [
        "import datetime\n",
        "\n",
        "hoy = datetime.date.today()"
      ]
    },
    {
      "cell_type": "code",
      "execution_count": null,
      "metadata": {
        "id": "kTDuVe8Uijow",
        "outputId": "c2ad3fbe-c6ce-4980-d62f-4c78596a8d5f",
        "colab": {
          "base_uri": "https://localhost:8080/"
        }
      },
      "outputs": [
        {
          "output_type": "execute_result",
          "data": {
            "text/plain": [
              "datetime.date"
            ]
          },
          "metadata": {},
          "execution_count": 115
        }
      ],
      "source": [
        "type(hoy)"
      ]
    },
    {
      "cell_type": "code",
      "execution_count": null,
      "metadata": {
        "id": "0MiD8TLjijow",
        "outputId": "2d0c509d-5ea7-4223-f795-36ee7870c80e",
        "colab": {
          "base_uri": "https://localhost:8080/"
        }
      },
      "outputs": [
        {
          "output_type": "stream",
          "name": "stdout",
          "text": [
            "2023-04-18\n"
          ]
        }
      ],
      "source": [
        "print(hoy)"
      ]
    },
    {
      "cell_type": "code",
      "execution_count": null,
      "metadata": {
        "id": "a5aQBDn1ijow",
        "outputId": "a76621c3-d023-4eb7-e327-a723cdce91b8",
        "colab": {
          "base_uri": "https://localhost:8080/"
        }
      },
      "outputs": [
        {
          "output_type": "execute_result",
          "data": {
            "text/plain": [
              "datetime.date(2023, 4, 18)"
            ]
          },
          "metadata": {},
          "execution_count": 117
        }
      ],
      "source": [
        "hoy"
      ]
    },
    {
      "cell_type": "markdown",
      "metadata": {
        "id": "szASBLgzijow"
      },
      "source": [
        "## Atributos"
      ]
    },
    {
      "cell_type": "code",
      "execution_count": null,
      "metadata": {
        "id": "YkDP-Ynlijow",
        "outputId": "e34982a4-ad04-4efd-8d8b-ced2c67250ed",
        "colab": {
          "base_uri": "https://localhost:8080/"
        }
      },
      "outputs": [
        {
          "output_type": "execute_result",
          "data": {
            "text/plain": [
              "2023"
            ]
          },
          "metadata": {},
          "execution_count": 122
        }
      ],
      "source": [
        "hoy.year"
      ]
    },
    {
      "cell_type": "code",
      "execution_count": null,
      "metadata": {
        "id": "aek4Y-ngijow",
        "outputId": "a90d4812-21c5-4030-ea64-81b647db80cf",
        "colab": {
          "base_uri": "https://localhost:8080/"
        }
      },
      "outputs": [
        {
          "output_type": "execute_result",
          "data": {
            "text/plain": [
              "4"
            ]
          },
          "metadata": {},
          "execution_count": 119
        }
      ],
      "source": [
        "hoy.month"
      ]
    },
    {
      "cell_type": "code",
      "execution_count": null,
      "metadata": {
        "id": "wZI73Vkxijox",
        "outputId": "49a0dafa-6827-44d6-e195-d85206a93bd9",
        "colab": {
          "base_uri": "https://localhost:8080/"
        }
      },
      "outputs": [
        {
          "output_type": "execute_result",
          "data": {
            "text/plain": [
              "18"
            ]
          },
          "metadata": {},
          "execution_count": 120
        }
      ],
      "source": [
        "hoy.day"
      ]
    },
    {
      "cell_type": "code",
      "execution_count": null,
      "metadata": {
        "id": "oBhDcGAJijox"
      },
      "outputs": [],
      "source": []
    },
    {
      "cell_type": "code",
      "execution_count": null,
      "metadata": {
        "id": "zf5BZ0y6ijox"
      },
      "outputs": [],
      "source": []
    },
    {
      "cell_type": "markdown",
      "metadata": {
        "id": "gJ8jbMOvijox"
      },
      "source": [
        "## Sublibreria datetime"
      ]
    },
    {
      "cell_type": "markdown",
      "source": [
        "https://docs.python.org/3/library/datetime.html"
      ],
      "metadata": {
        "id": "HLkfHR1UX0NR"
      }
    },
    {
      "cell_type": "code",
      "execution_count": null,
      "metadata": {
        "id": "6Y95WlYXijox"
      },
      "outputs": [],
      "source": [
        "import time"
      ]
    },
    {
      "cell_type": "code",
      "execution_count": null,
      "metadata": {
        "id": "I02XClyUijox"
      },
      "outputs": [],
      "source": [
        "ahora = datetime.datetime.now()"
      ]
    },
    {
      "cell_type": "code",
      "execution_count": null,
      "metadata": {
        "id": "hQHYEbxQijox",
        "outputId": "67c49e8e-cbd9-40d1-cd1d-40cc1de56945",
        "colab": {
          "base_uri": "https://localhost:8080/"
        }
      },
      "outputs": [
        {
          "output_type": "execute_result",
          "data": {
            "text/plain": [
              "datetime.datetime(2023, 4, 18, 23, 15, 9, 436900)"
            ]
          },
          "metadata": {},
          "execution_count": 126
        }
      ],
      "source": [
        "ahora"
      ]
    },
    {
      "cell_type": "code",
      "execution_count": null,
      "metadata": {
        "id": "cRkzKYBVijoy",
        "outputId": "59f28b9e-31d2-4ac5-8070-523b0f985844",
        "colab": {
          "base_uri": "https://localhost:8080/"
        }
      },
      "outputs": [
        {
          "output_type": "stream",
          "name": "stdout",
          "text": [
            "2023-04-18 23:19:35.578817\n",
            "Descansando 3 segundos..\n",
            "2023-04-18 23:19:35.581749\n"
          ]
        }
      ],
      "source": [
        "hours = 4\n",
        "\n",
        "ahora = datetime.datetime.now()\n",
        "print(ahora)\n",
        "\n",
        "print('Descansando 3 segundos..')\n",
        "time.sleep(3600*hours)  # limitaciones de las APIS, espera de ejecucion de ordenes\n",
        "\n",
        "ahora = datetime.datetime.now()\n",
        "print(ahora)"
      ]
    },
    {
      "cell_type": "code",
      "execution_count": null,
      "metadata": {
        "id": "dxag8VRuijoy",
        "outputId": "bcc27684-d280-4c22-bda6-b9cc2916d5ad",
        "colab": {
          "base_uri": "https://localhost:8080/"
        }
      },
      "outputs": [
        {
          "output_type": "execute_result",
          "data": {
            "text/plain": [
              "2023"
            ]
          },
          "metadata": {},
          "execution_count": 131
        }
      ],
      "source": [
        "ahora.year"
      ]
    },
    {
      "cell_type": "code",
      "execution_count": null,
      "metadata": {
        "id": "LVlJ4Sc7ijoy",
        "outputId": "1b7ec7b5-bf1f-4a69-b287-9132ee0bf236",
        "colab": {
          "base_uri": "https://localhost:8080/"
        }
      },
      "outputs": [
        {
          "output_type": "execute_result",
          "data": {
            "text/plain": [
              "23"
            ]
          },
          "metadata": {},
          "execution_count": 132
        }
      ],
      "source": [
        "ahora.hour"
      ]
    },
    {
      "cell_type": "code",
      "execution_count": null,
      "metadata": {
        "id": "fKeGlaymijoy",
        "outputId": "618965f9-45ab-4232-e435-723f9253821f",
        "colab": {
          "base_uri": "https://localhost:8080/"
        }
      },
      "outputs": [
        {
          "output_type": "execute_result",
          "data": {
            "text/plain": [
              "19"
            ]
          },
          "metadata": {},
          "execution_count": 133
        }
      ],
      "source": [
        "ahora.minute"
      ]
    },
    {
      "cell_type": "code",
      "execution_count": null,
      "metadata": {
        "id": "b_r7nC_Dijoy",
        "outputId": "c3fa17bf-a3f3-4af3-e5cc-1f877814955a",
        "colab": {
          "base_uri": "https://localhost:8080/"
        }
      },
      "outputs": [
        {
          "output_type": "execute_result",
          "data": {
            "text/plain": [
              "35"
            ]
          },
          "metadata": {},
          "execution_count": 134
        }
      ],
      "source": [
        "ahora.second"
      ]
    },
    {
      "cell_type": "code",
      "execution_count": null,
      "metadata": {
        "id": "oaJhX87_ijoy",
        "outputId": "055daf9c-981a-4872-ade1-1c66c81a5a5a",
        "colab": {
          "base_uri": "https://localhost:8080/"
        }
      },
      "outputs": [
        {
          "output_type": "execute_result",
          "data": {
            "text/plain": [
              "581749"
            ]
          },
          "metadata": {},
          "execution_count": 135
        }
      ],
      "source": [
        "ahora.microsecond"
      ]
    },
    {
      "cell_type": "markdown",
      "metadata": {
        "id": "eCb-ohXOijoz"
      },
      "source": [
        "## Pasamos FECHA a timestamp"
      ]
    },
    {
      "cell_type": "markdown",
      "source": [
        "Asumiendo que el futuro de BTC mayo vence el ultimo dia de mayo a las 00 hs UTC,\n",
        "hacer un script que te devuelva la cantidad de segundos faltantes para el vencimiento del futuro"
      ],
      "metadata": {
        "id": "VWvwKaqArAGq"
      }
    },
    {
      "cell_type": "markdown",
      "source": [
        "Sabiendo que las opciones de GGAL del opex junio, vence el tercer viernes de junio 2023\n",
        "\n",
        "hacer un script que te devuelva la cantidad de dias para el vencimiento de la opcion"
      ],
      "metadata": {
        "id": "_dpJCpe1rMwI"
      }
    },
    {
      "cell_type": "code",
      "execution_count": null,
      "metadata": {
        "id": "0HfWB7y0ijoz",
        "outputId": "132cb44a-c458-453e-a35e-dd6c47253180"
      },
      "outputs": [
        {
          "data": {
            "text/plain": [
              "1650399514.853735"
            ]
          },
          "execution_count": 43,
          "metadata": {},
          "output_type": "execute_result"
        }
      ],
      "source": [
        "ahora.timestamp()"
      ]
    },
    {
      "cell_type": "code",
      "execution_count": null,
      "metadata": {
        "id": "WdWgXRNqijoz",
        "outputId": "6cef27f9-dc06-4818-a539-da6d87acd67e"
      },
      "outputs": [
        {
          "data": {
            "text/plain": [
              "1650399514.853735"
            ]
          },
          "execution_count": 44,
          "metadata": {},
          "output_type": "execute_result"
        }
      ],
      "source": [
        "dt.datetime.timestamp(ahora)"
      ]
    },
    {
      "cell_type": "markdown",
      "metadata": {
        "id": "BQ1NhKLIijoz"
      },
      "source": [
        "## Pasamos timestamp a fecha"
      ]
    },
    {
      "cell_type": "code",
      "execution_count": null,
      "metadata": {
        "id": "FZCHWzI-ijoz",
        "outputId": "8e714479-c44e-4870-f8f3-65227b2b3d09",
        "colab": {
          "base_uri": "https://localhost:8080/"
        }
      },
      "outputs": [
        {
          "output_type": "execute_result",
          "data": {
            "text/plain": [
              "1681838053.57338"
            ]
          },
          "metadata": {},
          "execution_count": 8
        }
      ],
      "source": [
        "import time\n",
        "\n",
        "# la libreria time tambien tiene el timestamp actual\n",
        "time.time()"
      ]
    },
    {
      "cell_type": "code",
      "execution_count": null,
      "metadata": {
        "id": "kYHJxlmDijoz",
        "outputId": "df438f74-fec3-4970-f7b5-16bc21281503"
      },
      "outputs": [
        {
          "data": {
            "text/plain": [
              "datetime.datetime(2022, 4, 19, 22, 18, 37, 335830)"
            ]
          },
          "execution_count": 46,
          "metadata": {},
          "output_type": "execute_result"
        }
      ],
      "source": [
        "dt.datetime.fromtimestamp(time.time())"
      ]
    },
    {
      "cell_type": "code",
      "execution_count": null,
      "metadata": {
        "id": "6GVuo97Eijo0"
      },
      "outputs": [],
      "source": []
    },
    {
      "cell_type": "markdown",
      "metadata": {
        "id": "EJWIFPUIijo0"
      },
      "source": [
        "## Definir, instanciar un objeto fecha"
      ]
    },
    {
      "cell_type": "code",
      "execution_count": null,
      "metadata": {
        "id": "rBRKm7Jmijo0"
      },
      "outputs": [],
      "source": [
        "vencimiento = dt.datetime(2020,12,18,15,0,0)"
      ]
    },
    {
      "cell_type": "code",
      "execution_count": null,
      "metadata": {
        "id": "LecFwNeIijo0",
        "outputId": "6554cbc7-96e2-4c55-89df-41c1d6816ce5"
      },
      "outputs": [
        {
          "data": {
            "text/plain": [
              "datetime.datetime(2020, 12, 18, 15, 0)"
            ]
          },
          "execution_count": 48,
          "metadata": {},
          "output_type": "execute_result"
        }
      ],
      "source": [
        "vencimiento"
      ]
    },
    {
      "cell_type": "code",
      "execution_count": null,
      "metadata": {
        "id": "d93OFvzKijo0"
      },
      "outputs": [],
      "source": []
    },
    {
      "cell_type": "code",
      "execution_count": null,
      "metadata": {
        "id": "2e4yflbyijo0"
      },
      "outputs": [],
      "source": []
    },
    {
      "cell_type": "markdown",
      "metadata": {
        "id": "mD2lPoXXijo0"
      },
      "source": [
        "## Pasamos FECHA a string"
      ]
    },
    {
      "cell_type": "code",
      "execution_count": null,
      "metadata": {
        "id": "SVEfUY19ijo0",
        "outputId": "c0cbd755-a34d-402c-8273-1449ef09ca2e"
      },
      "outputs": [
        {
          "data": {
            "text/plain": [
              "datetime.datetime(2022, 4, 19, 22, 18, 34, 853735)"
            ]
          },
          "execution_count": 49,
          "metadata": {},
          "output_type": "execute_result"
        }
      ],
      "source": [
        "ahora"
      ]
    },
    {
      "cell_type": "markdown",
      "metadata": {
        "id": "7Ns5xfsQijo1"
      },
      "source": [
        "### Ctime"
      ]
    },
    {
      "cell_type": "code",
      "execution_count": null,
      "metadata": {
        "scrolled": false,
        "id": "nHzQC_tZijo1",
        "outputId": "f385a651-f4dc-49c3-da9e-7b473009d438"
      },
      "outputs": [
        {
          "data": {
            "text/plain": [
              "'Tue Apr 19 22:18:34 2022'"
            ]
          },
          "execution_count": 50,
          "metadata": {},
          "output_type": "execute_result"
        }
      ],
      "source": [
        "ahora.ctime()"
      ]
    },
    {
      "cell_type": "code",
      "execution_count": null,
      "metadata": {
        "id": "nC7XdEErijo1",
        "outputId": "327cc7d9-41d7-480e-cbcc-74bbfc813e85"
      },
      "outputs": [
        {
          "data": {
            "text/plain": [
              "'Fri Dec 18 15:00:00 2020'"
            ]
          },
          "execution_count": 51,
          "metadata": {},
          "output_type": "execute_result"
        }
      ],
      "source": [
        "vencimiento.ctime()"
      ]
    },
    {
      "cell_type": "code",
      "execution_count": null,
      "metadata": {
        "id": "PgacbJQYijo1",
        "outputId": "20d93579-9959-420e-88c8-ff3f46d56458"
      },
      "outputs": [
        {
          "data": {
            "text/plain": [
              "datetime.datetime(2020, 12, 18, 15, 0)"
            ]
          },
          "execution_count": 52,
          "metadata": {},
          "output_type": "execute_result"
        }
      ],
      "source": [
        "vencimiento"
      ]
    },
    {
      "cell_type": "code",
      "execution_count": null,
      "metadata": {
        "id": "hwZHe7BZijo1"
      },
      "outputs": [],
      "source": []
    },
    {
      "cell_type": "code",
      "execution_count": null,
      "metadata": {
        "id": "_-6VGhNNijo1",
        "outputId": "94a2b142-334f-4fde-c2ec-a3a4b7199180"
      },
      "outputs": [
        {
          "data": {
            "text/plain": [
              "'Fri Dec 18 15:00:00 2020'"
            ]
          },
          "execution_count": 53,
          "metadata": {},
          "output_type": "execute_result"
        }
      ],
      "source": [
        "dt.datetime.ctime(vencimiento)"
      ]
    },
    {
      "cell_type": "code",
      "execution_count": null,
      "metadata": {
        "id": "8X6TGUqAijo1",
        "outputId": "df716d18-97fb-4d4f-b31a-86773b20dc33"
      },
      "outputs": [
        {
          "data": {
            "text/plain": [
              "datetime.datetime(2020, 12, 18, 15, 0)"
            ]
          },
          "execution_count": 54,
          "metadata": {},
          "output_type": "execute_result"
        }
      ],
      "source": [
        "vencimiento"
      ]
    },
    {
      "cell_type": "code",
      "execution_count": null,
      "metadata": {
        "id": "Pk68Pz5jijo2"
      },
      "outputs": [],
      "source": [
        "vencimientoString = dt.datetime.ctime(vencimiento)"
      ]
    },
    {
      "cell_type": "code",
      "execution_count": null,
      "metadata": {
        "id": "tedSbhLiijo2",
        "outputId": "04a5f072-c78d-4510-d7e9-de2313d400cb"
      },
      "outputs": [
        {
          "data": {
            "text/plain": [
              "'Fri Dec 18 15:00:00 2020'"
            ]
          },
          "execution_count": 56,
          "metadata": {},
          "output_type": "execute_result"
        }
      ],
      "source": [
        "vencimientoString"
      ]
    },
    {
      "cell_type": "code",
      "execution_count": null,
      "metadata": {
        "id": "iib-9Mltijo2"
      },
      "outputs": [],
      "source": []
    },
    {
      "cell_type": "code",
      "execution_count": null,
      "metadata": {
        "id": "IeJ4t8ecijo2"
      },
      "outputs": [],
      "source": []
    },
    {
      "cell_type": "code",
      "execution_count": null,
      "metadata": {
        "id": "cOUfksrLijo2"
      },
      "outputs": [],
      "source": []
    },
    {
      "cell_type": "markdown",
      "metadata": {
        "id": "KCSKYWppijo2"
      },
      "source": [
        "### Formato ISO"
      ]
    },
    {
      "cell_type": "code",
      "execution_count": null,
      "metadata": {
        "id": "BlVt7COTijo2",
        "outputId": "0b0d462b-2625-4461-fe0e-d6abd9839c51"
      },
      "outputs": [
        {
          "data": {
            "text/plain": [
              "'2022-04-19T22:18:34.853735'"
            ]
          },
          "execution_count": 57,
          "metadata": {},
          "output_type": "execute_result"
        }
      ],
      "source": [
        "ahora.isoformat()"
      ]
    },
    {
      "cell_type": "code",
      "execution_count": null,
      "metadata": {
        "id": "q2yMqSFFijo2",
        "outputId": "cc043af8-85d2-4a26-b651-ee7b252f0398"
      },
      "outputs": [
        {
          "data": {
            "text/plain": [
              "datetime.date(2022, 4, 19)"
            ]
          },
          "execution_count": 58,
          "metadata": {},
          "output_type": "execute_result"
        }
      ],
      "source": [
        "hoy"
      ]
    },
    {
      "cell_type": "code",
      "execution_count": null,
      "metadata": {
        "id": "KpQ1rwSvijo2",
        "outputId": "9334c16b-042e-4e5b-b294-4f36a362399b"
      },
      "outputs": [
        {
          "data": {
            "text/plain": [
              "'2022-04-19'"
            ]
          },
          "execution_count": 59,
          "metadata": {},
          "output_type": "execute_result"
        }
      ],
      "source": [
        "hoy.isoformat()"
      ]
    },
    {
      "cell_type": "code",
      "execution_count": null,
      "metadata": {
        "id": "NO1s5bg6ijo3"
      },
      "outputs": [],
      "source": [
        "hoyISO = hoy.isoformat()"
      ]
    },
    {
      "cell_type": "code",
      "execution_count": null,
      "metadata": {
        "id": "2mZ7wsjwijo3",
        "outputId": "710842bc-012e-4b74-a0be-7841c050fe3a"
      },
      "outputs": [
        {
          "data": {
            "text/plain": [
              "'2022-04-19'"
            ]
          },
          "execution_count": 61,
          "metadata": {},
          "output_type": "execute_result"
        }
      ],
      "source": [
        "hoyISO"
      ]
    },
    {
      "cell_type": "code",
      "execution_count": null,
      "metadata": {
        "id": "aRlgaXZDijo3",
        "outputId": "f81098f9-dda3-47da-b656-7224f924b1c8"
      },
      "outputs": [
        {
          "data": {
            "text/plain": [
              "datetime.date"
            ]
          },
          "execution_count": 62,
          "metadata": {},
          "output_type": "execute_result"
        }
      ],
      "source": [
        "type(hoy)"
      ]
    },
    {
      "cell_type": "markdown",
      "metadata": {
        "id": "1IpXKzwFijo3"
      },
      "source": [
        "### Formato Personalizado"
      ]
    },
    {
      "cell_type": "code",
      "execution_count": null,
      "metadata": {
        "id": "Fc525MRpijo3",
        "outputId": "82ea9ba0-fcb7-4ea3-d21d-4ad96f76844d"
      },
      "outputs": [
        {
          "data": {
            "text/plain": [
              "datetime.date(2022, 4, 19)"
            ]
          },
          "execution_count": 63,
          "metadata": {},
          "output_type": "execute_result"
        }
      ],
      "source": [
        "hoy"
      ]
    },
    {
      "cell_type": "code",
      "execution_count": null,
      "metadata": {
        "id": "HJUqJSt5ijo3",
        "outputId": "e808e0dd-3c37-44ec-fb40-dd9f2c3e3113"
      },
      "outputs": [
        {
          "data": {
            "text/plain": [
              "'en_EN'"
            ]
          },
          "execution_count": 64,
          "metadata": {},
          "output_type": "execute_result"
        }
      ],
      "source": [
        "import locale\n",
        "locale.setlocale(locale.LC_ALL, 'en_EN')"
      ]
    },
    {
      "cell_type": "code",
      "execution_count": null,
      "metadata": {
        "scrolled": false,
        "id": "IZmg1m9iijo3",
        "outputId": "96ae01dc-8884-4ccf-b15c-744ed69e33de"
      },
      "outputs": [
        {
          "data": {
            "text/plain": [
              "'19 de April 2022'"
            ]
          },
          "execution_count": 65,
          "metadata": {},
          "output_type": "execute_result"
        }
      ],
      "source": [
        "hoyString = dt.datetime.strftime(hoy,'%d de %B %Y')\n",
        "hoyString"
      ]
    },
    {
      "cell_type": "code",
      "execution_count": null,
      "metadata": {
        "id": "d4CLq5C0ijo4",
        "outputId": "7d322cc3-f37d-4cef-b582-f6d2f0dff01d"
      },
      "outputs": [
        {
          "data": {
            "text/plain": [
              "'19 de abril 2022'"
            ]
          },
          "execution_count": 66,
          "metadata": {},
          "output_type": "execute_result"
        }
      ],
      "source": [
        "import locale\n",
        "locale.setlocale(locale.LC_ALL, 'es')\n",
        "\n",
        "hoyString = dt.datetime.strftime(hoy,'%d de %B %Y')\n",
        "hoyString"
      ]
    },
    {
      "cell_type": "markdown",
      "metadata": {
        "id": "pT9LTTI1ijo4"
      },
      "source": [
        "## Pasamos string a FECHA"
      ]
    },
    {
      "cell_type": "code",
      "execution_count": null,
      "metadata": {
        "id": "2hKMCIUJijo4"
      },
      "outputs": [],
      "source": [
        "import datetime as dt\n",
        "\n",
        "fecha_string = '2020-09-02 15:12:15'\n",
        "fechaObj = dt.datetime.strptime(fecha_string,'%Y-%m-%d %H:%M:%S')"
      ]
    },
    {
      "cell_type": "code",
      "execution_count": null,
      "metadata": {
        "id": "fqRZ93uYijo4",
        "outputId": "71663e31-4a4b-424d-b2e4-c6334971c604",
        "colab": {
          "base_uri": "https://localhost:8080/"
        }
      },
      "outputs": [
        {
          "output_type": "execute_result",
          "data": {
            "text/plain": [
              "datetime.datetime(2020, 9, 2, 15, 12, 15)"
            ]
          },
          "metadata": {},
          "execution_count": 137
        }
      ],
      "source": [
        "fechaObj"
      ]
    },
    {
      "cell_type": "code",
      "execution_count": null,
      "metadata": {
        "scrolled": true,
        "id": "WXLKoX7yijo4",
        "outputId": "7bb2f2e4-ee13-4d87-d708-cc5baeef9371",
        "colab": {
          "base_uri": "https://localhost:8080/",
          "height": 36
        }
      },
      "outputs": [
        {
          "output_type": "execute_result",
          "data": {
            "text/plain": [
              "'2020-09-02T15:12:15'"
            ],
            "application/vnd.google.colaboratory.intrinsic+json": {
              "type": "string"
            }
          },
          "metadata": {},
          "execution_count": 141
        }
      ],
      "source": [
        "fechaObj.isoformat()"
      ]
    },
    {
      "cell_type": "markdown",
      "metadata": {
        "id": "UVZk1CIoijo5"
      },
      "source": [
        "## ISO Calendar"
      ]
    },
    {
      "cell_type": "code",
      "execution_count": null,
      "metadata": {
        "id": "AJXRqzbXijo5",
        "outputId": "30059d32-067e-40a7-8d85-0d5d003e3fa0"
      },
      "outputs": [
        {
          "data": {
            "text/plain": [
              "datetime.IsoCalendarDate(year=2022, week=16, weekday=2)"
            ]
          },
          "execution_count": 70,
          "metadata": {},
          "output_type": "execute_result"
        }
      ],
      "source": [
        "ahora = dt.datetime.now()\n",
        "ahora.isocalendar()"
      ]
    },
    {
      "cell_type": "markdown",
      "metadata": {
        "id": "P_KU93GZijo5"
      },
      "source": [
        "## Operaciones entre fechas"
      ]
    },
    {
      "cell_type": "code",
      "execution_count": null,
      "metadata": {
        "id": "tYzRs4D6ijo5",
        "outputId": "7a538004-a82e-4ead-b72c-a4676c2d2a6f",
        "colab": {
          "base_uri": "https://localhost:8080/"
        }
      },
      "outputs": [
        {
          "output_type": "execute_result",
          "data": {
            "text/plain": [
              "datetime.datetime(2023, 4, 18, 23, 30, 54, 594476)"
            ]
          },
          "metadata": {},
          "execution_count": 142
        }
      ],
      "source": [
        "ahora = dt.datetime.now()\n",
        "ahora"
      ]
    },
    {
      "cell_type": "code",
      "execution_count": null,
      "metadata": {
        "id": "-qbc_id1ijo5",
        "outputId": "9fc70cc3-476b-405d-b9ef-31d0132a9292",
        "colab": {
          "base_uri": "https://localhost:8080/"
        }
      },
      "outputs": [
        {
          "output_type": "execute_result",
          "data": {
            "text/plain": [
              "datetime.datetime(2023, 6, 17, 15, 0)"
            ]
          },
          "metadata": {},
          "execution_count": 143
        }
      ],
      "source": [
        "vencimiento = dt.datetime(2023,6,17,15,0,0)\n",
        "vencimiento"
      ]
    },
    {
      "cell_type": "code",
      "execution_count": null,
      "metadata": {
        "id": "K2clWAT4ijo5",
        "outputId": "d6f837a2-f9a6-4341-872d-6fffa0cd8738",
        "colab": {
          "base_uri": "https://localhost:8080/"
        }
      },
      "outputs": [
        {
          "output_type": "execute_result",
          "data": {
            "text/plain": [
              "datetime.timedelta(days=59, seconds=55745, microseconds=405524)"
            ]
          },
          "metadata": {},
          "execution_count": 144
        }
      ],
      "source": [
        "diferencia = vencimiento - ahora\n",
        "diferencia"
      ]
    },
    {
      "cell_type": "code",
      "source": [
        "diferencia.days * 24 * 3655 + diferencia.seconds"
      ],
      "metadata": {
        "colab": {
          "base_uri": "https://localhost:8080/"
        },
        "id": "p0VU8pQAtuCd",
        "outputId": "9289aa50-28cd-4884-f016-de6227eb7ba3"
      },
      "execution_count": null,
      "outputs": [
        {
          "output_type": "execute_result",
          "data": {
            "text/plain": [
              "5231225"
            ]
          },
          "metadata": {},
          "execution_count": 145
        }
      ]
    },
    {
      "cell_type": "code",
      "execution_count": null,
      "metadata": {
        "scrolled": true,
        "id": "v0AijG6sijo6",
        "outputId": "c19ebd56-29cf-49f7-a7c9-e9bca9d7012c",
        "colab": {
          "base_uri": "https://localhost:8080/",
          "height": 36
        }
      },
      "outputs": [
        {
          "output_type": "execute_result",
          "data": {
            "text/plain": [
              "'Sat Jul  8 15:00:00 2023'"
            ],
            "application/vnd.google.colaboratory.intrinsic+json": {
              "type": "string"
            }
          },
          "metadata": {},
          "execution_count": 147
        }
      ],
      "source": [
        "vencimiento_mas_7_dias = vencimiento + dt.timedelta(weeks=3)\n",
        "vencimiento_mas_7_dias.ctime()"
      ]
    },
    {
      "cell_type": "code",
      "execution_count": null,
      "metadata": {
        "scrolled": true,
        "id": "VE-t_JVWijo6",
        "outputId": "a48b28a0-4c91-4271-8b09-3b44ebe9fc50"
      },
      "outputs": [
        {
          "data": {
            "text/plain": [
              "datetime.date(2022, 6, 17)"
            ]
          },
          "execution_count": 88,
          "metadata": {},
          "output_type": "execute_result"
        }
      ],
      "source": [
        "vencimiento2 = dt.date(2022,6,17)\n",
        "vencimiento2"
      ]
    },
    {
      "cell_type": "code",
      "execution_count": null,
      "metadata": {
        "id": "y3TaN7Klijo6",
        "outputId": "28607ac8-3d78-44b0-967d-c313d6e855dd"
      },
      "outputs": [
        {
          "data": {
            "text/plain": [
              "datetime.date(2022, 4, 19)"
            ]
          },
          "execution_count": 89,
          "metadata": {},
          "output_type": "execute_result"
        }
      ],
      "source": [
        "hoy = dt.date.today()\n",
        "hoy"
      ]
    },
    {
      "cell_type": "code",
      "execution_count": null,
      "metadata": {
        "id": "MOEJYeA-ijo6",
        "outputId": "b71c07d8-5183-4c13-b954-f580cc8ea4af"
      },
      "outputs": [
        {
          "data": {
            "text/plain": [
              "datetime.timedelta(days=59)"
            ]
          },
          "execution_count": 90,
          "metadata": {},
          "output_type": "execute_result"
        }
      ],
      "source": [
        "diferencia = vencimiento2 - hoy\n",
        "diferencia"
      ]
    },
    {
      "cell_type": "code",
      "execution_count": null,
      "metadata": {
        "id": "GD-sUAwGijo6",
        "outputId": "2c3763b8-db37-4a80-c154-3f7bba744f05"
      },
      "outputs": [
        {
          "data": {
            "text/plain": [
              "0.16164383561643836"
            ]
          },
          "execution_count": 91,
          "metadata": {},
          "output_type": "execute_result"
        }
      ],
      "source": [
        "diferencia.days / 365"
      ]
    },
    {
      "cell_type": "code",
      "execution_count": null,
      "metadata": {
        "id": "uRBA0HQ_ijo7",
        "outputId": "33d3707c-e3d6-4fa4-f1e2-12d4e762ec1c"
      },
      "outputs": [
        {
          "data": {
            "text/plain": [
              "datetime.timedelta(seconds=13966, microseconds=27397)"
            ]
          },
          "execution_count": 92,
          "metadata": {},
          "output_type": "execute_result"
        }
      ],
      "source": [
        "diferencia / 365"
      ]
    },
    {
      "cell_type": "code",
      "execution_count": null,
      "metadata": {
        "id": "f2yj_OQoijo7"
      },
      "outputs": [],
      "source": []
    },
    {
      "cell_type": "code",
      "execution_count": null,
      "metadata": {
        "id": "PYZgLCMMijo7"
      },
      "outputs": [],
      "source": []
    }
  ],
  "metadata": {
    "kernelspec": {
      "display_name": "Python 3 (ipykernel)",
      "language": "python",
      "name": "python3"
    },
    "language_info": {
      "codemirror_mode": {
        "name": "ipython",
        "version": 3
      },
      "file_extension": ".py",
      "mimetype": "text/x-python",
      "name": "python",
      "nbconvert_exporter": "python",
      "pygments_lexer": "ipython3",
      "version": "3.9.7"
    },
    "toc": {
      "base_numbering": 1,
      "nav_menu": {},
      "number_sections": true,
      "sideBar": true,
      "skip_h1_title": false,
      "title_cell": "Table of Contents",
      "title_sidebar": "Contents",
      "toc_cell": false,
      "toc_position": {},
      "toc_section_display": true,
      "toc_window_display": true
    },
    "colab": {
      "provenance": [],
      "include_colab_link": true
    }
  },
  "nbformat": 4,
  "nbformat_minor": 0
}