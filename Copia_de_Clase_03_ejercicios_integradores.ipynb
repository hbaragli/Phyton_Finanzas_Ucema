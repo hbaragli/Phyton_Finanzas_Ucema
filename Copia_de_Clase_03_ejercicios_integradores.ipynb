{
  "cells": [
    {
      "cell_type": "code",
      "execution_count": null,
      "metadata": {
        "id": "d7ezmIT47c3p"
      },
      "outputs": [],
      "source": []
    },
    {
      "cell_type": "code",
      "execution_count": null,
      "metadata": {
        "id": "J4sW761E7c3r"
      },
      "outputs": [],
      "source": []
    },
    {
      "cell_type": "markdown",
      "metadata": {
        "id": "inaXDK1f7c3s"
      },
      "source": [
        "Nota: Son ejercicios bastante difíciles, los planteo como desafío, lo mas normal del mundo es que luego de solo 3 clases de programación, NO les salga, no se preocupen, la idea es que se rompan la cabeza un par de horas probando y probando, aprendiendo de los errores y que aprovechen para practicar lo que fuimos viendo con algo relacionado al tema que nos convoca en el curso"
      ]
    },
    {
      "cell_type": "code",
      "execution_count": null,
      "metadata": {
        "id": "Z__wwGvL7c3v"
      },
      "outputs": [],
      "source": []
    },
    {
      "cell_type": "code",
      "execution_count": null,
      "metadata": {
        "id": "-ica2j1C7c3w"
      },
      "outputs": [],
      "source": []
    },
    {
      "cell_type": "markdown",
      "metadata": {
        "id": "7qsDNPHn7c3w"
      },
      "source": [
        "# Ejercicios integradores - Clase 3"
      ]
    },
    {
      "cell_type": "markdown",
      "metadata": {
        "id": "WdBagcZ77c3x"
      },
      "source": [
        "La siguiente es una lista con los ultimos 50 precios EOD de AAPL"
      ]
    },
    {
      "cell_type": "code",
      "execution_count": null,
      "metadata": {
        "id": "TyIQPQOJ7c3x"
      },
      "outputs": [],
      "source": [
        "precios_AAPL = [131.01, 126.6, 130.92, 132.05, 128.98, 128.8, 130.89, 128.91, 127.14, 127.83, 132.03, 136.87, 139.07, 142.92,\n",
        "                143.16, 142.06, 137.09, 131.96, 134.14, 134.99, 133.94, 137.39, 136.76, 136.91, 136.01, 135.39, 135.13, 135.37,\n",
        "                133.19, 130.84, 129.71, 129.87, 126.0, 125.86, 125.35, 120.99, 121.26, 127.79, 125.12, 122.06, 120.13, 121.42,\n",
        "                116.36, 121.09, 119.98, 121.96, 121.03, 123.99, 125.57, 124.76]"
      ]
    },
    {
      "cell_type": "markdown",
      "metadata": {
        "id": "ZertsFGW7c3y"
      },
      "source": [
        "1- Dada la lista de precios de AAPL, armar una lista nativa mediante un FOR que llene los retornos porcentuales diarios de AAPL, e imprimir los ultimos 3 valores al final"
      ]
    },
    {
      "cell_type": "markdown",
      "metadata": {
        "id": "Qle-aw0D7c3z"
      },
      "source": [
        "2- Calcular el devio estandar de la distribucion a mano"
      ]
    },
    {
      "cell_type": "markdown",
      "metadata": {
        "id": "T8W3xUb97c3z"
      },
      "source": [
        "3- Simular asumiendo una distribucion normal con el mismo mu y sigma que esos ultimos 50 retornos diarios, unos 1000 retornos aleatorios y guardarlos en una variable llamada simulacion, usando listas nativas y la libreria random"
      ]
    },
    {
      "cell_type": "markdown",
      "metadata": {
        "id": "z3r2zuJV7c3z"
      },
      "source": [
        "4- Realizar los ejercicios 1, 2 y 3 usando numpy"
      ]
    },
    {
      "cell_type": "markdown",
      "metadata": {
        "id": "sn9XYtJF7c3z"
      },
      "source": [
        "5- Armar una lista con la media movil de 5 dias, con los ultimos 45 de los 50 dias dados en el dato\n",
        "\n",
        "Imprimir los ultimos 3 valores de media movil"
      ]
    },
    {
      "cell_type": "code",
      "execution_count": null,
      "metadata": {
        "id": "m2yRKPjf7c30"
      },
      "outputs": [],
      "source": []
    },
    {
      "cell_type": "code",
      "execution_count": null,
      "metadata": {
        "id": "vjZrV_8i7c30"
      },
      "outputs": [],
      "source": []
    },
    {
      "cell_type": "markdown",
      "metadata": {
        "id": "OD1MKFeY7c30"
      },
      "source": [
        "Antes de ver las respuestas dos cosas:\n",
        "    \n",
        "1- Lo importante no es si les salió o no, lo importante son las horas que le dedicaron a intentar sacarlos\n",
        "\n",
        "2- Las soluciones planteadas, son solo UNA forma de resolverlo, la mejor es la que les salga a ustedes, yo solo puse la que a mi me resulta mas intuitiva, pero lo mas probable es que a cada uno se le ocurra algo diferente y esta perfecto"
      ]
    },
    {
      "cell_type": "code",
      "execution_count": null,
      "metadata": {
        "id": "bGNB9TUY7c30"
      },
      "outputs": [],
      "source": []
    },
    {
      "cell_type": "code",
      "execution_count": null,
      "metadata": {
        "id": "-I5_usSQ7c31"
      },
      "outputs": [],
      "source": []
    },
    {
      "cell_type": "code",
      "execution_count": null,
      "metadata": {
        "id": "edCQttin7c31"
      },
      "outputs": [],
      "source": []
    },
    {
      "cell_type": "code",
      "execution_count": null,
      "metadata": {
        "id": "Vi7p0nLt7c31"
      },
      "outputs": [],
      "source": []
    },
    {
      "cell_type": "code",
      "execution_count": null,
      "metadata": {
        "id": "1ncIWveL7c31"
      },
      "outputs": [],
      "source": []
    },
    {
      "cell_type": "code",
      "execution_count": null,
      "metadata": {
        "id": "fzixXpE-7c31"
      },
      "outputs": [],
      "source": []
    }
  ],
  "metadata": {
    "kernelspec": {
      "display_name": "Python 3 (ipykernel)",
      "language": "python",
      "name": "python3"
    },
    "language_info": {
      "codemirror_mode": {
        "name": "ipython",
        "version": 3
      },
      "file_extension": ".py",
      "mimetype": "text/x-python",
      "name": "python",
      "nbconvert_exporter": "python",
      "pygments_lexer": "ipython3",
      "version": "3.9.7"
    },
    "toc": {
      "base_numbering": 1,
      "nav_menu": {},
      "number_sections": true,
      "sideBar": true,
      "skip_h1_title": false,
      "title_cell": "Table of Contents",
      "title_sidebar": "Contents",
      "toc_cell": false,
      "toc_position": {},
      "toc_section_display": true,
      "toc_window_display": false
    },
    "colab": {
      "provenance": []
    }
  },
  "nbformat": 4,
  "nbformat_minor": 0
}